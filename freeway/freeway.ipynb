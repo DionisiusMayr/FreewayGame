{
 "cells": [
  {
   "cell_type": "markdown",
   "metadata": {},
   "source": [
    "# TODO:\n",
    "- [ ] Write the MDP formulation -> Aline\n",
    "- [X] The discretization model adopted\n",
    "  - Será que tá pronto? Falei bastante no State Representation.\n",
    "\n",
    "Aspectos que devem ser abordados:\n",
    "- [ ] computational cost\n",
    "  - [ ] Falar que o gargalo aqui é processamento e não uso de memória\n",
    "- [ ] optimality\n",
    "- [ ] influence of reward function\n",
    "- [X] state and action space sizes\n",
    "\n",
    "Também precisamos definir\n",
    "- [ ] How the problem was modeled\n",
    "  - [ ] Precisa falar alguma coisa aqui?\n",
    "- [ ] Implementation specifics and restrictions\n",
    "  - [ ] Precisa falar alguma coisa aqui?\n",
    "\n",
    "Problem\n",
    "- [X] The nature of your environment (episodic/not episodic, deterministic/stochastic)\n",
    "- [X] What are your terminal states (when they exist)\n",
    "- [X] How is your reward function defined\n",
    "- [X] All parameters employed in your methods (discount factor, step size, etc.)\n",
    "\n",
    "Outros:\n",
    "- [ ] Gerar um requirements.txt completo e instruções confiáveis para instalação.\n",
    "- [ ] Computational cost of SARSA-Lambda (Final Thoughts)\n",
    "- [ ] Plot the optimal value function V ∗ (s) = maxa Q∗(s, a).\n",
    "-----"
   ]
  },
  {
   "cell_type": "code",
   "execution_count": 18,
   "metadata": {},
   "outputs": [],
   "source": [
    "baseline_mean_score = 21.5"
   ]
  },
  {
   "cell_type": "markdown",
   "metadata": {},
   "source": [
    "# Freeway"
   ]
  },
  {
   "cell_type": "markdown",
   "metadata": {},
   "source": [
    "This is the first project for the MC935rA/MO436A - Reinforcement Learning course, taught by Prof. Esther Colombini.\n",
    "\n",
    "In this project we propose to apply Reinforcement Learning methods to teach an agent how to play the Freeway Atari game."
   ]
  },
  {
   "cell_type": "markdown",
   "metadata": {},
   "source": [
    "**Group members:**\n",
    "- Aline Gabriel de Almeida\n",
    "- Dionisius Oliveira Mayr (229060)\n",
    "- Leonardo de Oliveira Ramos (171941)\n",
    "- Marianna de Pinho Severo (264960)\n",
    "- Victor Jesús Sotelo Chico (265173)"
   ]
  },
  {
   "cell_type": "markdown",
   "metadata": {},
   "source": [
    "## Freeway game\n",
    "\n",
    "![Baseline 1](./img/Freeway_logo.png)\n",
    "\n",
    "Freeway is a video game written by David Crane for the Atari 2600 and published by Activision [[1]](https://en.wikipedia.org/wiki/Freeway_(video_game)).\n",
    "\n",
    "In the game, two players compete against each other trying to make their chikens cross the street, while evading the cars passing by.\n",
    "There are three possible actions: staying still, moving forward or moving backward.\n",
    "Each time a chicken collides with a car, it is forced back some spaces and takes a while until the chiken regains its control.\n",
    "\n",
    "When a chicken is successfully guided across the freeway, it is awarded one point and moved to the initial space, where it will try to cross the street again.\n",
    "The game offers multiple scenarios with different vehicles configurations (varying the type, frequency and speed of them) and plays for 2 minutes and 16 seconds.\n",
    "During the 8 last seconds the scores will start blinking to indicate that the game is close to end.\n",
    "Whoever has the most points after this, wins the game!\n",
    "\n",
    "The image was extracted from the [manual of the game](https://www.gamesdatabase.org/Media/SYSTEM/Atari_2600/Manual/formated/Freeway_-_1981_-_Zellers.pdf).\n",
    "\n",
    "[1 - Wikipedia - Freeway](https://en.wikipedia.org/wiki/Freeway_(video_game))"
   ]
  },
  {
   "cell_type": "markdown",
   "metadata": {},
   "source": [
    "# Environment"
   ]
  },
  {
   "cell_type": "markdown",
   "metadata": {},
   "source": [
    "We will be using the [OpenAI Gym](https://gym.openai.com/) toolkit.\n",
    "This toolkit uses the [Arcade Learning Environment](https://github.com/mgbellemare/Arcade-Learning-Environment) to simulate the game through the [Stella](https://stella-emu.github.io/) emulator.\n",
    "\n",
    "Although the game offers multiple scenarios, we are going to consider only the first one. Also, we will be controlling a *single chicken*, while we try to maximize its score.\n",
    "\n",
    "In this configuration, there are ten lanes and each lane contains exactly one car (with a different speed and direction).\n",
    "Whenever an action is chosen, it is repeated for $k$ frames, $k \\in \\{2, 3, 4\\}$.\n",
    "\n",
    "This means that our environment is **stochastic** and it is also **episodic**, with its terminal state being reached whenever 2 minutes and 16 seconds have passed.\n",
    "\n",
    "Our base state representation is given by the RAM of the Atari 2600 (more on this latter).\n",
    "\n",
    "You can find more information regarding the environment used at [Freeway-ram-v0](https://gym.openai.com/envs/Freeway-ram-v0/)."
   ]
  },
  {
   "cell_type": "markdown",
   "metadata": {},
   "source": [
    "# Setup"
   ]
  },
  {
   "cell_type": "markdown",
   "metadata": {},
   "source": [
    "Install the dependencies:\n",
    "```sh\n",
    "pip install gym\n",
    "pip install gym[atari]\n",
    "```"
   ]
  },
  {
   "cell_type": "markdown",
   "metadata": {},
   "source": [
    "# Useful Resources"
   ]
  },
  {
   "cell_type": "markdown",
   "metadata": {},
   "source": [
    "Here you can find a list of useful links and materials that were used during this project.\n",
    "\n",
    "* [Freeway-ram-v0 from OpenAI Gym](https://gym.openai.com/envs/Freeway-ram-v0/)\n",
    "* [Manual of the game](https://www.gamesdatabase.org/Media/SYSTEM/Atari_2600/Manual/formated/Freeway_-_1981_-_Zellers.pdf)\n",
    "* [Freeway Disassembly](http://www.bjars.com/disassemblies.html)\n",
    "* [Atari Ram Annotations](https://github.com/mila-iqia/atari-representation-learning/blob/master/atariari/benchmark/ram_annotations.py)\n",
    "* [Freeway Benchmarks](https://paperswithcode.com/sota/atari-games-on-atari-2600-freeway)"
   ]
  },
  {
   "cell_type": "markdown",
   "metadata": {},
   "source": [
    "# Imports"
   ]
  },
  {
   "cell_type": "code",
   "execution_count": 1,
   "metadata": {},
   "outputs": [],
   "source": [
    "import sys\n",
    "sys.path.append('../')  # Enable importing from `src` folder"
   ]
  },
  {
   "cell_type": "code",
   "execution_count": 22,
   "metadata": {},
   "outputs": [],
   "source": [
    "%matplotlib inline\n",
    "from collections import defaultdict\n",
    "from functools import lru_cache\n",
    "from typing import List\n",
    "\n",
    "import numpy as np\n",
    "import time\n",
    "import matplotlib.pyplot as plt\n",
    "import seaborn as sns\n",
    "\n",
    "import gym\n",
    "\n",
    "import src.agents as agents\n",
    "import src.episode as episode\n",
    "import src.environment as environment\n",
    "import src.aux_plots as aux_plots\n",
    "import src.serializer as serializer\n",
    "import src.gif as gif"
   ]
  },
  {
   "cell_type": "code",
   "execution_count": 3,
   "metadata": {},
   "outputs": [],
   "source": [
    "def print_result(i, scores, total_reward, score):\n",
    "    if i % 10 == 0:\n",
    "        print(f\"Run [{i:4}] - Total reward: {total_reward:7.2f} Mean scores: {sum(scores) / len(scores):.2f} Means Scores[:-10]: {sum(scores[-10:]) / len(scores[-10:]):5.2f} Score: {score:2} \")"
   ]
  },
  {
   "cell_type": "code",
   "execution_count": 4,
   "metadata": {},
   "outputs": [],
   "source": [
    "def read_int_array_from_file(fn: str):\n",
    "    with open(f\"./experiments/{fn}\") as f:\n",
    "        return [int(x) for x in f.read().splitlines()]"
   ]
  },
  {
   "cell_type": "markdown",
   "metadata": {},
   "source": [
    "# Action space"
   ]
  },
  {
   "cell_type": "markdown",
   "metadata": {},
   "source": [
    "As we said above, the agent in this game has three possible actions at each frame, each represented by an integer:\n",
    "\n",
    "* 0: Stay\n",
    "* 1: Move forward\n",
    "* 2: Move backward"
   ]
  },
  {
   "cell_type": "markdown",
   "metadata": {},
   "source": [
    "In theory, a perfect chicken wouldn't ever need to move backward, since it is possible to know if moving forward would lead you into a collision (in the immediate frame or in the future frames).\n",
    "\n",
    "In our project we will be experimenting with agents using only two possible actions (staying and moving forward) and also agents using all the three possible actions."
   ]
  },
  {
   "cell_type": "markdown",
   "metadata": {},
   "source": [
    "# Baseline"
   ]
  },
  {
   "cell_type": "markdown",
   "metadata": {},
   "source": [
    "## State of the art benchmarks"
   ]
  },
  {
   "cell_type": "markdown",
   "metadata": {},
   "source": [
    "The image bellow (extracted from https://paperswithcode.com/sota/atari-games-on-atari-2600-freeway) shows the evolution of the scores over time using different techniques.\n",
    "\n",
    "Today, the state of the art approaches are making 34.0 points, using Deep Reinforcement Learning methods.\n",
    "\n",
    "However, since we are using tabular methods, we don't think it will be possible to beat this benchmark.\n",
    "Instead, we will be looking at a different, simpler baseline."
   ]
  },
  {
   "cell_type": "markdown",
   "metadata": {},
   "source": [
    "![Benchmarks](./img/state_of_art_scores.png)"
   ]
  },
  {
   "cell_type": "markdown",
   "metadata": {},
   "source": [
    "## Simple baseline agent"
   ]
  },
  {
   "cell_type": "markdown",
   "metadata": {},
   "source": [
    "As a simple baseline, we are using an agent that always moves **up**, regardless of the rewards received or the current state."
   ]
  },
  {
   "cell_type": "code",
   "execution_count": 5,
   "metadata": {},
   "outputs": [],
   "source": [
    "# env, initial_state = environment.get_env()"
   ]
  },
  {
   "cell_type": "code",
   "execution_count": 6,
   "metadata": {},
   "outputs": [],
   "source": [
    "# agent = agents.Baseline()"
   ]
  },
  {
   "cell_type": "code",
   "execution_count": 7,
   "metadata": {},
   "outputs": [],
   "source": [
    "# total_rewards = []\n",
    "# n_runs = 10"
   ]
  },
  {
   "cell_type": "code",
   "execution_count": 8,
   "metadata": {},
   "outputs": [],
   "source": [
    "# %%time\n",
    "# for i in range(n_runs):\n",
    "#     render = i % 10 == 0\n",
    "\n",
    "#     game_over = False\n",
    "#     state = env.reset()\n",
    "#     action = agent.act(state)\n",
    "\n",
    "#     total_reward = 0\n",
    "\n",
    "#     while not game_over:\n",
    "#         if render:\n",
    "#             time.sleep(0.01)\n",
    "#             env.render()\n",
    "\n",
    "#         ob, reward, game_over, _ = env.step(action)\n",
    "\n",
    "#         total_reward += reward\n",
    "#         action = agent.act(state)  # Next action\n",
    "\n",
    "#     total_rewards.append(total_reward)"
   ]
  },
  {
   "cell_type": "code",
   "execution_count": 9,
   "metadata": {},
   "outputs": [],
   "source": [
    "# total_rewards"
   ]
  },
  {
   "cell_type": "code",
   "execution_count": 10,
   "metadata": {},
   "outputs": [],
   "source": [
    "# baseline_mean_score = np.mean(total_rewards)\n",
    "# baseline_mean_score"
   ]
  },
  {
   "cell_type": "markdown",
   "metadata": {},
   "source": [
    "As we can see, this agent usually scores 21 or 23 points (as shown in the images bellow). It depends on the the values of $k$ sampled, and on average it scores about 21.8 points per run."
   ]
  },
  {
   "cell_type": "markdown",
   "metadata": {},
   "source": [
    "![Baseline 1](./img/baseline_1.png)\n",
    "![Baseline 2](./img/baseline_2.png)"
   ]
  },
  {
   "cell_type": "markdown",
   "metadata": {},
   "source": [
    "# State Representation"
   ]
  },
  {
   "cell_type": "markdown",
   "metadata": {},
   "source": [
    "Since the tabular methods we are going to use work with some representation of the actual environment state, we will need to understand it better in order to effectively approach this problem."
   ]
  },
  {
   "cell_type": "markdown",
   "metadata": {},
   "source": [
    "## Atari 2600"
   ]
  },
  {
   "cell_type": "markdown",
   "metadata": {},
   "source": [
    "Before talking about the state representation, it is important to understand how the Atari 2600 works.\n",
    "\n",
    "Atari 2600 is a video game released in 1977 by the American Atari, Inc.\n",
    "Its **8-bit** microprocessor was of the MOS **6502** family and it had **128 bytes** of RAM.\n",
    "\n",
    "And these 128 bytes are what really matters here.\n",
    "\n",
    "---"
   ]
  },
  {
   "cell_type": "markdown",
   "metadata": {},
   "source": [
    "Recall that Gym gives us the RAM memory of the Atari as the state representation.\n",
    "In other words, it gives us an 128-element `np.array`, where each element of the array is an `uint8` (*integer values ranging from 0 to 255*).\n",
    "\n",
    "That said, we have (in theory) $256^{128} \\approx 1.8 \\cdot 10^{308}$ possible game states!\n",
    "\n",
    "This is *far* from being manageable, and thus we need to come up with a different approch to represent our state if we want our algorithms to converge.\n",
    "\n",
    "One might argue that the RAM state is *sparse* and although that is true, it is still not sparse enough to apply tabular methods."
   ]
  },
  {
   "cell_type": "markdown",
   "metadata": {},
   "source": [
    "## Selecting useful bytes"
   ]
  },
  {
   "cell_type": "markdown",
   "metadata": {},
   "source": [
    "We will try to select only the bytes that are useful to deal with our problem.\n",
    "\n",
    "To do so, we will be looking at a [fan made disassembly](http://www.bjars.com/disassemblies.html) by Glenn Saunders.\n",
    "\n",
    "From the 6502 assembly we can see the variables locations in the memory, their size and count the amount of bytes since the initial offset to determine which byte represents what.\n",
    "\n",
    "Simplifying it a bit, we would end up with a list of candidate bytes for our state representation like this:"
   ]
  },
  {
   "cell_type": "markdown",
   "metadata": {},
   "source": [
    "|Description| Bytes |\n",
    "|----|----|\n",
    "| Chicken Y | 14 |\n",
    "| Chicken Lane Collide | 16 |\n",
    "| Chicken Collision flag | 18 |\n",
    "| Car X Direction | 22 |\n",
    "| Z Car Patterns | 23, 24, 25, 26, 27, 28, 29, 30, 31, 32 |\n",
    "| Car Motion Timmers | 33, 34, 35, 36, 37, 38, 39, 40, 41, 42 |\n",
    "| Car Motions | 43, 44, 45, 46, 47, 48, 49, 50, 51, 52 |\n",
    "| Car Shape Ptr | 87, 88 |\n",
    "| Chicken Shape Ptr | 89, 90 |\n",
    "| Chicken Sounds | 106, 107 |\n",
    "| Car X Coords | 108, 109, 110, 111, 112, 113, 114, 115, 116, 117 |"
   ]
  },
  {
   "cell_type": "markdown",
   "metadata": {},
   "source": [
    "After observing them, we were able to filter bytes that wouldn't be useful for us (like auxiliary variables used during function calls, e.g. `Car Motion Timmers`, `Chicken Sounds`) and bytes that contain constant values, like `Car X Direction` and`Car Motions`.\n",
    "\n",
    "The final list of bytes being used is given here:"
   ]
  },
  {
   "cell_type": "markdown",
   "metadata": {},
   "source": [
    "|Description| Bytes |\n",
    "|----|----|\n",
    "| Chicken Y | 14 |\n",
    "| Chicken Lane Collide | 16 |\n",
    "| Car X Coords | 108, 109, 110, 111, 112, 113, 114, 115, 116, 117 |"
   ]
  },
  {
   "cell_type": "code",
   "execution_count": 11,
   "metadata": {},
   "outputs": [],
   "source": [
    "RAM_mask = [\n",
    "      14  # Chicken Y\n",
    "    , 16  # Chicken Lane Collided\n",
    "    , 108, 109, 110, 111, 112, 113, 114, 115, 116, 117  # Car X Coords\n",
    "]"
   ]
  },
  {
   "cell_type": "markdown",
   "metadata": {},
   "source": [
    "Thus, we went from using 128 bytes to only 12, with $256^{12} \\approx 7.9 \\cdot 10^{28}$ theoritical possible states.\n",
    "\n",
    "But this is still a lot.\n",
    "We need to reduce it even more, and that is exactly what the function `reduce_state` bellow does:"
   ]
  },
  {
   "cell_type": "code",
   "execution_count": 12,
   "metadata": {},
   "outputs": [],
   "source": [
    "def reduce_state(ob):\n",
    "    # Doesn't matter where we were hit\n",
    "    ob[16] = 1 if ob[16] != 255 else 0\n",
    "\n",
    "    # Reduce chicken y-position\n",
    "    ob[14] = ob[14] // 3\n",
    "\n",
    "    for b in range(108, 118):\n",
    "        # The chicken is in the x-posistion ~49\n",
    "        if ob[b] < 20 or ob[b] > 80:\n",
    "            # We don't need to represent cars far from the chicken\n",
    "            ob[b] = 0\n",
    "        else:\n",
    "            # Reduce the cars x-positions sample space\n",
    "            ob[b] = ob[b] // 3\n",
    "\n",
    "    return ob"
   ]
  },
  {
   "cell_type": "markdown",
   "metadata": {},
   "source": [
    "We are using 4 strategies to reduce our state.\n",
    "\n",
    "* The `byte[16]` represents the lane where a collision happened. Instead of using it like this, we will make it binary, 1 being a collision (on any lane) and 0 otherwise.\n",
    "* The `byte[14]` represents the y-position of the chicken (from 0 to ~170). We will be losing a bit of precision here in order to reduce the state space, dividing (truncating the fractional part) the `byte[14]` by 3.\n",
    "* The `bytes[108:118]` are used as the cars x-position. If they are far from the chicken (the chicken x-position is fixed at ~49), we won't care about them, setting it as 0. If they are near the chicken (between x-20 and x-80), we will represent them again dividing by 3. The idea here is that the cars that are near the chicken contain more valuable information than the cars far from it. "
   ]
  },
  {
   "cell_type": "markdown",
   "metadata": {},
   "source": [
    "Now we have $2 \\cdot 57 \\cdot 21^{10} \\approx 1.9 \\cdot 10^{15}$ theoritical possible states.\n",
    "\n",
    "This might seen like it is still too much, but as we will soon see, empirically this number is far smaller.\n",
    "\n",
    "The biggest factor of the $10^{15}$ states is due to the cars x-positions.\n",
    "But recall that each car has a constant speed (which can be different from the other cars). Because of it, their positions are periodical, meaning that they don't use the entire range of possible values in their byte.\n",
    "\n",
    "For instance: a car with speed 4 will *never* be at the x-coordinate 3, nor will a car with speed 2."
   ]
  },
  {
   "cell_type": "markdown",
   "metadata": {},
   "source": [
    "# Reward Policy"
   ]
  },
  {
   "cell_type": "markdown",
   "metadata": {},
   "source": [
    "In the base environment we are awarded on point each time we successfully cross the freeway.\n",
    "\n",
    "However, it stands to reason experimenting with other reward strategies, like penalizing collisions or standing still and also changing the numerical value of these quantities.\n",
    "\n",
    "The method bellow allows us to experiment multiple reward policies.\n",
    "\n",
    "We defined some conditions were the agent get a reward: \n",
    "- `REWARD_IF_CROSS`: If the chicken cross the 10 lanes; this is our fundamental goal and should be encouraged;\n",
    "- `REWARD_IF_COLLISION`: If the chicken collides with a car; as the collisions can delay the chicken to cross the lanes, it can be discouraged;\n",
    "- Each one of the agent's three actions can be rewarded according to how much they can help the chicken to cross all the lanes and doing so we can hopefully accelerate the conversion of the algorithms. The `REWARD_IF_STILL` is the reward given if the chicken doesn't  move up, and *can* be discouraged in some cases."
   ]
  },
  {
   "cell_type": "code",
   "execution_count": 13,
   "metadata": {},
   "outputs": [],
   "source": [
    "def reward_policy(reward, ob, action):\n",
    "    if reward == 1:\n",
    "        reward = reward_policy.REWARD_IF_CROSS\n",
    "    elif ob[16] == 1:  # Collision!\n",
    "        reward = reward_policy.REWARD_IF_COLLISION\n",
    "    elif action != 1:  # Don't incentivate staying still\n",
    "        reward = reward_policy.REWARD_IF_STILL\n",
    "\n",
    "    return reward"
   ]
  },
  {
   "cell_type": "markdown",
   "metadata": {},
   "source": [
    "# Hyper Parameters"
   ]
  },
  {
   "cell_type": "code",
   "execution_count": 14,
   "metadata": {},
   "outputs": [],
   "source": [
    "GAMMA = 0.99\n",
    "AVAILABLE_ACTIONS = 2\n",
    "N0 = 2.5\n",
    "LAMBD = 0.2\n",
    "\n",
    "reward_policy.REWARD_IF_CROSS = 1\n",
    "reward_policy.REWARD_IF_COLLISION = 0\n",
    "reward_policy.REWARD_IF_STILL = 0"
   ]
  },
  {
   "cell_type": "code",
   "execution_count": 15,
   "metadata": {},
   "outputs": [],
   "source": [
    "# stop"
   ]
  },
  {
   "cell_type": "markdown",
   "metadata": {},
   "source": [
    "# Methodology"
   ]
  },
  {
   "cell_type": "markdown",
   "metadata": {},
   "source": [
    "Since it takes a lot of time to train the models, we won't train them all in this report.\n",
    "Instead, we will be load the results of our simulations and specifying the parameters used to obtain those results.\n",
    "Of course, it is possible to reproduce our results simply by running the algorithms here using the same hyper parameters as specified.\n",
    "\n",
    "You can find inside `./experiments/` the collection of results that we generated, and inside `./serialized_models/` one can find some serialized models.\n",
    "We don't advise trying to load the serialized models in machines different from the machine where it was generated beucase of compatibility issues.\n",
    "\n",
    "Whenever possible, we will be adding plots comparing different approaches and parameters, as well as adding gifs in this notebook so that we can visualize the development of the agent and unique strategies that they learned."
   ]
  },
  {
   "cell_type": "markdown",
   "metadata": {},
   "source": [
    "# Q-Learning"
   ]
  },
  {
   "cell_type": "markdown",
   "metadata": {},
   "source": [
    "The Q-learning algorithm receives the $\\gamma$ and the $N0$ parameters.  \n",
    "<br>\n",
    "$\\gamma$ is the discount factor; This parameters determines the importance of future rewards. A value of 0 makes the agent short-sighned by only considering current rewards, while a factor approaching 1 will make it strive for a long term reward.  \n",
    "<br>\n",
    "The $N0$ parameter is used to define the agent's exploration rate $\\epsilon$, where $\\epsilon = N0/(N0+n)$ and $n$ is the number of visits in the states.  \n",
    "<br>\n",
    "In the algorithm, the action-value function is initialized to zero. Then, at each time $t$ the agent selects an action $a_t$, observes a reward $r_t$, enters a new state $s_{s+1}$, and $Q$ is updated:"
   ]
  },
  {
   "cell_type": "markdown",
   "metadata": {},
   "source": [
    "$Q_{new}(s_t, a_t) :=  Q(s_t, a_t)+\\alpha (r_t + \\gamma.max_aQ(s_{t+1},a)-Q(s_t, a_t))$"
   ]
  },
  {
   "cell_type": "markdown",
   "metadata": {},
   "source": [
    "The learning rate $\\alpha$ is defined as $\\alpha = 1/Nsa$, where $Nsa$ is the number of times that the specific state-action pair has already occured."
   ]
  },
  {
   "cell_type": "code",
   "execution_count": 17,
   "metadata": {},
   "outputs": [],
   "source": [
    "env, initial_state = environment.get_env()"
   ]
  },
  {
   "cell_type": "code",
   "execution_count": 18,
   "metadata": {},
   "outputs": [],
   "source": [
    "agent = agents.QLearning(gamma=GAMMA, available_actions=AVAILABLE_ACTIONS, N0=N0)"
   ]
  },
  {
   "cell_type": "code",
   "execution_count": 19,
   "metadata": {},
   "outputs": [],
   "source": [
    "scores = []\n",
    "total_rewards = []"
   ]
  },
  {
   "cell_type": "code",
   "execution_count": 20,
   "metadata": {
    "collapsed": true,
    "jupyter": {
     "outputs_hidden": true
    }
   },
   "outputs": [
    {
     "name": "stdout",
     "output_type": "stream",
     "text": [
      "Run [   0] - Total reward:   10.00 Mean scores: 10.00 Means Scores[:-10]: 10.00 Score: 10 \n",
      "Run [  10] - Total reward:   11.00 Mean scores: 11.91 Means Scores[:-10]: 12.10 Score: 11 \n",
      "Run [  20] - Total reward:   12.00 Mean scores: 12.52 Means Scores[:-10]: 13.20 Score: 12 \n",
      "Run [  30] - Total reward:   15.00 Mean scores: 13.23 Means Scores[:-10]: 14.70 Score: 15 \n",
      "Run [  40] - Total reward:   16.00 Mean scores: 13.88 Means Scores[:-10]: 15.90 Score: 16 \n",
      "Run [  50] - Total reward:   19.00 Mean scores: 14.39 Means Scores[:-10]: 16.50 Score: 19 \n",
      "Run [  60] - Total reward:   19.00 Mean scores: 14.98 Means Scores[:-10]: 18.00 Score: 19 \n",
      "Run [  70] - Total reward:   19.00 Mean scores: 15.32 Means Scores[:-10]: 17.40 Score: 19 \n",
      "Run [  80] - Total reward:   17.00 Mean scores: 15.69 Means Scores[:-10]: 18.30 Score: 17 \n",
      "Run [  90] - Total reward:   19.00 Mean scores: 15.91 Means Scores[:-10]: 17.70 Score: 19 \n",
      "Run [ 100] - Total reward:   18.00 Mean scores: 16.08 Means Scores[:-10]: 17.60 Score: 18 \n",
      "Run [ 110] - Total reward:   18.00 Mean scores: 16.25 Means Scores[:-10]: 18.00 Score: 18 \n",
      "Run [ 120] - Total reward:   18.00 Mean scores: 16.40 Means Scores[:-10]: 18.10 Score: 18 \n",
      "Run [ 130] - Total reward:   18.00 Mean scores: 16.56 Means Scores[:-10]: 18.40 Score: 18 \n",
      "Run [ 140] - Total reward:   21.00 Mean scores: 16.76 Means Scores[:-10]: 19.40 Score: 21 \n",
      "Run [ 150] - Total reward:   19.00 Mean scores: 16.89 Means Scores[:-10]: 18.70 Score: 19 \n",
      "Run [ 160] - Total reward:   17.00 Mean scores: 17.05 Means Scores[:-10]: 19.50 Score: 17 \n",
      "Run [ 170] - Total reward:   17.00 Mean scores: 17.19 Means Scores[:-10]: 19.50 Score: 17 \n",
      "Run [ 180] - Total reward:   20.00 Mean scores: 17.33 Means Scores[:-10]: 19.60 Score: 20 \n",
      "Run [ 190] - Total reward:   19.00 Mean scores: 17.45 Means Scores[:-10]: 19.60 Score: 19 \n",
      "Run [ 200] - Total reward:   20.00 Mean scores: 17.57 Means Scores[:-10]: 19.90 Score: 20 \n",
      "Run [ 210] - Total reward:   17.00 Mean scores: 17.65 Means Scores[:-10]: 19.30 Score: 17 \n",
      "Run [ 220] - Total reward:   21.00 Mean scores: 17.69 Means Scores[:-10]: 18.60 Score: 21 \n",
      "Run [ 230] - Total reward:   20.00 Mean scores: 17.78 Means Scores[:-10]: 19.70 Score: 20 \n",
      "Run [ 240] - Total reward:   20.00 Mean scores: 17.84 Means Scores[:-10]: 19.30 Score: 20 \n",
      "Run [ 250] - Total reward:   19.00 Mean scores: 17.90 Means Scores[:-10]: 19.20 Score: 19 \n",
      "Run [ 260] - Total reward:   20.00 Mean scores: 17.94 Means Scores[:-10]: 19.00 Score: 20 \n",
      "Run [ 270] - Total reward:   17.00 Mean scores: 17.98 Means Scores[:-10]: 19.10 Score: 17 \n",
      "Run [ 280] - Total reward:   19.00 Mean scores: 18.07 Means Scores[:-10]: 20.40 Score: 19 \n",
      "Run [ 290] - Total reward:   19.00 Mean scores: 18.10 Means Scores[:-10]: 19.10 Score: 19 \n",
      "Run [ 300] - Total reward:   18.00 Mean scores: 18.15 Means Scores[:-10]: 19.50 Score: 18 \n",
      "Run [ 310] - Total reward:   18.00 Mean scores: 18.19 Means Scores[:-10]: 19.40 Score: 18 \n",
      "Run [ 320] - Total reward:   19.00 Mean scores: 18.23 Means Scores[:-10]: 19.50 Score: 19 \n",
      "Run [ 330] - Total reward:   19.00 Mean scores: 18.27 Means Scores[:-10]: 19.50 Score: 19 \n",
      "Run [ 340] - Total reward:   20.00 Mean scores: 18.33 Means Scores[:-10]: 20.20 Score: 20 \n",
      "Run [ 350] - Total reward:   20.00 Mean scores: 18.33 Means Scores[:-10]: 18.60 Score: 20 \n",
      "Run [ 360] - Total reward:   18.00 Mean scores: 18.35 Means Scores[:-10]: 19.00 Score: 18 \n",
      "Run [ 370] - Total reward:   19.00 Mean scores: 18.37 Means Scores[:-10]: 19.00 Score: 19 \n",
      "Run [ 380] - Total reward:   20.00 Mean scores: 18.41 Means Scores[:-10]: 19.80 Score: 20 \n",
      "Run [ 390] - Total reward:   18.00 Mean scores: 18.42 Means Scores[:-10]: 19.00 Score: 18 \n",
      "Run [ 400] - Total reward:   17.00 Mean scores: 18.43 Means Scores[:-10]: 18.80 Score: 17 \n",
      "Run [ 410] - Total reward:   22.00 Mean scores: 18.47 Means Scores[:-10]: 20.20 Score: 22 \n",
      "Run [ 420] - Total reward:   19.00 Mean scores: 18.50 Means Scores[:-10]: 19.70 Score: 19 \n",
      "Run [ 430] - Total reward:   21.00 Mean scores: 18.52 Means Scores[:-10]: 19.20 Score: 21 \n",
      "Run [ 440] - Total reward:   18.00 Mean scores: 18.53 Means Scores[:-10]: 18.90 Score: 18 \n",
      "Run [ 450] - Total reward:   19.00 Mean scores: 18.57 Means Scores[:-10]: 20.20 Score: 19 \n",
      "Run [ 460] - Total reward:   20.00 Mean scores: 18.58 Means Scores[:-10]: 19.20 Score: 20 \n",
      "Run [ 470] - Total reward:   22.00 Mean scores: 18.61 Means Scores[:-10]: 20.10 Score: 22 \n",
      "Run [ 480] - Total reward:   21.00 Mean scores: 18.64 Means Scores[:-10]: 20.00 Score: 21 \n",
      "Run [ 490] - Total reward:   19.00 Mean scores: 18.66 Means Scores[:-10]: 19.60 Score: 19 \n",
      "Run [ 500] - Total reward:   20.00 Mean scores: 18.68 Means Scores[:-10]: 19.80 Score: 20 \n",
      "Run [ 510] - Total reward:   19.00 Mean scores: 18.70 Means Scores[:-10]: 19.70 Score: 19 \n",
      "Run [ 520] - Total reward:   20.00 Mean scores: 18.73 Means Scores[:-10]: 20.30 Score: 20 \n",
      "Run [ 530] - Total reward:   19.00 Mean scores: 18.74 Means Scores[:-10]: 19.30 Score: 19 \n",
      "Run [ 540] - Total reward:   19.00 Mean scores: 18.75 Means Scores[:-10]: 19.20 Score: 19 \n",
      "Run [ 550] - Total reward:   20.00 Mean scores: 18.76 Means Scores[:-10]: 19.10 Score: 20 \n",
      "Run [ 560] - Total reward:   18.00 Mean scores: 18.76 Means Scores[:-10]: 19.10 Score: 18 \n",
      "Run [ 570] - Total reward:   23.00 Mean scores: 18.78 Means Scores[:-10]: 19.40 Score: 23 \n",
      "Run [ 580] - Total reward:   19.00 Mean scores: 18.79 Means Scores[:-10]: 19.50 Score: 19 \n",
      "Run [ 590] - Total reward:   21.00 Mean scores: 18.80 Means Scores[:-10]: 19.40 Score: 21 \n",
      "Run [ 600] - Total reward:   22.00 Mean scores: 18.81 Means Scores[:-10]: 19.60 Score: 22 \n",
      "Run [ 610] - Total reward:   19.00 Mean scores: 18.83 Means Scores[:-10]: 20.00 Score: 19 \n",
      "Run [ 620] - Total reward:   21.00 Mean scores: 18.84 Means Scores[:-10]: 19.50 Score: 21 \n",
      "Run [ 630] - Total reward:   19.00 Mean scores: 18.86 Means Scores[:-10]: 19.80 Score: 19 \n",
      "Run [ 640] - Total reward:   20.00 Mean scores: 18.88 Means Scores[:-10]: 20.20 Score: 20 \n",
      "Run [ 650] - Total reward:   19.00 Mean scores: 18.89 Means Scores[:-10]: 19.70 Score: 19 \n",
      "Run [ 660] - Total reward:   19.00 Mean scores: 18.90 Means Scores[:-10]: 19.20 Score: 19 \n",
      "Run [ 670] - Total reward:   20.00 Mean scores: 18.91 Means Scores[:-10]: 19.80 Score: 20 \n",
      "Run [ 680] - Total reward:   18.00 Mean scores: 18.92 Means Scores[:-10]: 19.70 Score: 18 \n",
      "Run [ 690] - Total reward:   22.00 Mean scores: 18.94 Means Scores[:-10]: 20.30 Score: 22 \n",
      "Run [ 700] - Total reward:   21.00 Mean scores: 18.96 Means Scores[:-10]: 20.20 Score: 21 \n",
      "Run [ 710] - Total reward:   18.00 Mean scores: 18.97 Means Scores[:-10]: 20.10 Score: 18 \n",
      "Run [ 720] - Total reward:   20.00 Mean scores: 18.99 Means Scores[:-10]: 20.40 Score: 20 \n",
      "Run [ 730] - Total reward:   20.00 Mean scores: 19.01 Means Scores[:-10]: 20.00 Score: 20 \n",
      "Run [ 740] - Total reward:   19.00 Mean scores: 19.01 Means Scores[:-10]: 19.50 Score: 19 \n",
      "Run [ 750] - Total reward:   22.00 Mean scores: 19.04 Means Scores[:-10]: 20.60 Score: 22 \n",
      "Run [ 760] - Total reward:   19.00 Mean scores: 19.05 Means Scores[:-10]: 19.80 Score: 19 \n",
      "Run [ 770] - Total reward:   22.00 Mean scores: 19.06 Means Scores[:-10]: 20.20 Score: 22 \n",
      "Run [ 780] - Total reward:   20.00 Mean scores: 19.08 Means Scores[:-10]: 20.20 Score: 20 \n",
      "Run [ 790] - Total reward:   23.00 Mean scores: 19.08 Means Scores[:-10]: 19.80 Score: 23 \n",
      "Run [ 800] - Total reward:   22.00 Mean scores: 19.10 Means Scores[:-10]: 20.20 Score: 22 \n",
      "Run [ 810] - Total reward:   21.00 Mean scores: 19.12 Means Scores[:-10]: 20.50 Score: 21 \n",
      "Run [ 820] - Total reward:   22.00 Mean scores: 19.14 Means Scores[:-10]: 20.70 Score: 22 \n",
      "Run [ 830] - Total reward:   21.00 Mean scores: 19.15 Means Scores[:-10]: 20.20 Score: 21 \n",
      "Run [ 840] - Total reward:   23.00 Mean scores: 19.16 Means Scores[:-10]: 20.50 Score: 23 \n",
      "Run [ 850] - Total reward:   17.00 Mean scores: 19.17 Means Scores[:-10]: 19.90 Score: 17 \n",
      "Run [ 860] - Total reward:   20.00 Mean scores: 19.18 Means Scores[:-10]: 20.00 Score: 20 \n",
      "Run [ 870] - Total reward:   20.00 Mean scores: 19.20 Means Scores[:-10]: 20.40 Score: 20 \n",
      "Run [ 880] - Total reward:   20.00 Mean scores: 19.21 Means Scores[:-10]: 20.00 Score: 20 \n",
      "Run [ 890] - Total reward:   21.00 Mean scores: 19.22 Means Scores[:-10]: 20.40 Score: 21 \n",
      "Run [ 900] - Total reward:   22.00 Mean scores: 19.24 Means Scores[:-10]: 20.70 Score: 22 \n",
      "Run [ 910] - Total reward:   18.00 Mean scores: 19.24 Means Scores[:-10]: 19.80 Score: 18 \n",
      "Run [ 920] - Total reward:   20.00 Mean scores: 19.25 Means Scores[:-10]: 20.40 Score: 20 \n",
      "Run [ 930] - Total reward:   21.00 Mean scores: 19.27 Means Scores[:-10]: 21.10 Score: 21 \n",
      "Run [ 940] - Total reward:   21.00 Mean scores: 19.29 Means Scores[:-10]: 20.40 Score: 21 \n",
      "Run [ 950] - Total reward:   20.00 Mean scores: 19.30 Means Scores[:-10]: 20.70 Score: 20 \n",
      "Run [ 960] - Total reward:   20.00 Mean scores: 19.30 Means Scores[:-10]: 19.50 Score: 20 \n",
      "Run [ 970] - Total reward:   21.00 Mean scores: 19.31 Means Scores[:-10]: 20.30 Score: 21 \n",
      "Run [ 980] - Total reward:   22.00 Mean scores: 19.33 Means Scores[:-10]: 20.90 Score: 22 \n",
      "Run [ 990] - Total reward:   20.00 Mean scores: 19.34 Means Scores[:-10]: 20.70 Score: 20 \n",
      "Run [1000] - Total reward:   21.00 Mean scores: 19.35 Means Scores[:-10]: 19.90 Score: 21 \n",
      "Run [1010] - Total reward:   21.00 Mean scores: 19.36 Means Scores[:-10]: 20.90 Score: 21 \n",
      "Run [1020] - Total reward:   19.00 Mean scores: 19.38 Means Scores[:-10]: 20.80 Score: 19 \n",
      "Run [1030] - Total reward:   21.00 Mean scores: 19.39 Means Scores[:-10]: 20.90 Score: 21 \n",
      "Run [1040] - Total reward:   19.00 Mean scores: 19.40 Means Scores[:-10]: 20.40 Score: 19 \n",
      "Run [1050] - Total reward:   21.00 Mean scores: 19.42 Means Scores[:-10]: 21.10 Score: 21 \n",
      "Run [1060] - Total reward:   18.00 Mean scores: 19.43 Means Scores[:-10]: 20.30 Score: 18 \n",
      "Run [1070] - Total reward:   21.00 Mean scores: 19.44 Means Scores[:-10]: 20.70 Score: 21 \n",
      "Run [1080] - Total reward:   20.00 Mean scores: 19.44 Means Scores[:-10]: 19.50 Score: 20 \n",
      "Run [1090] - Total reward:   21.00 Mean scores: 19.45 Means Scores[:-10]: 20.10 Score: 21 \n",
      "Run [1100] - Total reward:   22.00 Mean scores: 19.45 Means Scores[:-10]: 20.40 Score: 22 \n",
      "Run [1110] - Total reward:   20.00 Mean scores: 19.46 Means Scores[:-10]: 19.70 Score: 20 \n",
      "Run [1120] - Total reward:   22.00 Mean scores: 19.47 Means Scores[:-10]: 21.00 Score: 22 \n",
      "Run [1130] - Total reward:   21.00 Mean scores: 19.49 Means Scores[:-10]: 21.90 Score: 21 \n",
      "Run [1140] - Total reward:   21.00 Mean scores: 19.50 Means Scores[:-10]: 20.50 Score: 21 \n",
      "Run [1150] - Total reward:   20.00 Mean scores: 19.51 Means Scores[:-10]: 20.90 Score: 20 \n",
      "Run [1160] - Total reward:   18.00 Mean scores: 19.52 Means Scores[:-10]: 20.50 Score: 18 \n",
      "Run [1170] - Total reward:   21.00 Mean scores: 19.52 Means Scores[:-10]: 19.70 Score: 21 \n",
      "Run [1180] - Total reward:   19.00 Mean scores: 19.54 Means Scores[:-10]: 21.10 Score: 19 \n",
      "Run [1190] - Total reward:   21.00 Mean scores: 19.55 Means Scores[:-10]: 20.90 Score: 21 \n",
      "Run [1200] - Total reward:   20.00 Mean scores: 19.56 Means Scores[:-10]: 20.90 Score: 20 \n",
      "Run [1210] - Total reward:   18.00 Mean scores: 19.56 Means Scores[:-10]: 19.90 Score: 18 \n",
      "Run [1220] - Total reward:   22.00 Mean scores: 19.57 Means Scores[:-10]: 20.10 Score: 22 \n",
      "Run [1230] - Total reward:   21.00 Mean scores: 19.57 Means Scores[:-10]: 20.60 Score: 21 \n",
      "Run [1240] - Total reward:   21.00 Mean scores: 19.58 Means Scores[:-10]: 20.70 Score: 21 \n",
      "Run [1250] - Total reward:   20.00 Mean scores: 19.59 Means Scores[:-10]: 20.60 Score: 20 \n",
      "Run [1260] - Total reward:   20.00 Mean scores: 19.60 Means Scores[:-10]: 21.20 Score: 20 \n",
      "Run [1270] - Total reward:   21.00 Mean scores: 19.61 Means Scores[:-10]: 20.30 Score: 21 \n",
      "Run [1280] - Total reward:   19.00 Mean scores: 19.61 Means Scores[:-10]: 20.00 Score: 19 \n",
      "Run [1290] - Total reward:   23.00 Mean scores: 19.63 Means Scores[:-10]: 21.30 Score: 23 \n",
      "Run [1300] - Total reward:   22.00 Mean scores: 19.63 Means Scores[:-10]: 20.50 Score: 22 \n",
      "Run [1310] - Total reward:   20.00 Mean scores: 19.63 Means Scores[:-10]: 19.70 Score: 20 \n",
      "Run [1320] - Total reward:   22.00 Mean scores: 19.64 Means Scores[:-10]: 19.90 Score: 22 \n",
      "Run [1330] - Total reward:   22.00 Mean scores: 19.64 Means Scores[:-10]: 20.50 Score: 22 \n",
      "Run [1340] - Total reward:   20.00 Mean scores: 19.65 Means Scores[:-10]: 20.20 Score: 20 \n",
      "Run [1350] - Total reward:   19.00 Mean scores: 19.65 Means Scores[:-10]: 20.70 Score: 19 \n",
      "Run [1360] - Total reward:   22.00 Mean scores: 19.66 Means Scores[:-10]: 20.30 Score: 22 \n",
      "Run [1370] - Total reward:   20.00 Mean scores: 19.67 Means Scores[:-10]: 20.60 Score: 20 \n",
      "Run [1380] - Total reward:   21.00 Mean scores: 19.67 Means Scores[:-10]: 20.70 Score: 21 \n",
      "Run [1390] - Total reward:   20.00 Mean scores: 19.67 Means Scores[:-10]: 19.80 Score: 20 \n",
      "Run [1400] - Total reward:   17.00 Mean scores: 19.67 Means Scores[:-10]: 19.50 Score: 17 \n",
      "Run [1410] - Total reward:   22.00 Mean scores: 19.68 Means Scores[:-10]: 20.20 Score: 22 \n",
      "Run [1420] - Total reward:   22.00 Mean scores: 19.68 Means Scores[:-10]: 20.10 Score: 22 \n",
      "Run [1430] - Total reward:   20.00 Mean scores: 19.68 Means Scores[:-10]: 20.20 Score: 20 \n",
      "Run [1440] - Total reward:   21.00 Mean scores: 19.68 Means Scores[:-10]: 19.80 Score: 21 \n",
      "Run [1450] - Total reward:   21.00 Mean scores: 19.69 Means Scores[:-10]: 20.30 Score: 21 \n",
      "Run [1460] - Total reward:   20.00 Mean scores: 19.69 Means Scores[:-10]: 20.40 Score: 20 \n",
      "Run [1470] - Total reward:   21.00 Mean scores: 19.69 Means Scores[:-10]: 19.90 Score: 21 \n",
      "Run [1480] - Total reward:   19.00 Mean scores: 19.70 Means Scores[:-10]: 20.00 Score: 19 \n",
      "Run [1490] - Total reward:   22.00 Mean scores: 19.70 Means Scores[:-10]: 20.10 Score: 22 \n",
      "Run [1500] - Total reward:   19.00 Mean scores: 19.71 Means Scores[:-10]: 20.80 Score: 19 \n",
      "Run [1510] - Total reward:   21.00 Mean scores: 19.71 Means Scores[:-10]: 21.00 Score: 21 \n",
      "Run [1520] - Total reward:   22.00 Mean scores: 19.73 Means Scores[:-10]: 21.60 Score: 22 \n",
      "Run [1530] - Total reward:   23.00 Mean scores: 19.73 Means Scores[:-10]: 20.50 Score: 23 \n",
      "Run [1540] - Total reward:   19.00 Mean scores: 19.74 Means Scores[:-10]: 20.20 Score: 19 \n",
      "Run [1550] - Total reward:   23.00 Mean scores: 19.74 Means Scores[:-10]: 20.30 Score: 23 \n",
      "Run [1560] - Total reward:   20.00 Mean scores: 19.75 Means Scores[:-10]: 21.10 Score: 20 \n",
      "Run [1570] - Total reward:   24.00 Mean scores: 19.75 Means Scores[:-10]: 20.70 Score: 24 \n",
      "Run [1580] - Total reward:   21.00 Mean scores: 19.76 Means Scores[:-10]: 20.80 Score: 21 \n",
      "Run [1590] - Total reward:   21.00 Mean scores: 19.77 Means Scores[:-10]: 20.70 Score: 21 \n",
      "Run [1600] - Total reward:   22.00 Mean scores: 19.77 Means Scores[:-10]: 21.10 Score: 22 \n",
      "Run [1610] - Total reward:   21.00 Mean scores: 19.78 Means Scores[:-10]: 20.70 Score: 21 \n",
      "Run [1620] - Total reward:   19.00 Mean scores: 19.79 Means Scores[:-10]: 20.70 Score: 19 \n",
      "Run [1630] - Total reward:   22.00 Mean scores: 19.79 Means Scores[:-10]: 19.90 Score: 22 \n",
      "Run [1640] - Total reward:   20.00 Mean scores: 19.79 Means Scores[:-10]: 20.20 Score: 20 \n",
      "Run [1650] - Total reward:   21.00 Mean scores: 19.80 Means Scores[:-10]: 20.90 Score: 21 \n",
      "Run [1660] - Total reward:   20.00 Mean scores: 19.80 Means Scores[:-10]: 20.70 Score: 20 \n",
      "Run [1670] - Total reward:   21.00 Mean scores: 19.81 Means Scores[:-10]: 20.60 Score: 21 \n",
      "Run [1680] - Total reward:   24.00 Mean scores: 19.81 Means Scores[:-10]: 20.70 Score: 24 \n",
      "Run [1690] - Total reward:   22.00 Mean scores: 19.81 Means Scores[:-10]: 20.30 Score: 22 \n",
      "Run [1700] - Total reward:   19.00 Mean scores: 19.82 Means Scores[:-10]: 20.60 Score: 19 \n",
      "Run [1710] - Total reward:   19.00 Mean scores: 19.82 Means Scores[:-10]: 20.50 Score: 19 \n",
      "Run [1720] - Total reward:   19.00 Mean scores: 19.83 Means Scores[:-10]: 20.70 Score: 19 \n",
      "Run [1730] - Total reward:   22.00 Mean scores: 19.83 Means Scores[:-10]: 20.80 Score: 22 \n",
      "Run [1740] - Total reward:   20.00 Mean scores: 19.84 Means Scores[:-10]: 20.90 Score: 20 \n",
      "Run [1750] - Total reward:   19.00 Mean scores: 19.85 Means Scores[:-10]: 21.00 Score: 19 \n",
      "Run [1760] - Total reward:   19.00 Mean scores: 19.85 Means Scores[:-10]: 20.40 Score: 19 \n",
      "Run [1770] - Total reward:   22.00 Mean scores: 19.85 Means Scores[:-10]: 20.70 Score: 22 \n",
      "Run [1780] - Total reward:   18.00 Mean scores: 19.86 Means Scores[:-10]: 20.20 Score: 18 \n",
      "Run [1790] - Total reward:   21.00 Mean scores: 19.86 Means Scores[:-10]: 20.40 Score: 21 \n",
      "Run [1800] - Total reward:   21.00 Mean scores: 19.86 Means Scores[:-10]: 20.60 Score: 21 \n",
      "Run [1810] - Total reward:   20.00 Mean scores: 19.87 Means Scores[:-10]: 20.20 Score: 20 \n",
      "Run [1820] - Total reward:   21.00 Mean scores: 19.87 Means Scores[:-10]: 20.60 Score: 21 \n",
      "Run [1830] - Total reward:   23.00 Mean scores: 19.88 Means Scores[:-10]: 21.20 Score: 23 \n",
      "Run [1840] - Total reward:   20.00 Mean scores: 19.88 Means Scores[:-10]: 20.70 Score: 20 \n",
      "Run [1850] - Total reward:   18.00 Mean scores: 19.88 Means Scores[:-10]: 19.10 Score: 18 \n",
      "Run [1860] - Total reward:   23.00 Mean scores: 19.89 Means Scores[:-10]: 21.70 Score: 23 \n",
      "Run [1870] - Total reward:   20.00 Mean scores: 19.89 Means Scores[:-10]: 20.90 Score: 20 \n",
      "Run [1880] - Total reward:   20.00 Mean scores: 19.89 Means Scores[:-10]: 20.40 Score: 20 \n",
      "Run [1890] - Total reward:   19.00 Mean scores: 19.90 Means Scores[:-10]: 20.30 Score: 19 \n",
      "Run [1900] - Total reward:   19.00 Mean scores: 19.90 Means Scores[:-10]: 20.10 Score: 19 \n",
      "Run [1910] - Total reward:   21.00 Mean scores: 19.90 Means Scores[:-10]: 20.40 Score: 21 \n",
      "Run [1920] - Total reward:   19.00 Mean scores: 19.91 Means Scores[:-10]: 21.10 Score: 19 \n",
      "Run [1930] - Total reward:   20.00 Mean scores: 19.91 Means Scores[:-10]: 20.10 Score: 20 \n",
      "Run [1940] - Total reward:   19.00 Mean scores: 19.92 Means Scores[:-10]: 21.40 Score: 19 \n",
      "Run [1950] - Total reward:   23.00 Mean scores: 19.92 Means Scores[:-10]: 21.30 Score: 23 \n",
      "Run [1960] - Total reward:   20.00 Mean scores: 19.92 Means Scores[:-10]: 20.20 Score: 20 \n",
      "Run [1970] - Total reward:   21.00 Mean scores: 19.93 Means Scores[:-10]: 21.20 Score: 21 \n",
      "Run [1980] - Total reward:   22.00 Mean scores: 19.94 Means Scores[:-10]: 20.90 Score: 22 \n",
      "Run [1990] - Total reward:   19.00 Mean scores: 19.94 Means Scores[:-10]: 20.70 Score: 19 \n",
      "Run [2000] - Total reward:   21.00 Mean scores: 19.95 Means Scores[:-10]: 21.20 Score: 21 \n",
      "Run [2010] - Total reward:   21.00 Mean scores: 19.95 Means Scores[:-10]: 20.50 Score: 21 \n",
      "Run [2020] - Total reward:   19.00 Mean scores: 19.95 Means Scores[:-10]: 20.80 Score: 19 \n",
      "Run [2030] - Total reward:   19.00 Mean scores: 19.95 Means Scores[:-10]: 20.30 Score: 19 \n",
      "Run [2040] - Total reward:   22.00 Mean scores: 19.96 Means Scores[:-10]: 20.70 Score: 22 \n",
      "Run [2050] - Total reward:   22.00 Mean scores: 19.96 Means Scores[:-10]: 20.70 Score: 22 \n",
      "Run [2060] - Total reward:   17.00 Mean scores: 19.96 Means Scores[:-10]: 20.10 Score: 17 \n",
      "Run [2070] - Total reward:   20.00 Mean scores: 19.97 Means Scores[:-10]: 20.60 Score: 20 \n",
      "Run [2080] - Total reward:   21.00 Mean scores: 19.97 Means Scores[:-10]: 20.80 Score: 21 \n",
      "Run [2090] - Total reward:   22.00 Mean scores: 19.97 Means Scores[:-10]: 20.90 Score: 22 \n",
      "Run [2100] - Total reward:   21.00 Mean scores: 19.98 Means Scores[:-10]: 20.80 Score: 21 \n",
      "Run [2110] - Total reward:   21.00 Mean scores: 19.98 Means Scores[:-10]: 21.50 Score: 21 \n",
      "Run [2120] - Total reward:   21.00 Mean scores: 19.99 Means Scores[:-10]: 21.20 Score: 21 \n",
      "Run [2130] - Total reward:   20.00 Mean scores: 20.00 Means Scores[:-10]: 21.00 Score: 20 \n",
      "Run [2140] - Total reward:   20.00 Mean scores: 20.00 Means Scores[:-10]: 20.40 Score: 20 \n",
      "Run [2150] - Total reward:   20.00 Mean scores: 20.00 Means Scores[:-10]: 19.70 Score: 20 \n",
      "Run [2160] - Total reward:   22.00 Mean scores: 20.00 Means Scores[:-10]: 20.50 Score: 22 \n",
      "Run [2170] - Total reward:   21.00 Mean scores: 20.00 Means Scores[:-10]: 21.10 Score: 21 \n",
      "Run [2180] - Total reward:   21.00 Mean scores: 20.01 Means Scores[:-10]: 20.50 Score: 21 \n",
      "Run [2190] - Total reward:   21.00 Mean scores: 20.01 Means Scores[:-10]: 20.80 Score: 21 \n",
      "Run [2200] - Total reward:   19.00 Mean scores: 20.01 Means Scores[:-10]: 20.20 Score: 19 \n",
      "Run [2210] - Total reward:   21.00 Mean scores: 20.01 Means Scores[:-10]: 20.40 Score: 21 \n",
      "Run [2220] - Total reward:   20.00 Mean scores: 20.02 Means Scores[:-10]: 21.20 Score: 20 \n",
      "Run [2230] - Total reward:   19.00 Mean scores: 20.02 Means Scores[:-10]: 20.10 Score: 19 \n",
      "Run [2240] - Total reward:   24.00 Mean scores: 20.02 Means Scores[:-10]: 20.80 Score: 24 \n",
      "Run [2250] - Total reward:   21.00 Mean scores: 20.02 Means Scores[:-10]: 20.40 Score: 21 \n",
      "Run [2260] - Total reward:   20.00 Mean scores: 20.02 Means Scores[:-10]: 20.20 Score: 20 \n",
      "Run [2270] - Total reward:   18.00 Mean scores: 20.03 Means Scores[:-10]: 21.00 Score: 18 \n",
      "Run [2280] - Total reward:   22.00 Mean scores: 20.03 Means Scores[:-10]: 20.50 Score: 22 \n",
      "Run [2290] - Total reward:   20.00 Mean scores: 20.03 Means Scores[:-10]: 20.60 Score: 20 \n",
      "Run [2300] - Total reward:   22.00 Mean scores: 20.03 Means Scores[:-10]: 20.40 Score: 22 \n",
      "Run [2310] - Total reward:   19.00 Mean scores: 20.04 Means Scores[:-10]: 21.20 Score: 19 \n",
      "Run [2320] - Total reward:   21.00 Mean scores: 20.04 Means Scores[:-10]: 20.90 Score: 21 \n",
      "Run [2330] - Total reward:   20.00 Mean scores: 20.04 Means Scores[:-10]: 20.30 Score: 20 \n",
      "Run [2340] - Total reward:   19.00 Mean scores: 20.05 Means Scores[:-10]: 20.40 Score: 19 \n",
      "Run [2350] - Total reward:   21.00 Mean scores: 20.05 Means Scores[:-10]: 20.30 Score: 21 \n",
      "Run [2360] - Total reward:   22.00 Mean scores: 20.05 Means Scores[:-10]: 20.80 Score: 22 \n",
      "Run [2370] - Total reward:   22.00 Mean scores: 20.05 Means Scores[:-10]: 20.30 Score: 22 \n",
      "Run [2380] - Total reward:   20.00 Mean scores: 20.05 Means Scores[:-10]: 19.80 Score: 20 \n",
      "Run [2390] - Total reward:   23.00 Mean scores: 20.06 Means Scores[:-10]: 21.60 Score: 23 \n",
      "Run [2400] - Total reward:   18.00 Mean scores: 20.06 Means Scores[:-10]: 21.00 Score: 18 \n",
      "Run [2410] - Total reward:   21.00 Mean scores: 20.06 Means Scores[:-10]: 20.20 Score: 21 \n",
      "Run [2420] - Total reward:   21.00 Mean scores: 20.06 Means Scores[:-10]: 20.80 Score: 21 \n",
      "Run [2430] - Total reward:   18.00 Mean scores: 20.07 Means Scores[:-10]: 20.50 Score: 18 \n",
      "Run [2440] - Total reward:   20.00 Mean scores: 20.07 Means Scores[:-10]: 20.50 Score: 20 \n",
      "Run [2450] - Total reward:   23.00 Mean scores: 20.07 Means Scores[:-10]: 21.20 Score: 23 \n",
      "Run [2460] - Total reward:   18.00 Mean scores: 20.07 Means Scores[:-10]: 19.90 Score: 18 \n",
      "Run [2470] - Total reward:   20.00 Mean scores: 20.07 Means Scores[:-10]: 20.00 Score: 20 \n",
      "Run [2480] - Total reward:   20.00 Mean scores: 20.07 Means Scores[:-10]: 20.40 Score: 20 \n",
      "Run [2490] - Total reward:   19.00 Mean scores: 20.07 Means Scores[:-10]: 19.80 Score: 19 \n",
      "Run [2500] - Total reward:   21.00 Mean scores: 20.07 Means Scores[:-10]: 19.70 Score: 21 \n",
      "Run [2510] - Total reward:   20.00 Mean scores: 20.07 Means Scores[:-10]: 20.70 Score: 20 \n",
      "Run [2520] - Total reward:   21.00 Mean scores: 20.07 Means Scores[:-10]: 20.00 Score: 21 \n",
      "Run [2530] - Total reward:   18.00 Mean scores: 20.07 Means Scores[:-10]: 19.60 Score: 18 \n",
      "Run [2540] - Total reward:   21.00 Mean scores: 20.07 Means Scores[:-10]: 20.50 Score: 21 \n",
      "Run [2550] - Total reward:   20.00 Mean scores: 20.07 Means Scores[:-10]: 20.00 Score: 20 \n",
      "Run [2560] - Total reward:   19.00 Mean scores: 20.07 Means Scores[:-10]: 20.90 Score: 19 \n",
      "Run [2570] - Total reward:   21.00 Mean scores: 20.08 Means Scores[:-10]: 20.90 Score: 21 \n",
      "Run [2580] - Total reward:   22.00 Mean scores: 20.08 Means Scores[:-10]: 21.20 Score: 22 \n",
      "Run [2590] - Total reward:   19.00 Mean scores: 20.08 Means Scores[:-10]: 19.80 Score: 19 \n",
      "Run [2600] - Total reward:   21.00 Mean scores: 20.08 Means Scores[:-10]: 20.70 Score: 21 \n",
      "Run [2610] - Total reward:   21.00 Mean scores: 20.09 Means Scores[:-10]: 20.80 Score: 21 \n",
      "Run [2620] - Total reward:   20.00 Mean scores: 20.09 Means Scores[:-10]: 21.60 Score: 20 \n",
      "Run [2630] - Total reward:   18.00 Mean scores: 20.09 Means Scores[:-10]: 20.30 Score: 18 \n",
      "Run [2640] - Total reward:   22.00 Mean scores: 20.10 Means Scores[:-10]: 21.10 Score: 22 \n",
      "Run [2650] - Total reward:   19.00 Mean scores: 20.10 Means Scores[:-10]: 20.40 Score: 19 \n",
      "Run [2660] - Total reward:   22.00 Mean scores: 20.10 Means Scores[:-10]: 21.30 Score: 22 \n",
      "Run [2670] - Total reward:   20.00 Mean scores: 20.10 Means Scores[:-10]: 20.60 Score: 20 \n",
      "Run [2680] - Total reward:   20.00 Mean scores: 20.10 Means Scores[:-10]: 20.10 Score: 20 \n",
      "Run [2690] - Total reward:   17.00 Mean scores: 20.10 Means Scores[:-10]: 20.20 Score: 17 \n",
      "Run [2700] - Total reward:   25.00 Mean scores: 20.11 Means Scores[:-10]: 20.30 Score: 25 \n",
      "Run [2710] - Total reward:   21.00 Mean scores: 20.11 Means Scores[:-10]: 20.80 Score: 21 \n",
      "Run [2720] - Total reward:   23.00 Mean scores: 20.11 Means Scores[:-10]: 19.80 Score: 23 \n",
      "Run [2730] - Total reward:   22.00 Mean scores: 20.11 Means Scores[:-10]: 21.10 Score: 22 \n",
      "Run [2740] - Total reward:   21.00 Mean scores: 20.11 Means Scores[:-10]: 20.90 Score: 21 \n",
      "Run [2750] - Total reward:   21.00 Mean scores: 20.12 Means Scores[:-10]: 20.90 Score: 21 \n",
      "Run [2760] - Total reward:   21.00 Mean scores: 20.12 Means Scores[:-10]: 20.00 Score: 21 \n",
      "Run [2770] - Total reward:   22.00 Mean scores: 20.12 Means Scores[:-10]: 20.30 Score: 22 \n",
      "Run [2780] - Total reward:   19.00 Mean scores: 20.12 Means Scores[:-10]: 20.40 Score: 19 \n",
      "Run [2790] - Total reward:   24.00 Mean scores: 20.12 Means Scores[:-10]: 21.70 Score: 24 \n",
      "Run [2800] - Total reward:   21.00 Mean scores: 20.12 Means Scores[:-10]: 20.40 Score: 21 \n",
      "Run [2810] - Total reward:   19.00 Mean scores: 20.12 Means Scores[:-10]: 20.20 Score: 19 \n",
      "Run [2820] - Total reward:   20.00 Mean scores: 20.13 Means Scores[:-10]: 21.30 Score: 20 \n",
      "Run [2830] - Total reward:   22.00 Mean scores: 20.13 Means Scores[:-10]: 20.40 Score: 22 \n",
      "Run [2840] - Total reward:   20.00 Mean scores: 20.13 Means Scores[:-10]: 21.00 Score: 20 \n",
      "Run [2850] - Total reward:   22.00 Mean scores: 20.13 Means Scores[:-10]: 20.60 Score: 22 \n",
      "Run [2860] - Total reward:   20.00 Mean scores: 20.13 Means Scores[:-10]: 19.90 Score: 20 \n",
      "Run [2870] - Total reward:   22.00 Mean scores: 20.14 Means Scores[:-10]: 21.20 Score: 22 \n",
      "Run [2880] - Total reward:   21.00 Mean scores: 20.14 Means Scores[:-10]: 20.00 Score: 21 \n",
      "Run [2890] - Total reward:   20.00 Mean scores: 20.14 Means Scores[:-10]: 20.40 Score: 20 \n",
      "Run [2900] - Total reward:   18.00 Mean scores: 20.14 Means Scores[:-10]: 20.10 Score: 18 \n",
      "Run [2910] - Total reward:   18.00 Mean scores: 20.14 Means Scores[:-10]: 20.30 Score: 18 \n",
      "Run [2920] - Total reward:   22.00 Mean scores: 20.14 Means Scores[:-10]: 21.00 Score: 22 \n",
      "Run [2930] - Total reward:   19.00 Mean scores: 20.14 Means Scores[:-10]: 20.10 Score: 19 \n",
      "Run [2940] - Total reward:   19.00 Mean scores: 20.14 Means Scores[:-10]: 20.70 Score: 19 \n",
      "Run [2950] - Total reward:   21.00 Mean scores: 20.14 Means Scores[:-10]: 20.10 Score: 21 \n",
      "Run [2960] - Total reward:   23.00 Mean scores: 20.14 Means Scores[:-10]: 20.60 Score: 23 \n",
      "Run [2970] - Total reward:   22.00 Mean scores: 20.15 Means Scores[:-10]: 21.60 Score: 22 \n",
      "Run [2980] - Total reward:   21.00 Mean scores: 20.15 Means Scores[:-10]: 20.80 Score: 21 \n",
      "Run [2990] - Total reward:   18.00 Mean scores: 20.15 Means Scores[:-10]: 20.60 Score: 18 \n",
      "Run [3000] - Total reward:   20.00 Mean scores: 20.15 Means Scores[:-10]: 19.90 Score: 20 \n",
      "Run [3010] - Total reward:   20.00 Mean scores: 20.15 Means Scores[:-10]: 20.50 Score: 20 \n",
      "Run [3020] - Total reward:   19.00 Mean scores: 20.15 Means Scores[:-10]: 20.70 Score: 19 \n",
      "Run [3030] - Total reward:   20.00 Mean scores: 20.15 Means Scores[:-10]: 19.50 Score: 20 \n",
      "Run [3040] - Total reward:   22.00 Mean scores: 20.15 Means Scores[:-10]: 20.50 Score: 22 \n",
      "Run [3050] - Total reward:   20.00 Mean scores: 20.16 Means Scores[:-10]: 20.60 Score: 20 \n",
      "Run [3060] - Total reward:   17.00 Mean scores: 20.16 Means Scores[:-10]: 20.20 Score: 17 \n",
      "Run [3070] - Total reward:   21.00 Mean scores: 20.16 Means Scores[:-10]: 20.50 Score: 21 \n",
      "Run [3080] - Total reward:   20.00 Mean scores: 20.16 Means Scores[:-10]: 19.90 Score: 20 \n",
      "Run [3090] - Total reward:   18.00 Mean scores: 20.16 Means Scores[:-10]: 20.70 Score: 18 \n",
      "Run [3100] - Total reward:   22.00 Mean scores: 20.16 Means Scores[:-10]: 19.90 Score: 22 \n",
      "Run [3110] - Total reward:   22.00 Mean scores: 20.16 Means Scores[:-10]: 20.70 Score: 22 \n",
      "Run [3120] - Total reward:   22.00 Mean scores: 20.16 Means Scores[:-10]: 20.10 Score: 22 \n",
      "Run [3130] - Total reward:   19.00 Mean scores: 20.16 Means Scores[:-10]: 20.30 Score: 19 \n",
      "Run [3140] - Total reward:   20.00 Mean scores: 20.16 Means Scores[:-10]: 20.40 Score: 20 \n",
      "Run [3150] - Total reward:   21.00 Mean scores: 20.16 Means Scores[:-10]: 20.30 Score: 21 \n",
      "Run [3160] - Total reward:   22.00 Mean scores: 20.16 Means Scores[:-10]: 20.70 Score: 22 \n",
      "Run [3170] - Total reward:   20.00 Mean scores: 20.16 Means Scores[:-10]: 19.80 Score: 20 \n",
      "Run [3180] - Total reward:   20.00 Mean scores: 20.16 Means Scores[:-10]: 20.50 Score: 20 \n",
      "Run [3190] - Total reward:   20.00 Mean scores: 20.16 Means Scores[:-10]: 20.40 Score: 20 \n",
      "Run [3200] - Total reward:   21.00 Mean scores: 20.16 Means Scores[:-10]: 20.70 Score: 21 \n",
      "Run [3210] - Total reward:   23.00 Mean scores: 20.17 Means Scores[:-10]: 20.90 Score: 23 \n",
      "Run [3220] - Total reward:   21.00 Mean scores: 20.17 Means Scores[:-10]: 21.10 Score: 21 \n",
      "Run [3230] - Total reward:   24.00 Mean scores: 20.17 Means Scores[:-10]: 20.40 Score: 24 \n",
      "Run [3240] - Total reward:   21.00 Mean scores: 20.17 Means Scores[:-10]: 19.50 Score: 21 \n",
      "Run [3250] - Total reward:   22.00 Mean scores: 20.17 Means Scores[:-10]: 20.90 Score: 22 \n",
      "Run [3260] - Total reward:   18.00 Mean scores: 20.17 Means Scores[:-10]: 20.30 Score: 18 \n",
      "Run [3270] - Total reward:   22.00 Mean scores: 20.17 Means Scores[:-10]: 20.40 Score: 22 \n",
      "Run [3280] - Total reward:   22.00 Mean scores: 20.17 Means Scores[:-10]: 20.90 Score: 22 \n",
      "Run [3290] - Total reward:   21.00 Mean scores: 20.17 Means Scores[:-10]: 20.00 Score: 21 \n",
      "Run [3300] - Total reward:   22.00 Mean scores: 20.18 Means Scores[:-10]: 21.60 Score: 22 \n",
      "Run [3310] - Total reward:   21.00 Mean scores: 20.18 Means Scores[:-10]: 20.60 Score: 21 \n",
      "Run [3320] - Total reward:   18.00 Mean scores: 20.18 Means Scores[:-10]: 20.60 Score: 18 \n",
      "Run [3330] - Total reward:   23.00 Mean scores: 20.18 Means Scores[:-10]: 21.20 Score: 23 \n",
      "Run [3340] - Total reward:   22.00 Mean scores: 20.18 Means Scores[:-10]: 20.70 Score: 22 \n",
      "Run [3350] - Total reward:   22.00 Mean scores: 20.19 Means Scores[:-10]: 21.00 Score: 22 \n",
      "Run [3360] - Total reward:   19.00 Mean scores: 20.19 Means Scores[:-10]: 20.20 Score: 19 \n",
      "Run [3370] - Total reward:   20.00 Mean scores: 20.19 Means Scores[:-10]: 20.20 Score: 20 \n",
      "Run [3380] - Total reward:   21.00 Mean scores: 20.19 Means Scores[:-10]: 20.80 Score: 21 \n",
      "Run [3390] - Total reward:   20.00 Mean scores: 20.19 Means Scores[:-10]: 20.80 Score: 20 \n",
      "Run [3400] - Total reward:   20.00 Mean scores: 20.19 Means Scores[:-10]: 20.50 Score: 20 \n",
      "Run [3410] - Total reward:   21.00 Mean scores: 20.19 Means Scores[:-10]: 21.40 Score: 21 \n",
      "Run [3420] - Total reward:   22.00 Mean scores: 20.19 Means Scores[:-10]: 20.10 Score: 22 \n",
      "Run [3430] - Total reward:   20.00 Mean scores: 20.20 Means Scores[:-10]: 20.90 Score: 20 \n",
      "Run [3440] - Total reward:   19.00 Mean scores: 20.20 Means Scores[:-10]: 20.90 Score: 19 \n",
      "Run [3450] - Total reward:   18.00 Mean scores: 20.20 Means Scores[:-10]: 20.00 Score: 18 \n",
      "Run [3460] - Total reward:   21.00 Mean scores: 20.20 Means Scores[:-10]: 22.10 Score: 21 \n",
      "Run [3470] - Total reward:   17.00 Mean scores: 20.20 Means Scores[:-10]: 20.10 Score: 17 \n",
      "Run [3480] - Total reward:   20.00 Mean scores: 20.20 Means Scores[:-10]: 20.10 Score: 20 \n",
      "Run [3490] - Total reward:   20.00 Mean scores: 20.20 Means Scores[:-10]: 20.60 Score: 20 \n",
      "Run [3500] - Total reward:   19.00 Mean scores: 20.20 Means Scores[:-10]: 20.20 Score: 19 \n",
      "Run [3510] - Total reward:   21.00 Mean scores: 20.20 Means Scores[:-10]: 20.00 Score: 21 \n",
      "Run [3520] - Total reward:   19.00 Mean scores: 20.21 Means Scores[:-10]: 20.80 Score: 19 \n",
      "Run [3530] - Total reward:   21.00 Mean scores: 20.20 Means Scores[:-10]: 19.80 Score: 21 \n",
      "Run [3540] - Total reward:   19.00 Mean scores: 20.20 Means Scores[:-10]: 20.40 Score: 19 \n",
      "Run [3550] - Total reward:   18.00 Mean scores: 20.21 Means Scores[:-10]: 20.90 Score: 18 \n",
      "Run [3560] - Total reward:   20.00 Mean scores: 20.21 Means Scores[:-10]: 20.70 Score: 20 \n",
      "Run [3570] - Total reward:   18.00 Mean scores: 20.21 Means Scores[:-10]: 20.20 Score: 18 \n",
      "Run [3580] - Total reward:   21.00 Mean scores: 20.21 Means Scores[:-10]: 20.50 Score: 21 \n",
      "Run [3590] - Total reward:   23.00 Mean scores: 20.21 Means Scores[:-10]: 19.70 Score: 23 \n",
      "Run [3600] - Total reward:   22.00 Mean scores: 20.21 Means Scores[:-10]: 20.00 Score: 22 \n",
      "Run [3610] - Total reward:   20.00 Mean scores: 20.21 Means Scores[:-10]: 20.30 Score: 20 \n",
      "Run [3620] - Total reward:   22.00 Mean scores: 20.21 Means Scores[:-10]: 20.40 Score: 22 \n",
      "Run [3630] - Total reward:   20.00 Mean scores: 20.21 Means Scores[:-10]: 20.50 Score: 20 \n",
      "Run [3640] - Total reward:   20.00 Mean scores: 20.21 Means Scores[:-10]: 19.70 Score: 20 \n",
      "Run [3650] - Total reward:   21.00 Mean scores: 20.21 Means Scores[:-10]: 20.10 Score: 21 \n",
      "Run [3660] - Total reward:   20.00 Mean scores: 20.21 Means Scores[:-10]: 20.70 Score: 20 \n",
      "Run [3670] - Total reward:   20.00 Mean scores: 20.21 Means Scores[:-10]: 19.90 Score: 20 \n",
      "Run [3680] - Total reward:   19.00 Mean scores: 20.21 Means Scores[:-10]: 20.30 Score: 19 \n",
      "Run [3690] - Total reward:   21.00 Mean scores: 20.21 Means Scores[:-10]: 20.40 Score: 21 \n",
      "Run [3700] - Total reward:   19.00 Mean scores: 20.21 Means Scores[:-10]: 20.40 Score: 19 \n",
      "Run [3710] - Total reward:   20.00 Mean scores: 20.21 Means Scores[:-10]: 20.40 Score: 20 \n",
      "Run [3720] - Total reward:   22.00 Mean scores: 20.21 Means Scores[:-10]: 20.20 Score: 22 \n",
      "Run [3730] - Total reward:   21.00 Mean scores: 20.21 Means Scores[:-10]: 19.70 Score: 21 \n",
      "Run [3740] - Total reward:   21.00 Mean scores: 20.21 Means Scores[:-10]: 20.70 Score: 21 \n",
      "Run [3750] - Total reward:   20.00 Mean scores: 20.21 Means Scores[:-10]: 20.30 Score: 20 \n",
      "Run [3760] - Total reward:   20.00 Mean scores: 20.21 Means Scores[:-10]: 20.00 Score: 20 \n",
      "Run [3770] - Total reward:   23.00 Mean scores: 20.21 Means Scores[:-10]: 20.90 Score: 23 \n",
      "Run [3780] - Total reward:   21.00 Mean scores: 20.21 Means Scores[:-10]: 20.30 Score: 21 \n",
      "Run [3790] - Total reward:   22.00 Mean scores: 20.21 Means Scores[:-10]: 20.00 Score: 22 \n",
      "Run [3800] - Total reward:   20.00 Mean scores: 20.21 Means Scores[:-10]: 20.70 Score: 20 \n",
      "Run [3810] - Total reward:   21.00 Mean scores: 20.21 Means Scores[:-10]: 20.70 Score: 21 \n",
      "Run [3820] - Total reward:   19.00 Mean scores: 20.21 Means Scores[:-10]: 20.30 Score: 19 \n",
      "Run [3830] - Total reward:   20.00 Mean scores: 20.21 Means Scores[:-10]: 19.90 Score: 20 \n",
      "Run [3840] - Total reward:   17.00 Mean scores: 20.21 Means Scores[:-10]: 20.00 Score: 17 \n",
      "Run [3850] - Total reward:   23.00 Mean scores: 20.21 Means Scores[:-10]: 21.10 Score: 23 \n",
      "Run [3860] - Total reward:   20.00 Mean scores: 20.21 Means Scores[:-10]: 20.50 Score: 20 \n",
      "Run [3870] - Total reward:   19.00 Mean scores: 20.21 Means Scores[:-10]: 20.30 Score: 19 \n",
      "Run [3880] - Total reward:   23.00 Mean scores: 20.21 Means Scores[:-10]: 20.10 Score: 23 \n",
      "Run [3890] - Total reward:   20.00 Mean scores: 20.22 Means Scores[:-10]: 20.50 Score: 20 \n",
      "Run [3900] - Total reward:   23.00 Mean scores: 20.22 Means Scores[:-10]: 20.70 Score: 23 \n",
      "Run [3910] - Total reward:   17.00 Mean scores: 20.22 Means Scores[:-10]: 19.70 Score: 17 \n",
      "Run [3920] - Total reward:   18.00 Mean scores: 20.21 Means Scores[:-10]: 19.90 Score: 18 \n",
      "Run [3930] - Total reward:   20.00 Mean scores: 20.22 Means Scores[:-10]: 20.70 Score: 20 \n",
      "Run [3940] - Total reward:   20.00 Mean scores: 20.21 Means Scores[:-10]: 20.00 Score: 20 \n",
      "Run [3950] - Total reward:   21.00 Mean scores: 20.21 Means Scores[:-10]: 19.90 Score: 21 \n",
      "Run [3960] - Total reward:   19.00 Mean scores: 20.21 Means Scores[:-10]: 20.20 Score: 19 \n",
      "Run [3970] - Total reward:   21.00 Mean scores: 20.22 Means Scores[:-10]: 20.70 Score: 21 \n",
      "Run [3980] - Total reward:   21.00 Mean scores: 20.22 Means Scores[:-10]: 20.20 Score: 21 \n",
      "Run [3990] - Total reward:   20.00 Mean scores: 20.22 Means Scores[:-10]: 20.30 Score: 20 \n",
      "CPU times: user 2h 9min 30s, sys: 2.14 s, total: 2h 9min 32s\n",
      "Wall time: 2h 9min 38s\n"
     ]
    }
   ],
   "source": [
    "%%time\n",
    "n_runs = 4000\n",
    "\n",
    "for i in range(n_runs):\n",
    "    render = i % 200 == 201\n",
    "\n",
    "    game_over = False\n",
    "    state = env.reset()\n",
    "    state = reduce_state(state)[RAM_mask].data.tobytes()  # Select useful bytes\n",
    "    action = agent.act(state)\n",
    "    \n",
    "    score = 0\n",
    "    total_reward = 0\n",
    "\n",
    "    while not game_over:\n",
    "        if render:\n",
    "            time.sleep(0.025)\n",
    "            env.render()\n",
    "\n",
    "        old_state = state\n",
    "        ob, reward, game_over, _ = env.step(action)\n",
    "\n",
    "        ob = reduce_state(ob)\n",
    "        reward = reward_policy(reward, ob, action)\n",
    "\n",
    "        total_reward += reward\n",
    "\n",
    "        if reward == reward_policy.REWARD_IF_CROSS:\n",
    "            score += 1\n",
    "\n",
    "        state = ob[RAM_mask].data.tobytes()\n",
    "\n",
    "        agent.update_Q(old_state, state, action, reward)\n",
    "\n",
    "        action = agent.act(state)  # Next action\n",
    "\n",
    "    scores.append(score)\n",
    "    total_rewards.append(total_reward)\n",
    "\n",
    "    print_result(i, scores, total_reward, score)"
   ]
  },
  {
   "cell_type": "code",
   "execution_count": 22,
   "metadata": {},
   "outputs": [
    {
     "data": {
      "text/plain": [
       "<AxesSubplot:xlabel='Episode', ylabel='Final Score'>"
      ]
     },
     "execution_count": 22,
     "metadata": {},
     "output_type": "execute_result"
    },
    {
     "data": {
      "image/png": "[encoded data removed]",
      "text/plain": [
       "<Figure size 800x480 with 1 Axes>"
      ]
     },
     "metadata": {
      "needs_background": "light"
     },
     "output_type": "display_data"
    }
   ],
   "source": [
    "aux_plots.plot_scores(scores)"
   ]
  },
  {
   "cell_type": "code",
   "execution_count": 23,
   "metadata": {},
   "outputs": [
    {
     "data": {
      "text/plain": [
       "<AxesSubplot:xlabel='Episode', ylabel='Final Reward'>"
      ]
     },
     "execution_count": 23,
     "metadata": {},
     "output_type": "execute_result"
    },
    {
     "data": {
      "image/png": "[encoded data removed]",
      "text/plain": [
       "<Figure size 800x480 with 1 Axes>"
      ]
     },
     "metadata": {
      "needs_background": "light"
     },
     "output_type": "display_data"
    }
   ],
   "source": [
    "aux_plots.plot_rewards(total_rewards)"
   ]
  },
  {
   "cell_type": "markdown",
   "metadata": {},
   "source": [
    "## Serialize the model"
   ]
  },
  {
   "cell_type": "code",
   "execution_count": 24,
   "metadata": {},
   "outputs": [],
   "source": [
    "# exp = serializer.Experiment(agent, scores, total_rewards, reduce_state, reward_policy)\n",
    "# exp.save_experiment('QL_base_2_actions')"
   ]
  },
  {
   "cell_type": "code",
   "execution_count": 28,
   "metadata": {},
   "outputs": [
    {
     "ename": "NameError",
     "evalue": "name 'stop' is not defined",
     "output_type": "error",
     "traceback": [
      "\u001b[0;31m---------------------------------------------------------------------------\u001b[0m",
      "\u001b[0;31mNameError\u001b[0m                                 Traceback (most recent call last)",
      "\u001b[0;32m<ipython-input-28-4f76a9dad686>\u001b[0m in \u001b[0;36m<module>\u001b[0;34m\u001b[0m\n\u001b[0;32m----> 1\u001b[0;31m \u001b[0mstop\u001b[0m\u001b[0;34m\u001b[0m\u001b[0;34m\u001b[0m\u001b[0m\n\u001b[0m",
      "\u001b[0;31mNameError\u001b[0m: name 'stop' is not defined"
     ]
    }
   ],
   "source": [
    "stop"
   ]
  },
  {
   "cell_type": "markdown",
   "metadata": {},
   "source": [
    "## Experiments"
   ]
  },
  {
   "cell_type": "markdown",
   "metadata": {
    "id": "3rjTCHMkwfKE"
   },
   "source": [
    "### Influence of the number of actions"
   ]
  },
  {
   "cell_type": "markdown",
   "metadata": {},
   "source": [
    "As the goal of the game is to cross all the lanes, we propose that it would be enought if the chicken use just the two actions move **up** or **stay** and never move **down**.\n",
    "<br>\n",
    "In order to test our hypothesis, we ran the agent using 3 and 2 actions.  \n"
   ]
  },
  {
   "cell_type": "markdown",
   "metadata": {},
   "source": [
    "Parameters used:\n",
    "```\n",
    "GAMMA = 0.99\n",
    "AVAILABLE_ACTIONS = {2, 3}\n",
    "N0 = 2.5\n",
    "\n",
    "reward_policy.REWARD_IF_CROSS = 1\n",
    "reward_policy.REWARD_IF_COLLISION = 0\n",
    "reward_policy.REWARD_IF_STILL = 0\n",
    "```"
   ]
  },
  {
   "cell_type": "code",
   "execution_count": 16,
   "metadata": {},
   "outputs": [],
   "source": [
    "scores_2act = read_int_array_from_file(\"QL/QL_scores_2act.txt\")\n",
    "total_rewards_2act = read_int_array_from_file(\"QL/QL_total_rewards_2act.txt\")\n",
    "scores_3act = read_int_array_from_file(\"QL/QL_scores_3act.txt\")\n",
    "total_rewards_3act = read_int_array_from_file(\"QL/QL_total_rewards_3act.txt\")"
   ]
  },
  {
   "cell_type": "code",
   "execution_count": 20,
   "metadata": {},
   "outputs": [
    {
     "data": {
      "image/png": "[encoded data removed]",
      "text/plain": [
       "<Figure size 800x480 with 1 Axes>"
      ]
     },
     "metadata": {
      "needs_background": "light"
     },
     "output_type": "display_data"
    }
   ],
   "source": [
    "# ---------- Scores of the agent with 2 and 3 actions ----------\n",
    "\n",
    "baseline = [baseline_mean_score for i in range(4000)]\n",
    "ax = aux_plots.plot_2scores(scores_3act[:4000], scores_2act[:4000], \"3 actions (up, down or stay)\", \"2 actions (up or stay)\")\n",
    "aux_plots.moving_average(scores_2act[:4000], ax, label='2 actions moving avg', color='darkmagenta')\n",
    "aux_plots.moving_average(scores_3act, ax, label='3 actions moving avg', color='darkcyan')\n",
    "aux_plots.moving_average(baseline, ax, label='Baseline', color='black')"
   ]
  },
  {
   "cell_type": "markdown",
   "metadata": {},
   "source": [
    "From the graph above, we can see that when using only two actions the agent learns faster than with three actions, thus leading to better results in less iterations.\n",
    "\n",
    "As we said before, this is expected and we will now be focusing only on testing with two actions."
   ]
  },
  {
   "cell_type": "markdown",
   "metadata": {},
   "source": [
    "# SARSA(λ)"
   ]
  },
  {
   "cell_type": "code",
   "execution_count": null,
   "metadata": {},
   "outputs": [],
   "source": [
    "env, initial_state = environment.get_env()"
   ]
  },
  {
   "cell_type": "code",
   "execution_count": null,
   "metadata": {},
   "outputs": [],
   "source": [
    "agent = agents.SarsaLambda(gamma=GAMMA, available_actions=AVAILABLE_ACTIONS, N0=N0, lambd=LAMBD)"
   ]
  },
  {
   "cell_type": "code",
   "execution_count": null,
   "metadata": {},
   "outputs": [],
   "source": [
    "scores = []\n",
    "total_rewards = []"
   ]
  },
  {
   "cell_type": "code",
   "execution_count": null,
   "metadata": {},
   "outputs": [],
   "source": [
    "%%timeit\n",
    "n_runs = 1\n",
    "\n",
    "for i in range(n_runs):\n",
    "    render = i % 200 == 199\n",
    "    \n",
    "    agent.reset_E()\n",
    "\n",
    "    game_over = False\n",
    "    state = env.reset()\n",
    "    state = reduce_state(state)[RAM_mask].data.tobytes()  # Select useful bytes\n",
    "    action = agent.act(state)\n",
    "    \n",
    "    score = 0\n",
    "    total_reward = 0\n",
    "\n",
    "    while not game_over:\n",
    "        if render:\n",
    "            time.sleep(0.005)\n",
    "            env.render()\n",
    "\n",
    "        old_state = state\n",
    "        old_action = action\n",
    "        ob, reward, game_over, _ = env.step(action)\n",
    "\n",
    "        ob = reduce_state(ob)\n",
    "        reward = reward_policy(reward, ob, action)\n",
    "\n",
    "        total_reward += reward\n",
    "\n",
    "        if reward == reward_policy.REWARD_IF_CROSS:\n",
    "            score += 1\n",
    "\n",
    "        state = ob[RAM_mask].data.tobytes()\n",
    "\n",
    "        action = agent.act(state)  # Next action\n",
    "\n",
    "        agent.update_Q(old_s=old_state, new_s=state, old_a=old_action, new_a=action, reward=reward)\n",
    "\n",
    "    scores.append(score)\n",
    "    total_rewards.append(total_reward)\n",
    "\n",
    "    print_result(i, scores, total_reward, score)"
   ]
  },
  {
   "cell_type": "code",
   "execution_count": null,
   "metadata": {},
   "outputs": [],
   "source": [
    "#10.2 s ± 186 ms per loop (mean ± std. dev. of 7 runs, 1 loop each)"
   ]
  },
  {
   "cell_type": "code",
   "execution_count": null,
   "metadata": {},
   "outputs": [],
   "source": [
    "aux_plots.plot_scores(scores)"
   ]
  },
  {
   "cell_type": "code",
   "execution_count": null,
   "metadata": {},
   "outputs": [],
   "source": [
    "aux_plots.plot_rewards(total_rewards)"
   ]
  },
  {
   "cell_type": "code",
   "execution_count": null,
   "metadata": {},
   "outputs": [],
   "source": [
    "stop"
   ]
  },
  {
   "cell_type": "markdown",
   "metadata": {},
   "source": [
    "# Monte Carlo Control"
   ]
  },
  {
   "cell_type": "markdown",
   "metadata": {},
   "source": [
    "The Monte Carlo algorithm receives the $\\gamma$ and the $N0$ parameters.  \n",
    "<br>\n",
    "$\\gamma$ is the discount factor; This parameters determines the importance of future rewards. A value of 0 makes the agent short-sighned by only considering current rewards, while a factor approaching 1 will make it strive for a long term reward.  \n",
    "<br>\n",
    "The $N0$ parameter is used to define the agent's exploration rate $\\epsilon$, where $\\epsilon = N0/(N0+n)$ and $n$ is the number of visits in the states.  \n",
    "<br>\n",
    "In the algorithm, the value function is initialized to zero. \n"
   ]
  },
  {
   "cell_type": "code",
   "execution_count": null,
   "metadata": {},
   "outputs": [],
   "source": [
    "env, initial_state = environment.get_env()"
   ]
  },
  {
   "cell_type": "code",
   "execution_count": null,
   "metadata": {},
   "outputs": [],
   "source": [
    "agent = agents.MonteCarloControl(gamma=GAMMA, available_actions=AVAILABLE_ACTIONS, N0=N0)"
   ]
  },
  {
   "cell_type": "code",
   "execution_count": null,
   "metadata": {},
   "outputs": [],
   "source": [
    "def MonteCarloES(RAM_mask: List[int], render: bool=False):\n",
    "    epi = episode.generate_episode(env\n",
    "                                   , reduce_state=reduce_state\n",
    "                                   , reward_policy=reward_policy\n",
    "                                   , agent=agent\n",
    "                                   , RAM_mask=RAM_mask\n",
    "                                   , render=render)\n",
    "    return agent.update_policy(epi)"
   ]
  },
  {
   "cell_type": "code",
   "execution_count": null,
   "metadata": {},
   "outputs": [],
   "source": [
    "%%time\n",
    "MonteCarloES(RAM_mask=RAM_mask, render=False)"
   ]
  },
  {
   "cell_type": "code",
   "execution_count": null,
   "metadata": {},
   "outputs": [],
   "source": [
    "scores = []\n",
    "total_rewards = []"
   ]
  },
  {
   "cell_type": "code",
   "execution_count": null,
   "metadata": {},
   "outputs": [],
   "source": [
    "%%time\n",
    "\n",
    "n_runs = 1000\n",
    "\n",
    "for i in range(n_runs):\n",
    "    render = i % 201 == 200\n",
    "\n",
    "    score, total_reward = MonteCarloES(RAM_mask=RAM_mask, render=render)\n",
    "\n",
    "    scores.append(score)\n",
    "    total_rewards.append(total_reward)\n",
    "\n",
    "    print_result(i, scores, total_reward, score)"
   ]
  },
  {
   "cell_type": "code",
   "execution_count": null,
   "metadata": {},
   "outputs": [],
   "source": [
    "aux_plots.plot_scores(scores)"
   ]
  },
  {
   "cell_type": "code",
   "execution_count": null,
   "metadata": {},
   "outputs": [],
   "source": [
    "aux_plots.plot_rewards(total_rewards)"
   ]
  },
  {
   "cell_type": "code",
   "execution_count": null,
   "metadata": {},
   "outputs": [],
   "source": [
    "stop"
   ]
  },
  {
   "cell_type": "markdown",
   "metadata": {},
   "source": [
    "## Fixed epsilon Monte Carlo"
   ]
  },
  {
   "cell_type": "code",
   "execution_count": null,
   "metadata": {},
   "outputs": [],
   "source": [
    "env, initial_state = environment.get_env()"
   ]
  },
  {
   "cell_type": "code",
   "execution_count": null,
   "metadata": {},
   "outputs": [],
   "source": [
    "agent = agents.MonteCarloControlFixedEpsilon(gamma=GAMMA, available_actions=AVAILABLE_ACTIONS, epsilon=0.05)"
   ]
  },
  {
   "cell_type": "code",
   "execution_count": null,
   "metadata": {},
   "outputs": [],
   "source": [
    "def MonteCarloES(RAM_mask: List[int], render: bool=False):\n",
    "    epi = episode.generate_episode(env\n",
    "                                   , reduce_state=reduce_state\n",
    "                                   , reward_policy=reward_policy\n",
    "                                   , agent=agent\n",
    "                                   , RAM_mask=RAM_mask\n",
    "                                   , render=render)\n",
    "    return agent.update_policy(epi)"
   ]
  },
  {
   "cell_type": "code",
   "execution_count": null,
   "metadata": {},
   "outputs": [],
   "source": [
    "scores = []\n",
    "total_rewards = []"
   ]
  },
  {
   "cell_type": "code",
   "execution_count": null,
   "metadata": {},
   "outputs": [],
   "source": [
    "%%time\n",
    "\n",
    "n_runs = 1000\n",
    "\n",
    "for i in range(n_runs):\n",
    "    render = i % 201 == 200\n",
    "\n",
    "    score, total_reward = MonteCarloES(RAM_mask=RAM_mask, render=render)\n",
    "\n",
    "    scores.append(score)\n",
    "    total_rewards.append(total_reward)\n",
    "\n",
    "    print_result(i, scores, total_reward, score)"
   ]
  },
  {
   "cell_type": "code",
   "execution_count": null,
   "metadata": {},
   "outputs": [],
   "source": [
    "aux_plots.plot_scores(scores)"
   ]
  },
  {
   "cell_type": "code",
   "execution_count": null,
   "metadata": {},
   "outputs": [],
   "source": [
    "aux_plots.plot_rewards(total_rewards)"
   ]
  },
  {
   "cell_type": "markdown",
   "metadata": {},
   "source": [
    "# Gifs"
   ]
  },
  {
   "cell_type": "code",
   "execution_count": null,
   "metadata": {},
   "outputs": [],
   "source": [
    "from matplotlib import animation\n",
    "# From https://gist.github.com/botforge/64cbb71780e6208172bbf03cd9293553\n",
    "def _save_frames_as_gif(frames, path='./', filename='gym_animation.gif'):\n",
    "\n",
    "    #Mess with this to change frame size\n",
    "    plt.figure(figsize=(frames[0].shape[1] / 72.0, frames[0].shape[0] / 72.0), dpi=72)\n",
    "\n",
    "    patch = plt.imshow(frames[0])\n",
    "    plt.axis('off')\n",
    "\n",
    "    def animate(i):\n",
    "        patch.set_data(frames[i])\n",
    "\n",
    "    anim = animation.FuncAnimation(plt.gcf(), animate, frames = len(frames), interval=50)\n",
    "    anim.save(path + filename, writer='imagemagick', fps=60)"
   ]
  },
  {
   "cell_type": "code",
   "execution_count": null,
   "metadata": {},
   "outputs": [],
   "source": [
    "def generate_gif(fn: str, agent):\n",
    "    env, initial_state = environment.get_env()\n",
    "    game_over = False\n",
    "    state = reduce_state(initial_state)[RAM_mask].data.tobytes()  # Select useful bytes\n",
    "    action = agent.act(state)\n",
    "\n",
    "    frames = []\n",
    "    FRAME_FREQ = 2\n",
    "\n",
    "    for t in range(1000):\n",
    "        if t % FRAME_FREQ == 0:\n",
    "            frames.append(env.render(mode=\"rgb_array\"))\n",
    "\n",
    "        ob, _, game_over, _ = env.step(action)\n",
    "\n",
    "        ob = reduce_state(ob)\n",
    "        state = ob[RAM_mask].data.tobytes()\n",
    "        action = agent.act(state)  # Next action\n",
    "\n",
    "        if game_over:\n",
    "            break\n",
    "\n",
    "    _save_frames_as_gif(frames=frames, path='./gif/', filename=f'{fn}.gif')"
   ]
  },
  {
   "cell_type": "code",
   "execution_count": null,
   "metadata": {},
   "outputs": [],
   "source": [
    "%%time\n",
    "generate_gif('MC_fixed_epsilon', agent)"
   ]
  },
  {
   "cell_type": "markdown",
   "metadata": {},
   "source": [
    "![SegmentLocal](./gif/MC_fixed_epsilon.gif)\n",
    "![SegmentLocal](./gif/MC_fixed_epsilon.gif)\n",
    "![SegmentLocal](./gif/MC_fixed_epsilon.gif)"
   ]
  },
  {
   "cell_type": "code",
   "execution_count": null,
   "metadata": {},
   "outputs": [],
   "source": [
    "stop"
   ]
  },
  {
   "cell_type": "markdown",
   "metadata": {},
   "source": [
    "# Linear function approximators"
   ]
  },
  {
   "cell_type": "markdown",
   "metadata": {},
   "source": [
    "The previous algorithms aim to solve control problems using a model free approach that depends on Q tables, which are structures that store the values associated with how good it is to take an action A in a state S, called Q values.\n",
    "\n",
    "Although using Q tables are good for solving small learning problems, they suffer with a trouble called the curse of dimensionality, in which even some small environments can generate a huge amount of possible states, requiring a large amount of memory that is not available. This drawback often prevents those techniques to be used in many tasks from real life that could benefit from it.\n",
    "\n",
    "One of the solutions developed to deal with this problem is Function Approximation. On it, instead of trying to find the optimal values for a very large table, we try to find the best parameters for a parameterized function whose objective is to approximate the optimal values that we would find on that table.\n",
    "\n",
    "Mathematically, we say that we have a family of parameterized functions $\\mathcal{Q}$ given by $Q_{\\theta}: S\\times A \\rightarrow \\mathbb{R}$, where $\\theta$ is an array of parameters in $\\mathbb{R}^d$, called weights, and $d << |S|$. Given that, the objective of a function approximator is to find the array of weights $\\theta^*$ that produces the $Q_{\\theta}^*$ that better approximates the optimal Q values ($Q^*$) for the problem addressed. Some of the greatest advantages of these algorithms is that they learn to generalize for unseen states and requires a much smaller set of values to be learned (d instead of |S|).\n",
    "\n",
    "For this project, we experimented with linear function approximators, which are given by the following equation, where $\\hat{q}(s,a)$ is the approximated value of choosing action **a** in state **s**, $\\theta_i$ is the i-th element of the array of parameters and $x_i$ is a function that turns the action-state pair into the i-th feature of a d-dimensional feature array.\n",
    "\n",
    "$\\hat{q}(s,a,\\theta) = \\sum_{i = 1}^d \\theta_i*x_i(s,a)$\n",
    "\n",
    "In order to discover the best parameters, we applied a Stochastic Gradient Descent algorithm to update the weights, given by the equation below:\n",
    "\n",
    "$\\theta = \\theta + \\alpha*(target - \\hat{q}(S_t, A_t, \\theta))*x(S_t, A_t)$\n",
    "\n",
    "The **target** is the value that our function approximator tries to achieve at each update and it changes for each algorithm approximated (Monte Carlo, Q Learning and Sarsa Lambda), and $\\alpha$ is a learning step size.\n",
    "\n",
    "One of the critical points of function approximators is the choice of the features to be used to represent the states. Depending on their choice, we can build good or bad function approximators. For this project, we experimented with a set of different features, as described in the next sections."
   ]
  },
  {
   "cell_type": "markdown",
   "metadata": {},
   "source": [
    "# Final Thoughts"
   ]
  },
  {
   "cell_type": "markdown",
   "metadata": {},
   "source": [
    "## Computational cost"
   ]
  },
  {
   "cell_type": "markdown",
   "metadata": {},
   "source": [
    "One of the biggest problems on this project was the computational cost of running an episode.\n",
    "\n",
    "Since each run plays for 2 minutes and 16 seconds in the original game, there are quite a lot of frames that need to be computed for each episode.\n",
    "Even though the frame-sync is deactivated in our environment, each time we execute on episode it takes about 2 seconds to compute it for Q-Learn and Monte Carlo, and XXXXXXXXXX seconds for SARSA(λ).\n",
    "\n",
    "The memory usage is fairly low compared to the time that it takes to run the algorithms, even with a decent amount of unique states in our problem."
   ]
  },
  {
   "cell_type": "markdown",
   "metadata": {},
   "source": [
    "..............."
   ]
  },
  {
   "cell_type": "code",
   "execution_count": null,
   "metadata": {},
   "outputs": [],
   "source": []
  }
 ],
 "metadata": {
  "kernelspec": {
   "display_name": "Python 3",
   "language": "python",
   "name": "python3"
  },
  "language_info": {
   "codemirror_mode": {
    "name": "ipython",
    "version": 3
   },
   "file_extension": ".py",
   "mimetype": "text/x-python",
   "name": "python",
   "nbconvert_exporter": "python",
   "pygments_lexer": "ipython3",
   "version": "3.7.3"
  }
 },
 "nbformat": 4,
 "nbformat_minor": 4
}
