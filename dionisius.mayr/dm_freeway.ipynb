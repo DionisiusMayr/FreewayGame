{
 "cells": [
  {
   "cell_type": "markdown",
   "metadata": {},
   "source": [
    "# Setup"
   ]
  },
  {
   "cell_type": "markdown",
   "metadata": {},
   "source": [
    "Install the dependencies:\n",
    "```sh\n",
    "pip install gym\n",
    "pip install gym[atari]\n",
    "```"
   ]
  },
  {
   "cell_type": "markdown",
   "metadata": {},
   "source": [
    "# Useful Resources\n",
    "* [Manual of the game](https://www.gamesdatabase.org/Media/SYSTEM/Atari_2600/Manual/formated/Freeway_-_1981_-_Zellers.pdf)\n",
    "* [Freeway Disassembly](http://www.bjars.com/disassemblies.html)\n",
    "* [Atari Ram Annotations](https://github.com/mila-iqia/atari-representation-learning/blob/master/atariari/benchmark/ram_annotations.py)"
   ]
  },
  {
   "cell_type": "markdown",
   "metadata": {},
   "source": [
    "# Description of the problem"
   ]
  },
  {
   "cell_type": "markdown",
   "metadata": {},
   "source": [
    "TODO"
   ]
  },
  {
   "cell_type": "markdown",
   "metadata": {},
   "source": [
    "# Imports"
   ]
  },
  {
   "cell_type": "code",
   "execution_count": 1,
   "metadata": {},
   "outputs": [],
   "source": [
    "import sys\n",
    "sys.path.append('../')  # Enable importing from `src` folder"
   ]
  },
  {
   "cell_type": "code",
   "execution_count": 2,
   "metadata": {},
   "outputs": [],
   "source": [
    "%matplotlib inline\n",
    "from collections import defaultdict\n",
    "from typing import List\n",
    "\n",
    "import numpy as np\n",
    "import time\n",
    "import matplotlib.pyplot as plt\n",
    "import seaborn as sns\n",
    "\n",
    "import gym\n",
    "\n",
    "import src.agents as agents\n",
    "import src.episode as episode\n",
    "import src.environment as environment"
   ]
  },
  {
   "cell_type": "markdown",
   "metadata": {},
   "source": [
    "# Environment"
   ]
  },
  {
   "cell_type": "markdown",
   "metadata": {},
   "source": [
    "We will be using the Open AI Gym framework in this study......."
   ]
  },
  {
   "cell_type": "code",
   "execution_count": 3,
   "metadata": {},
   "outputs": [],
   "source": [
    "# env, initial_state = environment.get_env()\n",
    "\n",
    "# print(\"Action Space:\", env.action_space)\n",
    "# print(\"Observation Space:\", env.observation_space)"
   ]
  },
  {
   "cell_type": "markdown",
   "metadata": {},
   "source": [
    "The agent in this game has three possible actions:\n",
    "\n",
    "* 0: Stay\n",
    "* 1: Move forward\n",
    "* 2: Move back"
   ]
  },
  {
   "cell_type": "markdown",
   "metadata": {},
   "source": [
    "TODO: Talk a bit about the observation space of 128 bytes of RAM..."
   ]
  },
  {
   "cell_type": "markdown",
   "metadata": {},
   "source": [
    "# Baseline"
   ]
  },
  {
   "cell_type": "markdown",
   "metadata": {},
   "source": [
    "As a simple baseline, we are using an agent that moves always **up**."
   ]
  },
  {
   "cell_type": "code",
   "execution_count": 4,
   "metadata": {},
   "outputs": [],
   "source": [
    "# scores = environment.run(agents.Baseline, render=True, n_runs=1)"
   ]
  },
  {
   "cell_type": "code",
   "execution_count": 5,
   "metadata": {},
   "outputs": [],
   "source": [
    "# Mean score\n",
    "# print(\"Mean score:\", sum(scores) / len(scores))"
   ]
  },
  {
   "cell_type": "markdown",
   "metadata": {},
   "source": [
    "It usually scores from 21 to 23 points, as shown in the images below:\n",
    "\n",
    "![Baseline 1](./img/baseline_1.png)\n",
    "![Baseline 2](./img/baseline_2.png)"
   ]
  },
  {
   "cell_type": "markdown",
   "metadata": {},
   "source": [
    "# Representing the state of the game"
   ]
  },
  {
   "cell_type": "markdown",
   "metadata": {},
   "source": [
    "TODO: explain why we must reduce the state space"
   ]
  },
  {
   "cell_type": "markdown",
   "metadata": {},
   "source": [
    "```\n",
    "      14  # Chicken Y\n",
    "    , 16  # Chicken Lane Collide\n",
    "    , 18  # Chicken Collision flag (with the bottom car)\n",
    "    , 22  # Car X Direction\n",
    "    , 23, 24, 25, 26, 27, 28, 29, 30, 31, 32  # Z Car Patterns\n",
    "    , 33, 34, 35, 36, 37, 38, 39, 40, 41, 42  # Car Motion Timmers\n",
    "    , 43, 44, 45, 46, 47, 48, 49, 50, 51, 52  # Car Motions\n",
    "    , 87, 88  # Car Shape Ptr\n",
    "    # TODO: test if this makes any difference\n",
    "    , 89, 90  # Chicken Shape Ptr\n",
    "    # TODO: test if this makes any difference\n",
    "    , 106, 107  # Chicken Sounds\n",
    "    , 108, 109, 110, 111, 112, 113, 114, 115, 116, 117  # Car X Coords\n",
    "```"
   ]
  },
  {
   "cell_type": "markdown",
   "metadata": {},
   "source": [
    "# Q-Learning"
   ]
  },
  {
   "cell_type": "code",
   "execution_count": 6,
   "metadata": {},
   "outputs": [],
   "source": [
    "RAM_mask = [\n",
    "      14  # Chicken Y\n",
    "    , 16  # Chicken Lane Collide\n",
    "    , 108, 109, 110, 111, 112, 113, 114, 115, 116, 117  # Car X Coords\n",
    "]"
   ]
  },
  {
   "cell_type": "code",
   "execution_count": 7,
   "metadata": {},
   "outputs": [],
   "source": [
    "env, initial_state = environment.get_env()"
   ]
  },
  {
   "cell_type": "code",
   "execution_count": 8,
   "metadata": {},
   "outputs": [],
   "source": [
    "agent = agents.QLearning(alpha=0.9, gamma=0.9, available_actions=2, N0=2.5)"
   ]
  },
  {
   "cell_type": "code",
   "execution_count": 9,
   "metadata": {},
   "outputs": [],
   "source": [
    "scores = []\n",
    "total_rewards = []"
   ]
  },
  {
   "cell_type": "code",
   "execution_count": 20,
   "metadata": {},
   "outputs": [
    {
     "name": "stdout",
     "output_type": "stream",
     "text": [
      "Run [  0] - Total reward:   24.00 Mean scores: 20.77 Means Scores[:-10]: 22.90 Score: 24 \n",
      "Run [  1] - Total reward:   24.00 Mean scores: 20.77 Means Scores[:-10]: 23.10 Score: 24 \n",
      "Run [  2] - Total reward:   23.00 Mean scores: 20.77 Means Scores[:-10]: 22.90 Score: 23 \n",
      "Run [  3] - Total reward:   22.00 Mean scores: 20.77 Means Scores[:-10]: 22.70 Score: 22 \n",
      "Run [  4] - Total reward:   20.00 Mean scores: 20.77 Means Scores[:-10]: 22.50 Score: 20 \n",
      "Run [  5] - Total reward:   23.00 Mean scores: 20.78 Means Scores[:-10]: 22.50 Score: 23 \n",
      "Run [  6] - Total reward:   22.00 Mean scores: 20.78 Means Scores[:-10]: 22.60 Score: 22 \n",
      "Run [  7] - Total reward:   23.00 Mean scores: 20.78 Means Scores[:-10]: 22.80 Score: 23 \n",
      "Run [  8] - Total reward:   22.00 Mean scores: 20.78 Means Scores[:-10]: 22.60 Score: 22 \n",
      "Run [  9] - Total reward:   22.00 Mean scores: 20.78 Means Scores[:-10]: 22.50 Score: 22 \n",
      "Run [ 10] - Total reward:   24.00 Mean scores: 20.78 Means Scores[:-10]: 22.50 Score: 24 \n",
      "Run [ 11] - Total reward:   25.00 Mean scores: 20.78 Means Scores[:-10]: 22.60 Score: 25 \n",
      "Run [ 12] - Total reward:   24.00 Mean scores: 20.79 Means Scores[:-10]: 22.70 Score: 24 \n",
      "Run [ 13] - Total reward:   22.00 Mean scores: 20.79 Means Scores[:-10]: 22.70 Score: 22 \n",
      "Run [ 14] - Total reward:   23.00 Mean scores: 20.79 Means Scores[:-10]: 23.00 Score: 23 \n",
      "Run [ 15] - Total reward:   20.00 Mean scores: 20.79 Means Scores[:-10]: 22.70 Score: 20 \n",
      "Run [ 16] - Total reward:   25.00 Mean scores: 20.79 Means Scores[:-10]: 23.00 Score: 25 \n",
      "Run [ 17] - Total reward:   23.00 Mean scores: 20.79 Means Scores[:-10]: 23.00 Score: 23 \n",
      "Run [ 18] - Total reward:   23.00 Mean scores: 20.79 Means Scores[:-10]: 23.10 Score: 23 \n",
      "Run [ 19] - Total reward:   21.00 Mean scores: 20.79 Means Scores[:-10]: 23.00 Score: 21 \n",
      "Run [ 20] - Total reward:   21.00 Mean scores: 20.79 Means Scores[:-10]: 22.70 Score: 21 \n",
      "Run [ 21] - Total reward:   24.00 Mean scores: 20.80 Means Scores[:-10]: 22.60 Score: 24 \n",
      "Run [ 22] - Total reward:   25.00 Mean scores: 20.80 Means Scores[:-10]: 22.70 Score: 25 \n",
      "Run [ 23] - Total reward:   23.00 Mean scores: 20.80 Means Scores[:-10]: 22.80 Score: 23 \n",
      "Run [ 24] - Total reward:   22.00 Mean scores: 20.80 Means Scores[:-10]: 22.70 Score: 22 \n",
      "Run [ 25] - Total reward:   21.00 Mean scores: 20.80 Means Scores[:-10]: 22.80 Score: 21 \n",
      "Run [ 26] - Total reward:   25.00 Mean scores: 20.80 Means Scores[:-10]: 22.80 Score: 25 \n",
      "Run [ 27] - Total reward:   22.00 Mean scores: 20.80 Means Scores[:-10]: 22.70 Score: 22 \n",
      "Run [ 28] - Total reward:   23.00 Mean scores: 20.80 Means Scores[:-10]: 22.70 Score: 23 \n",
      "Run [ 29] - Total reward:   23.00 Mean scores: 20.81 Means Scores[:-10]: 22.90 Score: 23 \n",
      "Run [ 30] - Total reward:   21.00 Mean scores: 20.81 Means Scores[:-10]: 22.90 Score: 21 \n",
      "Run [ 31] - Total reward:   24.00 Mean scores: 20.81 Means Scores[:-10]: 22.90 Score: 24 \n",
      "Run [ 32] - Total reward:   23.00 Mean scores: 20.81 Means Scores[:-10]: 22.70 Score: 23 \n",
      "Run [ 33] - Total reward:   24.00 Mean scores: 20.81 Means Scores[:-10]: 22.80 Score: 24 \n",
      "Run [ 34] - Total reward:   23.00 Mean scores: 20.81 Means Scores[:-10]: 22.90 Score: 23 \n",
      "Run [ 35] - Total reward:   21.00 Mean scores: 20.81 Means Scores[:-10]: 22.90 Score: 21 \n",
      "Run [ 36] - Total reward:   22.00 Mean scores: 20.81 Means Scores[:-10]: 22.60 Score: 22 \n",
      "Run [ 37] - Total reward:   22.00 Mean scores: 20.81 Means Scores[:-10]: 22.60 Score: 22 \n",
      "Run [ 38] - Total reward:   24.00 Mean scores: 20.82 Means Scores[:-10]: 22.70 Score: 24 \n",
      "Run [ 39] - Total reward:   23.00 Mean scores: 20.82 Means Scores[:-10]: 22.70 Score: 23 \n",
      "Run [ 40] - Total reward:   23.00 Mean scores: 20.82 Means Scores[:-10]: 22.90 Score: 23 \n",
      "Run [ 41] - Total reward:   22.00 Mean scores: 20.82 Means Scores[:-10]: 22.70 Score: 22 \n",
      "Run [ 42] - Total reward:   23.00 Mean scores: 20.82 Means Scores[:-10]: 22.70 Score: 23 \n",
      "Run [ 43] - Total reward:   22.00 Mean scores: 20.82 Means Scores[:-10]: 22.50 Score: 22 \n",
      "Run [ 44] - Total reward:   21.00 Mean scores: 20.82 Means Scores[:-10]: 22.30 Score: 21 \n",
      "Run [ 45] - Total reward:   24.00 Mean scores: 20.82 Means Scores[:-10]: 22.60 Score: 24 \n",
      "Run [ 46] - Total reward:   23.00 Mean scores: 20.83 Means Scores[:-10]: 22.70 Score: 23 \n",
      "Run [ 47] - Total reward:   23.00 Mean scores: 20.83 Means Scores[:-10]: 22.80 Score: 23 \n",
      "Run [ 48] - Total reward:   24.00 Mean scores: 20.83 Means Scores[:-10]: 22.80 Score: 24 \n",
      "Run [ 49] - Total reward:   22.00 Mean scores: 20.83 Means Scores[:-10]: 22.70 Score: 22 \n",
      "Run [ 50] - Total reward:   21.00 Mean scores: 20.83 Means Scores[:-10]: 22.50 Score: 21 \n",
      "Run [ 51] - Total reward:   22.00 Mean scores: 20.83 Means Scores[:-10]: 22.50 Score: 22 \n",
      "Run [ 52] - Total reward:   21.00 Mean scores: 20.83 Means Scores[:-10]: 22.30 Score: 21 \n",
      "Run [ 53] - Total reward:   21.00 Mean scores: 20.83 Means Scores[:-10]: 22.20 Score: 21 \n",
      "Run [ 54] - Total reward:   21.00 Mean scores: 20.83 Means Scores[:-10]: 22.20 Score: 21 \n",
      "Run [ 55] - Total reward:   22.00 Mean scores: 20.83 Means Scores[:-10]: 22.00 Score: 22 \n",
      "Run [ 56] - Total reward:   25.00 Mean scores: 20.83 Means Scores[:-10]: 22.20 Score: 25 \n",
      "Run [ 57] - Total reward:   21.00 Mean scores: 20.83 Means Scores[:-10]: 22.00 Score: 21 \n",
      "Run [ 58] - Total reward:   22.00 Mean scores: 20.83 Means Scores[:-10]: 21.80 Score: 22 \n",
      "Run [ 59] - Total reward:   21.00 Mean scores: 20.83 Means Scores[:-10]: 21.70 Score: 21 \n",
      "Run [ 60] - Total reward:   22.00 Mean scores: 20.84 Means Scores[:-10]: 21.80 Score: 22 \n",
      "Run [ 61] - Total reward:   22.00 Mean scores: 20.84 Means Scores[:-10]: 21.80 Score: 22 \n",
      "Run [ 62] - Total reward:   22.00 Mean scores: 20.84 Means Scores[:-10]: 21.90 Score: 22 \n",
      "Run [ 63] - Total reward:   23.00 Mean scores: 20.84 Means Scores[:-10]: 22.10 Score: 23 \n",
      "Run [ 64] - Total reward:   22.00 Mean scores: 20.84 Means Scores[:-10]: 22.20 Score: 22 \n",
      "Run [ 65] - Total reward:   21.00 Mean scores: 20.84 Means Scores[:-10]: 22.10 Score: 21 \n",
      "Run [ 66] - Total reward:   22.00 Mean scores: 20.84 Means Scores[:-10]: 21.80 Score: 22 \n",
      "Run [ 67] - Total reward:   20.00 Mean scores: 20.84 Means Scores[:-10]: 21.70 Score: 20 \n",
      "Run [ 68] - Total reward:   23.00 Mean scores: 20.84 Means Scores[:-10]: 21.80 Score: 23 \n",
      "Run [ 69] - Total reward:   24.00 Mean scores: 20.84 Means Scores[:-10]: 22.10 Score: 24 \n",
      "Run [ 70] - Total reward:   24.00 Mean scores: 20.84 Means Scores[:-10]: 22.30 Score: 24 \n",
      "Run [ 71] - Total reward:   22.00 Mean scores: 20.84 Means Scores[:-10]: 22.30 Score: 22 \n",
      "Run [ 72] - Total reward:   22.00 Mean scores: 20.85 Means Scores[:-10]: 22.30 Score: 22 \n",
      "Run [ 73] - Total reward:   23.00 Mean scores: 20.85 Means Scores[:-10]: 22.30 Score: 23 \n",
      "Run [ 74] - Total reward:   24.00 Mean scores: 20.85 Means Scores[:-10]: 22.50 Score: 24 \n",
      "Run [ 75] - Total reward:   22.00 Mean scores: 20.85 Means Scores[:-10]: 22.60 Score: 22 \n",
      "Run [ 76] - Total reward:   20.00 Mean scores: 20.85 Means Scores[:-10]: 22.40 Score: 20 \n",
      "Run [ 77] - Total reward:   23.00 Mean scores: 20.85 Means Scores[:-10]: 22.70 Score: 23 \n",
      "Run [ 78] - Total reward:   20.00 Mean scores: 20.85 Means Scores[:-10]: 22.40 Score: 20 \n",
      "Run [ 79] - Total reward:   24.00 Mean scores: 20.85 Means Scores[:-10]: 22.40 Score: 24 \n",
      "Run [ 80] - Total reward:   22.00 Mean scores: 20.85 Means Scores[:-10]: 22.20 Score: 22 \n",
      "Run [ 81] - Total reward:   21.00 Mean scores: 20.85 Means Scores[:-10]: 22.10 Score: 21 \n",
      "Run [ 82] - Total reward:   21.00 Mean scores: 20.85 Means Scores[:-10]: 22.00 Score: 21 \n",
      "Run [ 83] - Total reward:   21.00 Mean scores: 20.85 Means Scores[:-10]: 21.80 Score: 21 \n",
      "Run [ 84] - Total reward:   25.00 Mean scores: 20.85 Means Scores[:-10]: 21.90 Score: 25 \n",
      "Run [ 85] - Total reward:   24.00 Mean scores: 20.86 Means Scores[:-10]: 22.10 Score: 24 \n",
      "Run [ 86] - Total reward:   21.00 Mean scores: 20.86 Means Scores[:-10]: 22.20 Score: 21 \n",
      "Run [ 87] - Total reward:   20.00 Mean scores: 20.86 Means Scores[:-10]: 21.90 Score: 20 \n",
      "Run [ 88] - Total reward:   25.00 Mean scores: 20.86 Means Scores[:-10]: 22.40 Score: 25 \n",
      "Run [ 89] - Total reward:   23.00 Mean scores: 20.86 Means Scores[:-10]: 22.30 Score: 23 \n",
      "Run [ 90] - Total reward:   22.00 Mean scores: 20.86 Means Scores[:-10]: 22.30 Score: 22 \n",
      "Run [ 91] - Total reward:   25.00 Mean scores: 20.86 Means Scores[:-10]: 22.70 Score: 25 \n",
      "Run [ 92] - Total reward:   22.00 Mean scores: 20.86 Means Scores[:-10]: 22.80 Score: 22 \n",
      "Run [ 93] - Total reward:   22.00 Mean scores: 20.86 Means Scores[:-10]: 22.90 Score: 22 \n",
      "Run [ 94] - Total reward:   22.00 Mean scores: 20.86 Means Scores[:-10]: 22.60 Score: 22 \n",
      "Run [ 95] - Total reward:   24.00 Mean scores: 20.87 Means Scores[:-10]: 22.60 Score: 24 \n",
      "Run [ 96] - Total reward:   22.00 Mean scores: 20.87 Means Scores[:-10]: 22.70 Score: 22 \n",
      "Run [ 97] - Total reward:   19.00 Mean scores: 20.87 Means Scores[:-10]: 22.60 Score: 19 \n",
      "Run [ 98] - Total reward:   21.00 Mean scores: 20.87 Means Scores[:-10]: 22.20 Score: 21 \n",
      "Run [ 99] - Total reward:   21.00 Mean scores: 20.87 Means Scores[:-10]: 22.00 Score: 21 \n",
      "Run [100] - Total reward:   20.00 Mean scores: 20.87 Means Scores[:-10]: 21.80 Score: 20 \n",
      "Run [101] - Total reward:   23.00 Mean scores: 20.87 Means Scores[:-10]: 21.60 Score: 23 \n",
      "Run [102] - Total reward:   23.00 Mean scores: 20.87 Means Scores[:-10]: 21.70 Score: 23 \n",
      "Run [103] - Total reward:   22.00 Mean scores: 20.87 Means Scores[:-10]: 21.70 Score: 22 \n",
      "Run [104] - Total reward:   25.00 Mean scores: 20.87 Means Scores[:-10]: 22.00 Score: 25 \n",
      "Run [105] - Total reward:   23.00 Mean scores: 20.87 Means Scores[:-10]: 21.90 Score: 23 \n",
      "Run [106] - Total reward:   23.00 Mean scores: 20.87 Means Scores[:-10]: 22.00 Score: 23 \n",
      "Run [107] - Total reward:   23.00 Mean scores: 20.88 Means Scores[:-10]: 22.40 Score: 23 \n",
      "Run [108] - Total reward:   23.00 Mean scores: 20.88 Means Scores[:-10]: 22.60 Score: 23 \n",
      "Run [109] - Total reward:   22.00 Mean scores: 20.88 Means Scores[:-10]: 22.70 Score: 22 \n",
      "Run [110] - Total reward:   21.00 Mean scores: 20.88 Means Scores[:-10]: 22.80 Score: 21 \n",
      "Run [111] - Total reward:   21.00 Mean scores: 20.88 Means Scores[:-10]: 22.60 Score: 21 \n",
      "Run [112] - Total reward:   23.00 Mean scores: 20.88 Means Scores[:-10]: 22.60 Score: 23 \n",
      "Run [113] - Total reward:   23.00 Mean scores: 20.88 Means Scores[:-10]: 22.70 Score: 23 \n",
      "Run [114] - Total reward:   23.00 Mean scores: 20.88 Means Scores[:-10]: 22.50 Score: 23 \n",
      "Run [115] - Total reward:   25.00 Mean scores: 20.88 Means Scores[:-10]: 22.70 Score: 25 \n",
      "Run [116] - Total reward:   24.00 Mean scores: 20.89 Means Scores[:-10]: 22.80 Score: 24 \n",
      "Run [117] - Total reward:   23.00 Mean scores: 20.89 Means Scores[:-10]: 22.80 Score: 23 \n",
      "Run [118] - Total reward:   25.00 Mean scores: 20.89 Means Scores[:-10]: 23.00 Score: 25 \n",
      "Run [119] - Total reward:   21.00 Mean scores: 20.89 Means Scores[:-10]: 22.90 Score: 21 \n",
      "Run [120] - Total reward:   23.00 Mean scores: 20.89 Means Scores[:-10]: 23.10 Score: 23 \n",
      "Run [121] - Total reward:   22.00 Mean scores: 20.89 Means Scores[:-10]: 23.20 Score: 22 \n",
      "Run [122] - Total reward:   21.00 Mean scores: 20.89 Means Scores[:-10]: 23.00 Score: 21 \n",
      "Run [123] - Total reward:   22.00 Mean scores: 20.89 Means Scores[:-10]: 22.90 Score: 22 \n",
      "Run [124] - Total reward:   21.00 Mean scores: 20.89 Means Scores[:-10]: 22.70 Score: 21 \n",
      "Run [125] - Total reward:   24.00 Mean scores: 20.89 Means Scores[:-10]: 22.60 Score: 24 \n",
      "Run [126] - Total reward:   24.00 Mean scores: 20.90 Means Scores[:-10]: 22.60 Score: 24 \n",
      "Run [127] - Total reward:   22.00 Mean scores: 20.90 Means Scores[:-10]: 22.50 Score: 22 \n",
      "Run [128] - Total reward:   23.00 Mean scores: 20.90 Means Scores[:-10]: 22.30 Score: 23 \n",
      "Run [129] - Total reward:   22.00 Mean scores: 20.90 Means Scores[:-10]: 22.40 Score: 22 \n",
      "Run [130] - Total reward:   21.00 Mean scores: 20.90 Means Scores[:-10]: 22.20 Score: 21 \n",
      "Run [131] - Total reward:   25.00 Mean scores: 20.90 Means Scores[:-10]: 22.50 Score: 25 \n",
      "Run [132] - Total reward:   22.00 Mean scores: 20.90 Means Scores[:-10]: 22.60 Score: 22 \n",
      "Run [133] - Total reward:   22.00 Mean scores: 20.90 Means Scores[:-10]: 22.60 Score: 22 \n",
      "Run [134] - Total reward:   23.00 Mean scores: 20.90 Means Scores[:-10]: 22.80 Score: 23 \n",
      "Run [135] - Total reward:   20.00 Mean scores: 20.90 Means Scores[:-10]: 22.40 Score: 20 \n",
      "Run [136] - Total reward:   23.00 Mean scores: 20.90 Means Scores[:-10]: 22.30 Score: 23 \n",
      "Run [137] - Total reward:   22.00 Mean scores: 20.90 Means Scores[:-10]: 22.30 Score: 22 \n",
      "Run [138] - Total reward:   23.00 Mean scores: 20.91 Means Scores[:-10]: 22.30 Score: 23 \n",
      "Run [139] - Total reward:   21.00 Mean scores: 20.91 Means Scores[:-10]: 22.20 Score: 21 \n",
      "Run [140] - Total reward:   21.00 Mean scores: 20.91 Means Scores[:-10]: 22.20 Score: 21 \n",
      "Run [141] - Total reward:   19.00 Mean scores: 20.90 Means Scores[:-10]: 21.60 Score: 19 \n",
      "Run [142] - Total reward:   20.00 Mean scores: 20.90 Means Scores[:-10]: 21.40 Score: 20 \n",
      "Run [143] - Total reward:   23.00 Mean scores: 20.90 Means Scores[:-10]: 21.50 Score: 23 \n",
      "Run [144] - Total reward:   19.00 Mean scores: 20.90 Means Scores[:-10]: 21.10 Score: 19 \n",
      "Run [145] - Total reward:   21.00 Mean scores: 20.90 Means Scores[:-10]: 21.20 Score: 21 \n",
      "Run [146] - Total reward:   21.00 Mean scores: 20.90 Means Scores[:-10]: 21.00 Score: 21 \n",
      "Run [147] - Total reward:   21.00 Mean scores: 20.90 Means Scores[:-10]: 20.90 Score: 21 \n",
      "Run [148] - Total reward:   21.00 Mean scores: 20.90 Means Scores[:-10]: 20.70 Score: 21 \n",
      "Run [149] - Total reward:   22.00 Mean scores: 20.90 Means Scores[:-10]: 20.80 Score: 22 \n",
      "Run [150] - Total reward:   24.00 Mean scores: 20.91 Means Scores[:-10]: 21.10 Score: 24 \n",
      "Run [151] - Total reward:   20.00 Mean scores: 20.91 Means Scores[:-10]: 21.20 Score: 20 \n",
      "Run [152] - Total reward:   26.00 Mean scores: 20.91 Means Scores[:-10]: 21.80 Score: 26 \n",
      "Run [153] - Total reward:   22.00 Mean scores: 20.91 Means Scores[:-10]: 21.70 Score: 22 \n",
      "Run [154] - Total reward:   20.00 Mean scores: 20.91 Means Scores[:-10]: 21.80 Score: 20 \n",
      "Run [155] - Total reward:   20.00 Mean scores: 20.91 Means Scores[:-10]: 21.70 Score: 20 \n",
      "Run [156] - Total reward:   23.00 Mean scores: 20.91 Means Scores[:-10]: 21.90 Score: 23 \n",
      "Run [157] - Total reward:   23.00 Mean scores: 20.91 Means Scores[:-10]: 22.10 Score: 23 \n",
      "Run [158] - Total reward:   23.00 Mean scores: 20.91 Means Scores[:-10]: 22.30 Score: 23 \n",
      "Run [159] - Total reward:   22.00 Mean scores: 20.91 Means Scores[:-10]: 22.30 Score: 22 \n",
      "Run [160] - Total reward:   23.00 Mean scores: 20.91 Means Scores[:-10]: 22.20 Score: 23 \n",
      "Run [161] - Total reward:   22.00 Mean scores: 20.91 Means Scores[:-10]: 22.40 Score: 22 \n",
      "Run [162] - Total reward:   21.00 Mean scores: 20.91 Means Scores[:-10]: 21.90 Score: 21 \n",
      "Run [163] - Total reward:   19.00 Mean scores: 20.91 Means Scores[:-10]: 21.60 Score: 19 \n",
      "Run [164] - Total reward:   23.00 Mean scores: 20.91 Means Scores[:-10]: 21.90 Score: 23 \n",
      "Run [165] - Total reward:   22.00 Mean scores: 20.92 Means Scores[:-10]: 22.10 Score: 22 \n",
      "Run [166] - Total reward:   23.00 Mean scores: 20.92 Means Scores[:-10]: 22.10 Score: 23 \n",
      "Run [167] - Total reward:   19.00 Mean scores: 20.92 Means Scores[:-10]: 21.70 Score: 19 \n",
      "Run [168] - Total reward:   24.00 Mean scores: 20.92 Means Scores[:-10]: 21.80 Score: 24 \n",
      "Run [169] - Total reward:   25.00 Mean scores: 20.92 Means Scores[:-10]: 22.10 Score: 25 \n",
      "Run [170] - Total reward:   21.00 Mean scores: 20.92 Means Scores[:-10]: 21.90 Score: 21 \n",
      "Run [171] - Total reward:   25.00 Mean scores: 20.92 Means Scores[:-10]: 22.20 Score: 25 \n",
      "Run [172] - Total reward:   23.00 Mean scores: 20.92 Means Scores[:-10]: 22.40 Score: 23 \n",
      "Run [173] - Total reward:   22.00 Mean scores: 20.92 Means Scores[:-10]: 22.70 Score: 22 \n",
      "Run [174] - Total reward:   22.00 Mean scores: 20.92 Means Scores[:-10]: 22.60 Score: 22 \n",
      "Run [175] - Total reward:   23.00 Mean scores: 20.93 Means Scores[:-10]: 22.70 Score: 23 \n",
      "Run [176] - Total reward:   22.00 Mean scores: 20.93 Means Scores[:-10]: 22.60 Score: 22 \n",
      "Run [177] - Total reward:   23.00 Mean scores: 20.93 Means Scores[:-10]: 23.00 Score: 23 \n",
      "Run [178] - Total reward:   22.00 Mean scores: 20.93 Means Scores[:-10]: 22.80 Score: 22 \n",
      "Run [179] - Total reward:   24.00 Mean scores: 20.93 Means Scores[:-10]: 22.70 Score: 24 \n",
      "Run [180] - Total reward:   20.00 Mean scores: 20.93 Means Scores[:-10]: 22.60 Score: 20 \n",
      "Run [181] - Total reward:   24.00 Mean scores: 20.93 Means Scores[:-10]: 22.50 Score: 24 \n",
      "Run [182] - Total reward:   21.00 Mean scores: 20.93 Means Scores[:-10]: 22.30 Score: 21 \n",
      "Run [183] - Total reward:   23.00 Mean scores: 20.93 Means Scores[:-10]: 22.40 Score: 23 \n",
      "Run [184] - Total reward:   24.00 Mean scores: 20.93 Means Scores[:-10]: 22.60 Score: 24 \n",
      "Run [185] - Total reward:   24.00 Mean scores: 20.94 Means Scores[:-10]: 22.70 Score: 24 \n",
      "Run [186] - Total reward:   22.00 Mean scores: 20.94 Means Scores[:-10]: 22.70 Score: 22 \n",
      "Run [187] - Total reward:   23.00 Mean scores: 20.94 Means Scores[:-10]: 22.70 Score: 23 \n",
      "Run [188] - Total reward:   18.00 Mean scores: 20.94 Means Scores[:-10]: 22.30 Score: 18 \n",
      "Run [189] - Total reward:   24.00 Mean scores: 20.94 Means Scores[:-10]: 22.30 Score: 24 \n",
      "Run [190] - Total reward:   22.00 Mean scores: 20.94 Means Scores[:-10]: 22.50 Score: 22 \n",
      "Run [191] - Total reward:   24.00 Mean scores: 20.94 Means Scores[:-10]: 22.50 Score: 24 \n",
      "Run [192] - Total reward:   23.00 Mean scores: 20.94 Means Scores[:-10]: 22.70 Score: 23 \n",
      "Run [193] - Total reward:   22.00 Mean scores: 20.94 Means Scores[:-10]: 22.60 Score: 22 \n",
      "Run [194] - Total reward:   22.00 Mean scores: 20.94 Means Scores[:-10]: 22.40 Score: 22 \n",
      "Run [195] - Total reward:   24.00 Mean scores: 20.94 Means Scores[:-10]: 22.40 Score: 24 \n",
      "Run [196] - Total reward:   22.00 Mean scores: 20.94 Means Scores[:-10]: 22.40 Score: 22 \n",
      "Run [197] - Total reward:   22.00 Mean scores: 20.94 Means Scores[:-10]: 22.30 Score: 22 \n",
      "Run [198] - Total reward:   24.00 Mean scores: 20.95 Means Scores[:-10]: 22.90 Score: 24 \n",
      "Run [199] - Total reward:   21.00 Mean scores: 20.95 Means Scores[:-10]: 22.60 Score: 21 \n",
      "Run [200] - Total reward:   21.00 Mean scores: 20.95 Means Scores[:-10]: 22.50 Score: 21 \n",
      "Run [201] - Total reward:   21.00 Mean scores: 20.95 Means Scores[:-10]: 22.20 Score: 21 \n",
      "Run [202] - Total reward:   24.00 Mean scores: 20.95 Means Scores[:-10]: 22.30 Score: 24 \n",
      "Run [203] - Total reward:   23.00 Mean scores: 20.95 Means Scores[:-10]: 22.40 Score: 23 \n",
      "Run [204] - Total reward:   22.00 Mean scores: 20.95 Means Scores[:-10]: 22.40 Score: 22 \n",
      "Run [205] - Total reward:   22.00 Mean scores: 20.95 Means Scores[:-10]: 22.20 Score: 22 \n",
      "Run [206] - Total reward:   21.00 Mean scores: 20.95 Means Scores[:-10]: 22.10 Score: 21 \n",
      "Run [207] - Total reward:   24.00 Mean scores: 20.95 Means Scores[:-10]: 22.30 Score: 24 \n",
      "Run [208] - Total reward:   21.00 Mean scores: 20.95 Means Scores[:-10]: 22.00 Score: 21 \n",
      "Run [209] - Total reward:   25.00 Mean scores: 20.95 Means Scores[:-10]: 22.40 Score: 25 \n",
      "Run [210] - Total reward:   20.00 Mean scores: 20.95 Means Scores[:-10]: 22.30 Score: 20 \n",
      "Run [211] - Total reward:   23.00 Mean scores: 20.95 Means Scores[:-10]: 22.50 Score: 23 \n",
      "Run [212] - Total reward:   21.00 Mean scores: 20.95 Means Scores[:-10]: 22.20 Score: 21 \n",
      "Run [213] - Total reward:   23.00 Mean scores: 20.96 Means Scores[:-10]: 22.20 Score: 23 \n",
      "Run [214] - Total reward:   22.00 Mean scores: 20.96 Means Scores[:-10]: 22.20 Score: 22 \n",
      "Run [215] - Total reward:   21.00 Mean scores: 20.96 Means Scores[:-10]: 22.10 Score: 21 \n",
      "Run [216] - Total reward:   22.00 Mean scores: 20.96 Means Scores[:-10]: 22.20 Score: 22 \n",
      "Run [217] - Total reward:   21.00 Mean scores: 20.96 Means Scores[:-10]: 21.90 Score: 21 \n",
      "Run [218] - Total reward:   21.00 Mean scores: 20.96 Means Scores[:-10]: 21.90 Score: 21 \n",
      "Run [219] - Total reward:   22.00 Mean scores: 20.96 Means Scores[:-10]: 21.60 Score: 22 \n",
      "Run [220] - Total reward:   23.00 Mean scores: 20.96 Means Scores[:-10]: 21.90 Score: 23 \n",
      "Run [221] - Total reward:   23.00 Mean scores: 20.96 Means Scores[:-10]: 21.90 Score: 23 \n",
      "Run [222] - Total reward:   21.00 Mean scores: 20.96 Means Scores[:-10]: 21.90 Score: 21 \n",
      "Run [223] - Total reward:   23.00 Mean scores: 20.96 Means Scores[:-10]: 21.90 Score: 23 \n",
      "Run [224] - Total reward:   25.00 Mean scores: 20.96 Means Scores[:-10]: 22.20 Score: 25 \n",
      "Run [225] - Total reward:   23.00 Mean scores: 20.96 Means Scores[:-10]: 22.40 Score: 23 \n",
      "Run [226] - Total reward:   24.00 Mean scores: 20.97 Means Scores[:-10]: 22.60 Score: 24 \n",
      "Run [227] - Total reward:   24.00 Mean scores: 20.97 Means Scores[:-10]: 22.90 Score: 24 \n",
      "Run [228] - Total reward:   21.00 Mean scores: 20.97 Means Scores[:-10]: 22.90 Score: 21 \n",
      "Run [229] - Total reward:   23.00 Mean scores: 20.97 Means Scores[:-10]: 23.00 Score: 23 \n",
      "Run [230] - Total reward:   21.00 Mean scores: 20.97 Means Scores[:-10]: 22.80 Score: 21 \n",
      "Run [231] - Total reward:   23.00 Mean scores: 20.97 Means Scores[:-10]: 22.80 Score: 23 \n",
      "Run [232] - Total reward:   25.00 Mean scores: 20.97 Means Scores[:-10]: 23.20 Score: 25 \n",
      "Run [233] - Total reward:   19.00 Mean scores: 20.97 Means Scores[:-10]: 22.80 Score: 19 \n",
      "Run [234] - Total reward:   20.00 Mean scores: 20.97 Means Scores[:-10]: 22.30 Score: 20 \n",
      "Run [235] - Total reward:   22.00 Mean scores: 20.97 Means Scores[:-10]: 22.20 Score: 22 \n",
      "Run [236] - Total reward:   21.00 Mean scores: 20.97 Means Scores[:-10]: 21.90 Score: 21 \n",
      "Run [237] - Total reward:   24.00 Mean scores: 20.97 Means Scores[:-10]: 21.90 Score: 24 \n",
      "Run [238] - Total reward:   23.00 Mean scores: 20.97 Means Scores[:-10]: 22.10 Score: 23 \n",
      "Run [239] - Total reward:   22.00 Mean scores: 20.97 Means Scores[:-10]: 22.00 Score: 22 \n",
      "Run [240] - Total reward:   23.00 Mean scores: 20.98 Means Scores[:-10]: 22.20 Score: 23 \n",
      "Run [241] - Total reward:   21.00 Mean scores: 20.98 Means Scores[:-10]: 22.00 Score: 21 \n",
      "Run [242] - Total reward:   23.00 Mean scores: 20.98 Means Scores[:-10]: 21.80 Score: 23 \n",
      "Run [243] - Total reward:   21.00 Mean scores: 20.98 Means Scores[:-10]: 22.00 Score: 21 \n",
      "Run [244] - Total reward:   24.00 Mean scores: 20.98 Means Scores[:-10]: 22.40 Score: 24 \n",
      "Run [245] - Total reward:   22.00 Mean scores: 20.98 Means Scores[:-10]: 22.40 Score: 22 \n",
      "Run [246] - Total reward:   21.00 Mean scores: 20.98 Means Scores[:-10]: 22.40 Score: 21 \n",
      "Run [247] - Total reward:   23.00 Mean scores: 20.98 Means Scores[:-10]: 22.30 Score: 23 \n",
      "Run [248] - Total reward:   22.00 Mean scores: 20.98 Means Scores[:-10]: 22.20 Score: 22 \n",
      "Run [249] - Total reward:   22.00 Mean scores: 20.98 Means Scores[:-10]: 22.20 Score: 22 \n",
      "Run [250] - Total reward:   20.00 Mean scores: 20.98 Means Scores[:-10]: 21.90 Score: 20 \n",
      "Run [251] - Total reward:   23.00 Mean scores: 20.98 Means Scores[:-10]: 22.10 Score: 23 \n",
      "Run [252] - Total reward:   21.00 Mean scores: 20.98 Means Scores[:-10]: 21.90 Score: 21 \n",
      "Run [253] - Total reward:   22.00 Mean scores: 20.98 Means Scores[:-10]: 22.00 Score: 22 \n",
      "Run [254] - Total reward:   21.00 Mean scores: 20.98 Means Scores[:-10]: 21.70 Score: 21 \n",
      "Run [255] - Total reward:   22.00 Mean scores: 20.98 Means Scores[:-10]: 21.70 Score: 22 \n",
      "Run [256] - Total reward:   22.00 Mean scores: 20.98 Means Scores[:-10]: 21.80 Score: 22 \n",
      "Run [257] - Total reward:   24.00 Mean scores: 20.98 Means Scores[:-10]: 21.90 Score: 24 \n",
      "Run [258] - Total reward:   22.00 Mean scores: 20.99 Means Scores[:-10]: 21.90 Score: 22 \n",
      "Run [259] - Total reward:   22.00 Mean scores: 20.99 Means Scores[:-10]: 21.90 Score: 22 \n",
      "Run [260] - Total reward:   22.00 Mean scores: 20.99 Means Scores[:-10]: 22.10 Score: 22 \n",
      "Run [261] - Total reward:   21.00 Mean scores: 20.99 Means Scores[:-10]: 21.90 Score: 21 \n",
      "Run [262] - Total reward:   21.00 Mean scores: 20.99 Means Scores[:-10]: 21.90 Score: 21 \n",
      "Run [263] - Total reward:   20.00 Mean scores: 20.99 Means Scores[:-10]: 21.70 Score: 20 \n",
      "Run [264] - Total reward:   22.00 Mean scores: 20.99 Means Scores[:-10]: 21.80 Score: 22 \n",
      "Run [265] - Total reward:   23.00 Mean scores: 20.99 Means Scores[:-10]: 21.90 Score: 23 \n",
      "Run [266] - Total reward:   22.00 Mean scores: 20.99 Means Scores[:-10]: 21.90 Score: 22 \n",
      "Run [267] - Total reward:   21.00 Mean scores: 20.99 Means Scores[:-10]: 21.60 Score: 21 \n",
      "Run [268] - Total reward:   21.00 Mean scores: 20.99 Means Scores[:-10]: 21.50 Score: 21 \n",
      "Run [269] - Total reward:   21.00 Mean scores: 20.99 Means Scores[:-10]: 21.40 Score: 21 \n",
      "Run [270] - Total reward:   19.00 Mean scores: 20.99 Means Scores[:-10]: 21.10 Score: 19 \n",
      "Run [271] - Total reward:   20.00 Mean scores: 20.99 Means Scores[:-10]: 21.00 Score: 20 \n",
      "Run [272] - Total reward:   21.00 Mean scores: 20.99 Means Scores[:-10]: 21.00 Score: 21 \n",
      "Run [273] - Total reward:   24.00 Mean scores: 20.99 Means Scores[:-10]: 21.40 Score: 24 \n",
      "Run [274] - Total reward:   19.00 Mean scores: 20.99 Means Scores[:-10]: 21.10 Score: 19 \n",
      "Run [275] - Total reward:   23.00 Mean scores: 20.99 Means Scores[:-10]: 21.10 Score: 23 \n",
      "Run [276] - Total reward:   24.00 Mean scores: 20.99 Means Scores[:-10]: 21.30 Score: 24 \n",
      "Run [277] - Total reward:   19.00 Mean scores: 20.99 Means Scores[:-10]: 21.10 Score: 19 \n",
      "Run [278] - Total reward:   21.00 Mean scores: 20.99 Means Scores[:-10]: 21.10 Score: 21 \n",
      "Run [279] - Total reward:   21.00 Mean scores: 20.99 Means Scores[:-10]: 21.10 Score: 21 \n",
      "Run [280] - Total reward:   20.00 Mean scores: 20.99 Means Scores[:-10]: 21.20 Score: 20 \n",
      "Run [281] - Total reward:   22.00 Mean scores: 20.99 Means Scores[:-10]: 21.40 Score: 22 \n",
      "Run [282] - Total reward:   22.00 Mean scores: 20.99 Means Scores[:-10]: 21.50 Score: 22 \n",
      "Run [283] - Total reward:   24.00 Mean scores: 20.99 Means Scores[:-10]: 21.50 Score: 24 \n",
      "Run [284] - Total reward:   22.00 Mean scores: 20.99 Means Scores[:-10]: 21.80 Score: 22 \n",
      "Run [285] - Total reward:   22.00 Mean scores: 20.99 Means Scores[:-10]: 21.70 Score: 22 \n",
      "Run [286] - Total reward:   23.00 Mean scores: 20.99 Means Scores[:-10]: 21.60 Score: 23 \n",
      "Run [287] - Total reward:   21.00 Mean scores: 20.99 Means Scores[:-10]: 21.80 Score: 21 \n",
      "Run [288] - Total reward:   23.00 Mean scores: 20.99 Means Scores[:-10]: 22.00 Score: 23 \n",
      "Run [289] - Total reward:   21.00 Mean scores: 20.99 Means Scores[:-10]: 22.00 Score: 21 \n",
      "Run [290] - Total reward:   20.00 Mean scores: 20.99 Means Scores[:-10]: 22.00 Score: 20 \n",
      "Run [291] - Total reward:   23.00 Mean scores: 20.99 Means Scores[:-10]: 22.10 Score: 23 \n",
      "Run [292] - Total reward:   21.00 Mean scores: 20.99 Means Scores[:-10]: 22.00 Score: 21 \n",
      "Run [293] - Total reward:   24.00 Mean scores: 21.00 Means Scores[:-10]: 22.00 Score: 24 \n",
      "Run [294] - Total reward:   23.00 Mean scores: 21.00 Means Scores[:-10]: 22.10 Score: 23 \n",
      "Run [295] - Total reward:   21.00 Mean scores: 21.00 Means Scores[:-10]: 22.00 Score: 21 \n",
      "Run [296] - Total reward:   20.00 Mean scores: 21.00 Means Scores[:-10]: 21.70 Score: 20 \n",
      "Run [297] - Total reward:   23.00 Mean scores: 21.00 Means Scores[:-10]: 21.90 Score: 23 \n",
      "Run [298] - Total reward:   24.00 Mean scores: 21.00 Means Scores[:-10]: 22.00 Score: 24 \n",
      "Run [299] - Total reward:   22.00 Mean scores: 21.00 Means Scores[:-10]: 22.10 Score: 22 \n",
      "Run [300] - Total reward:   23.00 Mean scores: 21.00 Means Scores[:-10]: 22.40 Score: 23 \n",
      "Run [301] - Total reward:   23.00 Mean scores: 21.00 Means Scores[:-10]: 22.40 Score: 23 \n",
      "Run [302] - Total reward:   22.00 Mean scores: 21.00 Means Scores[:-10]: 22.50 Score: 22 \n",
      "Run [303] - Total reward:   24.00 Mean scores: 21.00 Means Scores[:-10]: 22.50 Score: 24 \n",
      "Run [304] - Total reward:   22.00 Mean scores: 21.00 Means Scores[:-10]: 22.40 Score: 22 \n",
      "Run [305] - Total reward:   20.00 Mean scores: 21.00 Means Scores[:-10]: 22.30 Score: 20 \n",
      "Run [306] - Total reward:   22.00 Mean scores: 21.00 Means Scores[:-10]: 22.50 Score: 22 \n",
      "Run [307] - Total reward:   24.00 Mean scores: 21.01 Means Scores[:-10]: 22.60 Score: 24 \n",
      "Run [308] - Total reward:   21.00 Mean scores: 21.01 Means Scores[:-10]: 22.30 Score: 21 \n",
      "Run [309] - Total reward:   22.00 Mean scores: 21.01 Means Scores[:-10]: 22.30 Score: 22 \n",
      "Run [310] - Total reward:   20.00 Mean scores: 21.01 Means Scores[:-10]: 22.00 Score: 20 \n",
      "Run [311] - Total reward:   21.00 Mean scores: 21.01 Means Scores[:-10]: 21.80 Score: 21 \n",
      "Run [312] - Total reward:   21.00 Mean scores: 21.01 Means Scores[:-10]: 21.70 Score: 21 \n",
      "Run [313] - Total reward:   20.00 Mean scores: 21.01 Means Scores[:-10]: 21.30 Score: 20 \n",
      "Run [314] - Total reward:   20.00 Mean scores: 21.01 Means Scores[:-10]: 21.10 Score: 20 \n",
      "Run [315] - Total reward:   20.00 Mean scores: 21.00 Means Scores[:-10]: 21.10 Score: 20 \n",
      "Run [316] - Total reward:   25.00 Mean scores: 21.01 Means Scores[:-10]: 21.40 Score: 25 \n",
      "Run [317] - Total reward:   21.00 Mean scores: 21.01 Means Scores[:-10]: 21.10 Score: 21 \n",
      "Run [318] - Total reward:   24.00 Mean scores: 21.01 Means Scores[:-10]: 21.40 Score: 24 \n",
      "Run [319] - Total reward:   23.00 Mean scores: 21.01 Means Scores[:-10]: 21.50 Score: 23 \n",
      "Run [320] - Total reward:   23.00 Mean scores: 21.01 Means Scores[:-10]: 21.80 Score: 23 \n",
      "Run [321] - Total reward:   23.00 Mean scores: 21.01 Means Scores[:-10]: 22.00 Score: 23 \n",
      "Run [322] - Total reward:   24.00 Mean scores: 21.01 Means Scores[:-10]: 22.30 Score: 24 \n",
      "Run [323] - Total reward:   23.00 Mean scores: 21.01 Means Scores[:-10]: 22.60 Score: 23 \n",
      "Run [324] - Total reward:   21.00 Mean scores: 21.01 Means Scores[:-10]: 22.70 Score: 21 \n",
      "Run [325] - Total reward:   21.00 Mean scores: 21.01 Means Scores[:-10]: 22.80 Score: 21 \n",
      "Run [326] - Total reward:   20.00 Mean scores: 21.01 Means Scores[:-10]: 22.30 Score: 20 \n",
      "Run [327] - Total reward:   21.00 Mean scores: 21.01 Means Scores[:-10]: 22.30 Score: 21 \n",
      "Run [328] - Total reward:   22.00 Mean scores: 21.01 Means Scores[:-10]: 22.10 Score: 22 \n",
      "Run [329] - Total reward:   21.00 Mean scores: 21.01 Means Scores[:-10]: 21.90 Score: 21 \n",
      "Run [330] - Total reward:   21.00 Mean scores: 21.01 Means Scores[:-10]: 21.70 Score: 21 \n",
      "Run [331] - Total reward:   22.00 Mean scores: 21.01 Means Scores[:-10]: 21.60 Score: 22 \n",
      "Run [332] - Total reward:   22.00 Mean scores: 21.02 Means Scores[:-10]: 21.40 Score: 22 \n",
      "Run [333] - Total reward:   20.00 Mean scores: 21.01 Means Scores[:-10]: 21.10 Score: 20 \n",
      "Run [334] - Total reward:   24.00 Mean scores: 21.02 Means Scores[:-10]: 21.40 Score: 24 \n",
      "Run [335] - Total reward:   20.00 Mean scores: 21.02 Means Scores[:-10]: 21.30 Score: 20 \n",
      "Run [336] - Total reward:   20.00 Mean scores: 21.01 Means Scores[:-10]: 21.30 Score: 20 \n",
      "Run [337] - Total reward:   21.00 Mean scores: 21.01 Means Scores[:-10]: 21.30 Score: 21 \n",
      "Run [338] - Total reward:   22.00 Mean scores: 21.02 Means Scores[:-10]: 21.30 Score: 22 \n",
      "Run [339] - Total reward:   22.00 Mean scores: 21.02 Means Scores[:-10]: 21.40 Score: 22 \n",
      "Run [340] - Total reward:   20.00 Mean scores: 21.02 Means Scores[:-10]: 21.30 Score: 20 \n",
      "Run [341] - Total reward:   21.00 Mean scores: 21.02 Means Scores[:-10]: 21.20 Score: 21 \n",
      "Run [342] - Total reward:   23.00 Mean scores: 21.02 Means Scores[:-10]: 21.30 Score: 23 \n",
      "Run [343] - Total reward:   21.00 Mean scores: 21.02 Means Scores[:-10]: 21.40 Score: 21 \n",
      "Run [344] - Total reward:   19.00 Mean scores: 21.02 Means Scores[:-10]: 20.90 Score: 19 \n",
      "Run [345] - Total reward:   22.00 Mean scores: 21.02 Means Scores[:-10]: 21.10 Score: 22 \n",
      "Run [346] - Total reward:   23.00 Mean scores: 21.02 Means Scores[:-10]: 21.40 Score: 23 \n",
      "Run [347] - Total reward:   20.00 Mean scores: 21.02 Means Scores[:-10]: 21.30 Score: 20 \n",
      "Run [348] - Total reward:   24.00 Mean scores: 21.02 Means Scores[:-10]: 21.50 Score: 24 \n",
      "Run [349] - Total reward:   22.00 Mean scores: 21.02 Means Scores[:-10]: 21.50 Score: 22 \n",
      "Run [350] - Total reward:   24.00 Mean scores: 21.02 Means Scores[:-10]: 21.90 Score: 24 \n",
      "Run [351] - Total reward:   21.00 Mean scores: 21.02 Means Scores[:-10]: 21.90 Score: 21 \n",
      "Run [352] - Total reward:   22.00 Mean scores: 21.02 Means Scores[:-10]: 21.80 Score: 22 \n",
      "Run [353] - Total reward:   20.00 Mean scores: 21.02 Means Scores[:-10]: 21.70 Score: 20 \n",
      "Run [354] - Total reward:   24.00 Mean scores: 21.02 Means Scores[:-10]: 22.20 Score: 24 \n",
      "Run [355] - Total reward:   21.00 Mean scores: 21.02 Means Scores[:-10]: 22.10 Score: 21 \n",
      "Run [356] - Total reward:   20.00 Mean scores: 21.02 Means Scores[:-10]: 21.80 Score: 20 \n",
      "Run [357] - Total reward:   20.00 Mean scores: 21.02 Means Scores[:-10]: 21.80 Score: 20 \n",
      "Run [358] - Total reward:   23.00 Mean scores: 21.02 Means Scores[:-10]: 21.70 Score: 23 \n",
      "Run [359] - Total reward:   23.00 Mean scores: 21.02 Means Scores[:-10]: 21.80 Score: 23 \n",
      "Run [360] - Total reward:   19.00 Mean scores: 21.02 Means Scores[:-10]: 21.30 Score: 19 \n",
      "Run [361] - Total reward:   23.00 Mean scores: 21.02 Means Scores[:-10]: 21.50 Score: 23 \n",
      "Run [362] - Total reward:   23.00 Mean scores: 21.02 Means Scores[:-10]: 21.60 Score: 23 \n",
      "Run [363] - Total reward:   23.00 Mean scores: 21.02 Means Scores[:-10]: 21.90 Score: 23 \n",
      "Run [364] - Total reward:   23.00 Mean scores: 21.03 Means Scores[:-10]: 21.80 Score: 23 \n",
      "Run [365] - Total reward:   24.00 Mean scores: 21.03 Means Scores[:-10]: 22.10 Score: 24 \n",
      "Run [366] - Total reward:   23.00 Mean scores: 21.03 Means Scores[:-10]: 22.40 Score: 23 \n",
      "Run [367] - Total reward:   22.00 Mean scores: 21.03 Means Scores[:-10]: 22.60 Score: 22 \n",
      "Run [368] - Total reward:   23.00 Mean scores: 21.03 Means Scores[:-10]: 22.60 Score: 23 \n",
      "Run [369] - Total reward:   22.00 Mean scores: 21.03 Means Scores[:-10]: 22.50 Score: 22 \n",
      "Run [370] - Total reward:   20.00 Mean scores: 21.03 Means Scores[:-10]: 22.60 Score: 20 \n",
      "Run [371] - Total reward:   22.00 Mean scores: 21.03 Means Scores[:-10]: 22.50 Score: 22 \n",
      "Run [372] - Total reward:   22.00 Mean scores: 21.03 Means Scores[:-10]: 22.40 Score: 22 \n",
      "Run [373] - Total reward:   25.00 Mean scores: 21.03 Means Scores[:-10]: 22.60 Score: 25 \n",
      "Run [374] - Total reward:   21.00 Mean scores: 21.03 Means Scores[:-10]: 22.40 Score: 21 \n",
      "Run [375] - Total reward:   24.00 Mean scores: 21.03 Means Scores[:-10]: 22.40 Score: 24 \n",
      "Run [376] - Total reward:   26.00 Mean scores: 21.04 Means Scores[:-10]: 22.70 Score: 26 \n",
      "Run [377] - Total reward:   20.00 Mean scores: 21.04 Means Scores[:-10]: 22.50 Score: 20 \n",
      "Run [378] - Total reward:   21.00 Mean scores: 21.04 Means Scores[:-10]: 22.30 Score: 21 \n",
      "Run [379] - Total reward:   22.00 Mean scores: 21.04 Means Scores[:-10]: 22.30 Score: 22 \n",
      "Run [380] - Total reward:   22.00 Mean scores: 21.04 Means Scores[:-10]: 22.50 Score: 22 \n",
      "Run [381] - Total reward:   19.00 Mean scores: 21.04 Means Scores[:-10]: 22.20 Score: 19 \n",
      "Run [382] - Total reward:   23.00 Mean scores: 21.04 Means Scores[:-10]: 22.30 Score: 23 \n",
      "Run [383] - Total reward:   23.00 Mean scores: 21.04 Means Scores[:-10]: 22.10 Score: 23 \n",
      "Run [384] - Total reward:   22.00 Mean scores: 21.04 Means Scores[:-10]: 22.20 Score: 22 \n",
      "Run [385] - Total reward:   21.00 Mean scores: 21.04 Means Scores[:-10]: 21.90 Score: 21 \n",
      "Run [386] - Total reward:   23.00 Mean scores: 21.04 Means Scores[:-10]: 21.60 Score: 23 \n",
      "Run [387] - Total reward:   20.00 Mean scores: 21.04 Means Scores[:-10]: 21.60 Score: 20 \n",
      "Run [388] - Total reward:   23.00 Mean scores: 21.04 Means Scores[:-10]: 21.80 Score: 23 \n",
      "Run [389] - Total reward:   22.00 Mean scores: 21.04 Means Scores[:-10]: 21.80 Score: 22 \n",
      "Run [390] - Total reward:   22.00 Mean scores: 21.04 Means Scores[:-10]: 21.80 Score: 22 \n",
      "Run [391] - Total reward:   20.00 Mean scores: 21.04 Means Scores[:-10]: 21.90 Score: 20 \n",
      "Run [392] - Total reward:   24.00 Mean scores: 21.04 Means Scores[:-10]: 22.00 Score: 24 \n",
      "Run [393] - Total reward:   24.00 Mean scores: 21.04 Means Scores[:-10]: 22.10 Score: 24 \n",
      "Run [394] - Total reward:   22.00 Mean scores: 21.04 Means Scores[:-10]: 22.10 Score: 22 \n",
      "Run [395] - Total reward:   23.00 Mean scores: 21.04 Means Scores[:-10]: 22.30 Score: 23 \n",
      "Run [396] - Total reward:   22.00 Mean scores: 21.05 Means Scores[:-10]: 22.20 Score: 22 \n",
      "Run [397] - Total reward:   21.00 Mean scores: 21.05 Means Scores[:-10]: 22.30 Score: 21 \n",
      "Run [398] - Total reward:   21.00 Mean scores: 21.05 Means Scores[:-10]: 22.10 Score: 21 \n",
      "Run [399] - Total reward:   21.00 Mean scores: 21.05 Means Scores[:-10]: 22.00 Score: 21 \n",
      "Run [400] - Total reward:   22.00 Mean scores: 21.05 Means Scores[:-10]: 22.00 Score: 22 \n",
      "Run [401] - Total reward:   21.00 Mean scores: 21.05 Means Scores[:-10]: 22.10 Score: 21 \n",
      "Run [402] - Total reward:   22.00 Mean scores: 21.05 Means Scores[:-10]: 21.90 Score: 22 \n",
      "Run [403] - Total reward:   24.00 Mean scores: 21.05 Means Scores[:-10]: 21.90 Score: 24 \n",
      "Run [404] - Total reward:   24.00 Mean scores: 21.05 Means Scores[:-10]: 22.10 Score: 24 \n",
      "Run [405] - Total reward:   22.00 Mean scores: 21.05 Means Scores[:-10]: 22.00 Score: 22 \n",
      "Run [406] - Total reward:   24.00 Mean scores: 21.05 Means Scores[:-10]: 22.20 Score: 24 \n",
      "Run [407] - Total reward:   24.00 Mean scores: 21.05 Means Scores[:-10]: 22.50 Score: 24 \n",
      "Run [408] - Total reward:   22.00 Mean scores: 21.05 Means Scores[:-10]: 22.60 Score: 22 \n",
      "Run [409] - Total reward:   23.00 Mean scores: 21.05 Means Scores[:-10]: 22.80 Score: 23 \n",
      "Run [410] - Total reward:   23.00 Mean scores: 21.05 Means Scores[:-10]: 22.90 Score: 23 \n",
      "Run [411] - Total reward:   23.00 Mean scores: 21.06 Means Scores[:-10]: 23.10 Score: 23 \n",
      "Run [412] - Total reward:   22.00 Mean scores: 21.06 Means Scores[:-10]: 23.10 Score: 22 \n",
      "Run [413] - Total reward:   19.00 Mean scores: 21.06 Means Scores[:-10]: 22.60 Score: 19 \n",
      "Run [414] - Total reward:   20.00 Mean scores: 21.05 Means Scores[:-10]: 22.20 Score: 20 \n",
      "Run [415] - Total reward:   23.00 Mean scores: 21.06 Means Scores[:-10]: 22.30 Score: 23 \n",
      "Run [416] - Total reward:   22.00 Mean scores: 21.06 Means Scores[:-10]: 22.10 Score: 22 \n",
      "Run [417] - Total reward:   24.00 Mean scores: 21.06 Means Scores[:-10]: 22.10 Score: 24 \n",
      "Run [418] - Total reward:   19.00 Mean scores: 21.06 Means Scores[:-10]: 21.80 Score: 19 \n",
      "Run [419] - Total reward:   23.00 Mean scores: 21.06 Means Scores[:-10]: 21.80 Score: 23 \n",
      "Run [420] - Total reward:   22.00 Mean scores: 21.06 Means Scores[:-10]: 21.70 Score: 22 \n",
      "Run [421] - Total reward:   18.00 Mean scores: 21.06 Means Scores[:-10]: 21.20 Score: 18 \n",
      "Run [422] - Total reward:   23.00 Mean scores: 21.06 Means Scores[:-10]: 21.30 Score: 23 \n",
      "Run [423] - Total reward:   21.00 Mean scores: 21.06 Means Scores[:-10]: 21.50 Score: 21 \n",
      "Run [424] - Total reward:   24.00 Mean scores: 21.06 Means Scores[:-10]: 21.90 Score: 24 \n",
      "Run [425] - Total reward:   22.00 Mean scores: 21.06 Means Scores[:-10]: 21.80 Score: 22 \n",
      "Run [426] - Total reward:   23.00 Mean scores: 21.06 Means Scores[:-10]: 21.90 Score: 23 \n",
      "Run [427] - Total reward:   25.00 Mean scores: 21.06 Means Scores[:-10]: 22.00 Score: 25 \n",
      "Run [428] - Total reward:   21.00 Mean scores: 21.06 Means Scores[:-10]: 22.20 Score: 21 \n",
      "Run [429] - Total reward:   23.00 Mean scores: 21.06 Means Scores[:-10]: 22.20 Score: 23 \n",
      "Run [430] - Total reward:   24.00 Mean scores: 21.06 Means Scores[:-10]: 22.40 Score: 24 \n",
      "Run [431] - Total reward:   22.00 Mean scores: 21.06 Means Scores[:-10]: 22.80 Score: 22 \n",
      "Run [432] - Total reward:   23.00 Mean scores: 21.07 Means Scores[:-10]: 22.80 Score: 23 \n",
      "Run [433] - Total reward:   22.00 Mean scores: 21.07 Means Scores[:-10]: 22.90 Score: 22 \n",
      "Run [434] - Total reward:   21.00 Mean scores: 21.07 Means Scores[:-10]: 22.60 Score: 21 \n",
      "Run [435] - Total reward:   22.00 Mean scores: 21.07 Means Scores[:-10]: 22.60 Score: 22 \n",
      "Run [436] - Total reward:   21.00 Mean scores: 21.07 Means Scores[:-10]: 22.40 Score: 21 \n",
      "Run [437] - Total reward:   21.00 Mean scores: 21.07 Means Scores[:-10]: 22.00 Score: 21 \n",
      "Run [438] - Total reward:   21.00 Mean scores: 21.07 Means Scores[:-10]: 22.00 Score: 21 \n",
      "Run [439] - Total reward:   21.00 Mean scores: 21.07 Means Scores[:-10]: 21.80 Score: 21 \n",
      "Run [440] - Total reward:   21.00 Mean scores: 21.07 Means Scores[:-10]: 21.50 Score: 21 \n",
      "Run [441] - Total reward:   23.00 Mean scores: 21.07 Means Scores[:-10]: 21.60 Score: 23 \n",
      "Run [442] - Total reward:   23.00 Mean scores: 21.07 Means Scores[:-10]: 21.60 Score: 23 \n",
      "Run [443] - Total reward:   23.00 Mean scores: 21.07 Means Scores[:-10]: 21.70 Score: 23 \n",
      "Run [444] - Total reward:   23.00 Mean scores: 21.07 Means Scores[:-10]: 21.90 Score: 23 \n",
      "Run [445] - Total reward:   24.00 Mean scores: 21.07 Means Scores[:-10]: 22.10 Score: 24 \n",
      "Run [446] - Total reward:   23.00 Mean scores: 21.07 Means Scores[:-10]: 22.30 Score: 23 \n",
      "Run [447] - Total reward:   21.00 Mean scores: 21.07 Means Scores[:-10]: 22.30 Score: 21 \n",
      "Run [448] - Total reward:   22.00 Mean scores: 21.07 Means Scores[:-10]: 22.40 Score: 22 \n",
      "Run [449] - Total reward:   20.00 Mean scores: 21.07 Means Scores[:-10]: 22.30 Score: 20 \n",
      "Run [450] - Total reward:   23.00 Mean scores: 21.07 Means Scores[:-10]: 22.50 Score: 23 \n",
      "Run [451] - Total reward:   24.00 Mean scores: 21.08 Means Scores[:-10]: 22.60 Score: 24 \n",
      "Run [452] - Total reward:   22.00 Mean scores: 21.08 Means Scores[:-10]: 22.50 Score: 22 \n",
      "Run [453] - Total reward:   21.00 Mean scores: 21.08 Means Scores[:-10]: 22.30 Score: 21 \n",
      "Run [454] - Total reward:   20.00 Mean scores: 21.07 Means Scores[:-10]: 22.00 Score: 20 \n",
      "Run [455] - Total reward:   24.00 Mean scores: 21.08 Means Scores[:-10]: 22.00 Score: 24 \n",
      "Run [456] - Total reward:   22.00 Mean scores: 21.08 Means Scores[:-10]: 21.90 Score: 22 \n",
      "Run [457] - Total reward:   22.00 Mean scores: 21.08 Means Scores[:-10]: 22.00 Score: 22 \n",
      "Run [458] - Total reward:   21.00 Mean scores: 21.08 Means Scores[:-10]: 21.90 Score: 21 \n",
      "Run [459] - Total reward:   20.00 Mean scores: 21.08 Means Scores[:-10]: 21.90 Score: 20 \n",
      "Run [460] - Total reward:   23.00 Mean scores: 21.08 Means Scores[:-10]: 21.90 Score: 23 \n",
      "Run [461] - Total reward:   19.00 Mean scores: 21.08 Means Scores[:-10]: 21.40 Score: 19 \n",
      "Run [462] - Total reward:   21.00 Mean scores: 21.08 Means Scores[:-10]: 21.30 Score: 21 \n",
      "Run [463] - Total reward:   22.00 Mean scores: 21.08 Means Scores[:-10]: 21.40 Score: 22 \n",
      "Run [464] - Total reward:   24.00 Mean scores: 21.08 Means Scores[:-10]: 21.80 Score: 24 \n",
      "Run [465] - Total reward:   23.00 Mean scores: 21.08 Means Scores[:-10]: 21.70 Score: 23 \n",
      "Run [466] - Total reward:   22.00 Mean scores: 21.08 Means Scores[:-10]: 21.70 Score: 22 \n",
      "Run [467] - Total reward:   23.00 Mean scores: 21.08 Means Scores[:-10]: 21.80 Score: 23 \n",
      "Run [468] - Total reward:   21.00 Mean scores: 21.08 Means Scores[:-10]: 21.80 Score: 21 \n",
      "Run [469] - Total reward:   22.00 Mean scores: 21.08 Means Scores[:-10]: 22.00 Score: 22 \n",
      "Run [470] - Total reward:   22.00 Mean scores: 21.08 Means Scores[:-10]: 21.90 Score: 22 \n",
      "Run [471] - Total reward:   22.00 Mean scores: 21.08 Means Scores[:-10]: 22.20 Score: 22 \n",
      "Run [472] - Total reward:   22.00 Mean scores: 21.08 Means Scores[:-10]: 22.30 Score: 22 \n",
      "Run [473] - Total reward:   21.00 Mean scores: 21.08 Means Scores[:-10]: 22.20 Score: 21 \n",
      "Run [474] - Total reward:   21.00 Mean scores: 21.08 Means Scores[:-10]: 21.90 Score: 21 \n",
      "Run [475] - Total reward:   20.00 Mean scores: 21.08 Means Scores[:-10]: 21.60 Score: 20 \n",
      "Run [476] - Total reward:   22.00 Mean scores: 21.08 Means Scores[:-10]: 21.60 Score: 22 \n",
      "Run [477] - Total reward:   22.00 Mean scores: 21.08 Means Scores[:-10]: 21.50 Score: 22 \n",
      "Run [478] - Total reward:   20.00 Mean scores: 21.08 Means Scores[:-10]: 21.40 Score: 20 \n",
      "Run [479] - Total reward:   19.00 Mean scores: 21.08 Means Scores[:-10]: 21.10 Score: 19 \n",
      "Run [480] - Total reward:   20.00 Mean scores: 21.08 Means Scores[:-10]: 20.90 Score: 20 \n",
      "Run [481] - Total reward:   20.00 Mean scores: 21.08 Means Scores[:-10]: 20.70 Score: 20 \n",
      "Run [482] - Total reward:   22.00 Mean scores: 21.08 Means Scores[:-10]: 20.70 Score: 22 \n",
      "Run [483] - Total reward:   21.00 Mean scores: 21.08 Means Scores[:-10]: 20.70 Score: 21 \n",
      "Run [484] - Total reward:   24.00 Mean scores: 21.08 Means Scores[:-10]: 21.00 Score: 24 \n",
      "Run [485] - Total reward:   21.00 Mean scores: 21.08 Means Scores[:-10]: 21.10 Score: 21 \n",
      "Run [486] - Total reward:   21.00 Mean scores: 21.08 Means Scores[:-10]: 21.00 Score: 21 \n",
      "Run [487] - Total reward:   23.00 Mean scores: 21.08 Means Scores[:-10]: 21.10 Score: 23 \n",
      "Run [488] - Total reward:   22.00 Mean scores: 21.08 Means Scores[:-10]: 21.30 Score: 22 \n",
      "Run [489] - Total reward:   22.00 Mean scores: 21.08 Means Scores[:-10]: 21.60 Score: 22 \n",
      "Run [490] - Total reward:   20.00 Mean scores: 21.08 Means Scores[:-10]: 21.60 Score: 20 \n",
      "Run [491] - Total reward:   23.00 Mean scores: 21.08 Means Scores[:-10]: 21.90 Score: 23 \n",
      "Run [492] - Total reward:   24.00 Mean scores: 21.09 Means Scores[:-10]: 22.10 Score: 24 \n",
      "Run [493] - Total reward:   22.00 Mean scores: 21.09 Means Scores[:-10]: 22.20 Score: 22 \n",
      "Run [494] - Total reward:   21.00 Mean scores: 21.09 Means Scores[:-10]: 21.90 Score: 21 \n",
      "Run [495] - Total reward:   23.00 Mean scores: 21.09 Means Scores[:-10]: 22.10 Score: 23 \n",
      "Run [496] - Total reward:   22.00 Mean scores: 21.09 Means Scores[:-10]: 22.20 Score: 22 \n",
      "Run [497] - Total reward:   21.00 Mean scores: 21.09 Means Scores[:-10]: 22.00 Score: 21 \n",
      "Run [498] - Total reward:   19.00 Mean scores: 21.09 Means Scores[:-10]: 21.70 Score: 19 \n",
      "Run [499] - Total reward:   23.00 Mean scores: 21.09 Means Scores[:-10]: 21.80 Score: 23 \n",
      "CPU times: user 17min, sys: 2.34 s, total: 17min 2s\n",
      "Wall time: 18min 12s\n"
     ]
    }
   ],
   "source": [
    "%%time\n",
    "\n",
    "n_runs = 800\n",
    "\n",
    "for i in range(n_runs):\n",
    "    render = i % 101 == 0\n",
    "\n",
    "    game_over = False\n",
    "    state = env.reset()[RAM_mask].data.tobytes()  # Select useful bytes\n",
    "    action = agent.act(state)  # TODO: aren't reducing the dimensionality\n",
    "                               # of the *first* state, but it shouldn't\n",
    "                               # impact the final result\n",
    "    score = 0\n",
    "    total_reward = 0\n",
    "\n",
    "    while not game_over:\n",
    "        if render:\n",
    "            time.sleep(0.005)\n",
    "            env.render()\n",
    "\n",
    "        old_state = state\n",
    "        ob, reward, game_over, _ = env.step(action)\n",
    "\n",
    "        # Doesn't matter where we were hit\n",
    "        ob[16] = 1 if ob[16] != 255 else 0\n",
    "\n",
    "        # Reduce chicken y-position\n",
    "        ob[14] = ob[14] // 3\n",
    "\n",
    "        # The chicken is in the x-posistion ~49\n",
    "        # We don't need to represent cars far from the chicken\n",
    "        for b in range(108, 118):\n",
    "            if ob[b] < 20 or ob[b] > 80:\n",
    "                ob[b] = 0\n",
    "            else:\n",
    "                # Reduce the cars x-positions sample space\n",
    "                ob[b] = ob[b] // 3\n",
    "\n",
    "        if reward == 1:\n",
    "            score += 1\n",
    "        elif ob[16] == 1:  # Collision!\n",
    "            reward = -1\n",
    "    #     elif reward != 1 and action != 1:  # Don't incentivate staying still\n",
    "    #         reward -= 0.2\n",
    "\n",
    "        total_reward += reward\n",
    "    #     epi.add_step(state, action, reward, score)\n",
    "        state = ob[RAM_mask].data.tobytes()\n",
    "\n",
    "    #     Q[old_state][action] = Q[old_state][action] + alpha * (reward + gamma * Q[state].max() - Q[old_state][action])\n",
    "        agent.update_Q(old_state, state, action, reward)\n",
    "\n",
    "        action = agent.act(state)  # Next action\n",
    "\n",
    "\n",
    "\n",
    "\n",
    "    scores.append(score)\n",
    "    total_rewards.append(total_reward)\n",
    "\n",
    "    print(f\"Run [{i:3}] - Total reward: {total_reward:7.2f} Mean scores: {sum(scores) / len(scores):.2f} Means Scores[:-10]: {sum(scores[-10:]) / len(scores[-10:]):5.2f} Score: {score:2} \")"
   ]
  },
  {
   "cell_type": "code",
   "execution_count": 21,
   "metadata": {},
   "outputs": [
    {
     "data": {
      "text/plain": [
       "[<matplotlib.lines.Line2D at 0x7fd63a6ba198>]"
      ]
     },
     "execution_count": 21,
     "metadata": {},
     "output_type": "execute_result"
    },
    {
     "data": {
      "image/png": "[encoded data removed]",
      "text/plain": [
       "<Figure size 880x640 with 1 Axes>"
      ]
     },
     "metadata": {
      "needs_background": "light"
     },
     "output_type": "display_data"
    }
   ],
   "source": [
    "fig = plt.figure(figsize=(11, 8), dpi=80)\n",
    "ax = fig.add_subplot(1, 1, 1)\n",
    "\n",
    "ax.set_xlim(0.9, len(scores) + 0.1)\n",
    "ax.set_ylim(min(scores) - 1, max(scores) + 1)\n",
    "ax.plot(range(1, len(scores) + 1), scores)\n",
    "# ax.plot(range(1, len(scores) + 1), scores, 'bo')"
   ]
  },
  {
   "cell_type": "code",
   "execution_count": null,
   "metadata": {},
   "outputs": [],
   "source": [
    "stop"
   ]
  },
  {
   "cell_type": "markdown",
   "metadata": {},
   "source": [
    "After about 2100 iterations (without negative rewards):\n",
    "```\n",
    "Run [496] - Total reward:   22.00 Mean scores: 21.09 Means Scores[:-10]: 22.20 Score: 22 \n",
    "Run [497] - Total reward:   21.00 Mean scores: 21.09 Means Scores[:-10]: 22.00 Score: 21 \n",
    "Run [498] - Total reward:   19.00 Mean scores: 21.09 Means Scores[:-10]: 21.70 Score: 19 \n",
    "Run [499] - Total reward:   23.00 Mean scores: 21.09 Means Scores[:-10]: 21.80 Score: 23 \n",
    "```"
   ]
  },
  {
   "cell_type": "code",
   "execution_count": 21,
   "metadata": {},
   "outputs": [
    {
     "data": {
      "text/plain": [
       "[<matplotlib.lines.Line2D at 0x7fd63a6ba198>]"
      ]
     },
     "execution_count": 21,
     "metadata": {},
     "output_type": "execute_result"
    },
    {
     "data": {
      "image/png": "[encoded data removed]",
      "text/plain": [
       "<Figure size 880x640 with 1 Axes>"
      ]
     },
     "metadata": {
      "needs_background": "light"
     },
     "output_type": "display_data"
    }
   ],
   "source": [
    "fig = plt.figure(figsize=(11, 8), dpi=80)\n",
    "ax = fig.add_subplot(1, 1, 1)\n",
    "\n",
    "ax.set_xlim(0.9, len(scores) + 0.1)\n",
    "ax.set_ylim(min(scores) - 1, max(scores) + 1)\n",
    "ax.plot(range(1, len(scores) + 1), scores)\n",
    "# ax.plot(range(1, len(scores) + 1), scores, 'bo')"
   ]
  },
  {
   "cell_type": "code",
   "execution_count": 17,
   "metadata": {},
   "outputs": [
    {
     "data": {
      "text/plain": [
       "[<matplotlib.lines.Line2D at 0x7fd63a822358>]"
      ]
     },
     "execution_count": 17,
     "metadata": {},
     "output_type": "execute_result"
    },
    {
     "data": {
      "image/png": "[encoded data removed]",
      "text/plain": [
       "<Figure size 880x640 with 1 Axes>"
      ]
     },
     "metadata": {
      "needs_background": "light"
     },
     "output_type": "display_data"
    }
   ],
   "source": [
    "fig = plt.figure(figsize=(11, 8), dpi=80)\n",
    "ax = fig.add_subplot(1, 1, 1)\n",
    "\n",
    "ax.set_xlim(0.9, len(total_rewards) + 0.1)\n",
    "ax.set_ylim(min(total_rewards) - 1, max(scores) + 1)\n",
    "ax.plot(range(1, len(total_rewards) + 1), total_rewards, color='red')\n",
    "# ax.plot(range(1, len(total_rewards) + 1), total_rewards, 'ro')"
   ]
  },
  {
   "cell_type": "code",
   "execution_count": 11,
   "metadata": {},
   "outputs": [
    {
     "ename": "NameError",
     "evalue": "name 'stop' is not defined",
     "output_type": "error",
     "traceback": [
      "\u001b[0;31m---------------------------------------------------------------------------\u001b[0m",
      "\u001b[0;31mNameError\u001b[0m                                 Traceback (most recent call last)",
      "\u001b[0;32m<ipython-input-11-4f76a9dad686>\u001b[0m in \u001b[0;36m<module>\u001b[0;34m\u001b[0m\n\u001b[0;32m----> 1\u001b[0;31m \u001b[0mstop\u001b[0m\u001b[0;34m\u001b[0m\u001b[0;34m\u001b[0m\u001b[0m\n\u001b[0m",
      "\u001b[0;31mNameError\u001b[0m: name 'stop' is not defined"
     ]
    }
   ],
   "source": [
    "stop"
   ]
  },
  {
   "cell_type": "markdown",
   "metadata": {},
   "source": [
    "# Monte Carlo Control"
   ]
  },
  {
   "cell_type": "code",
   "execution_count": null,
   "metadata": {},
   "outputs": [],
   "source": [
    "RAM_mask = [\n",
    "      14  # Chicken Y\n",
    "    , 16  # Chicken Lane Collide\n",
    "    , 108, 109, 110, 111, 112, 113, 114, 115, 116, 117  # Car X Coords\n",
    "]"
   ]
  },
  {
   "cell_type": "code",
   "execution_count": null,
   "metadata": {},
   "outputs": [],
   "source": [
    "env, initial_state = environment.get_env()"
   ]
  },
  {
   "cell_type": "code",
   "execution_count": null,
   "metadata": {},
   "outputs": [],
   "source": [
    "agent = agents.MonteCarloControl(gamma=0.95, available_actions=2, N0=0.5)"
   ]
  },
  {
   "cell_type": "code",
   "execution_count": null,
   "metadata": {},
   "outputs": [],
   "source": [
    "def MonteCarloES(RAM_mask: List[int], render: bool=False):\n",
    "    epi = episode.generate_episode(env, agent, RAM_mask=RAM_mask, render=render)\n",
    "    return agent.update_policy(epi)"
   ]
  },
  {
   "cell_type": "code",
   "execution_count": null,
   "metadata": {},
   "outputs": [],
   "source": [
    "%%time\n",
    "MonteCarloES(RAM_mask=RAM_mask, render=False)"
   ]
  },
  {
   "cell_type": "code",
   "execution_count": null,
   "metadata": {},
   "outputs": [],
   "source": [
    "scores = []\n",
    "total_rewards = []"
   ]
  },
  {
   "cell_type": "code",
   "execution_count": null,
   "metadata": {},
   "outputs": [],
   "source": [
    "%%time\n",
    "\n",
    "n_runs = 1000\n",
    "\n",
    "for i in range(n_runs):\n",
    "    render = i % 201 == 200\n",
    "\n",
    "    score, total_reward = MonteCarloES(RAM_mask=RAM_mask, render=render)\n",
    "\n",
    "    scores.append(score)\n",
    "    total_rewards.append(total_reward)\n",
    "\n",
    "    print(f\"Run [{i:3}] - Total reward: {total_reward:7.2f} Mean scores: {sum(scores) / len(scores):.2f} Means Scores[:-10]: {sum(scores[-10:]) / 10:5.2f} Score: {score:2} \")"
   ]
  },
  {
   "cell_type": "markdown",
   "metadata": {},
   "source": [
    "### Visualizing the scores and rewards"
   ]
  },
  {
   "cell_type": "code",
   "execution_count": null,
   "metadata": {},
   "outputs": [],
   "source": [
    "fig = plt.figure(figsize=(11, 8), dpi=80)\n",
    "ax = fig.add_subplot(1, 1, 1)\n",
    "\n",
    "ax.set_xlim(0.9, len(scores) + 0.1)\n",
    "ax.set_ylim(min(scores) - 1, max(scores) + 1)\n",
    "ax.plot(range(1, len(scores) + 1), scores)\n",
    "# ax.plot(range(1, len(scores) + 1), scores, 'bo')"
   ]
  },
  {
   "cell_type": "code",
   "execution_count": null,
   "metadata": {},
   "outputs": [],
   "source": [
    "fig = plt.figure(figsize=(11, 8), dpi=80)\n",
    "ax = fig.add_subplot(1, 1, 1)\n",
    "\n",
    "ax.set_xlim(0.9, len(total_rewards) + 0.1)\n",
    "ax.set_ylim(min(total_rewards) - 1, max(scores) + 1)\n",
    "ax.plot(range(1, len(total_rewards) + 1), total_rewards, color='red')\n",
    "# ax.plot(range(1, len(total_rewards) + 1), total_rewards, 'ro')"
   ]
  },
  {
   "cell_type": "code",
   "execution_count": null,
   "metadata": {},
   "outputs": [],
   "source": [
    "stop"
   ]
  },
  {
   "cell_type": "markdown",
   "metadata": {},
   "source": [
    "## EDA - Counting unique values in the RAM of one round of the game"
   ]
  },
  {
   "cell_type": "code",
   "execution_count": null,
   "metadata": {},
   "outputs": [],
   "source": [
    "states = np.array([e.state[RAM_POS_STATE] for e in episode])\n",
    "states"
   ]
  },
  {
   "cell_type": "code",
   "execution_count": null,
   "metadata": {},
   "outputs": [],
   "source": [
    "total_states = 1\n",
    "for i, r in enumerate(states.T):\n",
    "    total_states = len(np.unique(r)) * total_states\n",
    "#     print(total_states)\n",
    "    pass\n",
    "print(total_states, len(str(total_states)))"
   ]
  },
  {
   "cell_type": "code",
   "execution_count": null,
   "metadata": {},
   "outputs": [],
   "source": [
    "for i, r in enumerate(states.T):\n",
    "#     print(f\"[{i}]: {len(np.unique(r))} - {np.unique(r)}\")\n",
    "    pass"
   ]
  }
 ],
 "metadata": {
  "kernelspec": {
   "display_name": "Python 3",
   "language": "python",
   "name": "python3"
  },
  "language_info": {
   "codemirror_mode": {
    "name": "ipython",
    "version": 3
   },
   "file_extension": ".py",
   "mimetype": "text/x-python",
   "name": "python",
   "nbconvert_exporter": "python",
   "pygments_lexer": "ipython3",
   "version": "3.7.3"
  }
 },
 "nbformat": 4,
 "nbformat_minor": 4
}
