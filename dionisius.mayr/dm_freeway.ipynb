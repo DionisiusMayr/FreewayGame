{
 "cells": [
  {
   "cell_type": "markdown",
   "metadata": {},
   "source": [
    "# Setup"
   ]
  },
  {
   "cell_type": "markdown",
   "metadata": {},
   "source": [
    "Install the dependencies:\n",
    "```sh\n",
    "pip install gym\n",
    "pip install gym[atari]\n",
    "```"
   ]
  },
  {
   "cell_type": "markdown",
   "metadata": {},
   "source": [
    "# Useful Resources\n",
    "* [Manual of the game](https://www.gamesdatabase.org/Media/SYSTEM/Atari_2600/Manual/formated/Freeway_-_1981_-_Zellers.pdf)\n",
    "* [Freeway Disassembly](http://www.bjars.com/disassemblies.html)\n",
    "* [Atari Ram Annotations](https://github.com/mila-iqia/atari-representation-learning/blob/master/atariari/benchmark/ram_annotations.py)\n",
    "* [Freeway Benchmarks](https://paperswithcode.com/sota/atari-games-on-atari-2600-freeway)"
   ]
  },
  {
   "cell_type": "markdown",
   "metadata": {},
   "source": [
    "# Description of the problem"
   ]
  },
  {
   "cell_type": "markdown",
   "metadata": {},
   "source": [
    "TODO"
   ]
  },
  {
   "cell_type": "markdown",
   "metadata": {},
   "source": [
    "# Imports"
   ]
  },
  {
   "cell_type": "code",
   "execution_count": null,
   "metadata": {},
   "outputs": [],
   "source": [
    "import sys\n",
    "sys.path.append('../')  # Enable importing from `src` folder"
   ]
  },
  {
   "cell_type": "code",
   "execution_count": 2,
   "metadata": {},
   "outputs": [],
   "source": [
    "%matplotlib inline\n",
    "from collections import defaultdict\n",
    "from typing import List\n",
    "\n",
    "import numpy as np\n",
    "import time\n",
    "import matplotlib.pyplot as plt\n",
    "import seaborn as sns\n",
    "\n",
    "import gym\n",
    "\n",
    "import src.agents as agents\n",
    "import src.episode as episode\n",
    "import src.environment as environment\n",
    "import src.aux_plots as aux_plots"
   ]
  },
  {
   "cell_type": "code",
   "execution_count": 3,
   "metadata": {},
   "outputs": [],
   "source": [
    "def print_result(i, scores, total_reward, score):\n",
    "    if i % 10 == 0:\n",
    "        print(f\"Run [{i:4}] - Total reward: {total_reward:7.2f} Mean scores: {sum(scores) / len(scores):.2f} Means Scores[:-10]: {sum(scores[-10:]) / len(scores[-10:]):5.2f} Score: {score:2} \")"
   ]
  },
  {
   "cell_type": "markdown",
   "metadata": {},
   "source": [
    "# Environment"
   ]
  },
  {
   "cell_type": "markdown",
   "metadata": {},
   "source": [
    "We will be using the Open AI Gym framework in this study......."
   ]
  },
  {
   "cell_type": "code",
   "execution_count": 4,
   "metadata": {},
   "outputs": [],
   "source": [
    "# env, initial_state = environment.get_env()\n",
    "\n",
    "# print(\"Action Space:\", env.action_space)\n",
    "# print(\"Observation Space:\", env.observation_space)"
   ]
  },
  {
   "cell_type": "markdown",
   "metadata": {},
   "source": [
    "The agent in this game has three possible actions:\n",
    "\n",
    "* 0: Stay\n",
    "* 1: Move forward\n",
    "* 2: Move back"
   ]
  },
  {
   "cell_type": "markdown",
   "metadata": {},
   "source": [
    "TODO: Talk a bit about the observation space of 128 bytes of RAM..."
   ]
  },
  {
   "cell_type": "markdown",
   "metadata": {},
   "source": [
    "# Baseline"
   ]
  },
  {
   "cell_type": "markdown",
   "metadata": {},
   "source": [
    "As a simple baseline, we are using an agent that moves always **up**."
   ]
  },
  {
   "cell_type": "code",
   "execution_count": 5,
   "metadata": {},
   "outputs": [],
   "source": [
    "# scores = environment.run(agents.Baseline, render=True, n_runs=1)"
   ]
  },
  {
   "cell_type": "code",
   "execution_count": 6,
   "metadata": {},
   "outputs": [],
   "source": [
    "# Mean score\n",
    "# print(\"Mean score:\", sum(scores) / len(scores))"
   ]
  },
  {
   "cell_type": "markdown",
   "metadata": {},
   "source": [
    "It usually scores from 21 to 23 points, as shown in the images below:\n",
    "\n",
    "![Baseline 1](./img/baseline_1.png)\n",
    "![Baseline 2](./img/baseline_2.png)"
   ]
  },
  {
   "cell_type": "markdown",
   "metadata": {},
   "source": [
    "# Representing the state of the game"
   ]
  },
  {
   "cell_type": "markdown",
   "metadata": {},
   "source": [
    "TODO: explain why we must reduce the state space"
   ]
  },
  {
   "cell_type": "markdown",
   "metadata": {},
   "source": [
    "```\n",
    "      14  # Chicken Y\n",
    "    , 16  # Chicken Lane Collide\n",
    "    , 18  # Chicken Collision flag (with the bottom car)\n",
    "    , 22  # Car X Direction\n",
    "    , 23, 24, 25, 26, 27, 28, 29, 30, 31, 32  # Z Car Patterns\n",
    "    , 33, 34, 35, 36, 37, 38, 39, 40, 41, 42  # Car Motion Timmers\n",
    "    , 43, 44, 45, 46, 47, 48, 49, 50, 51, 52  # Car Motions\n",
    "    , 87, 88  # Car Shape Ptr\n",
    "    # TODO: test if this makes any difference\n",
    "    , 89, 90  # Chicken Shape Ptr\n",
    "    # TODO: test if this makes any difference\n",
    "    , 106, 107  # Chicken Sounds\n",
    "    , 108, 109, 110, 111, 112, 113, 114, 115, 116, 117  # Car X Coords\n",
    "```"
   ]
  },
  {
   "cell_type": "code",
   "execution_count": 7,
   "metadata": {},
   "outputs": [],
   "source": [
    "RAM_mask = [\n",
    "      14  # Chicken Y\n",
    "    , 16  # Chicken Lane Collide\n",
    "    , 108, 109, 110, 111, 112, 113, 114, 115, 116, 117  # Car X Coords\n",
    "]"
   ]
  },
  {
   "cell_type": "code",
   "execution_count": 8,
   "metadata": {},
   "outputs": [],
   "source": [
    "def reduce_state(ob):\n",
    "    # Doesn't matter where we were hit\n",
    "    ob[16] = 1 if ob[16] != 255 else 0\n",
    "\n",
    "    # Reduce chicken y-position\n",
    "    ob[14] = ob[14] // 3\n",
    "\n",
    "    for b in range(108, 118):\n",
    "        # The chicken is in the x-posistion ~49\n",
    "        if ob[b] < 20 or ob[b] > 80:\n",
    "            # We don't need to represent cars far from the chicken\n",
    "            ob[b] = 0\n",
    "        else:\n",
    "            # Reduce the cars x-positions sample space\n",
    "            ob[b] = ob[b] // 3\n",
    "\n",
    "    return ob"
   ]
  },
  {
   "cell_type": "markdown",
   "metadata": {},
   "source": [
    "# Reward Policy"
   ]
  },
  {
   "cell_type": "code",
   "execution_count": 9,
   "metadata": {},
   "outputs": [],
   "source": [
    "def reward_policy(reward, ob, action):\n",
    "    if reward == 1:\n",
    "        reward = reward_policy.REWARD_IF_CROSS\n",
    "    elif ob[16] == 1:  # Collision!\n",
    "        reward = reward_policy.REWARD_IF_COLISION\n",
    "    elif action != 1:  # Don't incentivate staying still\n",
    "        reward = reward_policy.REWARD_IF_STILL\n",
    "\n",
    "    return reward"
   ]
  },
  {
   "cell_type": "markdown",
   "metadata": {},
   "source": [
    "# Hyper Parameters"
   ]
  },
  {
   "cell_type": "code",
   "execution_count": 10,
   "metadata": {},
   "outputs": [],
   "source": [
    "GAMMA = 0.99\n",
    "AVAILABLE_ACTIONS = 2\n",
    "N0 = 2.5\n",
    "LAMBD = 0.2\n",
    "\n",
    "reward_policy.REWARD_IF_CROSS = 50\n",
    "reward_policy.REWARD_IF_COLISION = -1\n",
    "reward_policy.REWARD_IF_STILL = -0.1"
   ]
  },
  {
   "cell_type": "markdown",
   "metadata": {},
   "source": [
    "# SARSA(λ)"
   ]
  },
  {
   "cell_type": "code",
   "execution_count": 11,
   "metadata": {},
   "outputs": [],
   "source": [
    "class SarsaLambda():  ## ADD THE AGENT\n",
    "    def __init__(self, gamma: float, available_actions: int, N0: float, lambd: float):\n",
    "        self.gamma = gamma\n",
    "        self.available_actions = available_actions\n",
    "        self.N0 = N0\n",
    "        self.lambd = lambd\n",
    "\n",
    "        self.Q = defaultdict(lambda: np.zeros(self.available_actions))\n",
    "        self.state_visits = defaultdict(lambda: 0)\n",
    "        self.Nsa = defaultdict(lambda: defaultdict(lambda: 0))\n",
    "\n",
    "    def act(self, state):\n",
    "        epsilon = self.N0 / (self.N0 + self.state_visits[state])\n",
    "\n",
    "        if np.random.choice(np.arange(self.available_actions), p=[1 - epsilon, epsilon]):\n",
    "            action = np.random.choice(self.available_actions)  # Explore!\n",
    "        elif self.Q[state].max() == 0.0 and self.Q[state].min() == 0.0:\n",
    "            action = 1  # Bias toward going forward\n",
    "        else:\n",
    "            action = self.Q[state].argmax()  # Greedy action\n",
    "\n",
    "        self.state_visits[state] += 1\n",
    "\n",
    "        self.Nsa[state][action] += 1\n",
    "\n",
    "        return action\n",
    "\n",
    "    def update_Q(self, old_s, new_s, old_a, new_a, reward, E):\n",
    "        delta = reward + self.gamma * self.Q[new_s][new_a] - self.Q[old_s][old_a]\n",
    "        alpha = (1 / self.Nsa[old_s][old_a])\n",
    "\n",
    "        for s, A in E.items():\n",
    "            for a in range(len(A)):\n",
    "                self.Q[old_s][old_a] = self.Q[old_s][old_a] + alpha * delta * E[s][a]\n",
    "                E[s][a] = self.gamma * self.lambd * E[s][a]\n",
    "#                 print(s, a)\n",
    "\n",
    "#         self.Q[old_s][old_a] = (self.Q[old_s][old_a] +\n",
    "#                                      alpha * (reward + (self.gamma * self.Q[new_s].max()) - self.Q[old_s][old_a]))"
   ]
  },
  {
   "cell_type": "code",
   "execution_count": 12,
   "metadata": {},
   "outputs": [],
   "source": [
    "env, initial_state = environment.get_env()"
   ]
  },
  {
   "cell_type": "code",
   "execution_count": 13,
   "metadata": {},
   "outputs": [],
   "source": [
    "# agent = agents.SarsaLambda(gamma=GAMMA, available_actions=AVAILABLE_ACTIONS, N0=N0, lambd=LAMBD)\n",
    "agent = SarsaLambda(gamma=GAMMA, available_actions=AVAILABLE_ACTIONS, N0=N0, lambd=LAMBD)"
   ]
  },
  {
   "cell_type": "code",
   "execution_count": 14,
   "metadata": {},
   "outputs": [],
   "source": [
    "scores = []\n",
    "total_rewards = []"
   ]
  },
  {
   "cell_type": "code",
   "execution_count": 15,
   "metadata": {},
   "outputs": [
    {
     "name": "stdout",
     "output_type": "stream",
     "text": [
      "Run [   0] - Total reward:  343.90 Mean scores: 11.00 Means Scores[:-10]: 11.00 Score: 11 \n",
      "Run [  10] - Total reward:  348.30 Mean scores: 11.36 Means Scores[:-10]: 11.40 Score: 11 \n",
      "Run [  20] - Total reward:  538.00 Mean scores: 12.43 Means Scores[:-10]: 13.60 Score: 14 \n",
      "Run [  30] - Total reward:  695.40 Mean scores: 12.90 Means Scores[:-10]: 13.90 Score: 17 \n",
      "Run [  40] - Total reward:  581.20 Mean scores: 13.32 Means Scores[:-10]: 14.60 Score: 15 \n",
      "Run [  50] - Total reward:  464.80 Mean scores: 13.59 Means Scores[:-10]: 14.70 Score: 13 \n",
      "Run [  60] - Total reward:  529.10 Mean scores: 14.03 Means Scores[:-10]: 16.30 Score: 14 \n",
      "Run [  70] - Total reward:  714.70 Mean scores: 14.45 Means Scores[:-10]: 17.00 Score: 17 \n",
      "Run [  80] - Total reward:  797.50 Mean scores: 14.83 Means Scores[:-10]: 17.50 Score: 19 \n",
      "Run [  90] - Total reward:  801.70 Mean scores: 15.26 Means Scores[:-10]: 18.80 Score: 19 \n",
      "Run [ 100] - Total reward:  876.20 Mean scores: 15.55 Means Scores[:-10]: 18.20 Score: 20 \n",
      "Run [ 110] - Total reward:  819.30 Mean scores: 15.79 Means Scores[:-10]: 18.20 Score: 19 \n",
      "Run [ 120] - Total reward:  694.60 Mean scores: 16.02 Means Scores[:-10]: 18.60 Score: 17 \n",
      "Run [ 130] - Total reward:  707.60 Mean scores: 16.19 Means Scores[:-10]: 18.20 Score: 17 \n",
      "Run [ 140] - Total reward:  648.80 Mean scores: 16.37 Means Scores[:-10]: 18.70 Score: 16 \n",
      "Run [ 150] - Total reward:  704.10 Mean scores: 16.47 Means Scores[:-10]: 17.90 Score: 17 \n",
      "Run [ 160] - Total reward:  878.90 Mean scores: 16.60 Means Scores[:-10]: 18.50 Score: 20 \n",
      "Run [ 170] - Total reward:  839.60 Mean scores: 16.77 Means Scores[:-10]: 19.60 Score: 19 \n",
      "Run [ 180] - Total reward:  815.70 Mean scores: 16.91 Means Scores[:-10]: 19.20 Score: 19 \n",
      "Run [ 190] - Total reward:  815.10 Mean scores: 17.06 Means Scores[:-10]: 19.80 Score: 19 \n",
      "Run [ 200] - Total reward:  822.00 Mean scores: 17.21 Means Scores[:-10]: 20.20 Score: 19 \n",
      "Run [ 210] - Total reward:  779.50 Mean scores: 17.31 Means Scores[:-10]: 19.20 Score: 18 \n",
      "Run [ 220] - Total reward:  869.10 Mean scores: 17.45 Means Scores[:-10]: 20.40 Score: 20 \n",
      "Run [ 230] - Total reward:  866.40 Mean scores: 17.58 Means Scores[:-10]: 20.60 Score: 20 \n",
      "Run [ 240] - Total reward:  760.00 Mean scores: 17.68 Means Scores[:-10]: 19.90 Score: 18 \n",
      "Run [ 250] - Total reward:  835.60 Mean scores: 17.76 Means Scores[:-10]: 19.70 Score: 19 \n",
      "Run [ 260] - Total reward:  940.60 Mean scores: 17.86 Means Scores[:-10]: 20.30 Score: 21 \n",
      "Run [ 270] - Total reward:  876.20 Mean scores: 17.94 Means Scores[:-10]: 20.00 Score: 20 \n",
      "Run [ 280] - Total reward:  892.80 Mean scores: 18.03 Means Scores[:-10]: 20.50 Score: 20 \n",
      "Run [ 290] - Total reward:  776.80 Mean scores: 18.10 Means Scores[:-10]: 20.00 Score: 18 \n",
      "Run [ 300] - Total reward:  877.40 Mean scores: 18.21 Means Scores[:-10]: 21.40 Score: 20 \n",
      "Run [ 310] - Total reward:  897.50 Mean scores: 18.29 Means Scores[:-10]: 20.90 Score: 20 \n",
      "Run [ 320] - Total reward:  884.90 Mean scores: 18.36 Means Scores[:-10]: 20.40 Score: 20 \n",
      "Run [ 330] - Total reward:  930.90 Mean scores: 18.44 Means Scores[:-10]: 20.90 Score: 21 \n",
      "Run [ 340] - Total reward:  953.60 Mean scores: 18.51 Means Scores[:-10]: 21.00 Score: 21 \n",
      "Run [ 350] - Total reward:  981.30 Mean scores: 18.59 Means Scores[:-10]: 21.40 Score: 22 \n",
      "Run [ 360] - Total reward:  988.80 Mean scores: 18.68 Means Scores[:-10]: 21.70 Score: 22 \n",
      "Run [ 370] - Total reward:  983.10 Mean scores: 18.76 Means Scores[:-10]: 21.60 Score: 22 \n",
      "Run [ 380] - Total reward:  820.00 Mean scores: 18.82 Means Scores[:-10]: 21.30 Score: 19 \n",
      "Run [ 390] - Total reward:  888.20 Mean scores: 18.91 Means Scores[:-10]: 22.00 Score: 20 \n",
      "Run [ 400] - Total reward:  994.30 Mean scores: 18.97 Means Scores[:-10]: 21.30 Score: 22 \n",
      "Run [ 410] - Total reward: 1040.10 Mean scores: 19.03 Means Scores[:-10]: 21.60 Score: 23 \n",
      "Run [ 420] - Total reward:  879.50 Mean scores: 19.10 Means Scores[:-10]: 21.80 Score: 20 \n",
      "Run [ 430] - Total reward:  986.70 Mean scores: 19.19 Means Scores[:-10]: 23.10 Score: 22 \n",
      "Run [ 440] - Total reward:  984.40 Mean scores: 19.26 Means Scores[:-10]: 22.50 Score: 22 \n",
      "Run [ 450] - Total reward: 1113.40 Mean scores: 19.33 Means Scores[:-10]: 22.30 Score: 24 \n",
      "Run [ 460] - Total reward:  994.60 Mean scores: 19.40 Means Scores[:-10]: 22.60 Score: 22 \n",
      "Run [ 470] - Total reward:  997.60 Mean scores: 19.46 Means Scores[:-10]: 22.10 Score: 22 \n",
      "Run [ 480] - Total reward:  940.30 Mean scores: 19.53 Means Scores[:-10]: 22.90 Score: 21 \n",
      "Run [ 490] - Total reward:  938.60 Mean scores: 19.58 Means Scores[:-10]: 22.20 Score: 21 \n",
      "Run [ 500] - Total reward:  994.30 Mean scores: 19.66 Means Scores[:-10]: 23.30 Score: 22 \n",
      "Run [ 510] - Total reward: 1153.00 Mean scores: 19.71 Means Scores[:-10]: 22.30 Score: 25 \n",
      "Run [ 520] - Total reward:  984.80 Mean scores: 19.78 Means Scores[:-10]: 23.20 Score: 22 \n",
      "Run [ 530] - Total reward:  952.70 Mean scores: 19.83 Means Scores[:-10]: 22.70 Score: 21 \n",
      "Run [ 540] - Total reward:  997.30 Mean scores: 19.89 Means Scores[:-10]: 22.90 Score: 22 \n",
      "Run [ 550] - Total reward: 1048.60 Mean scores: 19.95 Means Scores[:-10]: 23.50 Score: 23 \n",
      "Run [ 560] - Total reward: 1098.40 Mean scores: 20.01 Means Scores[:-10]: 23.10 Score: 24 \n",
      "Run [ 570] - Total reward: 1161.20 Mean scores: 20.08 Means Scores[:-10]: 23.90 Score: 25 \n",
      "Run [ 580] - Total reward: 1053.90 Mean scores: 20.13 Means Scores[:-10]: 22.80 Score: 23 \n",
      "Run [ 590] - Total reward: 1052.70 Mean scores: 20.19 Means Scores[:-10]: 23.80 Score: 23 \n",
      "Run [ 600] - Total reward: 1041.50 Mean scores: 20.26 Means Scores[:-10]: 24.40 Score: 23 \n",
      "Run [ 610] - Total reward: 1011.10 Mean scores: 20.31 Means Scores[:-10]: 23.40 Score: 22 \n",
      "Run [ 620] - Total reward: 1118.30 Mean scores: 20.36 Means Scores[:-10]: 23.60 Score: 24 \n",
      "Run [ 630] - Total reward: 1219.20 Mean scores: 20.42 Means Scores[:-10]: 23.90 Score: 26 \n",
      "Run [ 640] - Total reward: 1109.30 Mean scores: 20.48 Means Scores[:-10]: 24.20 Score: 24 \n",
      "Run [ 650] - Total reward: 1107.70 Mean scores: 20.54 Means Scores[:-10]: 24.70 Score: 24 \n",
      "Run [ 660] - Total reward: 1157.80 Mean scores: 20.60 Means Scores[:-10]: 24.40 Score: 25 \n",
      "Run [ 670] - Total reward: 1283.70 Mean scores: 20.66 Means Scores[:-10]: 24.80 Score: 27 \n",
      "Run [ 680] - Total reward: 1003.70 Mean scores: 20.73 Means Scores[:-10]: 25.40 Score: 22 \n",
      "Run [ 690] - Total reward: 1203.40 Mean scores: 20.79 Means Scores[:-10]: 24.70 Score: 26 \n",
      "Run [ 700] - Total reward: 1223.60 Mean scores: 20.84 Means Scores[:-10]: 24.40 Score: 26 \n",
      "Run [ 710] - Total reward: 1093.80 Mean scores: 20.90 Means Scores[:-10]: 24.70 Score: 24 \n",
      "Run [ 720] - Total reward: 1216.80 Mean scores: 20.95 Means Scores[:-10]: 25.00 Score: 26 \n",
      "Run [ 730] - Total reward: 1224.20 Mean scores: 21.01 Means Scores[:-10]: 25.20 Score: 26 \n",
      "Run [ 740] - Total reward: 1216.00 Mean scores: 21.07 Means Scores[:-10]: 25.10 Score: 26 \n",
      "Run [ 750] - Total reward: 1158.50 Mean scores: 21.12 Means Scores[:-10]: 25.00 Score: 25 \n",
      "Run [ 760] - Total reward: 1168.30 Mean scores: 21.16 Means Scores[:-10]: 24.40 Score: 25 \n",
      "Run [ 770] - Total reward: 1273.00 Mean scores: 21.22 Means Scores[:-10]: 25.60 Score: 27 \n",
      "Run [ 780] - Total reward: 1329.10 Mean scores: 21.27 Means Scores[:-10]: 25.00 Score: 28 \n",
      "Run [ 790] - Total reward: 1049.80 Mean scores: 21.31 Means Scores[:-10]: 24.80 Score: 23 \n",
      "Run [ 800] - Total reward: 1218.00 Mean scores: 21.35 Means Scores[:-10]: 24.70 Score: 26 \n",
      "Run [ 810] - Total reward: 1041.70 Mean scores: 21.41 Means Scores[:-10]: 25.70 Score: 23 \n",
      "Run [ 820] - Total reward: 1105.20 Mean scores: 21.46 Means Scores[:-10]: 25.70 Score: 24 \n",
      "Run [ 830] - Total reward: 1058.10 Mean scores: 21.50 Means Scores[:-10]: 24.90 Score: 23 \n",
      "Run [ 840] - Total reward: 1168.50 Mean scores: 21.56 Means Scores[:-10]: 26.50 Score: 25 \n",
      "Run [ 850] - Total reward: 1146.70 Mean scores: 21.61 Means Scores[:-10]: 25.60 Score: 25 \n",
      "Run [ 860] - Total reward: 1271.30 Mean scores: 21.65 Means Scores[:-10]: 25.50 Score: 27 \n",
      "Run [ 870] - Total reward: 1166.20 Mean scores: 21.70 Means Scores[:-10]: 25.30 Score: 25 \n",
      "Run [ 880] - Total reward: 1231.50 Mean scores: 21.75 Means Scores[:-10]: 26.20 Score: 26 \n",
      "Run [ 890] - Total reward: 1207.00 Mean scores: 21.79 Means Scores[:-10]: 25.90 Score: 26 \n",
      "Run [ 900] - Total reward: 1049.60 Mean scores: 21.82 Means Scores[:-10]: 24.50 Score: 23 \n",
      "Run [ 910] - Total reward: 1154.60 Mean scores: 21.87 Means Scores[:-10]: 26.40 Score: 25 \n",
      "Run [ 920] - Total reward: 1050.20 Mean scores: 21.92 Means Scores[:-10]: 25.80 Score: 23 \n",
      "Run [ 930] - Total reward: 1267.30 Mean scores: 21.96 Means Scores[:-10]: 26.20 Score: 27 \n",
      "Run [ 940] - Total reward: 1046.80 Mean scores: 22.01 Means Scores[:-10]: 26.20 Score: 23 \n",
      "Run [ 950] - Total reward: 1158.50 Mean scores: 22.05 Means Scores[:-10]: 26.30 Score: 25 \n",
      "Run [ 960] - Total reward: 1326.20 Mean scores: 22.09 Means Scores[:-10]: 26.10 Score: 28 \n",
      "Run [ 970] - Total reward: 1155.50 Mean scores: 22.13 Means Scores[:-10]: 25.30 Score: 25 \n",
      "Run [ 980] - Total reward: 1211.20 Mean scores: 22.16 Means Scores[:-10]: 25.40 Score: 26 \n",
      "Run [ 990] - Total reward: 1319.90 Mean scores: 22.20 Means Scores[:-10]: 25.70 Score: 28 \n",
      "CPU times: user 2h 50min 39s, sys: 3.36 s, total: 2h 50min 43s\n",
      "Wall time: 2h 51min 54s\n"
     ]
    }
   ],
   "source": [
    "%%time\n",
    "n_runs = 1000\n",
    "\n",
    "for i in range(n_runs):\n",
    "    render = i % 200 == 199\n",
    "\n",
    "    E = defaultdict(lambda: np.zeros(2)) # TODO available actions\n",
    "\n",
    "    game_over = False\n",
    "    state = env.reset()\n",
    "    state = reduce_state(state)[RAM_mask].data.tobytes()  # Select useful bytes\n",
    "    action = agent.act(state)\n",
    "    \n",
    "    score = 0\n",
    "    total_reward = 0\n",
    "\n",
    "    while not game_over:\n",
    "        if render:\n",
    "            time.sleep(0.005)\n",
    "            env.render()\n",
    "\n",
    "        old_state = state\n",
    "        old_action = action\n",
    "        ob, reward, game_over, _ = env.step(action)\n",
    "\n",
    "        ob = reduce_state(ob)\n",
    "        reward = reward_policy(reward, ob, action)\n",
    "\n",
    "        total_reward += reward\n",
    "\n",
    "        if reward == reward_policy.REWARD_IF_CROSS:\n",
    "            score += 1\n",
    "\n",
    "        state = ob[RAM_mask].data.tobytes()\n",
    "\n",
    "        action = agent.act(state)  # Next action\n",
    "        \n",
    "        E[old_state][old_action] += 1\n",
    "\n",
    "        agent.update_Q(old_s=old_state, new_s=state, old_a=old_action, new_a=action, reward=reward, E=E)\n",
    "\n",
    "    scores.append(score)\n",
    "    total_rewards.append(total_reward)\n",
    "\n",
    "    print_result(i, scores, total_reward, score)"
   ]
  },
  {
   "cell_type": "code",
   "execution_count": 16,
   "metadata": {},
   "outputs": [
    {
     "data": {
      "image/png": "[encoded data removed]",
      "text/plain": [
       "<Figure size 800x560 with 1 Axes>"
      ]
     },
     "metadata": {
      "needs_background": "light"
     },
     "output_type": "display_data"
    }
   ],
   "source": [
    "aux_plots.plot_scores(scores)"
   ]
  },
  {
   "cell_type": "code",
   "execution_count": 17,
   "metadata": {},
   "outputs": [
    {
     "data": {
      "image/png": "[encoded data removed]",
      "text/plain": [
       "<Figure size 800x560 with 1 Axes>"
      ]
     },
     "metadata": {
      "needs_background": "light"
     },
     "output_type": "display_data"
    }
   ],
   "source": [
    "aux_plots.plot_rewards(total_rewards)"
   ]
  },
  {
   "cell_type": "code",
   "execution_count": 18,
   "metadata": {},
   "outputs": [
    {
     "ename": "NameError",
     "evalue": "name 'stop' is not defined",
     "output_type": "error",
     "traceback": [
      "\u001b[0;31m---------------------------------------------------------------------------\u001b[0m",
      "\u001b[0;31mNameError\u001b[0m                                 Traceback (most recent call last)",
      "\u001b[0;32m<ipython-input-18-4f76a9dad686>\u001b[0m in \u001b[0;36m<module>\u001b[0;34m\u001b[0m\n\u001b[0;32m----> 1\u001b[0;31m \u001b[0mstop\u001b[0m\u001b[0;34m\u001b[0m\u001b[0;34m\u001b[0m\u001b[0m\n\u001b[0m",
      "\u001b[0;31mNameError\u001b[0m: name 'stop' is not defined"
     ]
    }
   ],
   "source": [
    "stop"
   ]
  },
  {
   "cell_type": "markdown",
   "metadata": {},
   "source": [
    "# Q-Learning"
   ]
  },
  {
   "cell_type": "code",
   "execution_count": null,
   "metadata": {},
   "outputs": [],
   "source": [
    "env, initial_state = environment.get_env()"
   ]
  },
  {
   "cell_type": "code",
   "execution_count": null,
   "metadata": {},
   "outputs": [],
   "source": [
    "agent = agents.QLearning(gamma=GAMMA, available_actions=AVAILABLE_ACTIONS, N0=N0)"
   ]
  },
  {
   "cell_type": "code",
   "execution_count": null,
   "metadata": {},
   "outputs": [],
   "source": [
    "scores = []\n",
    "total_rewards = []"
   ]
  },
  {
   "cell_type": "code",
   "execution_count": null,
   "metadata": {},
   "outputs": [],
   "source": [
    "%%time\n",
    "n_runs = 1\n",
    "\n",
    "for i in range(n_runs):\n",
    "    render = i % 200 == 0\n",
    "\n",
    "    game_over = False\n",
    "    state = env.reset()\n",
    "    state = reduce_state(state)[RAM_mask].data.tobytes()  # Select useful bytes\n",
    "    action = agent.act(state)\n",
    "    \n",
    "    score = 0\n",
    "    total_reward = 0\n",
    "\n",
    "    while not game_over:\n",
    "        if render:\n",
    "            time.sleep(0.025)\n",
    "            env.render()\n",
    "\n",
    "        old_state = state\n",
    "        ob, reward, game_over, _ = env.step(action)\n",
    "\n",
    "        ob = reduce_state(ob)\n",
    "        reward = reward_policy(reward, ob, action)\n",
    "\n",
    "        total_reward += reward\n",
    "\n",
    "        if reward == reward_policy.REWARD_IF_CROSS:\n",
    "            score += 1\n",
    "\n",
    "        state = ob[RAM_mask].data.tobytes()\n",
    "\n",
    "        agent.update_Q(old_state, state, action, reward)\n",
    "\n",
    "        action = agent.act(state)  # Next action\n",
    "\n",
    "    scores.append(score)\n",
    "    total_rewards.append(total_reward)\n",
    "\n",
    "    print_result(i, scores, total_reward, score)"
   ]
  },
  {
   "cell_type": "code",
   "execution_count": null,
   "metadata": {},
   "outputs": [],
   "source": [
    "aux_plots.plot_scores(scores)"
   ]
  },
  {
   "cell_type": "code",
   "execution_count": null,
   "metadata": {},
   "outputs": [],
   "source": [
    "aux_plots.plot_rewards(total_rewards)"
   ]
  },
  {
   "cell_type": "code",
   "execution_count": null,
   "metadata": {},
   "outputs": [],
   "source": [
    "stop"
   ]
  },
  {
   "cell_type": "markdown",
   "metadata": {},
   "source": [
    "# Monte Carlo Control"
   ]
  },
  {
   "cell_type": "markdown",
   "metadata": {},
   "source": [
    "It usually scores from 21 to 23 points, as shown in the images below:\n",
    "\n",
    "![Baseline 1](./img/baseline_1.png)\n",
    "![Baseline 2](./img/baseline_2.png)"
   ]
  },
  {
   "cell_type": "code",
   "execution_count": null,
   "metadata": {},
   "outputs": [],
   "source": [
    "env, initial_state = environment.get_env()"
   ]
  },
  {
   "cell_type": "code",
   "execution_count": null,
   "metadata": {},
   "outputs": [],
   "source": [
    "agent = agents.MonteCarloControl(gamma=GAMMA, available_actions=AVAILABLE_ACTIONS, N0=N0)"
   ]
  },
  {
   "cell_type": "code",
   "execution_count": null,
   "metadata": {},
   "outputs": [],
   "source": [
    "def MonteCarloES(RAM_mask: List[int], render: bool=False):\n",
    "    epi = episode.generate_episode(env, reduce_state=reduce_state, reward_policy=reward_policy, agent=agent, RAM_mask=RAM_mask, render=render)\n",
    "    return agent.update_policy(epi)"
   ]
  },
  {
   "cell_type": "code",
   "execution_count": null,
   "metadata": {},
   "outputs": [],
   "source": [
    "%%time\n",
    "MonteCarloES(RAM_mask=RAM_mask, render=False)"
   ]
  },
  {
   "cell_type": "code",
   "execution_count": null,
   "metadata": {},
   "outputs": [],
   "source": [
    "scores = []\n",
    "total_rewards = []"
   ]
  },
  {
   "cell_type": "code",
   "execution_count": null,
   "metadata": {},
   "outputs": [],
   "source": [
    "%%time\n",
    "\n",
    "n_runs = 2500\n",
    "\n",
    "for i in range(n_runs):\n",
    "    render = i % 201 == 200\n",
    "\n",
    "    score, total_reward = MonteCarloES(RAM_mask=RAM_mask, render=render)\n",
    "\n",
    "    scores.append(score)\n",
    "    total_rewards.append(total_reward)\n",
    "\n",
    "    print_result(i, scores, total_reward, score)"
   ]
  },
  {
   "cell_type": "code",
   "execution_count": null,
   "metadata": {},
   "outputs": [],
   "source": [
    "aux_plots.plot_scores(scores)"
   ]
  },
  {
   "cell_type": "code",
   "execution_count": null,
   "metadata": {},
   "outputs": [],
   "source": [
    "aux_plots.plot_rewards(total_rewards)"
   ]
  },
  {
   "cell_type": "code",
   "execution_count": null,
   "metadata": {},
   "outputs": [],
   "source": [
    "stop"
   ]
  }
 ],
 "metadata": {
  "kernelspec": {
   "display_name": "Python 3",
   "language": "python",
   "name": "python3"
  },
  "language_info": {
   "codemirror_mode": {
    "name": "ipython",
    "version": 3
   },
   "file_extension": ".py",
   "mimetype": "text/x-python",
   "name": "python",
   "nbconvert_exporter": "python",
   "pygments_lexer": "ipython3",
   "version": "3.7.3"
  }
 },
 "nbformat": 4,
 "nbformat_minor": 4
}
