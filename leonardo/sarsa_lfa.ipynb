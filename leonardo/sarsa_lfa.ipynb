{
  "nbformat": 4,
  "nbformat_minor": 0,
  "metadata": {
    "colab": {
      "name": "sarsa_lfa.ipynb",
      "provenance": [],
      "collapsed_sections": []
    },
    "kernelspec": {
      "name": "python3",
      "display_name": "Python 3"
    }
  },
  "cells": [
    {
      "cell_type": "code",
      "metadata": {
        "colab": {
          "base_uri": "https://localhost:8080/"
        },
        "id": "zhrLTmre3ml1",
        "outputId": "d1035f2c-40de-4893-84b8-923d9703f9a0"
      },
      "source": [
        "!git clone https://oramleo@github.com/DionisiusMayr/FreewayGame.git"
      ],
      "execution_count": 1,
      "outputs": [
        {
          "output_type": "stream",
          "text": [
            "fatal: destination path 'FreewayGame' already exists and is not an empty directory.\n"
          ],
          "name": "stdout"
        }
      ]
    },
    {
      "cell_type": "code",
      "metadata": {
        "id": "LjpaGNMU4Hwt"
      },
      "source": [
        "!cp -r FreewayGame/dionisius.mayr/* FreewayGame/leonardo/\n"
      ],
      "execution_count": 2,
      "outputs": []
    },
    {
      "cell_type": "code",
      "metadata": {
        "colab": {
          "base_uri": "https://localhost:8080/"
        },
        "id": "tSSWXd1b4dYU",
        "outputId": "468c9f98-6584-4a93-88c3-b19b93970b76"
      },
      "source": [
        "!pip install gym\n",
        "!pip install gym[atari]\n"
      ],
      "execution_count": 3,
      "outputs": [
        {
          "output_type": "stream",
          "text": [
            "Requirement already satisfied: gym in /usr/local/lib/python3.6/dist-packages (0.17.3)\n",
            "Requirement already satisfied: scipy in /usr/local/lib/python3.6/dist-packages (from gym) (1.4.1)\n",
            "Requirement already satisfied: pyglet<=1.5.0,>=1.4.0 in /usr/local/lib/python3.6/dist-packages (from gym) (1.5.0)\n",
            "Requirement already satisfied: numpy>=1.10.4 in /usr/local/lib/python3.6/dist-packages (from gym) (1.19.4)\n",
            "Requirement already satisfied: cloudpickle<1.7.0,>=1.2.0 in /usr/local/lib/python3.6/dist-packages (from gym) (1.3.0)\n",
            "Requirement already satisfied: future in /usr/local/lib/python3.6/dist-packages (from pyglet<=1.5.0,>=1.4.0->gym) (0.16.0)\n",
            "Requirement already satisfied: gym[atari] in /usr/local/lib/python3.6/dist-packages (0.17.3)\n",
            "Requirement already satisfied: pyglet<=1.5.0,>=1.4.0 in /usr/local/lib/python3.6/dist-packages (from gym[atari]) (1.5.0)\n",
            "Requirement already satisfied: scipy in /usr/local/lib/python3.6/dist-packages (from gym[atari]) (1.4.1)\n",
            "Requirement already satisfied: cloudpickle<1.7.0,>=1.2.0 in /usr/local/lib/python3.6/dist-packages (from gym[atari]) (1.3.0)\n",
            "Requirement already satisfied: numpy>=1.10.4 in /usr/local/lib/python3.6/dist-packages (from gym[atari]) (1.19.4)\n",
            "Requirement already satisfied: Pillow; extra == \"atari\" in /usr/local/lib/python3.6/dist-packages (from gym[atari]) (7.0.0)\n",
            "Requirement already satisfied: atari-py~=0.2.0; extra == \"atari\" in /usr/local/lib/python3.6/dist-packages (from gym[atari]) (0.2.6)\n",
            "Requirement already satisfied: opencv-python; extra == \"atari\" in /usr/local/lib/python3.6/dist-packages (from gym[atari]) (4.1.2.30)\n",
            "Requirement already satisfied: future in /usr/local/lib/python3.6/dist-packages (from pyglet<=1.5.0,>=1.4.0->gym[atari]) (0.16.0)\n",
            "Requirement already satisfied: six in /usr/local/lib/python3.6/dist-packages (from atari-py~=0.2.0; extra == \"atari\"->gym[atari]) (1.15.0)\n"
          ],
          "name": "stdout"
        }
      ]
    },
    {
      "cell_type": "code",
      "metadata": {
        "id": "d8aNOyql5UUN"
      },
      "source": [
        "import sys\n",
        "sys.path.append('/content/FreewayGame/leonardo/')\n",
        "%matplotlib inline\n",
        "from collections import defaultdict\n",
        "from typing import List\n",
        "\n",
        "import numpy as np\n",
        "import time\n",
        "import matplotlib.pyplot as plt\n",
        "import seaborn as sns\n",
        "\n",
        "import gym\n",
        "\n",
        "import src.agents as agents\n",
        "import src.episode as episode\n",
        "import src.environment as environment\n",
        "import src.aux_plots as aux_plots"
      ],
      "execution_count": 5,
      "outputs": []
    },
    {
      "cell_type": "code",
      "metadata": {
        "id": "PuE-rwxu5c_y"
      },
      "source": [
        "def print_result(i, scores, total_reward, score):\n",
        "    if i % 10 == 0:\n",
        "        print(f\"Run [{i:4}] - Total reward: {total_reward:7.2f} Mean scores: {sum(scores) / len(scores):.2f} Means Scores[:-10]: {sum(scores[-10:]) / len(scores[-10:]):5.2f} Score: {score:2} \")"
      ],
      "execution_count": 6,
      "outputs": []
    },
    {
      "cell_type": "code",
      "metadata": {
        "id": "r8WTU2ji50K_"
      },
      "source": [
        "RAM_mask = [\n",
        "      14  # Chicken Y\n",
        "    , 16  # Chicken Lane Collide\n",
        "    , 108, 109, 110, 111, 112, 113, 114, 115, 116, 117  # Car X Coords\n",
        "]"
      ],
      "execution_count": 7,
      "outputs": []
    },
    {
      "cell_type": "code",
      "metadata": {
        "id": "vEYk4StW54vp"
      },
      "source": [
        "def reduce_state(ob):\n",
        "    # Doesn't matter where we were hit\n",
        "    ob[16] = 1 if ob[16] != 255 else 0\n",
        "\n",
        "    # Reduce chicken y-position\n",
        "    ob[14] = ob[14] // 3\n",
        "\n",
        "    for b in range(108, 118):\n",
        "        # The chicken is in the x-posistion ~49\n",
        "        if ob[b] < 20 or ob[b] > 80:\n",
        "            # We don't need to represent cars far from the chicken\n",
        "            ob[b] = 0\n",
        "        else:\n",
        "            # Reduce the cars x-positions sample space\n",
        "            ob[b] = ob[b] // 3\n",
        "\n",
        "    return ob\n",
        "    \n",
        "def reward_policy(reward, ob, action):\n",
        "    if reward == 1:\n",
        "        reward = reward_policy.REWARD_IF_CROSS\n",
        "    elif ob[16] == 1:  # Collision!\n",
        "        reward = reward_policy.REWARD_IF_COLISION\n",
        "    elif action != 1:  # Don't incentivate staying still\n",
        "        reward = reward_policy.REWARD_IF_STILL\n",
        "\n",
        "    return reward"
      ],
      "execution_count": 8,
      "outputs": []
    },
    {
      "cell_type": "code",
      "metadata": {
        "id": "X8O8wi2q6DX3"
      },
      "source": [
        "class SarsaLFA():\n",
        "    def __init__(self, gamma: float, available_actions: int, N0: float, discount_factor: int, alpha: float):\n",
        "        self.gamma = gamma\n",
        "        self.available_actions = available_actions\n",
        "        self.N0 = N0\n",
        "        self.alpha = alpha\n",
        "\n",
        "        self.weights = np.random.rand(2+len(RAM_mask))\n",
        "\n",
        "        self.state_visits = defaultdict(lambda: 0)\n",
        "\n",
        "    def qw(self, state, action):\n",
        "        return np.dot(self.get_features(state, action), self.weights)\n",
        "\n",
        "    def get_features(self, state, action):\n",
        "        return np.append(np.frombuffer(state, dtype=np.uint8, count=-1), [action, 1])\n",
        "\n",
        "    def act(self, state):\n",
        "        epsilon = self.N0 / (self.N0 + self.state_visits[state])\n",
        "\n",
        "        if np.random.choice(np.arange(self.available_actions), p=[1 - epsilon, epsilon]):\n",
        "            action = np.random.choice(self.available_actions)  # Explore!\n",
        "        elif self.state_visits[state] == 0:\n",
        "            action = 1  # Bias toward going forward\n",
        "        else:\n",
        "            action = np.argmax([self.qw(state, act) for act in range(self.available_actions)])\n",
        "\n",
        "        self.state_visits[state] += 1\n",
        "\n",
        "\n",
        "        return action\n",
        "\n",
        "    def update_Q(self, old_s, new_s, old_a, new_a, reward, E):\n",
        "        delta = reward + self.gamma * self.qw(new_s, new_a) - self.qw(old_s, old_a)\n",
        "        self.weights += self.alpha * delta * self.get_features(new_s, action)\n",
        "        # alpha = (1 / self.Nsa[old_s][old_a])\n",
        "\n",
        "        # for s, A in E.items():\n",
        "        #     for a in range(len(A)):\n",
        "        #         self.Q[old_s][old_a] = self.Q[old_s][old_a] + alpha * delta * E[s][a]\n",
        "        #         E[s][a] = self.gamma * self.alpha * E[s][a]"
      ],
      "execution_count": 9,
      "outputs": []
    },
    {
      "cell_type": "code",
      "metadata": {
        "id": "s5xgUrUa6aVe"
      },
      "source": [
        "env, initial_state = environment.get_env()\n"
      ],
      "execution_count": 10,
      "outputs": []
    },
    {
      "cell_type": "code",
      "metadata": {
        "id": "dSd6PE756dV8"
      },
      "source": [
        "GAMMA = 0.99\n",
        "\n",
        "AVAILABLE_STATES = len(RAM_mask)\n",
        "AVAILABLE_ACTIONS = 2\n",
        "N0 = 2.5\n",
        "ALPHA = 0.00001\n",
        "\n",
        "reward_policy.REWARD_IF_CROSS = 50\n",
        "reward_policy.REWARD_IF_COLISION = -1\n",
        "reward_policy.REWARD_IF_STILL = -0.1\n",
        "\n",
        "agent = SarsaLFA(gamma=GAMMA, available_actions=AVAILABLE_ACTIONS, N0=N0, discount_factor=1, alpha=ALPHA)"
      ],
      "execution_count": 11,
      "outputs": []
    },
    {
      "cell_type": "code",
      "metadata": {
        "id": "O_LAwEiw6vXf"
      },
      "source": [
        "\n",
        "scores = []\n",
        "total_rewards = []"
      ],
      "execution_count": 12,
      "outputs": []
    },
    {
      "cell_type": "code",
      "metadata": {
        "colab": {
          "base_uri": "https://localhost:8080/"
        },
        "id": "eArXBcPQ6zbM",
        "outputId": "46635002-5839-4e04-d6fb-49f46e78fa92"
      },
      "source": [
        "%%time\n",
        "n_runs = 100\n",
        "\n",
        "for i in range(n_runs):\n",
        "    render = i % 200 == 199\n",
        "\n",
        "    E = defaultdict(lambda: np.zeros(2)) # TODO available actions\n",
        "\n",
        "    game_over = False\n",
        "    state = env.reset()\n",
        "    state = reduce_state(state)[RAM_mask].data.tobytes()  # Select useful bytes\n",
        "    action = agent.act(state)\n",
        "    \n",
        "    score = 0\n",
        "    total_reward = 0\n",
        "\n",
        "    while not game_over:\n",
        "        if render:\n",
        "            time.sleep(0.005)\n",
        "            env.render()\n",
        "\n",
        "        old_state = state\n",
        "        old_action = action\n",
        "        ob, reward, game_over, _ = env.step(action)\n",
        "\n",
        "        ob = reduce_state(ob)\n",
        "        reward = reward_policy(reward, ob, action)\n",
        "\n",
        "        total_reward += reward\n",
        "\n",
        "        if reward == reward_policy.REWARD_IF_CROSS:\n",
        "            score += 1\n",
        "\n",
        "        state = ob[RAM_mask].data.tobytes()\n",
        "\n",
        "        action = agent.act(state)  # Next action\n",
        "        \n",
        "        E[old_state][old_action] += 1\n",
        "\n",
        "        agent.update_Q(old_s=old_state, new_s=state, old_a=old_action, new_a=action, reward=reward, E=E)\n",
        "\n",
        "    scores.append(score)\n",
        "    total_rewards.append(total_reward)\n",
        "\n",
        "    print_result(i, scores, total_reward, score)"
      ],
      "execution_count": null,
      "outputs": [
        {
          "output_type": "stream",
          "text": [
            "Run [   0] - Total reward:  411.30 Mean scores: 12.00 Means Scores[:-10]: 12.00 Score: 12 \n",
            "Run [  10] - Total reward:  339.00 Mean scores: 12.00 Means Scores[:-10]: 12.00 Score: 11 \n",
            "Run [  20] - Total reward:  589.90 Mean scores: 13.19 Means Scores[:-10]: 14.50 Score: 15 \n"
          ],
          "name": "stdout"
        }
      ]
    },
    {
      "cell_type": "code",
      "metadata": {
        "id": "_OGuOiYf6z1V"
      },
      "source": [
        "!git commit -"
      ],
      "execution_count": null,
      "outputs": []
    }
  ]
}