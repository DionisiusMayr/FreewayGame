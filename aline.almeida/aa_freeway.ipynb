{
 "cells": [
  {
   "cell_type": "markdown",
   "metadata": {},
   "source": [
    "# Using Reinforcement Learning to play the Freeway game"
   ]
  },
  {
   "cell_type": "markdown",
   "metadata": {},
   "source": [
    "**In this project we propose to apply Reinforcemente Learning control methods to learn how to play the Freeway Game.**  \n",
    "\n",
    "\n"
   ]
  },
  {
   "cell_type": "markdown",
   "metadata": {},
   "source": [
    "***Group members:*** *Aline Gabriel de Almeida, Dionisius Oliveira Mayr (229060), Leonardo de Oliveira Ramos (171941), Marianna de Pinho Severo (264960), Victor Jesús Sotelo Chico (265173)*"
   ]
  },
  {
   "cell_type": "markdown",
   "metadata": {},
   "source": [
    "## 1. The Freeway Atari game\n",
    "\n",
    "<img src=\"img/Freeway_logo.png\" width=\"60%\">\n",
    "\n",
    "The game is a challenge where a chicken need to be guided across ten lanes of freeway traffic. She can be moved ahead (**up**), back (**down**) or don't move (**stay**).  \n",
    "<br>\n",
    "Each time the chicken is guided successfully across the freeway, the score increases by 1 and there are 2 minutes and 16 seconds in each round of the game. The most points, the better.  \n",
    "<br>\n",
    "To do so we will use an API called **Gym Retro**, that enables us turn classic video games into Gym environments.  \n"
   ]
  },
  {
   "cell_type": "code",
   "execution_count": 23,
   "metadata": {},
   "outputs": [],
   "source": [
    "# ---------- Install the dependencies ----------\n",
    "\n",
    "#!pip install gym\n",
    "#!pip install gym[atari]"
   ]
  },
  {
   "cell_type": "code",
   "execution_count": 42,
   "metadata": {},
   "outputs": [],
   "source": [
    "# ---------- Libraries ----------\n",
    "\n",
    "#!pip install dill\n",
    "\n",
    "import sys\n",
    "sys.path.append('../')  # Enable importing from `src` folder\n",
    "\n",
    "%matplotlib inline\n",
    "from collections import defaultdict\n",
    "from typing import List\n",
    "\n",
    "import numpy as np\n",
    "import time\n",
    "import matplotlib.pyplot as plt\n",
    "import seaborn as sns\n",
    "\n",
    "import gym\n",
    "\n",
    "import src.agents as agents\n",
    "import src.episode as episode\n",
    "import src.environment as environment\n",
    "import src.aux_plots as aux_plots\n",
    "import src.serializer as serializer\n",
    "\n",
    "def print_result(i, scores, total_reward, score):\n",
    "    if i % 10 == 0:\n",
    "        print(f\"Run [{i:4}] - Total reward: {total_reward:7.2f} Mean scores: {sum(scores) / len(scores):.2f} Means Scores[:-10]: {sum(scores[-10:]) / len(scores[-10:]):5.2f} Score: {score:2} \")"
   ]
  },
  {
   "cell_type": "code",
   "execution_count": 43,
   "metadata": {},
   "outputs": [
    {
     "data": {
      "text/plain": [
       "<module 'src.agents' from '/home/aline/Documents/GitHub/FreewayGame/aline.almeida/src/agents.py'>"
      ]
     },
     "execution_count": 43,
     "metadata": {},
     "output_type": "execute_result"
    }
   ],
   "source": [
    "import importlib\n",
    "importlib.reload(agents)"
   ]
  },
  {
   "cell_type": "markdown",
   "metadata": {},
   "source": [
    "# 2. The Reinforcement Learning problem adressed"
   ]
  },
  {
   "cell_type": "markdown",
   "metadata": {},
   "source": [
    "## 2.1 Representing the states of the game"
   ]
  },
  {
   "cell_type": "markdown",
   "metadata": {},
   "source": [
    "In gym, the RAM is represented as an 128-element array, where each element in the array can range from 0 to 255.\n",
    "This would generate a huge space state that we are not able to deal with.\n",
    "\n",
    "In order to reduce the space state to be used, we filtered some features from the RAM of the game. Specifically the array position and the features descriptions are:\n",
    "- **14**: The chicken Y-position value\n",
    "- **16**: Indicates if there was a collision\n",
    "- **108 to 117**: Indicate the cars X-coordinates in each lane. \n"
   ]
  },
  {
   "cell_type": "code",
   "execution_count": 44,
   "metadata": {},
   "outputs": [],
   "source": [
    "# ---------- RAM mask for the selected features ----------\n",
    "\n",
    "RAM_mask = [\n",
    "      14  # The chicken Y-position value\n",
    "    , 16  # Indicates if there was a collision\n",
    "    , 108, 109, 110, 111, 112, 113, 114, 115, 116, 117  # Indicate the cars X-coordinates in each lane.\n",
    "]"
   ]
  },
  {
   "cell_type": "markdown",
   "metadata": {},
   "source": [
    "In order to reduce even more our space state representation, we restricted the chicken's field of view assuming that the cars that are next to the chicken have valuable information for the agent to choose the best action to take, while the cars that are far from the chicken have low influence in the action decision process therefore they can be ignored.   \n",
    "<br>\n",
    "Also, we consider that it's impportant and sufficient to the agent to know if there was a collision, but the specific lane were the collision occured can be ignored."
   ]
  },
  {
   "cell_type": "code",
   "execution_count": 45,
   "metadata": {},
   "outputs": [],
   "source": [
    "# ---------- Restricting the chicken's field of view ----------\n",
    "\n",
    "def reduce_state(ob):\n",
    "    # Doesn't matter where we were hit\n",
    "    ob[16] = 1 if ob[16] != 255 else 0\n",
    "\n",
    "    # Reduce chicken y-position \n",
    "    ob[14] = ob[14] // 3\n",
    "\n",
    "    for b in range(108, 118):\n",
    "        # The chicken is in the x-posistion ~49\n",
    "        if ob[b] < 19 or ob[b] > 79:\n",
    "            # We don't need to represent cars far from the chicken\n",
    "            ob[b] = 0\n",
    "        else:\n",
    "            # Reduce the cars x-positions sample space \n",
    "            ob[b] = ob[b] // 3\n",
    "\n",
    "    return ob"
   ]
  },
  {
   "cell_type": "markdown",
   "metadata": {},
   "source": [
    "## 2.2 The environment "
   ]
  },
  {
   "cell_type": "markdown",
   "metadata": {},
   "source": [
    "In this project we will use the **Open AI Gym** toolkit to work out our reinforcement learning algorithms and test our solutions.  \n",
    "<br>\n",
    "The environment used is the **Freeway-ram-v0**. "
   ]
  },
  {
   "cell_type": "code",
   "execution_count": 46,
   "metadata": {},
   "outputs": [
    {
     "name": "stdout",
     "output_type": "stream",
     "text": [
      "Action Space: Discrete(3)\n",
      "Observation Space: Box(0, 255, (128,), uint8)\n"
     ]
    }
   ],
   "source": [
    "# ---------- Gym Freeway-ram-v4 environment ----------\n",
    "\n",
    "env, initial_state = environment.get_env()\n",
    "\n",
    "print(\"Action Space:\", env.action_space)\n",
    "print(\"Observation Space:\", env.observation_space)"
   ]
  },
  {
   "cell_type": "markdown",
   "metadata": {},
   "source": [
    "## 2.3 The Reward Function"
   ]
  },
  {
   "cell_type": "markdown",
   "metadata": {},
   "source": [
    "We defined five conditions were the agent can get a reward: \n",
    "- If the chicken cross the 10 lanes; This is our fundamental goal and should be encouraged.\n",
    "- If the chicken collide; As the collisions can delay the chicken to cross the lanes, it can be discouraged.\n",
    "- Each one of the agent's three actions can be rewarded according to how much they can help the chicken to cross all the lanes and doing so we can hopefully accelerate the conversion of the algorithms; "
   ]
  },
  {
   "cell_type": "code",
   "execution_count": 47,
   "metadata": {},
   "outputs": [],
   "source": [
    "# ---------- Rewards ----------\n",
    "\n",
    "def reward_policy(reward, ob, action):\n",
    "    if reward == 1:    # Cross all the lanes\n",
    "        reward = reward_policy.REWARD_IF_CROSS\n",
    "    \n",
    "    elif ob[16] == 1:  # Collision!\n",
    "        reward = reward_policy.REWARD_IF_COLISION\n",
    "       \n",
    "    elif action == 0:  # don't move (still)\n",
    "        reward = reward_policy.REWARD_IF_STILL\n",
    "        \n",
    "    elif action == 1:  # Move ahead (up)\n",
    "        reward = reward_policy.REWARD_IF_FW\n",
    "    \n",
    "    elif action == 2:  # Move back (down)\n",
    "        reward = reward_policy.REWARD_IF_BW\n",
    "\n",
    "    return reward"
   ]
  },
  {
   "cell_type": "markdown",
   "metadata": {},
   "source": [
    "## 2.4 Baseline agent"
   ]
  },
  {
   "cell_type": "markdown",
   "metadata": {},
   "source": [
    "We defined our baseline result as the result obtained from an agent that always choose the action to move ahead (**up**).   <br>\n",
    "The mean result our baseline agent gets is around 21.5 points."
   ]
  },
  {
   "cell_type": "code",
   "execution_count": null,
   "metadata": {},
   "outputs": [],
   "source": [
    "# ---------- Running the baseline agent ----------\n",
    "\n",
    "# baseline_scores = environment.run(agents.Baseline, render=False, n_runs=100, verbose=False)\n",
    "#\n",
    "# with open(\"baseline_scores.txt\", \"w\") as f:\n",
    "#     for item in baseline_scores:\n",
    "#         f.write(\"%s\\n\" % item)"
   ]
  },
  {
   "cell_type": "code",
   "execution_count": 48,
   "metadata": {},
   "outputs": [],
   "source": [
    "with open(\"baseline_scores.txt\") as f:\n",
    "    baseline_scores = [int(x) for x in  f.read().splitlines()]"
   ]
  },
  {
   "cell_type": "code",
   "execution_count": 49,
   "metadata": {},
   "outputs": [
    {
     "name": "stdout",
     "output_type": "stream",
     "text": [
      "Baseline mean score: 21.48\n"
     ]
    }
   ],
   "source": [
    "# Mean score of the baseline agent\n",
    "baseline_mean_score = sum(baseline_scores) / len(baseline_scores) \n",
    "print(\"Baseline mean score:\", baseline_mean_score)"
   ]
  },
  {
   "cell_type": "markdown",
   "metadata": {
    "id": "xq2EdkmSwfKD"
   },
   "source": [
    "# 3. Q-Learning"
   ]
  },
  {
   "cell_type": "markdown",
   "metadata": {},
   "source": [
    "The Q-learning algorithm receives the $\\gamma$ and the $N0$ parameters.  \n",
    "<br>\n",
    "$\\gamma$ is the discount factor; This parameters determines the importance of future rewards. A value of 0 makes the agent short-sighned by only considering current rewards, while a factor approaching 1 will make it strive for a long term reward.  \n",
    "<br>\n",
    "The $N0$ parameter is used to define the agent's exploration rate $\\epsilon$, where $\\epsilon = N0/(N0+n)$ and $n$ is the number of visits in the states.  \n",
    "<br>\n",
    "In the algorithm, the action-value function is initialized to zero. Then, at each time $t$ the agent selects an action $a_t$, observes a reward $r_t$, enters a new state $s_{s+1}$, and $Q$ is updated:"
   ]
  },
  {
   "cell_type": "markdown",
   "metadata": {},
   "source": [
    "$Q_{new}(s_t, a_t) :=  Q(s_t, a_t)+\\alpha (r_t + \\gamma.max_aQ(s_{t+1},a)-Q(s_t, a_t))$"
   ]
  },
  {
   "cell_type": "markdown",
   "metadata": {},
   "source": [
    "The learning rate $\\alpha$ is defined as $\\alpha = 1/Nsa$, where $Nsa$ is the number of times that the specific state-action pair has already occured."
   ]
  },
  {
   "cell_type": "markdown",
   "metadata": {
    "id": "3rjTCHMkwfKE"
   },
   "source": [
    "## 3.1. Influence of the number of actions"
   ]
  },
  {
   "cell_type": "markdown",
   "metadata": {},
   "source": [
    "As the goal of the game is to cross all the lanes, we propose that it would be enought if the chicken use just the two actions move **up** or **stay** and never move **down**.\n",
    "<br>\n",
    "In order to test our hypothesis, we ran the agent using 3 and 2 actions.  \n"
   ]
  },
  {
   "cell_type": "markdown",
   "metadata": {
    "id": "CLHAPwXCwfKE"
   },
   "source": [
    "### 3.1.1) Agent with 2 actions available (*up* or *stay*):"
   ]
  },
  {
   "cell_type": "code",
   "execution_count": 68,
   "metadata": {
    "id": "j9uEblyrwfKE"
   },
   "outputs": [],
   "source": [
    "# ---------- Agent with 2 actions available (up or stay) ----------\n",
    "\n",
    "# GAMMA = 0.99\n",
    "# AVAILABLE_ACTIONS = 2\n",
    "# N0 = 2.5\n",
    "#\n",
    "# reward_policy.REWARD_IF_CROSS = 500\n",
    "# reward_policy.REWARD_IF_COLISION = -10\n",
    "# reward_policy.REWARD_IF_STILL = -1\n",
    "# reward_policy.REWARD_IF_FW = 0 \n",
    "#\n",
    "# n_runs = 7000"
   ]
  },
  {
   "cell_type": "code",
   "execution_count": 69,
   "metadata": {
    "id": "wn1RiDkMwfKE"
   },
   "outputs": [],
   "source": [
    "# env, initial_state = environment.get_env()\n",
    "# agent = agents.QLearning(gamma=GAMMA, available_actions=AVAILABLE_ACTIONS, N0=N0)\n",
    "#\n",
    "# scores_2act = []\n",
    "# total_rewards_2act = []"
   ]
  },
  {
   "cell_type": "code",
   "execution_count": 70,
   "metadata": {
    "id": "46ZNmEfawfKE",
    "outputId": "1e2ce4a4-709f-4630-d124-7d7e8a0b5917"
   },
   "outputs": [
    {
     "name": "stdout",
     "output_type": "stream",
     "text": [
      "Run [   0] - Total reward: 4467.00 Mean scores: 13.00 Means Scores[:-10]: 13.00 Score: 13 \n",
      "Run [ 100] - Total reward: 8172.00 Mean scores: 16.25 Means Scores[:-10]: 18.20 Score: 19 \n",
      "Run [ 200] - Total reward: 9783.00 Mean scores: 17.91 Means Scores[:-10]: 19.90 Score: 22 \n",
      "Run [ 300] - Total reward: 8279.00 Mean scores: 18.91 Means Scores[:-10]: 21.00 Score: 19 \n",
      "Run [ 400] - Total reward: 8795.00 Mean scores: 19.61 Means Scores[:-10]: 21.40 Score: 20 \n",
      "Run [ 500] - Total reward: 10663.00 Mean scores: 20.24 Means Scores[:-10]: 23.10 Score: 23 \n",
      "Run [ 600] - Total reward: 8897.00 Mean scores: 20.82 Means Scores[:-10]: 23.50 Score: 20 \n",
      "Run [ 700] - Total reward: 11127.00 Mean scores: 21.34 Means Scores[:-10]: 25.30 Score: 24 \n",
      "Run [ 800] - Total reward: 10570.00 Mean scores: 21.76 Means Scores[:-10]: 24.10 Score: 23 \n",
      "Run [ 900] - Total reward: 11656.00 Mean scores: 22.15 Means Scores[:-10]: 25.40 Score: 25 \n",
      "Run [1000] - Total reward: 11274.00 Mean scores: 22.51 Means Scores[:-10]: 25.20 Score: 24 \n",
      "Run [1100] - Total reward: 12803.00 Mean scores: 22.81 Means Scores[:-10]: 25.40 Score: 27 \n",
      "Run [1200] - Total reward: 12727.00 Mean scores: 23.11 Means Scores[:-10]: 26.70 Score: 27 \n",
      "Run [1300] - Total reward: 11682.00 Mean scores: 23.39 Means Scores[:-10]: 26.00 Score: 25 \n",
      "Run [1400] - Total reward: 11642.00 Mean scores: 23.62 Means Scores[:-10]: 26.10 Score: 25 \n",
      "Run [1500] - Total reward: 12741.00 Mean scores: 23.85 Means Scores[:-10]: 26.80 Score: 27 \n",
      "Run [1600] - Total reward: 12118.00 Mean scores: 24.07 Means Scores[:-10]: 26.80 Score: 26 \n",
      "Run [1700] - Total reward: 12694.00 Mean scores: 24.26 Means Scores[:-10]: 27.20 Score: 27 \n",
      "Run [1800] - Total reward: 13230.00 Mean scores: 24.45 Means Scores[:-10]: 27.40 Score: 28 \n",
      "Run [1900] - Total reward: 12789.00 Mean scores: 24.63 Means Scores[:-10]: 28.20 Score: 27 \n",
      "Run [2000] - Total reward: 11018.00 Mean scores: 24.80 Means Scores[:-10]: 28.10 Score: 24 \n",
      "Run [2100] - Total reward: 13837.00 Mean scores: 24.97 Means Scores[:-10]: 29.00 Score: 29 \n",
      "Run [2200] - Total reward: 14323.00 Mean scores: 25.11 Means Scores[:-10]: 28.70 Score: 30 \n",
      "Run [2300] - Total reward: 15449.00 Mean scores: 25.27 Means Scores[:-10]: 28.50 Score: 32 \n",
      "Run [2400] - Total reward: 13287.00 Mean scores: 25.39 Means Scores[:-10]: 27.70 Score: 28 \n",
      "Run [2500] - Total reward: 13172.00 Mean scores: 25.51 Means Scores[:-10]: 28.60 Score: 28 \n",
      "Run [2600] - Total reward: 13794.00 Mean scores: 25.63 Means Scores[:-10]: 27.40 Score: 29 \n",
      "Run [2700] - Total reward: 13811.00 Mean scores: 25.73 Means Scores[:-10]: 28.70 Score: 29 \n",
      "Run [2800] - Total reward: 14908.00 Mean scores: 25.83 Means Scores[:-10]: 28.70 Score: 31 \n",
      "Run [2900] - Total reward: 14351.00 Mean scores: 25.92 Means Scores[:-10]: 29.30 Score: 30 \n",
      "Run [3000] - Total reward: 14338.00 Mean scores: 26.01 Means Scores[:-10]: 28.50 Score: 30 \n",
      "Run [3100] - Total reward: 14926.00 Mean scores: 26.10 Means Scores[:-10]: 29.00 Score: 31 \n",
      "Run [3200] - Total reward: 13287.00 Mean scores: 26.18 Means Scores[:-10]: 28.20 Score: 28 \n",
      "Run [3300] - Total reward: 13741.00 Mean scores: 26.26 Means Scores[:-10]: 28.00 Score: 29 \n",
      "Run [3400] - Total reward: 14428.00 Mean scores: 26.34 Means Scores[:-10]: 29.40 Score: 30 \n",
      "Run [3500] - Total reward: 13253.00 Mean scores: 26.42 Means Scores[:-10]: 29.00 Score: 28 \n",
      "Run [3600] - Total reward: 14825.00 Mean scores: 26.49 Means Scores[:-10]: 29.90 Score: 31 \n",
      "Run [3700] - Total reward: 13242.00 Mean scores: 26.57 Means Scores[:-10]: 29.10 Score: 28 \n",
      "Run [3800] - Total reward: 13828.00 Mean scores: 26.64 Means Scores[:-10]: 29.20 Score: 29 \n",
      "Run [3900] - Total reward: 13354.00 Mean scores: 26.71 Means Scores[:-10]: 28.50 Score: 28 \n",
      "Run [4000] - Total reward: 13708.00 Mean scores: 26.77 Means Scores[:-10]: 29.50 Score: 29 \n",
      "Run [4100] - Total reward: 13836.00 Mean scores: 26.83 Means Scores[:-10]: 29.10 Score: 29 \n",
      "Run [4200] - Total reward: 13185.00 Mean scores: 26.89 Means Scores[:-10]: 30.00 Score: 28 \n",
      "Run [4300] - Total reward: 13787.00 Mean scores: 26.95 Means Scores[:-10]: 29.80 Score: 29 \n",
      "Run [4400] - Total reward: 14873.00 Mean scores: 27.00 Means Scores[:-10]: 29.90 Score: 31 \n",
      "Run [4500] - Total reward: 13235.00 Mean scores: 27.06 Means Scores[:-10]: 29.10 Score: 28 \n",
      "Run [4600] - Total reward: 14344.00 Mean scores: 27.10 Means Scores[:-10]: 29.50 Score: 30 \n",
      "Run [4700] - Total reward: 14349.00 Mean scores: 27.15 Means Scores[:-10]: 29.90 Score: 30 \n",
      "Run [4800] - Total reward: 14406.00 Mean scores: 27.20 Means Scores[:-10]: 29.10 Score: 30 \n",
      "Run [4900] - Total reward: 14908.00 Mean scores: 27.25 Means Scores[:-10]: 29.80 Score: 31 \n",
      "Run [5000] - Total reward: 15005.00 Mean scores: 27.30 Means Scores[:-10]: 30.10 Score: 31 \n",
      "Run [5100] - Total reward: 13345.00 Mean scores: 27.35 Means Scores[:-10]: 29.90 Score: 28 \n",
      "Run [5200] - Total reward: 13911.00 Mean scores: 27.39 Means Scores[:-10]: 29.60 Score: 29 \n",
      "Run [5300] - Total reward: 14301.00 Mean scores: 27.43 Means Scores[:-10]: 29.80 Score: 30 \n",
      "Run [5400] - Total reward: 15402.00 Mean scores: 27.47 Means Scores[:-10]: 29.60 Score: 32 \n",
      "Run [5500] - Total reward: 13765.00 Mean scores: 27.51 Means Scores[:-10]: 30.30 Score: 29 \n",
      "Run [5600] - Total reward: 14887.00 Mean scores: 27.55 Means Scores[:-10]: 29.70 Score: 31 \n",
      "Run [5700] - Total reward: 14368.00 Mean scores: 27.59 Means Scores[:-10]: 30.30 Score: 30 \n",
      "Run [5800] - Total reward: 13262.00 Mean scores: 27.63 Means Scores[:-10]: 29.50 Score: 28 \n",
      "Run [5900] - Total reward: 14335.00 Mean scores: 27.67 Means Scores[:-10]: 29.50 Score: 30 \n",
      "Run [6000] - Total reward: 13832.00 Mean scores: 27.71 Means Scores[:-10]: 29.60 Score: 29 \n",
      "Run [6100] - Total reward: 13781.00 Mean scores: 27.74 Means Scores[:-10]: 29.80 Score: 29 \n",
      "Run [6200] - Total reward: 13797.00 Mean scores: 27.78 Means Scores[:-10]: 29.90 Score: 29 \n",
      "Run [6300] - Total reward: 15447.00 Mean scores: 27.80 Means Scores[:-10]: 30.00 Score: 32 \n",
      "Run [6400] - Total reward: 14296.00 Mean scores: 27.83 Means Scores[:-10]: 30.00 Score: 30 \n",
      "Run [6500] - Total reward: 14402.00 Mean scores: 27.87 Means Scores[:-10]: 30.20 Score: 30 \n",
      "Run [6600] - Total reward: 13097.00 Mean scores: 27.90 Means Scores[:-10]: 29.00 Score: 28 \n",
      "Run [6700] - Total reward: 15457.00 Mean scores: 27.93 Means Scores[:-10]: 30.60 Score: 32 \n",
      "Run [6800] - Total reward: 13173.00 Mean scores: 27.96 Means Scores[:-10]: 29.60 Score: 28 \n",
      "Run [6900] - Total reward: 15424.00 Mean scores: 27.99 Means Scores[:-10]: 30.40 Score: 32 \n",
      "CPU times: user 6h 57min 25s, sys: 5.84 s, total: 6h 57min 31s\n",
      "Wall time: 6h 57min 31s\n"
     ]
    }
   ],
   "source": [
    "# %%time\n",
    "#\n",
    "# for i in range(n_runs):\n",
    "#     #render = i % 100 == 0\n",
    "#     render = 0\n",
    "#\n",
    "#     game_over = False\n",
    "#     state = env.reset()\n",
    "#     state = reduce_state(state)[RAM_mask].data.tobytes()  # Select useful bytes\n",
    "#     action = agent.act(state)\n",
    "#  \n",
    "#     score = 0\n",
    "#     total_reward = 0\n",
    "#\n",
    "#     while not game_over:\n",
    "#         if render:\n",
    "#             time.sleep(0.015)\n",
    "#             env.render()\n",
    "#\n",
    "#         old_state = state\n",
    "#         ob, reward, game_over, _ = env.step(action)\n",
    "#\n",
    "#         ob = reduce_state(ob)\n",
    "#         reward = reward_policy(reward, ob, action)\n",
    "#\n",
    "#         total_reward += reward\n",
    "#\n",
    "#         if reward == reward_policy.REWARD_IF_CROSS:\n",
    "#             score += 1\n",
    "#\n",
    "#         state = ob[RAM_mask].data.tobytes()\n",
    "#\n",
    "#         agent.update_Q(old_state, state, action, reward)\n",
    "#\n",
    "#         action = agent.act(state)  # Next action\n",
    "#\n",
    "#     scores_2act.append(score)\n",
    "#     total_rewards_2act.append(total_reward)\n",
    "#    \n",
    "#     if i % 100 == 0:\n",
    "#         print_result(i, scores_2act, total_reward, score)"
   ]
  },
  {
   "cell_type": "code",
   "execution_count": 71,
   "metadata": {
    "id": "mScfZv4YwfKF"
   },
   "outputs": [],
   "source": [
    "# with open(\"QL/QL_scores_2act.txt\", \"w\") as f:\n",
    "#    for item in scores_2act:\n",
    "#        f.write(\"%s\\n\" % item)\n",
    "#\n",
    "# with open(\"QL/QL_total_rewards_2act.txt\", \"w\") as f:\n",
    "#    for item in total_rewards_2act:\n",
    "#        f.write(\"%s\\n\" % item)"
   ]
  },
  {
   "cell_type": "code",
   "execution_count": 8,
   "metadata": {
    "id": "IOMD49DlwfKF"
   },
   "outputs": [],
   "source": [
    "with open(\"QL/QL_scores_2act.txt\") as f:\n",
    "   scores_2act = [int(x) for x in  f.read().splitlines()]\n",
    "\n",
    "with open(\"QL/QL_total_rewards_2act.txt\") as f:\n",
    "   total_rewards_2act = [int(x) for x in  f.read().splitlines()]"
   ]
  },
  {
   "cell_type": "markdown",
   "metadata": {
    "id": "Px_X3kacwfKH"
   },
   "source": [
    "### 3.1.2) Agent with 3 actions available (*up*, *stay*, or *down*):"
   ]
  },
  {
   "cell_type": "code",
   "execution_count": 32,
   "metadata": {
    "id": "ANTat1jXwfKH"
   },
   "outputs": [],
   "source": [
    "# ---------- Agent with 3 actions available (up, stay or down) ----------\n",
    "\n",
    "# GAMMA = 0.99\n",
    "# AVAILABLE_ACTIONS = 3\n",
    "# N0 = 2.5\n",
    "#\n",
    "# reward_policy.REWARD_IF_CROSS = 500\n",
    "# reward_policy.REWARD_IF_COLISION = -10\n",
    "# reward_policy.REWARD_IF_STILL = -1\n",
    "# reward_policy.REWARD_IF_FW = 0 \n",
    "# reward_policy.REWARD_IF_BW = -9\n",
    "#\n",
    "# n_runs = 4000"
   ]
  },
  {
   "cell_type": "code",
   "execution_count": 33,
   "metadata": {
    "id": "1UhNEICuwfKH"
   },
   "outputs": [],
   "source": [
    "# env, initial_state = environment.get_env()\n",
    "# agent = agents.QLearning(gamma=GAMMA, available_actions=AVAILABLE_ACTIONS, N0=N0)\n",
    "#\n",
    "# scores_3act = []\n",
    "# total_rewards_3act = []"
   ]
  },
  {
   "cell_type": "code",
   "execution_count": 34,
   "metadata": {
    "id": "12O86FFvwfKH",
    "outputId": "81a4af04-4995-4cae-8f79-d34f90081bbc"
   },
   "outputs": [
    {
     "name": "stdout",
     "output_type": "stream",
     "text": [
      "Run [   0] - Total reward: -9024.00 Mean scores: 0.00 Means Scores[:-10]:  0.00 Score:  0 \n",
      "Run [ 100] - Total reward: -710.00 Mean scores: 2.44 Means Scores[:-10]:  8.30 Score: 10 \n",
      "Run [ 200] - Total reward:  152.00 Mean scores: 6.21 Means Scores[:-10]: 10.90 Score:  9 \n",
      "Run [ 300] - Total reward: 4074.00 Mean scores: 8.44 Means Scores[:-10]: 14.70 Score: 16 \n",
      "Run [ 400] - Total reward: 5207.00 Mean scores: 10.45 Means Scores[:-10]: 18.00 Score: 17 \n",
      "Run [ 500] - Total reward: 5624.00 Mean scores: 12.12 Means Scores[:-10]: 18.70 Score: 17 \n",
      "Run [ 600] - Total reward: 6423.00 Mean scores: 13.34 Means Scores[:-10]: 19.70 Score: 18 \n",
      "Run [ 700] - Total reward: 8621.00 Mean scores: 14.33 Means Scores[:-10]: 20.70 Score: 22 \n",
      "Run [ 800] - Total reward: 7187.00 Mean scores: 15.08 Means Scores[:-10]: 21.10 Score: 19 \n",
      "Run [ 900] - Total reward: 9105.00 Mean scores: 15.76 Means Scores[:-10]: 21.20 Score: 22 \n",
      "Run [1000] - Total reward: 7864.00 Mean scores: 16.37 Means Scores[:-10]: 21.70 Score: 20 \n",
      "Run [1100] - Total reward: 9746.00 Mean scores: 16.92 Means Scores[:-10]: 22.30 Score: 23 \n",
      "Run [1200] - Total reward: 9681.00 Mean scores: 17.40 Means Scores[:-10]: 23.00 Score: 23 \n",
      "Run [1300] - Total reward: 10839.00 Mean scores: 17.87 Means Scores[:-10]: 24.30 Score: 25 \n",
      "Run [1400] - Total reward: 10332.00 Mean scores: 18.30 Means Scores[:-10]: 24.10 Score: 24 \n",
      "Run [1500] - Total reward: 9626.00 Mean scores: 18.69 Means Scores[:-10]: 24.20 Score: 23 \n",
      "Run [1600] - Total reward: 10875.00 Mean scores: 19.06 Means Scores[:-10]: 24.30 Score: 25 \n",
      "Run [1700] - Total reward: 11024.00 Mean scores: 19.40 Means Scores[:-10]: 25.20 Score: 25 \n",
      "Run [1800] - Total reward: 12296.00 Mean scores: 19.73 Means Scores[:-10]: 25.60 Score: 27 \n",
      "Run [1900] - Total reward: 11294.00 Mean scores: 20.03 Means Scores[:-10]: 24.80 Score: 25 \n",
      "Run [2000] - Total reward: 11056.00 Mean scores: 20.33 Means Scores[:-10]: 25.70 Score: 25 \n",
      "Run [2100] - Total reward: 12386.00 Mean scores: 20.61 Means Scores[:-10]: 26.10 Score: 27 \n",
      "Run [2200] - Total reward: 12303.00 Mean scores: 20.86 Means Scores[:-10]: 26.70 Score: 27 \n",
      "Run [2300] - Total reward: 11220.00 Mean scores: 21.11 Means Scores[:-10]: 25.60 Score: 25 \n",
      "Run [2400] - Total reward: 12856.00 Mean scores: 21.34 Means Scores[:-10]: 26.70 Score: 28 \n",
      "Run [2500] - Total reward: 11360.00 Mean scores: 21.57 Means Scores[:-10]: 27.30 Score: 25 \n",
      "Run [2600] - Total reward: 13616.00 Mean scores: 21.79 Means Scores[:-10]: 27.40 Score: 29 \n",
      "Run [2700] - Total reward: 13608.00 Mean scores: 21.98 Means Scores[:-10]: 26.90 Score: 29 \n",
      "Run [2800] - Total reward: 13491.00 Mean scores: 22.18 Means Scores[:-10]: 27.40 Score: 29 \n",
      "Run [2900] - Total reward: 12063.00 Mean scores: 22.35 Means Scores[:-10]: 27.70 Score: 26 \n",
      "Run [3000] - Total reward: 12433.00 Mean scores: 22.52 Means Scores[:-10]: 28.30 Score: 27 \n",
      "Run [3100] - Total reward: 14102.00 Mean scores: 22.69 Means Scores[:-10]: 27.80 Score: 30 \n",
      "Run [3200] - Total reward: 13538.00 Mean scores: 22.84 Means Scores[:-10]: 27.10 Score: 29 \n",
      "Run [3300] - Total reward: 12475.00 Mean scores: 22.98 Means Scores[:-10]: 27.10 Score: 27 \n",
      "Run [3400] - Total reward: 12560.00 Mean scores: 23.12 Means Scores[:-10]: 27.50 Score: 27 \n",
      "Run [3500] - Total reward: 13653.00 Mean scores: 23.26 Means Scores[:-10]: 28.00 Score: 29 \n",
      "Run [3600] - Total reward: 11340.00 Mean scores: 23.39 Means Scores[:-10]: 28.10 Score: 25 \n",
      "Run [3700] - Total reward: 10698.00 Mean scores: 23.52 Means Scores[:-10]: 28.20 Score: 24 \n",
      "Run [3800] - Total reward: 13061.00 Mean scores: 23.64 Means Scores[:-10]: 28.30 Score: 28 \n",
      "Run [3900] - Total reward: 14166.00 Mean scores: 23.76 Means Scores[:-10]: 28.30 Score: 30 \n",
      "CPU times: user 4h 11min 44s, sys: 9.9 s, total: 4h 11min 54s\n",
      "Wall time: 4h 11min 58s\n"
     ]
    }
   ],
   "source": [
    "# %%time\n",
    "#\n",
    "# for i in range(n_runs):\n",
    "#     #render = i % 100 == 0\n",
    "#     render = 0\n",
    "#\n",
    "#     game_over = False\n",
    "#     state = env.reset()\n",
    "#     state = reduce_state(state)[RAM_mask].data.tobytes()  # Select useful bytes\n",
    "#     action = agent.act(state)\n",
    "#  \n",
    "#     score = 0\n",
    "#     total_reward = 0\n",
    "#\n",
    "#     while not game_over:\n",
    "#         if render:\n",
    "#             time.sleep(0.015)\n",
    "#             env.render()\n",
    "#\n",
    "#         old_state = state\n",
    "#         ob, reward, game_over, _ = env.step(action)\n",
    "#\n",
    "#         ob = reduce_state(ob)\n",
    "#         reward = reward_policy(reward, ob, action)\n",
    "#\n",
    "#         total_reward += reward\n",
    "#\n",
    "#         if reward == reward_policy.REWARD_IF_CROSS:\n",
    "#             score += 1\n",
    "#\n",
    "#         state = ob[RAM_mask].data.tobytes()\n",
    "#\n",
    "#         agent.update_Q(old_state, state, action, reward)\n",
    "#\n",
    "#         action = agent.act(state)  # Next action\n",
    "3\n",
    "#     scores_3act.append(score)\n",
    "#     total_rewards_3act.append(total_reward)\n",
    "#    \n",
    "#     if i % 100 == 0:\n",
    "#         print_result(i, scores_3act, total_reward, score)"
   ]
  },
  {
   "cell_type": "code",
   "execution_count": 35,
   "metadata": {
    "id": "KHXFIdQywfKI"
   },
   "outputs": [],
   "source": [
    "# with open(\"QL/QL_scores_3act.txt\", \"w\") as f:\n",
    "#    for item in scores_3act:\n",
    "#        f.write(\"%s\\n\" % item)\n",
    "#\n",
    "# with open(\"QL/QL_total_rewards_3act.txt\", \"w\") as f:\n",
    "#    for item in total_rewards_3act:\n",
    "#        f.write(\"%s\\n\" % item)"
   ]
  },
  {
   "cell_type": "code",
   "execution_count": 11,
   "metadata": {
    "id": "1s11r_hkwfKI"
   },
   "outputs": [],
   "source": [
    "with open(\"QL/QL_scores_3act.txt\") as f:\n",
    "   scores_3act = [int(x) for x in  f.read().splitlines()]\n",
    "\n",
    "with open(\"QL/QL_total_rewards_3act.txt\") as f:\n",
    "   total_rewards_3act = [int(x) for x in  f.read().splitlines()]"
   ]
  },
  {
   "cell_type": "markdown",
   "metadata": {
    "id": "l7N-xF7ewfKJ"
   },
   "source": [
    "### 3.1.3) Results got from agents with different number of actions available:"
   ]
  },
  {
   "cell_type": "markdown",
   "metadata": {},
   "source": [
    "As we can see from the results show in the plots below, the agent with 2 actions available performs better than the agent with 3 actions available, confirming our hypothesis.  \n",
    "<br>\n",
    "Below the plots are showing the score and the total rewards got using the two agents. "
   ]
  },
  {
   "cell_type": "code",
   "execution_count": 38,
   "metadata": {},
   "outputs": [
    {
     "data": {
      "image/png": "[encoded data removed]",
      "text/plain": [
       "<Figure size 800x480 with 1 Axes>"
      ]
     },
     "metadata": {
      "needs_background": "light"
     },
     "output_type": "display_data"
    }
   ],
   "source": [
    "# ---------- Scores of the agent with 2 and 3 actions ----------\n",
    "\n",
    "baseline = [baseline_mean_score for i in range(4000)]\n",
    "aux_plots.plot_3scores(scores_3act[:4000], scores_2act[:4000], baseline[:4000], \"3 actions (up, down or stay)\", \"2 actions (up or stay)\", \"Baseline mean score (up)\")"
   ]
  },
  {
   "cell_type": "code",
   "execution_count": 39,
   "metadata": {},
   "outputs": [
    {
     "data": {
      "image/png": "[encoded data removed]",
      "text/plain": [
       "<Figure size 800x480 with 1 Axes>"
      ]
     },
     "metadata": {
      "needs_background": "light"
     },
     "output_type": "display_data"
    }
   ],
   "source": [
    "# ---------- Moving average for the scores of the agent with 2 and 3 actions ----------\n",
    "\n",
    "from statistics import mean\n",
    "\n",
    "s1 = scores_3act[:4000]\n",
    "s2 = scores_2act[:4000]\n",
    "s3 = baseline[:4000]\n",
    "\n",
    "blocks = 4000//100\n",
    "s1_avg100 = []\n",
    "\n",
    "for b in range(blocks-1):\n",
    "    value = statistics.mean(s1[b*100:(b+1)*100])\n",
    "    s1_avg100.append(value)\n",
    "\n",
    "s2_avg100 = []\n",
    "for b in range(blocks-1):\n",
    "    value = statistics.mean(s2[b*100:(b+1)*100])\n",
    "    s2_avg100.append(value)\n",
    "    \n",
    "s3_avg100 = []\n",
    "for b in range(blocks-1):\n",
    "    value = statistics.mean(s3[b*100:(b+1)*100])\n",
    "    s3_avg100.append(value)\n",
    "    \n",
    "aux_plots.plot_3scores(s1_avg100, s2_avg100, s3_avg100, \"3 actions (up, down or stay)\", \"2 actions (up or stay)\", \"Baseline mean score (up)\")"
   ]
  },
  {
   "cell_type": "code",
   "execution_count": 40,
   "metadata": {},
   "outputs": [
    {
     "data": {
      "image/png": "[encoded data removed]",
      "text/plain": [
       "<Figure size 800x480 with 1 Axes>"
      ]
     },
     "metadata": {
      "needs_background": "light"
     },
     "output_type": "display_data"
    }
   ],
   "source": [
    "# ---------- Rewards of the agent with 2 and 3 actions ----------\n",
    "\n",
    "baseline = [baseline_mean_score for i in range(3000)]\n",
    "aux_plots.plot_2rewards(total_rewards_3act[:4000], total_rewards_2act[:4000], \"3 actions (up, down or stay)\", \"2 actions (up or stay)\")"
   ]
  },
  {
   "cell_type": "code",
   "execution_count": 41,
   "metadata": {},
   "outputs": [
    {
     "data": {
      "image/png": "[encoded data removed]",
      "text/plain": [
       "<Figure size 800x480 with 1 Axes>"
      ]
     },
     "metadata": {
      "needs_background": "light"
     },
     "output_type": "display_data"
    }
   ],
   "source": [
    "# ---------- Moving average for the rewards of the agent with 2 and 3 actions ----------\n",
    "\n",
    "import statistics \n",
    "\n",
    "s1 = total_rewards_3act[:4000]\n",
    "s2 = total_rewards_2act[:4000]\n",
    "\n",
    "blocks = 4000//100\n",
    "s1_avg100 = []\n",
    "for b in range(blocks-1):\n",
    "    value = statistics.mean(s1[b*100:(b+1)*100])\n",
    "    s1_avg100.append(value)\n",
    "\n",
    "s2_avg100 = []\n",
    "for b in range(blocks-1):\n",
    "    value = statistics.mean(s2[b*100:(b+1)*100])\n",
    "    s2_avg100.append(value)\n",
    "    \n",
    "s3_avg100 = []\n",
    "for b in range(blocks-1):\n",
    "    value = statistics.mean(s3[b*100:(b+1)*100])\n",
    "    s3_avg100.append(value)\n",
    "    \n",
    "aux_plots.plot_2rewards(s1_avg100, s2_avg100, \"3 actions (up, down or stay)\", \"2 actions (up or stay)\")"
   ]
  },
  {
   "cell_type": "markdown",
   "metadata": {
    "id": "eJ_JiwOewfKK"
   },
   "source": [
    "## 3.2. Influence of the reward values"
   ]
  },
  {
   "cell_type": "markdown",
   "metadata": {},
   "source": [
    "In order to investigate the influence of the reward values in the agent behavior, we ran the algorithm using two different set of reward values.  \n",
    "<br>\n",
    "The first offered a sparse reward to the agent: +1 if the chicken cross all the lanes and -1 if the chicken collide. Thus, we expect the agent to be encouraged to cross the lanes (positive reward) and to avoid collisions (negative reward).  \n",
    "<br>\n",
    "The second increased the reward for crossing all the lanes to +500 and give -10 when the chicken collide. It also gives a negative reward of -1 when the agent decide to **still**. Thus we expect the chicken to be incentivate to cross the lanes more rapidilly and increase the score."
   ]
  },
  {
   "cell_type": "markdown",
   "metadata": {
    "id": "uF-jelX7wfKK"
   },
   "source": [
    "### 3.2.1) Sparse reward: $+1$ if cross the street, $-1$ if collide"
   ]
  },
  {
   "cell_type": "code",
   "execution_count": 55,
   "metadata": {
    "id": "d9vK9JN2wfKL"
   },
   "outputs": [],
   "source": [
    "# # ---------- Sparse rewards ----------\n",
    "#\n",
    "# GAMMA = 0.99\n",
    "# AVAILABLE_ACTIONS = 2\n",
    "# N0 = 2.5\n",
    "#\n",
    "# reward_policy.REWARD_IF_CROSS = 1\n",
    "# reward_policy.REWARD_IF_COLISION = -1\n",
    "# reward_policy.REWARD_IF_STILL = 0\n",
    "# reward_policy.REWARD_IF_FW = 0 \n",
    "#\n",
    "# n_runs = 4000"
   ]
  },
  {
   "cell_type": "code",
   "execution_count": 56,
   "metadata": {
    "id": "B7GlFdLjwfKL"
   },
   "outputs": [],
   "source": [
    "# env, initial_state = environment.get_env()\n",
    "# agent = agents.QLearning(gamma=GAMMA, available_actions=AVAILABLE_ACTIONS, N0=N0)\n",
    "#\n",
    "# scores_2act_sparseR = []\n",
    "# total_rewards_2act_sparseR = []"
   ]
  },
  {
   "cell_type": "code",
   "execution_count": 57,
   "metadata": {
    "id": "alxlmpZWwfKL",
    "outputId": "bd3f86fc-c815-4536-da1c-63b55a7ba8bb"
   },
   "outputs": [
    {
     "name": "stdout",
     "output_type": "stream",
     "text": [
      "Run [   0] - Total reward:  -69.00 Mean scores: 12.00 Means Scores[:-10]: 12.00 Score: 12 \n",
      "Run [ 100] - Total reward:  -50.00 Mean scores: 16.21 Means Scores[:-10]: 18.30 Score: 19 \n",
      "Run [ 200] - Total reward:  -26.00 Mean scores: 17.75 Means Scores[:-10]: 20.30 Score: 21 \n",
      "Run [ 300] - Total reward:  -25.00 Mean scores: 18.85 Means Scores[:-10]: 22.30 Score: 24 \n",
      "Run [ 400] - Total reward:  -16.00 Mean scores: 19.98 Means Scores[:-10]: 23.70 Score: 24 \n",
      "Run [ 500] - Total reward:  -26.00 Mean scores: 20.90 Means Scores[:-10]: 24.50 Score: 23 \n",
      "Run [ 600] - Total reward:  -14.00 Mean scores: 21.56 Means Scores[:-10]: 24.60 Score: 24 \n",
      "Run [ 700] - Total reward:   -6.00 Mean scores: 22.04 Means Scores[:-10]: 24.90 Score: 24 \n",
      "Run [ 800] - Total reward:    5.00 Mean scores: 22.40 Means Scores[:-10]: 25.10 Score: 25 \n",
      "Run [ 900] - Total reward:   15.00 Mean scores: 22.76 Means Scores[:-10]: 25.60 Score: 26 \n",
      "Run [1000] - Total reward:   11.00 Mean scores: 23.06 Means Scores[:-10]: 25.70 Score: 23 \n",
      "Run [1100] - Total reward:   21.00 Mean scores: 23.29 Means Scores[:-10]: 25.30 Score: 26 \n",
      "Run [1200] - Total reward:    1.00 Mean scores: 23.39 Means Scores[:-10]: 24.20 Score: 22 \n",
      "Run [1300] - Total reward:   20.00 Mean scores: 23.43 Means Scores[:-10]: 23.60 Score: 25 \n",
      "Run [1400] - Total reward:   10.00 Mean scores: 23.42 Means Scores[:-10]: 22.80 Score: 23 \n",
      "Run [1500] - Total reward:   16.00 Mean scores: 23.37 Means Scores[:-10]: 22.40 Score: 22 \n",
      "Run [1600] - Total reward:   23.00 Mean scores: 23.31 Means Scores[:-10]: 22.70 Score: 23 \n",
      "Run [1700] - Total reward:   15.00 Mean scores: 23.24 Means Scores[:-10]: 21.70 Score: 22 \n",
      "Run [1800] - Total reward:   14.00 Mean scores: 23.18 Means Scores[:-10]: 22.10 Score: 22 \n",
      "Run [1900] - Total reward:   14.00 Mean scores: 23.11 Means Scores[:-10]: 21.60 Score: 23 \n",
      "Run [2000] - Total reward:   16.00 Mean scores: 23.05 Means Scores[:-10]: 21.90 Score: 22 \n",
      "Run [2100] - Total reward:   10.00 Mean scores: 22.99 Means Scores[:-10]: 21.20 Score: 20 \n",
      "Run [2200] - Total reward:   15.00 Mean scores: 22.94 Means Scores[:-10]: 22.00 Score: 22 \n",
      "Run [2300] - Total reward:   17.00 Mean scores: 22.89 Means Scores[:-10]: 21.70 Score: 22 \n",
      "Run [2400] - Total reward:    4.00 Mean scores: 22.84 Means Scores[:-10]: 21.50 Score: 21 \n",
      "Run [2500] - Total reward:   23.00 Mean scores: 22.80 Means Scores[:-10]: 22.20 Score: 23 \n",
      "Run [2600] - Total reward:   16.00 Mean scores: 22.75 Means Scores[:-10]: 21.30 Score: 21 \n",
      "Run [2700] - Total reward:   22.00 Mean scores: 22.70 Means Scores[:-10]: 21.60 Score: 22 \n",
      "Run [2800] - Total reward:   15.00 Mean scores: 22.65 Means Scores[:-10]: 21.30 Score: 22 \n",
      "Run [2900] - Total reward:   15.00 Mean scores: 22.61 Means Scores[:-10]: 21.10 Score: 21 \n",
      "Run [3000] - Total reward:   15.00 Mean scores: 22.56 Means Scores[:-10]: 21.20 Score: 21 \n",
      "Run [3100] - Total reward:   18.00 Mean scores: 22.52 Means Scores[:-10]: 21.40 Score: 21 \n",
      "Run [3200] - Total reward:   14.00 Mean scores: 22.49 Means Scores[:-10]: 21.20 Score: 21 \n",
      "Run [3300] - Total reward:    9.00 Mean scores: 22.45 Means Scores[:-10]: 21.50 Score: 21 \n",
      "Run [3400] - Total reward:   15.00 Mean scores: 22.42 Means Scores[:-10]: 21.10 Score: 21 \n",
      "Run [3500] - Total reward:   18.00 Mean scores: 22.39 Means Scores[:-10]: 21.60 Score: 21 \n",
      "Run [3600] - Total reward:   22.00 Mean scores: 22.38 Means Scores[:-10]: 22.10 Score: 22 \n",
      "Run [3700] - Total reward:   24.00 Mean scores: 22.37 Means Scores[:-10]: 22.30 Score: 24 \n",
      "Run [3800] - Total reward:   13.00 Mean scores: 22.35 Means Scores[:-10]: 21.70 Score: 22 \n",
      "Run [3900] - Total reward:   22.00 Mean scores: 22.33 Means Scores[:-10]: 21.40 Score: 22 \n",
      "CPU times: user 4h 1min 10s, sys: 5.32 s, total: 4h 1min 15s\n",
      "Wall time: 4h 1min 16s\n"
     ]
    }
   ],
   "source": [
    "# %%time\n",
    "#\n",
    "# for i in range(n_runs):\n",
    "#     #render = i % 100 == 0\n",
    "#     render = 0\n",
    "#\n",
    "#     game_over = False\n",
    "#     state = env.reset()\n",
    "#     state = reduce_state(state)[RAM_mask].data.tobytes()  # Select useful bytes\n",
    "#     action = agent.act(state)\n",
    "#   \n",
    "#     score = 0\n",
    "#     total_reward = 0\n",
    "#\n",
    "#     while not game_over:\n",
    "#         if render:\n",
    "#             time.sleep(0.015)\n",
    "#             env.render()\n",
    "#\n",
    "#         old_state = state\n",
    "#         ob, reward, game_over, _ = env.step(action)\n",
    "#\n",
    "#         ob = reduce_state(ob)\n",
    "#         reward = reward_policy(reward, ob, action)\n",
    "#\n",
    "#         total_reward += reward\n",
    "#\n",
    "#         if reward == reward_policy.REWARD_IF_CROSS:\n",
    "#             score += 1\n",
    "#\n",
    "#         state = ob[RAM_mask].data.tobytes()\n",
    "#\n",
    "#         agent.update_Q(old_state, state, action, reward)\n",
    "#\n",
    "#         action = agent.act(state)  # Next action\n",
    "#\n",
    "#     scores_2act_sparseR.append(score)\n",
    "#     total_rewards_2act_sparseR.append(total_reward)\n",
    "#    \n",
    "#     if i % 100 == 0:\n",
    "#         print_result(i, scores_2act_sparseR, total_reward, score)"
   ]
  },
  {
   "cell_type": "code",
   "execution_count": 67,
   "metadata": {
    "id": "IR0FEMu-wfKM"
   },
   "outputs": [],
   "source": [
    "with open(\"QL/QL_scores_2act_sparseR.txt\", \"w\") as f:\n",
    "    for item in scores_2act_sparseR: \n",
    "        f.write(\"%s\\n\" % item)\n",
    "\n",
    "with open(\"QL/QL_total_rewards_2act_sparseR.txt\", \"w\") as f:\n",
    "    for item in total_rewards_2act_sparseR:\n",
    "        f.write(\"%s\\n\" % item)"
   ]
  },
  {
   "cell_type": "code",
   "execution_count": null,
   "metadata": {
    "id": "AK_pLRpcwfKM"
   },
   "outputs": [],
   "source": [
    "with open(\"QL/QL_scores_2act_sparseR.txt\") as f:\n",
    "   scores_2act_sparseR = [int(x) for x in  f.read().splitlines()]\n",
    "\n",
    "with open(\"QL/QL_total_rewards_2act_sparseR.txt\") as f:\n",
    "   total_rewards_2act_sparseR = [int(x) for x in  f.read().splitlines()]"
   ]
  },
  {
   "cell_type": "markdown",
   "metadata": {
    "id": "b0_OosKUwfKM"
   },
   "source": [
    "### 3.2.2) Results got from agents receiving different reward values:"
   ]
  },
  {
   "cell_type": "markdown",
   "metadata": {},
   "source": [
    "As we can see in the plots below, the agent that receives a sparse reward of +1 only when cross all the lanes and -1 if collide perform much worse than the second agent with a dense reward. As the second agent has a higher reward for crossing the lanes and also is discouraged to still or to collide, it learns much faster how to achieve higher scores, confirming our proposed hypothesis.  \n",
    "<br>\n",
    "Below the plots are showing the score and the total rewards got using the two agents. "
   ]
  },
  {
   "cell_type": "code",
   "execution_count": 60,
   "metadata": {},
   "outputs": [
    {
     "data": {
      "image/png": "[encoded data removed]",
      "text/plain": [
       "<Figure size 800x480 with 1 Axes>"
      ]
     },
     "metadata": {
      "needs_background": "light"
     },
     "output_type": "display_data"
    }
   ],
   "source": [
    "# ---------- Scores of the agent with sparse and dense rewards ----------\n",
    "\n",
    "baseline = [baseline_mean_score for i in range(4000)]\n",
    "aux_plots.plot_3scores(scores_2act_sparseR[:4000], scores_2act[:4000], baseline[:4000], \"Sparse Reward\", \"Dense Reward\", \"Baseline mean score\")"
   ]
  },
  {
   "cell_type": "code",
   "execution_count": 64,
   "metadata": {},
   "outputs": [
    {
     "data": {
      "image/png": "[encoded data removed]",
      "text/plain": [
       "<Figure size 800x480 with 1 Axes>"
      ]
     },
     "metadata": {
      "needs_background": "light"
     },
     "output_type": "display_data"
    }
   ],
   "source": [
    "# ---------- Moving average for the scores of the agent with sparse and dense rewards ----------\n",
    "\n",
    "from statistics import mean\n",
    "\n",
    "s1 = scores_2act_sparseR[:4000]\n",
    "s2 = scores_2act[:4000]\n",
    "s3 = baseline[:4000]\n",
    "\n",
    "blocks = 4000//100\n",
    "s1_avg100 = []\n",
    "\n",
    "for b in range(blocks-1):\n",
    "    value = statistics.mean(s1[b*100:(b+1)*100])\n",
    "    s1_avg100.append(value)\n",
    "\n",
    "s2_avg100 = []\n",
    "for b in range(blocks-1):\n",
    "    value = statistics.mean(s2[b*100:(b+1)*100])\n",
    "    s2_avg100.append(value)\n",
    "    \n",
    "s3_avg100 = []\n",
    "for b in range(blocks-1):\n",
    "    value = statistics.mean(s3[b*100:(b+1)*100])\n",
    "    s3_avg100.append(value)\n",
    "    \n",
    "aux_plots.plot_3scores(s1_avg100, s2_avg100, s3_avg100, \"Sparse Reward\", \"Dense Reward\", \"Baseline mean score\")"
   ]
  },
  {
   "cell_type": "code",
   "execution_count": 62,
   "metadata": {},
   "outputs": [
    {
     "data": {
      "image/png": "[encoded data removed]",
      "text/plain": [
       "<Figure size 800x480 with 1 Axes>"
      ]
     },
     "metadata": {
      "needs_background": "light"
     },
     "output_type": "display_data"
    }
   ],
   "source": [
    "# ---------- Rewards of the agent with sparse and dense rewards ----------\n",
    "\n",
    "baseline = [baseline_mean_score for i in range(4000)]\n",
    "aux_plots.plot_2rewards(total_rewards_2act_sparseR[:4000], total_rewards_2act[:4000],  \"Sparse Reward\", \"Dense Reward\")"
   ]
  },
  {
   "cell_type": "code",
   "execution_count": 65,
   "metadata": {},
   "outputs": [
    {
     "data": {
      "image/png": "[encoded data removed]",
      "text/plain": [
       "<Figure size 800x480 with 1 Axes>"
      ]
     },
     "metadata": {
      "needs_background": "light"
     },
     "output_type": "display_data"
    }
   ],
   "source": [
    "# ---------- Moving average for the total rewards of the agent with sparse and dense rewards  ----------\n",
    "\n",
    "from statistics import mean\n",
    "\n",
    "s1 = total_rewards_2act_sparseR[:4000]\n",
    "s2 = total_rewards_2act[:4000]\n",
    "\n",
    "blocks = 4000//100\n",
    "s1_avg100 = []\n",
    "\n",
    "for b in range(blocks-1):\n",
    "    value = statistics.mean(s1[b*100:(b+1)*100])\n",
    "    s1_avg100.append(value)\n",
    "\n",
    "s2_avg100 = []\n",
    "for b in range(blocks-1):\n",
    "    value = statistics.mean(s2[b*100:(b+1)*100])\n",
    "    s2_avg100.append(value)\n",
    "        \n",
    "aux_plots.plot_2rewards(s1_avg100, s2_avg100, \"Sparse Reward\", \"Dense Reward\")"
   ]
  },
  {
   "cell_type": "markdown",
   "metadata": {
    "id": "xiogqiuFwfKN"
   },
   "source": [
    "## 3.3. Influence of the $𝑁0$ parameter that is used to define the agent's exploration rate  𝜖"
   ]
  },
  {
   "cell_type": "markdown",
   "metadata": {},
   "source": [
    "The exploration rate is the probability that our agent will explore the environment rather than exploit it.  \n",
    "The $𝑁0$ parameter is used to define the agent's exploration rate $\\epsilon$ , where  $\\epsilon = N0/(N0+n)$ and $n$ is the number of times that state has been visited.  \n",
    "<br>\n",
    "We used a $N0$ value very small (0.001) in order to make our agent short-sighned by only considering immediate rewards, and also used another two values of 2.5 and 5 to compare the results and see how they can impact the agent behavior. "
   ]
  },
  {
   "cell_type": "markdown",
   "metadata": {
    "id": "zpVX0QAlwfKO"
   },
   "source": [
    "### 3.3.1) $N0$ = 0.001"
   ]
  },
  {
   "cell_type": "code",
   "execution_count": null,
   "metadata": {
    "id": "44azlmoDwfKO"
   },
   "outputs": [],
   "source": [
    "# ---------- Agent with N0=0.001 ----------\n",
    "\n",
    "GAMMA = 0.99\n",
    "AVAILABLE_ACTIONS = 2\n",
    "N0 =  0.001\n",
    "\n",
    "reward_policy.REWARD_IF_CROSS = 500\n",
    "reward_policy.REWARD_IF_COLISION = -10\n",
    "reward_policy.REWARD_IF_STILL = -1\n",
    "reward_policy.REWARD_IF_FW = 0 \n",
    "\n",
    "n_runs = 7000"
   ]
  },
  {
   "cell_type": "code",
   "execution_count": null,
   "metadata": {
    "id": "2_n3VdHYwfKO"
   },
   "outputs": [],
   "source": [
    "env, initial_state = environment.get_env()\n",
    "agent = agents.QLearning(gamma=GAMMA, available_actions=AVAILABLE_ACTIONS, N0=N0)\n",
    "\n",
    "scores_2act_N0_0 = []\n",
    "total_rewards_2act_N0_0 = []"
   ]
  },
  {
   "cell_type": "code",
   "execution_count": null,
   "metadata": {
    "id": "qrG2wIyywfKO",
    "outputId": "ca131a15-1daa-4208-8bd2-620e86ce947e"
   },
   "outputs": [
    {
     "name": "stdout",
     "output_type": "stream",
     "text": [
      "Run [   0] - Total reward: 4732.00 Mean scores: 13.00 Means Scores[:-10]: 13.00 Score: 13 \n",
      "CPU times: user 1min 57s, sys: 60 ms, total: 1min 57s\n",
      "Wall time: 1min 57s\n"
     ]
    }
   ],
   "source": [
    "%%time\n",
    "\n",
    "for i in range(n_runs):\n",
    "    #render = i % 100 == 0\n",
    "    render = 0\n",
    "\n",
    "    game_over = False\n",
    "    state = env.reset()\n",
    "    state = reduce_state(state)[RAM_mask].data.tobytes()  # Select useful bytes\n",
    "    action = agent.act(state)\n",
    "   \n",
    "    score = 0\n",
    "    total_reward = 0\n",
    "\n",
    "    while not game_over:\n",
    "        if render:\n",
    "            time.sleep(0.015)\n",
    "            env.render()\n",
    "\n",
    "        old_state = state\n",
    "        ob, reward, game_over, _ = env.step(action)\n",
    "\n",
    "        ob = reduce_state(ob)\n",
    "        reward = reward_policy(reward, ob, action)\n",
    "\n",
    "        total_reward += reward\n",
    "\n",
    "        if reward == reward_policy.REWARD_IF_CROSS:\n",
    "            score += 1\n",
    "\n",
    "        state = ob[RAM_mask].data.tobytes()\n",
    "\n",
    "        agent.update_Q(old_state, state, action, reward)\n",
    "\n",
    "        action = agent.act(state)  # Next action\n",
    "\n",
    "    scores_2act_N0_0.append(score)\n",
    "    total_rewards_2act_N0_0.append(total_reward)\n",
    "    \n",
    "    if i % 100 == 0:\n",
    "        print_result(i, scores_2act_N0_0, total_reward, score)"
   ]
  },
  {
   "cell_type": "code",
   "execution_count": null,
   "metadata": {
    "id": "GVkTnBCBwfKP"
   },
   "outputs": [],
   "source": [
    "with open(\"QL/QL_scores_2act_N0_0.txt\", \"w\") as f:\n",
    "   for item in scores_2act_N0_0:\n",
    "       f.write(\"%s\\n\" % item)\n",
    "\n",
    "with open(\"QL/QL_total_rewards_2act_N0_0.txt\", \"w\") as f:\n",
    "   for item in total_rewards_2act_N0_0:\n",
    "       f.write(\"%s\\n\" % item)"
   ]
  },
  {
   "cell_type": "code",
   "execution_count": null,
   "metadata": {
    "id": "HeFMdhgHwfKP"
   },
   "outputs": [],
   "source": [
    "# with open(\"QL/QL_scores_2act_N0_0.txt\") as f:\n",
    "#    scores_2act_N0_0 = [int(x) for x in  f.read().splitlines()]\n",
    "\n",
    "# with open(\"QL/QL_total_rewards_2act_N0_0.txt\") as f:\n",
    "#    total_rewards_2act_N0_0 = [int(x) for x in  f.read().splitlines()]"
   ]
  },
  {
   "cell_type": "markdown",
   "metadata": {
    "id": "NMzF8aKqwfKP"
   },
   "source": [
    "### 3.3.2) $N0$ = 5"
   ]
  },
  {
   "cell_type": "code",
   "execution_count": null,
   "metadata": {
    "id": "Oc6LuFtbwfKP"
   },
   "outputs": [],
   "source": [
    "# ---------- Agent with N0=5 ----------\n",
    "\n",
    "GAMMA = 0.99\n",
    "AVAILABLE_ACTIONS = 2\n",
    "N0 =  5\n",
    "\n",
    "reward_policy.REWARD_IF_CROSS = 500\n",
    "reward_policy.REWARD_IF_COLISION = -10\n",
    "reward_policy.REWARD_IF_STILL = -1\n",
    "reward_policy.REWARD_IF_FW = 0 \n",
    "\n",
    "n_runs = 7000"
   ]
  },
  {
   "cell_type": "code",
   "execution_count": null,
   "metadata": {
    "id": "n4iFS0glwfKP"
   },
   "outputs": [],
   "source": [
    "env, initial_state = environment.get_env()\n",
    "agent = agents.QLearning(gamma=GAMMA, available_actions=AVAILABLE_ACTIONS, N0=N0)\n",
    "\n",
    "scores_2act_N0_5 = []\n",
    "total_rewards_2act_N0_5 = []"
   ]
  },
  {
   "cell_type": "code",
   "execution_count": null,
   "metadata": {
    "id": "klOn-YMlwfKQ",
    "outputId": "13ec37c2-b128-4e29-f3a9-2ec0f8c97b81"
   },
   "outputs": [
    {
     "name": "stdout",
     "output_type": "stream",
     "text": [
      "Run [   0] - Total reward: 4057.00 Mean scores: 12.00 Means Scores[:-10]: 12.00 Score: 12 \n",
      "CPU times: user 2min 1s, sys: 72 ms, total: 2min 1s\n",
      "Wall time: 2min 1s\n"
     ]
    }
   ],
   "source": [
    "%%time\n",
    "\n",
    "for i in range(n_runs):\n",
    "    #render = i % 100 == 0\n",
    "    render = 0\n",
    "\n",
    "    game_over = False\n",
    "    state = env.reset()\n",
    "    state = reduce_state(state)[RAM_mask].data.tobytes()  # Select useful bytes\n",
    "    action = agent.act(state)\n",
    "   \n",
    "    score = 0\n",
    "    total_reward = 0\n",
    "\n",
    "    while not game_over:\n",
    "        if render:\n",
    "            time.sleep(0.015)\n",
    "            env.render()\n",
    "\n",
    "        old_state = state\n",
    "        ob, reward, game_over, _ = env.step(action)\n",
    "\n",
    "        ob = reduce_state(ob)\n",
    "        reward = reward_policy(reward, ob, action)\n",
    "\n",
    "        total_reward += reward\n",
    "\n",
    "        if reward == reward_policy.REWARD_IF_CROSS:\n",
    "            score += 1\n",
    "\n",
    "        state = ob[RAM_mask].data.tobytes()\n",
    "\n",
    "        agent.update_Q(old_state, state, action, reward)\n",
    "\n",
    "        action = agent.act(state)  # Next action\n",
    "\n",
    "    scores_2act_N0_5.append(score)\n",
    "    total_rewards_2act_N0_5.append(total_reward)\n",
    "    \n",
    "    if i % 100 == 0:\n",
    "        print_result(i, scores_2act_N0_5, total_reward, score)"
   ]
  },
  {
   "cell_type": "code",
   "execution_count": null,
   "metadata": {
    "id": "5HA9nIyTwfKQ"
   },
   "outputs": [],
   "source": [
    "with open(\"QL/QL_scores_2act_N0_5.txt\", \"w\") as f:\n",
    "   for item in scores_2act_N0_5:\n",
    "       f.write(\"%s\\n\" % item)\n",
    "\n",
    "with open(\"QL/QL_total_rewards_2act_N0_5.txt\", \"w\") as f:\n",
    "   for item in total_rewards_2act_N0_5:\n",
    "       f.write(\"%s\\n\" % item)"
   ]
  },
  {
   "cell_type": "code",
   "execution_count": null,
   "metadata": {
    "id": "kK2FHrurwfKQ"
   },
   "outputs": [],
   "source": [
    "# with open(\"QL/QL_scores_2act_N0_5.txt\") as f:\n",
    "#    scores_2act_N0_5 = [int(x) for x in  f.read().splitlines()]\n",
    "\n",
    "# with open(\"QL/QL_total_rewards_2act_N0_5.txt\") as f:\n",
    "#    total_rewards_2act_N0_5 = [int(x) for x in  f.read().splitlines()]"
   ]
  },
  {
   "cell_type": "markdown",
   "metadata": {
    "id": "GCwyaMkSwfKR"
   },
   "source": [
    "### 3.2.3) Results got using different $N0$ values:"
   ]
  },
  {
   "cell_type": "markdown",
   "metadata": {},
   "source": []
  },
  {
   "cell_type": "code",
   "execution_count": null,
   "metadata": {},
   "outputs": [],
   "source": [
    "# ---------- Scores of the agent with N0=0.001, N0=2.5 and N0=5 ----------\n",
    "\n",
    "aux_plots.plot_3scores(scores_2act_N0_0[:7000], scores_2act[:7000], scores_2act_N0_5[:7000], \"N0=0.001\", \"N0=2.50\", \"N0=5.00\")"
   ]
  },
  {
   "cell_type": "code",
   "execution_count": null,
   "metadata": {},
   "outputs": [],
   "source": [
    "# ---------- Moving average of the scores of the agent with N0=0.001, N0=2.5 and N0=5 ----------\n",
    "\n",
    "from statistics import mean\n",
    "\n",
    "s1 = scores_2act_N0_0[:7000]\n",
    "s2 = scores_2act[:7000]\n",
    "s3 = scores_2act_N0_5[:7000]\n",
    "\n",
    "blocks = 7000//100\n",
    "s1_avg100 = []\n",
    "for b in range(blocks-1):\n",
    "    value = statistics.mean(s1[b*100:(b+1)*100])\n",
    "    s1_avg100.append(value)\n",
    "\n",
    "s2_avg100 = []\n",
    "for b in range(blocks-1):\n",
    "    value = statistics.mean(s2[b*100:(b+1)*100])\\n\",\n",
    "    s2_avg100.append(value)\"\n",
    "    \n",
    "s3_avg100 = []\n",
    "for b in range(blocks-1):\n",
    "    value = statistics.mean(s3[b*100:(b+1)*100])\\n\",\n",
    "    s3_avg100.append(value)\"\n",
    "    \n",
    "aux_plots.plot_3scores(s1_avg100, s2_avg100, s3_avg100, \"N0=0.001\", \"N0=2.50\", \"N0=5.00\")"
   ]
  },
  {
   "cell_type": "code",
   "execution_count": null,
   "metadata": {},
   "outputs": [],
   "source": [
    "# ---------- Rewards of the agent with N0=0.001, N0=2.5 and N0=5 ----------\n",
    "\n",
    "aux_plots.plot_3rewards(total_rewards_2act_N0_0[:7000], total_rewards_2act[:7000], total_rewards_2act_N0_5[:7000], \"N0=0.001\", \"N0=2.50\", \"N0=5.00\")"
   ]
  },
  {
   "cell_type": "code",
   "execution_count": null,
   "metadata": {},
   "outputs": [],
   "source": [
    "# ---------- Moving average for the total rewards of the agent with N0=0.001, N0=2.5 and N0=5 ----------\n",
    "\n",
    "from statistics import mean\n",
    "\n",
    "s1 = total_rewards_2act_N0_0[:7000]\n",
    "s2 = total_rewards_2act[:7000]\n",
    "s3 = total_rewards_2act_N0_5[:7000]\n",
    "\n",
    "blocks = 7000//100\n",
    "s1_avg100 = []\n",
    "\n",
    "for b in range(blocks-1):\n",
    "    value = statistics.mean(s1[b*100:(b+1)*100])\n",
    "    s1_avg100.append(value)\n",
    "\n",
    "s2_avg100 = []\n",
    "for b in range(blocks-1):\n",
    "    value = statistics.mean(s2[b*100:(b+1)*100])\n",
    "    s2_avg100.append(value)\n",
    "        \n",
    "aux_plots.plot_3rewards(s1_avg100, s2_avg100, s3_avg100, \"N0=0.001\", \"N0=2.50\", \"N0=5.00\")"
   ]
  },
  {
   "cell_type": "code",
   "execution_count": null,
   "metadata": {},
   "outputs": [],
   "source": []
  },
  {
   "cell_type": "code",
   "execution_count": null,
   "metadata": {},
   "outputs": [],
   "source": []
  },
  {
   "cell_type": "code",
   "execution_count": null,
   "metadata": {},
   "outputs": [],
   "source": []
  },
  {
   "cell_type": "markdown",
   "metadata": {
    "id": "U4zV0AFhwfKR"
   },
   "source": [
    "## 3.4. Influence of the discount factor"
   ]
  },
  {
   "cell_type": "markdown",
   "metadata": {},
   "source": []
  },
  {
   "cell_type": "markdown",
   "metadata": {
    "id": "jnSRP0KCwfKR"
   },
   "source": [
    "### 3.4.1) $ɣ$ = 0.90"
   ]
  },
  {
   "cell_type": "code",
   "execution_count": null,
   "metadata": {
    "id": "8J2K1rdewfKS"
   },
   "outputs": [],
   "source": [
    "# ---------- Agent with gamma=0.90 ----------\n",
    "\n",
    "GAMMA = 0.90\n",
    "AVAILABLE_ACTIONS = 2\n",
    "N0 = 2.5\n",
    "\n",
    "reward_policy.REWARD_IF_CROSS = 500\n",
    "reward_policy.REWARD_IF_COLISION = -10\n",
    "reward_policy.REWARD_IF_STILL = -1\n",
    "reward_policy.REWARD_IF_FW = 0 \n",
    "\n",
    "n_runs = 4000"
   ]
  },
  {
   "cell_type": "code",
   "execution_count": null,
   "metadata": {
    "id": "YnlQuIsOwfKS"
   },
   "outputs": [],
   "source": [
    "env, initial_state = environment.get_env()\n",
    "agent = agents.QLearning(gamma=GAMMA, available_actions=AVAILABLE_ACTIONS, N0=N0)\n",
    "\n",
    "scores_2act_gamma_0p9 = []\n",
    "total_rewards_2act_gamma_0p9 = []"
   ]
  },
  {
   "cell_type": "code",
   "execution_count": null,
   "metadata": {
    "id": "fCXZBfgPwfKS",
    "outputId": "663c60af-dd12-4d6c-8883-4333e96a8ae0"
   },
   "outputs": [],
   "source": [
    "%%time\n",
    "\n",
    "for i in range(n_runs):\n",
    "    #render = i % 100 == 0\n",
    "    render = 0\n",
    "\n",
    "    game_over = False\n",
    "    state = env.reset()\n",
    "    state = reduce_state(state)[RAM_mask].data.tobytes()  # Select useful bytes\n",
    "    action = agent.act(state)\n",
    "   \n",
    "    score = 0\n",
    "    total_reward = 0\n",
    "\n",
    "    while not game_over:\n",
    "        if render:\n",
    "            time.sleep(0.015)\n",
    "            env.render()\n",
    "\n",
    "        old_state = state\n",
    "        ob, reward, game_over, _ = env.step(action)\n",
    "\n",
    "        ob = reduce_state(ob)\n",
    "        reward = reward_policy(reward, ob, action)\n",
    "\n",
    "        total_reward += reward\n",
    "\n",
    "        if reward == reward_policy.REWARD_IF_CROSS:\n",
    "            score += 1\n",
    "\n",
    "        state = ob[RAM_mask].data.tobytes()\n",
    "\n",
    "        agent.update_Q(old_state, state, action, reward)\n",
    "\n",
    "        action = agent.act(state)  # Next action\n",
    "\n",
    "    scores_2act_gamma_0p9.append(score)\n",
    "    total_rewards_2act_gamma_0p9.append(total_reward)\n",
    "    \n",
    "    if i % 100 == 0:\n",
    "        print_result(i, scores_2act_gamma_0p9, total_reward, score)"
   ]
  },
  {
   "cell_type": "code",
   "execution_count": null,
   "metadata": {
    "id": "6UPEWByLwfKT"
   },
   "outputs": [],
   "source": [
    "with open(\"QL/QL_scores_2act_gamma_0p9.txt\", \"w\") as f:\n",
    "   for item in scores_2act_gamma_0p9:\n",
    "       f.write(\"%s\\n\" % item)\n",
    "\n",
    "with open(\"QL/QL_total_rewards_2act_gamma_0p9.txt\", \"w\") as f:\n",
    "   for item in total_rewards_2act_gamma_0p9:\n",
    "       f.write(\"%s\\n\" % item)"
   ]
  },
  {
   "cell_type": "code",
   "execution_count": null,
   "metadata": {
    "id": "QubI_Om_wfKT"
   },
   "outputs": [],
   "source": [
    "# with open(\"QL/QL_scores_2act_gamma_0p9.txt\") as f:\n",
    "#    scores_2act_gamma_0p9 = [int(x) for x in  f.read().splitlines()]\n",
    "\n",
    "# with open(\"QL/QL_total_rewards_2act_gamma_0p9.txt\") as f:\n",
    "#    total_rewards_2act_gamma_0p9 = [int(x) for x in  f.read().splitlines()]"
   ]
  },
  {
   "cell_type": "markdown",
   "metadata": {
    "id": "35Ex64oZwfKT"
   },
   "source": [
    "### 3.4.2) $ɣ$ = 0.75"
   ]
  },
  {
   "cell_type": "code",
   "execution_count": null,
   "metadata": {
    "id": "oSYzgEvvwfKT"
   },
   "outputs": [],
   "source": [
    "# ---------- Agent with gamma=0.75 ----------\n",
    "\n",
    "GAMMA = 0.75\n",
    "AVAILABLE_ACTIONS = 2\n",
    "N0 =  2.5\n",
    "\n",
    "reward_policy.REWARD_IF_CROSS = 500\n",
    "reward_policy.REWARD_IF_COLISION = -10\n",
    "reward_policy.REWARD_IF_STILL = -1\n",
    "reward_policy.REWARD_IF_FW = 0 \n",
    "\n",
    "n_runs = 4000"
   ]
  },
  {
   "cell_type": "code",
   "execution_count": null,
   "metadata": {
    "id": "UOqaU7_hwfKT"
   },
   "outputs": [],
   "source": [
    "env, initial_state = environment.get_env()\n",
    "agent = agents.QLearning(gamma=GAMMA, available_actions=AVAILABLE_ACTIONS, N0=N0)\n",
    "\n",
    "scores_2act_gamma_0p75 = []\n",
    "total_rewards_2act_gamma_0p75 = []"
   ]
  },
  {
   "cell_type": "code",
   "execution_count": null,
   "metadata": {
    "id": "hNYqICX7wfKU",
    "outputId": "99ed35f0-a3d7-42b8-bcb8-2d4a41d68673"
   },
   "outputs": [],
   "source": [
    "%%time\n",
    "\n",
    "for i in range(n_runs):\n",
    "    #render = i % 100 == 0\n",
    "    render = 0\n",
    "\n",
    "    game_over = False\n",
    "    state = env.reset()\n",
    "    state = reduce_state(state)[RAM_mask].data.tobytes()  # Select useful bytes\n",
    "    action = agent.act(state)\n",
    "   \n",
    "    score = 0\n",
    "    total_reward = 0\n",
    "\n",
    "    while not game_over:\n",
    "        if render:\n",
    "            time.sleep(0.015)\n",
    "            env.render()\n",
    "\n",
    "        old_state = state\n",
    "        ob, reward, game_over, _ = env.step(action)\n",
    "\n",
    "        ob = reduce_state(ob)\n",
    "        reward = reward_policy(reward, ob, action)\n",
    "\n",
    "        total_reward += reward\n",
    "\n",
    "        if reward == reward_policy.REWARD_IF_CROSS:\n",
    "            score += 1\n",
    "\n",
    "        state = ob[RAM_mask].data.tobytes()\n",
    "\n",
    "        agent.update_Q(old_state, state, action, reward)\n",
    "\n",
    "        action = agent.act(state)  # Next action\n",
    "\n",
    "    scores_2act_gamma_0p75.append(score)\n",
    "    total_rewards_2act_gamma_0p75.append(total_reward)\n",
    "    \n",
    "    if i % 100 == 0:\n",
    "        print_result(i, scores_2act_gamma_0p75, total_reward, score)"
   ]
  },
  {
   "cell_type": "code",
   "execution_count": null,
   "metadata": {
    "id": "rLr3Tw5ZwfKU"
   },
   "outputs": [],
   "source": [
    "with open(\"QL/QL_scores_2act_gamma_0p75.txt\", \"w\") as f:\n",
    "   for item in scores_2act_gamma_0p75:\n",
    "       f.write(\"%s\\n\" % item)\n",
    "\n",
    "with open(\"QL/QL_total_rewards_2act_gamma_0p75.txt\", \"w\") as f:\n",
    "   for item in total_rewards_2act_gamma_0p75:\n",
    "       f.write(\"%s\\n\" % item)"
   ]
  },
  {
   "cell_type": "code",
   "execution_count": null,
   "metadata": {
    "id": "cW3XnlmKwfKU"
   },
   "outputs": [],
   "source": [
    "# with open(\"QL/QL_scores_2act_gamma_0p75.txt\") as f:\n",
    "#    scores_2act_gamma_0p75 = [int(x) for x in  f.read().splitlines()]\n",
    "\n",
    "# with open(\"QL/QL_total_rewards_2act_gamma_0p75.txt\") as f:\n",
    "#    total_rewards_2act_gamma_0p75 = [int(x) for x in  f.read().splitlines()]"
   ]
  },
  {
   "cell_type": "markdown",
   "metadata": {
    "id": "_nUDEzUJwfKU"
   },
   "source": [
    "### 3.4.3) Results got using different $\\gamma$ values:"
   ]
  },
  {
   "cell_type": "markdown",
   "metadata": {},
   "source": []
  },
  {
   "cell_type": "code",
   "execution_count": null,
   "metadata": {},
   "outputs": [],
   "source": [
    "# ---------- Scores of the agent with gamma=0.99 gamma=0.90 and gamma=0.75 ---------\n",
    "\n",
    "aux_plots.plot_3scores(scores_2act_gamma_0p9[:4000], scores_2act[:4000], scores_2act_gamma_0p75[:4000], \"gamma=0.90\", \"gamma=0.99\", \"gamma=0.75\")"
   ]
  },
  {
   "cell_type": "code",
   "execution_count": null,
   "metadata": {
    "id": "0ynnoPpgwfKV"
   },
   "outputs": [],
   "source": [
    "# ---------- Moving average for the scores of the agent with gamma=0.99 gamma=0.90 and gamma=0.75 ---------\n",
    "\n",
    "s1 = scores_2act_gamma_0p9[:4000]\n",
    "s2 = scores_2act[:4000]\n",
    "s3 = scores_2act_gamma_0p75[:4000]\n",
    "\n",
    "blocks = 4000//100\n",
    "s1_avg100 = []\n",
    "for b in range(blocks-1):\n",
    "    value = statistics.mean(s1[b*100:(b+1)*100])\n",
    "    s1_avg100.append(value)\n",
    "\n",
    "s2_avg100 = []\n",
    "for b in range(blocks-1):\n",
    "    value = statistics.mean(s2[b*100:(b+1)*100])\\n\",\n",
    "    s2_avg100.append(value)\"\n",
    "    \n",
    "s3_avg100 = []\n",
    "for b in range(blocks-1):\n",
    "    value = statistics.mean(s3[b*100:(b+1)*100])\\n\",\n",
    "    s3_avg100.append(value)\"\n",
    "    \n",
    "aux_plots.plot_3scores(s1_avg100, s2_avg100, s3_avg100, \"gamma=0.90\", \"gamma=0.99\", \"gamma=0.75\")"
   ]
  },
  {
   "cell_type": "code",
   "execution_count": null,
   "metadata": {
    "id": "8kdXnFN8wfKV"
   },
   "outputs": [],
   "source": [
    "# ---------- Total rewards of the agent with gamma=0.99 gamma=0.90 and gamma=0.75 ---------\n",
    "\n",
    "aux_plots.plot_3rewards(scores_2act_gamma_0p9[:4000], scores_2act[:4000], scores_2act_gamma_0p75[:4000], \"gamma=0.90\", \"gamma=0.99\", \"gamma=0.75\")"
   ]
  },
  {
   "cell_type": "code",
   "execution_count": null,
   "metadata": {
    "id": "XR3Y2nRbwfKV"
   },
   "outputs": [],
   "source": [
    "# ---------- Moving average for the total rewards of the agent with gamma=0.99 gamma=0.90 and gamma=0.75 ---------\n",
    "\n",
    "s1 = scores_2act_gamma_0p9[:4000]\n",
    "s2 = scores_2act[:4000]\n",
    "s3 = scores_2act_gamma_0p75[:4000]\n",
    "\n",
    "blocks = 4000//100\n",
    "s1_avg100 = []\n",
    "for b in range(blocks-1):\n",
    "    value = statistics.mean(s1[b*100:(b+1)*100])\n",
    "    s1_avg100.append(value)\n",
    "\n",
    "s2_avg100 = []\n",
    "for b in range(blocks-1):\n",
    "    value = statistics.mean(s2[b*100:(b+1)*100])\\n\",\n",
    "    s2_avg100.append(value)\"\n",
    "    \n",
    "s3_avg100 = []\n",
    "for b in range(blocks-1):\n",
    "    value = statistics.mean(s3[b*100:(b+1)*100])\\n\",\n",
    "    s3_avg100.append(value)\"\n",
    "    \n",
    "aux_plots.plot_3rewards(s1_avg100, s2_avg100, s3_avg100, \"gamma=0.90\", \"gamma=0.99\", \"gamma=0.75\")"
   ]
  },
  {
   "cell_type": "code",
   "execution_count": null,
   "metadata": {},
   "outputs": [],
   "source": []
  },
  {
   "cell_type": "markdown",
   "metadata": {
    "id": "zQ9IfPeLwfKW"
   },
   "source": [
    "---"
   ]
  },
  {
   "cell_type": "markdown",
   "metadata": {
    "id": "Z6_qmgYBwfKX"
   },
   "source": [
    "# Monte Carlo Control"
   ]
  },
  {
   "cell_type": "markdown",
   "metadata": {
    "id": "BHaOs0-xx9La"
   },
   "source": [
    "## Changing hyper parameters: number of actions"
   ]
  },
  {
   "cell_type": "markdown",
   "metadata": {
    "id": "wxhG6Kvgx9La"
   },
   "source": [
    "### - 2 actions (move forward or stay):"
   ]
  },
  {
   "cell_type": "code",
   "execution_count": 49,
   "metadata": {
    "id": "X1NjH1vox9Lb"
   },
   "outputs": [],
   "source": [
    "GAMMA = 0.99\n",
    "AVAILABLE_ACTIONS = 2\n",
    "N0 = 2.5\n",
    "\n",
    "reward_policy.REWARD_IF_CROSS = 500\n",
    "reward_policy.REWARD_IF_COLISION = -10\n",
    "reward_policy.REWARD_IF_STILL = -1\n",
    "reward_policy.REWARD_IF_FW = 0 \n",
    "\n",
    "n_runs = 7000"
   ]
  },
  {
   "cell_type": "code",
   "execution_count": 50,
   "metadata": {},
   "outputs": [],
   "source": [
    "env, initial_state = environment.get_env()\n",
    "agent = agents.MonteCarloControl(gamma=GAMMA, available_actions=AVAILABLE_ACTIONS, N0=N0)\n",
    "\n",
    "def MonteCarloES(RAM_mask: List[int], render: bool=False):\n",
    "    epi = episode.generate_episode(env, reduce_state=reduce_state, reward_policy=reward_policy, agent=agent, RAM_mask=RAM_mask, render=render)\n",
    "    return agent.update_policy(epi)\n",
    "\n",
    "scores_2act = []\n",
    "total_rewards_2act = []"
   ]
  },
  {
   "cell_type": "code",
   "execution_count": 51,
   "metadata": {},
   "outputs": [
    {
     "name": "stdout",
     "output_type": "stream",
     "text": [
      "CPU times: user 3.74 s, sys: 4 ms, total: 3.75 s\n",
      "Wall time: 3.74 s\n"
     ]
    },
    {
     "data": {
      "text/plain": [
       "(13, 4551)"
      ]
     },
     "execution_count": 51,
     "metadata": {},
     "output_type": "execute_result"
    }
   ],
   "source": [
    "%%time\n",
    "MonteCarloES(RAM_mask=RAM_mask, render=False)"
   ]
  },
  {
   "cell_type": "code",
   "execution_count": 52,
   "metadata": {},
   "outputs": [
    {
     "name": "stdout",
     "output_type": "stream",
     "text": [
      "Run [   0] - Total reward: 5797.00 Mean scores: 15.00 Means Scores[:-10]: 15.00 Score: 15 \n",
      "CPU times: user 2min 6s, sys: 76 ms, total: 2min 6s\n",
      "Wall time: 2min 6s\n"
     ]
    }
   ],
   "source": [
    "%%time\n",
    "\n",
    "for i in range(n_runs):\n",
    "    #render = i % 100 == 0\n",
    "    render = 0\n",
    "    \n",
    "    score, total_reward = MonteCarloES(RAM_mask=RAM_mask, render=render)\n",
    "\n",
    "    scores_2act.append(score)\n",
    "    total_rewards_2act.append(total_reward)\n",
    "\n",
    "    if i % 100 == 0:\n",
    "        print_result(i, scores_2act, total_reward, score)"
   ]
  },
  {
   "cell_type": "code",
   "execution_count": 53,
   "metadata": {
    "id": "uZwUTnQ2x9Ld"
   },
   "outputs": [],
   "source": [
    "with open(\"MC/MC_scores_2act.txt\", \"w\") as f:\n",
    "   for item in scores_2act:\n",
    "       f.write(\"%s\\n\" % item)\n",
    "\n",
    "with open(\"MC/MC_total_rewards_2act.txt\", \"w\") as f:\n",
    "   for item in total_rewards_2act:\n",
    "       f.write(\"%s\\n\" % item)"
   ]
  },
  {
   "cell_type": "code",
   "execution_count": null,
   "metadata": {
    "id": "D7y-lpRUx9Ld"
   },
   "outputs": [],
   "source": [
    "# with open(\"MC/MC_scores_2act.txt\") as f:\n",
    "#    scores_2act = [int(x) for x in  f.read().splitlines()]\n",
    "\n",
    "# with open(\"MC/MC_total_rewards_2act.txt\") as f:\n",
    "#    total_rewards_2act = [int(x) for x in  f.read().splitlines()]"
   ]
  },
  {
   "cell_type": "markdown",
   "metadata": {
    "id": "xIAuOpGWx9Lg"
   },
   "source": [
    "### - 3 actions (move forward, stay or move backard):"
   ]
  },
  {
   "cell_type": "code",
   "execution_count": 40,
   "metadata": {
    "id": "vFNzJurqx9Lh"
   },
   "outputs": [],
   "source": [
    "GAMMA = 0.99\n",
    "AVAILABLE_ACTIONS = 3\n",
    "N0 = 2.5\n",
    "\n",
    "reward_policy.REWARD_IF_CROSS = 500\n",
    "reward_policy.REWARD_IF_COLISION = -10\n",
    "reward_policy.REWARD_IF_STILL = -1\n",
    "reward_policy.REWARD_IF_FW = 0 \n",
    "reward_policy.REWARD_IF_BW = -9\n",
    "\n",
    "n_runs = 3000"
   ]
  },
  {
   "cell_type": "code",
   "execution_count": 45,
   "metadata": {
    "id": "6A_mSKFax9Li"
   },
   "outputs": [],
   "source": [
    "env, initial_state = environment.get_env()\n",
    "agent = agents.MonteCarloControl(gamma=GAMMA, available_actions=AVAILABLE_ACTIONS, N0=N0)\n",
    "\n",
    "def MonteCarloES(RAM_mask: List[int], render: bool=False):\n",
    "    epi = episode.generate_episode(env, reduce_state=reduce_state, reward_policy=reward_policy, agent=agent, RAM_mask=RAM_mask, render=render)\n",
    "    return agent.update_policy(epi)\n",
    "\n",
    "scores_3act = []\n",
    "total_rewards_3act = []"
   ]
  },
  {
   "cell_type": "code",
   "execution_count": 46,
   "metadata": {},
   "outputs": [
    {
     "name": "stdout",
     "output_type": "stream",
     "text": [
      "Run [   0] - Total reward: -9550.00 Mean scores: 0.00 Means Scores[:-10]:  0.00 Score:  0 \n",
      "CPU times: user 2min, sys: 27.9 ms, total: 2min\n",
      "Wall time: 2min\n"
     ]
    }
   ],
   "source": [
    "%%time\n",
    "\n",
    "for i in range(n_runs):\n",
    "    #render = i % 100 == 0\n",
    "    render = 0\n",
    "    \n",
    "    score, total_reward = MonteCarloES(RAM_mask=RAM_mask, render=render)\n",
    "\n",
    "    scores_3act.append(score)\n",
    "    total_rewards_3act.append(total_reward)\n",
    "\n",
    "    if i % 100 == 0:\n",
    "        print_result(i, scores_3act, total_reward, score)"
   ]
  },
  {
   "cell_type": "code",
   "execution_count": 43,
   "metadata": {
    "id": "dK9KXr3bx9Lj"
   },
   "outputs": [],
   "source": [
    "with open(\"MC/MC_scores_3act.txt\", \"w\") as f:\n",
    "   for item in scores_3act:\n",
    "       f.write(\"%s\\n\" % item)\n",
    "\n",
    "with open(\"MC/MC_total_rewards_3act.txt\", \"w\") as f:\n",
    "   for item in total_rewards_3act:\n",
    "       f.write(\"%s\\n\" % item)"
   ]
  },
  {
   "cell_type": "code",
   "execution_count": null,
   "metadata": {
    "id": "86Xnxff2x9Lj"
   },
   "outputs": [],
   "source": [
    "# with open(\"MC/MC_scores_3act.txt\") as f:\n",
    "#    scores_3act = [int(x) for x in  f.read().splitlines()]\n",
    "\n",
    "# with open(\"MC/MC_total_rewards_3act.txt\") as f:\n",
    "#    total_rewards_3act = [int(x) for x in  f.read().splitlines()]"
   ]
  },
  {
   "cell_type": "markdown",
   "metadata": {
    "id": "4YQ8Uhcux9Lk"
   },
   "source": [
    "### - Results with different number of actions:"
   ]
  },
  {
   "cell_type": "code",
   "execution_count": null,
   "metadata": {},
   "outputs": [],
   "source": [
    "baseline = [baseline_mean_score for i in range(3000)]\n",
    "aux_plots.plot_3scores(scores_3act[:3000], scores_2act[:3000], baseline[:3000], \"3 actions (BW, FW or STAY)\", \"2 actions (FW or STAY)\", \"Baseline mean score (FW only)\")"
   ]
  },
  {
   "cell_type": "markdown",
   "metadata": {
    "id": "qFE40zGhx9Ll"
   },
   "source": [
    "---"
   ]
  },
  {
   "cell_type": "markdown",
   "metadata": {
    "id": "KUX1Bnz1x9Ll"
   },
   "source": [
    "## Changing hyper parameters: Reward values"
   ]
  },
  {
   "cell_type": "markdown",
   "metadata": {
    "id": "K0LJw6kUx9Lm"
   },
   "source": [
    "### - Sparse reward: $+1$ if cross the street, $-1$ if collide"
   ]
  },
  {
   "cell_type": "code",
   "execution_count": null,
   "metadata": {
    "id": "D_66YFEDx9Lm"
   },
   "outputs": [],
   "source": [
    "GAMMA = 0.99\n",
    "AVAILABLE_ACTIONS = 2\n",
    "N0 = 2.5\n",
    "\n",
    "reward_policy.REWARD_IF_CROSS = 1\n",
    "reward_policy.REWARD_IF_COLISION = -1\n",
    "reward_policy.REWARD_IF_STILL = 0\n",
    "reward_policy.REWARD_IF_FW = 0 \n",
    "\n",
    "n_runs = 3000"
   ]
  },
  {
   "cell_type": "code",
   "execution_count": null,
   "metadata": {
    "id": "unNawPF4x9Lm"
   },
   "outputs": [],
   "source": [
    "env, initial_state = environment.get_env()\n",
    "agent = agents.MonteCarloControl(gamma=GAMMA, available_actions=AVAILABLE_ACTIONS, N0=N0)\n",
    "\n",
    "def MonteCarloES(RAM_mask: List[int], render: bool=False):\n",
    "    epi = episode.generate_episode(env, reduce_state=reduce_state, reward_policy=reward_policy, agent=agent, RAM_mask=RAM_mask, render=render)\n",
    "    return agent.update_policy(epi)\n",
    "\n",
    "\n",
    "scores_2act_sparseR = []\n",
    "total_rewards_2act_sparseR = []"
   ]
  },
  {
   "cell_type": "code",
   "execution_count": null,
   "metadata": {},
   "outputs": [],
   "source": [
    "%%time\n",
    "\n",
    "for i in range(n_runs):\n",
    "    #render = i % 100 == 0\n",
    "    render = 0\n",
    "    \n",
    "    score, total_reward = MonteCarloES(RAM_mask=RAM_mask, render=render)\n",
    "\n",
    "    scores_2act_sparseR.append(score)\n",
    "    total_rewards_2act_sparseR.append(total_reward)\n",
    "\n",
    "    if i % 100 == 0:\n",
    "        print_result(i, scores_2act_sparseR, total_reward, score)"
   ]
  },
  {
   "cell_type": "code",
   "execution_count": null,
   "metadata": {
    "id": "VjifchMux9Ln"
   },
   "outputs": [],
   "source": [
    "with open(\"MC/MC_scores_2act_sparseR.txt\", \"w\") as f:\n",
    "   for item in scores_2act_sparseR:\n",
    "       f.write(\"%s\\n\" % item)\n",
    "\n",
    "with open(\"MC/MC_total_rewards_2act_sparseR.txt\", \"w\") as f:\n",
    "   for item in total_rewards_2act_sparseR:\n",
    "       f.write(\"%s\\n\" % item)"
   ]
  },
  {
   "cell_type": "code",
   "execution_count": null,
   "metadata": {
    "id": "G1M3pQ1vx9Lo"
   },
   "outputs": [],
   "source": [
    "# with open(\"MC/MC_scores_2act_sparseR.txt\") as f:\n",
    "#    scores_2act_sparseR = [int(x) for x in  f.read().splitlines()]\n",
    "\n",
    "# with open(\"MC/MC_total_rewards_2act_sparseR.txt\") as f:\n",
    "#    total_rewards_2act_sparseR = [int(x) for x in  f.read().splitlines()]"
   ]
  },
  {
   "cell_type": "markdown",
   "metadata": {
    "id": "NqRunVwXx9Lo"
   },
   "source": [
    "### - Results with sparse and dense rewards:"
   ]
  },
  {
   "cell_type": "code",
   "execution_count": null,
   "metadata": {},
   "outputs": [],
   "source": [
    "baseline = [baseline_mean_score for i in range(3000)]\n",
    "aux_plots.plot_3scores(scores_2act_sparseR[:3000], scores_2act[:3000], baseline[:3000], \"Sparse Reward\", \"Dense Reward\", \"Baseline mean score\")"
   ]
  },
  {
   "cell_type": "markdown",
   "metadata": {
    "id": "q37kgfgfx9Lp"
   },
   "source": [
    "---"
   ]
  },
  {
   "cell_type": "markdown",
   "metadata": {
    "id": "wDjX3Uhqx9Lp"
   },
   "source": [
    "## Changing hyper parameters: Learning rate"
   ]
  },
  {
   "cell_type": "markdown",
   "metadata": {
    "id": "lhDd8stvx9Lp"
   },
   "source": [
    "### - $N0$ = 0.001"
   ]
  },
  {
   "cell_type": "code",
   "execution_count": null,
   "metadata": {
    "id": "QvEu1iuEx9Lp"
   },
   "outputs": [],
   "source": [
    "GAMMA = 0.99\n",
    "AVAILABLE_ACTIONS = 2\n",
    "N0 =  0.001\n",
    "\n",
    "reward_policy.REWARD_IF_CROSS = 500\n",
    "reward_policy.REWARD_IF_COLISION = -10\n",
    "reward_policy.REWARD_IF_STILL = -1\n",
    "reward_policy.REWARD_IF_FW = 0 \n",
    "\n",
    "n_runs = 7000"
   ]
  },
  {
   "cell_type": "code",
   "execution_count": null,
   "metadata": {
    "id": "H3FBcKnix9Lp"
   },
   "outputs": [],
   "source": [
    "env, initial_state = environment.get_env()\n",
    "agent = agents.MonteCarloControl(gamma=GAMMA, available_actions=AVAILABLE_ACTIONS, N0=N0)\n",
    "\n",
    "def MonteCarloES(RAM_mask: List[int], render: bool=False):\n",
    "    epi = episode.generate_episode(env, reduce_state=reduce_state, reward_policy=reward_policy, agent=agent, RAM_mask=RAM_mask, render=render)\n",
    "    return agent.update_policy(epi)\n",
    "\n",
    "scores_2act_N0_0 = []\n",
    "total_rewards_2act_N0_0 = []"
   ]
  },
  {
   "cell_type": "code",
   "execution_count": null,
   "metadata": {},
   "outputs": [],
   "source": [
    "%%time\n",
    "\n",
    "for i in range(n_runs):\n",
    "    #render = i % 100 == 0\n",
    "    render = 0\n",
    "    \n",
    "    score, total_reward = MonteCarloES(RAM_mask=RAM_mask, render=render)\n",
    "\n",
    "    scores_2act_N0_0.append(score)\n",
    "    total_rewards_2act_N0_0.append(total_reward)\n",
    "\n",
    "    if i % 100 == 0:\n",
    "        print_result(i, scores_2act_N0_0, total_reward, score)"
   ]
  },
  {
   "cell_type": "code",
   "execution_count": null,
   "metadata": {
    "id": "dPopd9jlx9Lq"
   },
   "outputs": [],
   "source": [
    "with open(\"MC/MC_scores_2act_N0_0.txt\", \"w\") as f:\n",
    "   for item in scores_2act_N0_0:\n",
    "       f.write(\"%s\\n\" % item)\n",
    "\n",
    "with open(\"MC/MC_total_rewards_2act_N0_0.txt\", \"w\") as f:\n",
    "   for item in total_rewards_2act_N0_0:\n",
    "       f.write(\"%s\\n\" % item)"
   ]
  },
  {
   "cell_type": "code",
   "execution_count": null,
   "metadata": {
    "id": "FpYuloURx9Lq"
   },
   "outputs": [],
   "source": [
    "# with open(\"MC/MC_scores_2act_N0_0.txt\") as f:\n",
    "#    scores_2act_N0_0 = [int(x) for x in  f.read().splitlines()]\n",
    "\n",
    "# with open(\"MC/MC_total_rewards_2act_N0_0.txt\") as f:\n",
    "#    total_rewards_2act_N0_0 = [int(x) for x in  f.read().splitlines()]"
   ]
  },
  {
   "cell_type": "markdown",
   "metadata": {
    "id": "0UbSCG0Px9Lr"
   },
   "source": [
    "### - $N0$ = 5"
   ]
  },
  {
   "cell_type": "code",
   "execution_count": null,
   "metadata": {
    "id": "QIeXlZysx9Lr"
   },
   "outputs": [],
   "source": [
    "GAMMA = 0.99\n",
    "AVAILABLE_ACTIONS = 2\n",
    "N0 =  5\n",
    "\n",
    "reward_policy.REWARD_IF_CROSS = 500\n",
    "reward_policy.REWARD_IF_COLISION = -10\n",
    "reward_policy.REWARD_IF_STILL = -1\n",
    "reward_policy.REWARD_IF_FW = 0 \n",
    "\n",
    "n_runs = 7000"
   ]
  },
  {
   "cell_type": "code",
   "execution_count": null,
   "metadata": {
    "id": "S2FDqiiBx9Lr"
   },
   "outputs": [],
   "source": [
    "env, initial_state = environment.get_env()\n",
    "agent = agents.MonteCarloControl(gamma=GAMMA, available_actions=AVAILABLE_ACTIONS, N0=N0)\n",
    "\n",
    "def MonteCarloES(RAM_mask: List[int], render: bool=False):\n",
    "    epi = episode.generate_episode(env, reduce_state=reduce_state, reward_policy=reward_policy, agent=agent, RAM_mask=RAM_mask, render=render)\n",
    "    return agent.update_policy(epi)\n",
    "\n",
    "scores_2act_N0_5 = []\n",
    "total_rewards_2act_N0_5 = []"
   ]
  },
  {
   "cell_type": "code",
   "execution_count": null,
   "metadata": {},
   "outputs": [],
   "source": [
    "%%time\n",
    "\n",
    "for i in range(n_runs):\n",
    "    #render = i % 100 == 0\n",
    "    render = 0\n",
    "    \n",
    "    score, total_reward = MonteCarloES(RAM_mask=RAM_mask, render=render)\n",
    "\n",
    "    scores_2act_N0_5.append(score)\n",
    "    total_rewards_2act_N0_5.append(total_reward)\n",
    "\n",
    "    if i % 100 == 0:\n",
    "        print_result(i, scores_2act_N0_5, total_reward, score)"
   ]
  },
  {
   "cell_type": "code",
   "execution_count": null,
   "metadata": {
    "id": "-XudWve7x9Ls"
   },
   "outputs": [],
   "source": [
    "with open(\"MC/MC_scores_2act_N0_5.txt\", \"w\") as f:\n",
    "   for item in scores_2act_N0_5:\n",
    "       f.write(\"%s\\n\" % item)\n",
    "\n",
    "with open(\"MC/MC_total_rewards_2act_N0_5.txt\", \"w\") as f:\n",
    "   for item in total_rewards_2act_N0_5:\n",
    "       f.write(\"%s\\n\" % item)"
   ]
  },
  {
   "cell_type": "code",
   "execution_count": null,
   "metadata": {
    "id": "UFPBgUoJx9Ls"
   },
   "outputs": [],
   "source": [
    "# with open(\"MC/MC_scores_2act_N0_5.txt\") as f:\n",
    "#    scores_2act_N0_5 = [int(x) for x in  f.read().splitlines()]\n",
    "\n",
    "# with open(\"MC/MC_total_rewards_2act_N0_5.txt\") as f:\n",
    "#    total_rewards_2act_N0_5 = [int(x) for x in  f.read().splitlines()]"
   ]
  },
  {
   "cell_type": "markdown",
   "metadata": {
    "id": "tse0MWz9x9Lt"
   },
   "source": [
    "### - Results with different $N0$ values:"
   ]
  },
  {
   "cell_type": "code",
   "execution_count": null,
   "metadata": {},
   "outputs": [],
   "source": [
    "aux_plots.plot_3scores(scores_2act_N0_0, scores_2act, scores_2act_N0_5, \"N0=0.0\", \"N0=2.5\", \"N0=5.0\")"
   ]
  },
  {
   "cell_type": "markdown",
   "metadata": {
    "id": "5KIsXgcAx9Lt"
   },
   "source": [
    "---"
   ]
  },
  {
   "cell_type": "markdown",
   "metadata": {
    "id": "xjXbOOO_x9Lt"
   },
   "source": [
    "## Changing hyper parameters: Discount factor"
   ]
  },
  {
   "cell_type": "markdown",
   "metadata": {
    "id": "im6EopUvx9Lu"
   },
   "source": [
    "### - $ɣ$ = 0.90"
   ]
  },
  {
   "cell_type": "code",
   "execution_count": null,
   "metadata": {
    "id": "52oDh-3Ex9Lu"
   },
   "outputs": [],
   "source": [
    "GAMMA = 0.90\n",
    "AVAILABLE_ACTIONS = 2\n",
    "N0 =  2.5\n",
    "\n",
    "reward_policy.REWARD_IF_CROSS = 500\n",
    "reward_policy.REWARD_IF_COLISION = -10\n",
    "reward_policy.REWARD_IF_STILL = -1\n",
    "reward_policy.REWARD_IF_FW = 0 \n",
    "\n",
    "n_runs = 3000"
   ]
  },
  {
   "cell_type": "code",
   "execution_count": null,
   "metadata": {
    "id": "V3C772fwx9Lv"
   },
   "outputs": [],
   "source": [
    "env, initial_state = environment.get_env()\n",
    "agent = agents.MonteCarloControl(gamma=GAMMA, available_actions=AVAILABLE_ACTIONS, N0=N0)\n",
    "\n",
    "def MonteCarloES(RAM_mask: List[int], render: bool=False):\n",
    "    epi = episode.generate_episode(env, reduce_state=reduce_state, reward_policy=reward_policy, agent=agent, RAM_mask=RAM_mask, render=render)\n",
    "    return agent.update_policy(epi)\n",
    "\n",
    "scores_2act_gamma_0p9 = []\n",
    "total_rewards_2act_gamma_0p9 = []"
   ]
  },
  {
   "cell_type": "code",
   "execution_count": null,
   "metadata": {},
   "outputs": [],
   "source": [
    "%%time\n",
    "\n",
    "for i in range(n_runs):\n",
    "    #render = i % 100 == 0\n",
    "    render = 0\n",
    "    \n",
    "    score, total_reward = MonteCarloES(RAM_mask=RAM_mask, render=render)\n",
    "\n",
    "    scores_2act_gamma_0p9.append(score)\n",
    "    total_rewards_2act_gamma_0p9.append(total_reward)\n",
    "\n",
    "    if i % 100 == 0:\n",
    "        print_result(i, scores_2act_gamma_0p9, total_reward, score)"
   ]
  },
  {
   "cell_type": "code",
   "execution_count": null,
   "metadata": {
    "id": "q1yrpw-bx9Lw"
   },
   "outputs": [],
   "source": [
    "with open(\"MC/MC_scores_2act_gamma_0p9.txt\", \"w\") as f:\n",
    "   for item in scores_2act_gamma_0p9:\n",
    "       f.write(\"%s\\n\" % item)\n",
    "\n",
    "with open(\"MC/MC_total_rewards_2act_gamma_0p9.txt\", \"w\") as f:\n",
    "   for item in total_rewards_2act_gamma_0p9:\n",
    "       f.write(\"%s\\n\" % item)"
   ]
  },
  {
   "cell_type": "code",
   "execution_count": null,
   "metadata": {
    "id": "gf6bWSJdx9Lw"
   },
   "outputs": [],
   "source": [
    "# with open(\"MC/MC_scores_2act_gamma_0p9.txt\") as f:\n",
    "#    scores_2act_gamma_0p9 = [int(x) for x in  f.read().splitlines()]\n",
    "\n",
    "# with open(\"MC/MC_total_rewards_2act_gamma_0p9.txt\") as f:\n",
    "#    total_rewards_2act_gamma_0p9 = [int(x) for x in  f.read().splitlines()]"
   ]
  },
  {
   "cell_type": "markdown",
   "metadata": {
    "id": "oyL7aU51x9Lw"
   },
   "source": [
    "### - $ɣ$ = 0.75"
   ]
  },
  {
   "cell_type": "code",
   "execution_count": null,
   "metadata": {
    "id": "nj5BGvLPx9Lx"
   },
   "outputs": [],
   "source": [
    "GAMMA = 0.75\n",
    "AVAILABLE_ACTIONS = 2\n",
    "N0 =  2.5\n",
    "\n",
    "reward_policy.REWARD_IF_CROSS = 500\n",
    "reward_policy.REWARD_IF_COLISION = -10\n",
    "reward_policy.REWARD_IF_STILL = -1\n",
    "reward_policy.REWARD_IF_FW = 0 \n",
    "\n",
    "n_runs = 3000"
   ]
  },
  {
   "cell_type": "code",
   "execution_count": null,
   "metadata": {
    "id": "ZqPpzYffx9Lx"
   },
   "outputs": [],
   "source": [
    "env, initial_state = environment.get_env()\n",
    "agent = agents.MonteCarloControl(gamma=GAMMA, available_actions=AVAILABLE_ACTIONS, N0=N0)\n",
    "\n",
    "def MonteCarloES(RAM_mask: List[int], render: bool=False):\n",
    "    epi = episode.generate_episode(env, reduce_state=reduce_state, reward_policy=reward_policy, agent=agent, RAM_mask=RAM_mask, render=render)\n",
    "    return agent.update_policy(epi)\n",
    "\n",
    "scores_2act_gamma_0p75 = []\n",
    "total_rewards_2act_gamma_0p75 = []"
   ]
  },
  {
   "cell_type": "code",
   "execution_count": null,
   "metadata": {},
   "outputs": [],
   "source": [
    "%%time\n",
    "\n",
    "for i in range(n_runs):\n",
    "    #render = i % 100 == 0\n",
    "    render = 0\n",
    "    \n",
    "    score, total_reward = MonteCarloES(RAM_mask=RAM_mask, render=render)\n",
    "\n",
    "    scores_2act_gamma_0p75.append(score)\n",
    "    total_rewards_2act_gamma_0p75.append(total_reward)\n",
    "\n",
    "    if i % 100 == 0:\n",
    "        print_result(i, scores_2act_gamma_0p75, total_reward, score)"
   ]
  },
  {
   "cell_type": "code",
   "execution_count": null,
   "metadata": {
    "id": "QchKKxY5x9Lx"
   },
   "outputs": [],
   "source": [
    "with open(\"MC/MC_scores_2act_gamma_0p75.txt\", \"w\") as f:\n",
    "   for item in scores_2act_gamma_0p75:\n",
    "       f.write(\"%s\\n\" % item)\n",
    "\n",
    "with open(\"MC/MC_total_rewards_2act_gamma_0p75.txt\", \"w\") as f:\n",
    "   for item in total_rewards_2act_gamma_0p75:\n",
    "       f.write(\"%s\\n\" % item)"
   ]
  },
  {
   "cell_type": "code",
   "execution_count": null,
   "metadata": {
    "id": "sub1Qv1Gx9Ly"
   },
   "outputs": [],
   "source": [
    "# with open(\"MC/MC_scores_2act_gamma_0p75.txt\") as f:\n",
    "#    scores_2act_gamma_0p75 = [int(x) for x in  f.read().splitlines()]\n",
    "\n",
    "# with open(\"MC/MC_total_rewards_2act_gamma_0p75.txt\") as f:\n",
    "#    total_rewards_2act_gamma_0p75 = [int(x) for x in  f.read().splitlines()]"
   ]
  },
  {
   "cell_type": "markdown",
   "metadata": {
    "id": "KTV8jK4dx9Ly"
   },
   "source": [
    "### - Results with different $ɣ$ values:"
   ]
  },
  {
   "cell_type": "code",
   "execution_count": null,
   "metadata": {},
   "outputs": [],
   "source": [
    "aux_plots.plot_3scores(scores_2act_gamma_0p9[:3000], scores_2act[:3000], scores_2act_gamma_0p75[:3000], \"gamma=0.90\", \"gamma=0.99\", \"gamma=0.75\")"
   ]
  },
  {
   "cell_type": "code",
   "execution_count": null,
   "metadata": {
    "id": "FMgv-zGGx9Ly"
   },
   "outputs": [],
   "source": []
  },
  {
   "cell_type": "code",
   "execution_count": null,
   "metadata": {
    "id": "FT8A5H40x9Lz"
   },
   "outputs": [],
   "source": []
  }
 ],
 "metadata": {
  "colab": {
   "name": "aa_freeway.ipynb",
   "provenance": []
  },
  "kernelspec": {
   "display_name": "Python 3",
   "language": "python",
   "name": "python3"
  },
  "language_info": {
   "codemirror_mode": {
    "name": "ipython",
    "version": 3
   },
   "file_extension": ".py",
   "mimetype": "text/x-python",
   "name": "python",
   "nbconvert_exporter": "python",
   "pygments_lexer": "ipython3",
   "version": "3.7.3"
  }
 },
 "nbformat": 4,
 "nbformat_minor": 1
}
