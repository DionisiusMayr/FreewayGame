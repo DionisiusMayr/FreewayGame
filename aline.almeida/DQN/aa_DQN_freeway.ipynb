{
  "nbformat": 4,
  "nbformat_minor": 0,
  "metadata": {
    "colab": {
      "name": "Cópia de aa_freeway_DQN.ipynb",
      "provenance": [],
      "mount_file_id": "1NWIyeTDc-600BfVmPYkjQBthdy9z66A_",
      "authorship_tag": "ABX9TyM7DgA6zAaa5+ngILNhgYKI",
      "include_colab_link": true
    },
    "kernelspec": {
      "name": "python3",
      "display_name": "Python 3"
    }
  },
  "cells": [
    {
      "cell_type": "markdown",
      "metadata": {
        "id": "view-in-github",
        "colab_type": "text"
      },
      "source": [
        "<a href=\"https://colab.research.google.com/github/DionisiusMayr/FreewayGame/blob/main/aline.almeida/DQN/aa_DQN_freeway.ipynb\" target=\"_parent\"><img src=\"https://colab.research.google.com/assets/colab-badge.svg\" alt=\"Open In Colab\"/></a>"
      ]
    },
    {
      "cell_type": "code",
      "metadata": {
        "id": "UpovkeAIVjjJ"
      },
      "source": [
        "!pip install stable-baselines"
      ],
      "execution_count": null,
      "outputs": []
    },
    {
      "cell_type": "code",
      "metadata": {
        "id": "J89wUiktVz1X"
      },
      "source": [
        "!pip install tensorflow==1.15.0\n",
        "import tensorflow as tf\n",
        "print(tf.__version__)"
      ],
      "execution_count": null,
      "outputs": []
    },
    {
      "cell_type": "code",
      "metadata": {
        "id": "T4IgtzgofzvD"
      },
      "source": [
        "#remember to to restart the kernel after installing tf 1.15 "
      ],
      "execution_count": null,
      "outputs": []
    },
    {
      "cell_type": "code",
      "metadata": {
        "colab": {
          "base_uri": "https://localhost:8080/"
        },
        "id": "5lxMUFmbHPD8",
        "outputId": "73b95cdc-fd22-46ca-e164-64069fd2100d"
      },
      "source": [
        "%cd /content/drive/MyDrive/freeway_DQN"
      ],
      "execution_count": null,
      "outputs": [
        {
          "output_type": "stream",
          "text": [
            "/content/drive/MyDrive/freeway_DQN\n"
          ],
          "name": "stdout"
        }
      ]
    },
    {
      "cell_type": "code",
      "metadata": {
        "id": "LzUu4RD7GNhh"
      },
      "source": [
        "%load_ext tensorboard"
      ],
      "execution_count": null,
      "outputs": []
    },
    {
      "cell_type": "code",
      "metadata": {
        "id": "htLdccWQVqZ-"
      },
      "source": [
        "# https://colab.research.google.com/github/tensorflow/tensorboard/blob/master/docs/tensorboard_in_notebooks.ipynb#scrollTo=KBHp6M_zgjp4\n",
        "%tensorboard --logdir ./DQN_tensorboard/"
      ],
      "execution_count": null,
      "outputs": []
    },
    {
      "cell_type": "code",
      "metadata": {
        "id": "4Ta8y6faf_RU"
      },
      "source": [
        "#don't forget to keep track of your logs and models (do not mix them! :b)"
      ],
      "execution_count": null,
      "outputs": []
    },
    {
      "cell_type": "code",
      "metadata": {
        "id": "gHd0zi6WVkrG"
      },
      "source": [
        "import gym\n",
        "from stable_baselines.common import make_vec_env\n",
        "from stable_baselines.common.cmd_util import make_atari_env\n",
        "from stable_baselines.common.vec_env import VecFrameStack\n",
        "from stable_baselines.common.atari_wrappers import make_atari\n",
        "from stable_baselines.deepq.policies import MlpPolicy, CnnPolicy\n",
        "from stable_baselines import DQN\n",
        "\n",
        "env = make_atari_env('FreewayNoFrameskip-v0', num_env=1, seed=0)\n",
        "env = VecFrameStack(env, n_stack=4)\n",
        "\n",
        "model = DQN(CnnPolicy, env, verbose=1, tensorboard_log=\"./DQN_tensorboard/\")\n",
        "# parameters: \n",
        "\n",
        "# baseline: gamma=0.99, learning_rate=0.0005, exploration_fraction=0.1 (--is already running for 100k iter)\n",
        "\n",
        "# test1:    gamma=0.75, learning_rate=0.0005, exploration_fraction=0.1 (--is already running for 100k iter)\n",
        "# test2:    gamma=0.90, learning_rate=0.0005, exploration_fraction=0.1 \n",
        "\n",
        "# test3:    gamma=0.99, learning_rate=0.0050, exploration_fraction=0.1 \n",
        "# test3:    gamma=0.99, learning_rate=0.0010, exploration_fraction=0.1 \n",
        "\n",
        "# test4:    gamma=0.99, learning_rate=0.0005, exploration_fraction=0.05\n",
        "# test5:    gamma=0.99, learning_rate=0.0005, exploration_fraction=0.20 \n",
        "\n",
        "\n",
        "\n",
        "model.learn(total_timesteps=100000)\n",
        "model.save(\"deepq_freeway_gamma0p99_lr0p0005_exp0p10\")\n",
        "# model = DQN.load(\"deepq_freeway\", env=env, tensorboard_log=\"./DQN_tensorboard/\") \n",
        "\n",
        "obs = env.reset()\n",
        "while True:\n",
        "    action, _states = model.predict(obs)\n",
        "    obs, rewards, dones, info = env.step(action)\n",
        "    #env.render()\n",
        "    \n",
        "print(\"Close\")\n",
        "env.close()"
      ],
      "execution_count": null,
      "outputs": []
    },
    {
      "cell_type": "code",
      "metadata": {
        "id": "HAwGphW3L0yj"
      },
      "source": [
        ""
      ],
      "execution_count": null,
      "outputs": []
    }
  ]
}