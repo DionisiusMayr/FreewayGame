{
 "cells": [
  {
   "cell_type": "markdown",
   "metadata": {},
   "source": [
    "## 1. Import libraries"
   ]
  },
  {
   "cell_type": "code",
   "execution_count": 1,
   "metadata": {},
   "outputs": [],
   "source": [
    "import sys\n",
    "sys.path.append('../')  # Enable importing from `src` folder\n",
    "\n",
    "%matplotlib inline\n",
    "from collections import defaultdict\n",
    "from typing import List\n",
    "\n",
    "import numpy as np\n",
    "import time\n",
    "import matplotlib.pyplot as plt\n",
    "import seaborn as sns\n",
    "\n",
    "import gym\n",
    "\n",
    "import src.agents as agents\n",
    "import src.episode as episode\n",
    "import src.environment as environment\n",
    "import src.aux_plots as aux_plots"
   ]
  },
  {
   "cell_type": "markdown",
   "metadata": {},
   "source": [
    "## 2. Auxiliary functions"
   ]
  },
  {
   "cell_type": "markdown",
   "metadata": {},
   "source": [
    "### 2.1. Reduce state space"
   ]
  },
  {
   "cell_type": "code",
   "execution_count": 2,
   "metadata": {},
   "outputs": [],
   "source": [
    "def reduce_state(ob):\n",
    "    # Doesn't matter where we were hit\n",
    "    ob[16] = 1 if ob[16] != 255 else 0\n",
    "\n",
    "    # Reduce chicken y-position\n",
    "    ob[14] = ob[14] // 3\n",
    "\n",
    "    for b in range(108, 118):\n",
    "        # The chicken is in the x-posistion ~49\n",
    "        if ob[b] < 20 or ob[b] > 80:\n",
    "            # We don't need to represent cars far from the chicken\n",
    "            ob[b] = 0\n",
    "        else:\n",
    "            # Reduce the cars x-positions sample space\n",
    "            ob[b] = ob[b] // 3\n",
    "\n",
    "    return ob"
   ]
  },
  {
   "cell_type": "markdown",
   "metadata": {},
   "source": [
    "### 2.2. Reward policy"
   ]
  },
  {
   "cell_type": "code",
   "execution_count": 3,
   "metadata": {},
   "outputs": [],
   "source": [
    "def reward_policy(reward, ob, action):\n",
    "    if reward == 1:\n",
    "        reward = reward_policy.REWARD_IF_CROSS\n",
    "    elif ob[16] == 1:  # Collision!\n",
    "        reward = reward_policy.REWARD_IF_COLISION\n",
    "    elif action != 1:  # Don't incentivate staying still\n",
    "        reward = reward_policy.REWARD_IF_STILL\n",
    "\n",
    "    return reward"
   ]
  },
  {
   "cell_type": "markdown",
   "metadata": {},
   "source": [
    "### 2.3. Print results"
   ]
  },
  {
   "cell_type": "code",
   "execution_count": 4,
   "metadata": {},
   "outputs": [],
   "source": [
    "def print_result(i, scores, total_reward, score):\n",
    "    if i % 10 == 0:\n",
    "        print(f\"Run [{i:4}] - Total reward: {total_reward:7.2f} Mean scores: {sum(scores) / len(scores):.2f} Means Scores[:-10]: {sum(scores[-10:]) / len(scores[-10:]):5.2f} Score: {score:2} \")"
   ]
  },
  {
   "cell_type": "markdown",
   "metadata": {},
   "source": [
    "## 3. Create tiles\n",
    "\n",
    "Tiles are a way of discretize features, locating them in grids.\n",
    "\n",
    "Reference: [Tile Coding](https://towardsdatascience.com/reinforcement-learning-tile-coding-implementation-7974b600762b)"
   ]
  },
  {
   "cell_type": "code",
   "execution_count": 48,
   "metadata": {},
   "outputs": [],
   "source": [
    "def create_tile(feature_range, n_bins=10, offset=0):\n",
    "    return np.linspace(feature_range[0], feature_range[1], n_bins+1)[1:-1] + offset\n",
    "\n",
    "\n",
    "def create_multiple_tiles(feature_ranges, n_tilings, n_bins, offsets):\n",
    "    \n",
    "    tilings = []\n",
    "    # for each tiling\n",
    "    for tile_i in range(n_tilings):\n",
    "        tiling_bin = n_bins[tile_i]\n",
    "        tiling_offset = offsets[tile_i]\n",
    "        \n",
    "        tiling = []\n",
    "        # for each feature dimension\n",
    "        for feat_i in range(len(feature_ranges)):\n",
    "            feat_range = feature_ranges[feat_i]\n",
    "            # tiling for 1 feature\n",
    "            feat_tiling = create_tile(feat_range, tiling_bin[feat_i], tiling_offset[feat_i])\n",
    "            tiling.append(feat_tiling)\n",
    "        tilings.append(tiling)\n",
    "    return np.array(tilings)\n",
    "\n",
    "def get_tile_coding(feature, tilings):\n",
    "    num_dims = len(feature)\n",
    "    feat_codings = []\n",
    "    for tiling in tilings:\n",
    "        feat_coding = []\n",
    "        for i in range(num_dims):\n",
    "            feat_i = feature[i]\n",
    "            tiling_i = tiling[i]  # tiling on that dimension\n",
    "            coding_i = np.digitize(feat_i, tiling_i)\n",
    "            feat_coding.append(coding_i)\n",
    "        feat_codings.append(feat_coding)\n",
    "    return np.array(feat_codings)"
   ]
  },
  {
   "cell_type": "code",
   "execution_count": 45,
   "metadata": {},
   "outputs": [],
   "source": [
    "features_ranges = [[0,255], [0,1], [10,25]]\n",
    "n_tiles = 4\n",
    "n_bins = [[10 for f in range(len(features_ranges))] for t in range(n_tiles)]\n",
    "rand = np.sort([0]+[np.random.randint(10) for t in range(n_tiles-1)])\n",
    "offsets = [[t+r for f in range(len(features_ranges))] for t,r in zip(range(n_tiles), rand)]"
   ]
  },
  {
   "cell_type": "code",
   "execution_count": 46,
   "metadata": {},
   "outputs": [],
   "source": [
    "tiles = create_multiple_tiles(features_ranges, n_tiles, n_bins, offsets)"
   ]
  },
  {
   "cell_type": "code",
   "execution_count": 55,
   "metadata": {},
   "outputs": [],
   "source": [
    "features = [173, 0.25, 14]"
   ]
  },
  {
   "cell_type": "code",
   "execution_count": 56,
   "metadata": {},
   "outputs": [],
   "source": [
    "codings = get_tile_coding(features, tiles)"
   ]
  },
  {
   "cell_type": "code",
   "execution_count": 57,
   "metadata": {},
   "outputs": [
    {
     "data": {
      "text/plain": [
       "array([[6, 2, 2],\n",
       "       [6, 0, 2],\n",
       "       [6, 0, 0],\n",
       "       [6, 0, 0]])"
      ]
     },
     "execution_count": 57,
     "metadata": {},
     "output_type": "execute_result"
    }
   ],
   "source": [
    "codings"
   ]
  },
  {
   "cell_type": "code",
   "execution_count": 39,
   "metadata": {},
   "outputs": [
    {
     "data": {
      "text/plain": [
       "[[0, 0, 0], [1, 1, 1], [4, 4, 4], [11, 11, 11]]"
      ]
     },
     "execution_count": 39,
     "metadata": {},
     "output_type": "execute_result"
    }
   ],
   "source": [
    "offsets"
   ]
  },
  {
   "cell_type": "code",
   "execution_count": 58,
   "metadata": {},
   "outputs": [],
   "source": [
    "rand_num = np.random.normal(0,1,15)"
   ]
  },
  {
   "cell_type": "code",
   "execution_count": 61,
   "metadata": {},
   "outputs": [],
   "source": [
    "x = np.ones((len(rand_num)))"
   ]
  },
  {
   "cell_type": "code",
   "execution_count": 60,
   "metadata": {},
   "outputs": [
    {
     "data": {
      "text/plain": [
       "(15,)"
      ]
     },
     "execution_count": 60,
     "metadata": {},
     "output_type": "execute_result"
    }
   ],
   "source": [
    "rand_num.shape"
   ]
  },
  {
   "cell_type": "code",
   "execution_count": 62,
   "metadata": {},
   "outputs": [
    {
     "data": {
      "text/plain": [
       "3.9208481221775346"
      ]
     },
     "execution_count": 62,
     "metadata": {},
     "output_type": "execute_result"
    }
   ],
   "source": [
    "np.dot(x, rand_num,)"
   ]
  },
  {
   "cell_type": "code",
   "execution_count": 64,
   "metadata": {},
   "outputs": [
    {
     "data": {
      "text/plain": [
       "3.9208481221775346"
      ]
     },
     "execution_count": 64,
     "metadata": {},
     "output_type": "execute_result"
    }
   ],
   "source": [
    "np.sum(rand_num)"
   ]
  },
  {
   "cell_type": "code",
   "execution_count": 65,
   "metadata": {},
   "outputs": [],
   "source": [
    "def getApproximation(W, feature):\n",
    "        return np.dot(feature, W)"
   ]
  },
  {
   "cell_type": "code",
   "execution_count": 66,
   "metadata": {},
   "outputs": [
    {
     "data": {
      "text/plain": [
       "3.9208481221775346"
      ]
     },
     "execution_count": 66,
     "metadata": {},
     "output_type": "execute_result"
    }
   ],
   "source": [
    "getApproximation(x, rand_num)"
   ]
  },
  {
   "cell_type": "code",
   "execution_count": null,
   "metadata": {},
   "outputs": [],
   "source": []
  }
 ],
 "metadata": {
  "kernelspec": {
   "display_name": "Python 3",
   "language": "python",
   "name": "python3"
  },
  "language_info": {
   "codemirror_mode": {
    "name": "ipython",
    "version": 3
   },
   "file_extension": ".py",
   "mimetype": "text/x-python",
   "name": "python",
   "nbconvert_exporter": "python",
   "pygments_lexer": "ipython3",
   "version": "3.7.4"
  }
 },
 "nbformat": 4,
 "nbformat_minor": 2
}
