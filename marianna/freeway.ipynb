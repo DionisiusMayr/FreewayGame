{
 "cells": [
  {
   "cell_type": "markdown",
   "metadata": {},
   "source": [
    "# TODO:\n",
    "- [ ] Write the MDP formulation -> Aline\n",
    "- [X] The discretization model adopted\n",
    "  - Será que tá pronto? Falei bastante no State Representation.\n",
    "\n",
    "Aspectos que devem ser abordados:\n",
    "- [ ] computational cost\n",
    "  - [ ] Falar que o gargalo aqui é processamento e não uso de memória\n",
    "- [ ] optimality\n",
    "- [ ] influence of reward function\n",
    "- [X] state and action space sizes\n",
    "\n",
    "Também precisamos definir\n",
    "- [ ] How the problem was modeled\n",
    "  - [ ] Precisa falar alguma coisa aqui?\n",
    "- [ ] Implementation specifics and restrictions\n",
    "  - [ ] Precisa falar alguma coisa aqui?\n",
    "\n",
    "Problem\n",
    "- [X] The nature of your environment (episodic/not episodic, deterministic/stochastic)\n",
    "- [X] What are your terminal states (when they exist)\n",
    "- [X] How is your reward function defined\n",
    "- [X] All parameters employed in your methods (discount factor, step size, etc.)\n",
    "\n",
    "Outros:\n",
    "- [ ] Gerar um requirements.txt completo e instruções confiáveis para instalação.\n",
    "- [ ] Computational cost of SARSA-Lambda (Final Thoughts)\n",
    "- [ ] Plot the optimal value function V ∗ (s) = maxa Q∗(s, a).\n",
    "-----"
   ]
  },
  {
   "cell_type": "code",
   "execution_count": 1,
   "metadata": {},
   "outputs": [],
   "source": [
    "baseline_mean_score = 21.5"
   ]
  },
  {
   "cell_type": "markdown",
   "metadata": {},
   "source": [
    "# Freeway"
   ]
  },
  {
   "cell_type": "markdown",
   "metadata": {},
   "source": [
    "This is the first project for the MC935rA/MO436A - Reinforcement Learning course, taught by Prof. Esther Colombini.\n",
    "\n",
    "In this project we propose to apply Reinforcement Learning methods to teach an agent how to play the Freeway Atari game."
   ]
  },
  {
   "cell_type": "markdown",
   "metadata": {},
   "source": [
    "**Group members:**\n",
    "- Aline Gabriel de Almeida\n",
    "- Dionisius Oliveira Mayr (229060)\n",
    "- Leonardo de Oliveira Ramos (171941)\n",
    "- Marianna de Pinho Severo (264960)\n",
    "- Victor Jesús Sotelo Chico (265173)"
   ]
  },
  {
   "cell_type": "markdown",
   "metadata": {},
   "source": [
    "## Freeway game\n",
    "\n",
    "![Baseline 1](./img/Freeway_logo.png)\n",
    "\n",
    "Freeway is a video game written by David Crane for the Atari 2600 and published by Activision [[1]](https://en.wikipedia.org/wiki/Freeway_(video_game)).\n",
    "\n",
    "In the game, two players compete against each other trying to make their chikens cross the street, while evading the cars passing by.\n",
    "There are three possible actions: staying still, moving forward or moving backward.\n",
    "Each time a chicken collides with a car, it is forced back some spaces and takes a while until the chiken regains its control.\n",
    "\n",
    "When a chicken is successfully guided across the freeway, it is awarded one point and moved to the initial space, where it will try to cross the street again.\n",
    "The game offers multiple scenarios with different vehicles configurations (varying the type, frequency and speed of them) and plays for 2 minutes and 16 seconds.\n",
    "During the 8 last seconds the scores will start blinking to indicate that the game is close to end.\n",
    "Whoever has the most points after this, wins the game!\n",
    "\n",
    "The image was extracted from the [manual of the game](https://www.gamesdatabase.org/Media/SYSTEM/Atari_2600/Manual/formated/Freeway_-_1981_-_Zellers.pdf).\n",
    "\n",
    "[1 - Wikipedia - Freeway](https://en.wikipedia.org/wiki/Freeway_(video_game))"
   ]
  },
  {
   "cell_type": "markdown",
   "metadata": {},
   "source": [
    "# Environment"
   ]
  },
  {
   "cell_type": "markdown",
   "metadata": {},
   "source": [
    "We will be using the [OpenAI Gym](https://gym.openai.com/) toolkit.\n",
    "This toolkit uses the [Arcade Learning Environment](https://github.com/mgbellemare/Arcade-Learning-Environment) to simulate the game through the [Stella](https://stella-emu.github.io/) emulator.\n",
    "\n",
    "Although the game offers multiple scenarios, we are going to consider only the first one. Also, we will be controlling a *single chicken*, while we try to maximize its score.\n",
    "\n",
    "In this configuration, there are ten lanes and each lane contains exactly one car (with a different speed and direction).\n",
    "Whenever an action is chosen, it is repeated for $k$ frames, $k \\in \\{2, 3, 4\\}$.\n",
    "\n",
    "This means that our environment is **stochastic** and it is also **episodic**, with its terminal state being reached whenever 2 minutes and 16 seconds have passed.\n",
    "\n",
    "Our base state representation is given by the RAM of the Atari 2600 (more on this latter).\n",
    "\n",
    "You can find more information regarding the environment used at [Freeway-ram-v0](https://gym.openai.com/envs/Freeway-ram-v0/)."
   ]
  },
  {
   "cell_type": "markdown",
   "metadata": {},
   "source": [
    "# Setup"
   ]
  },
  {
   "cell_type": "markdown",
   "metadata": {},
   "source": [
    "Install the dependencies:\n",
    "```sh\n",
    "pip install gym\n",
    "pip install gym[atari]\n",
    "```"
   ]
  },
  {
   "cell_type": "markdown",
   "metadata": {},
   "source": [
    "# Useful Resources"
   ]
  },
  {
   "cell_type": "markdown",
   "metadata": {},
   "source": [
    "Here you can find a list of useful links and materials that were used during this project.\n",
    "\n",
    "* [Freeway-ram-v0 from OpenAI Gym](https://gym.openai.com/envs/Freeway-ram-v0/)\n",
    "* [Manual of the game](https://www.gamesdatabase.org/Media/SYSTEM/Atari_2600/Manual/formated/Freeway_-_1981_-_Zellers.pdf)\n",
    "* [Freeway Disassembly](http://www.bjars.com/disassemblies.html)\n",
    "* [Atari Ram Annotations](https://github.com/mila-iqia/atari-representation-learning/blob/master/atariari/benchmark/ram_annotations.py)\n",
    "* [Freeway Benchmarks](https://paperswithcode.com/sota/atari-games-on-atari-2600-freeway)"
   ]
  },
  {
   "cell_type": "markdown",
   "metadata": {},
   "source": [
    "# Imports"
   ]
  },
  {
   "cell_type": "code",
   "execution_count": 1,
   "metadata": {},
   "outputs": [],
   "source": [
    "import sys\n",
    "sys.path.append('../')  # Enable importing from `src` folder"
   ]
  },
  {
   "cell_type": "code",
   "execution_count": 2,
   "metadata": {},
   "outputs": [],
   "source": [
    "%matplotlib inline\n",
    "import statistics\n",
    "from collections import defaultdict\n",
    "from functools import lru_cache\n",
    "from typing import List\n",
    "\n",
    "import numpy as np\n",
    "import time\n",
    "import matplotlib.pyplot as plt\n",
    "import seaborn as sns\n",
    "\n",
    "import gym\n",
    "\n",
    "import src.agents as agents\n",
    "import src.episode as episode\n",
    "import src.environment as environment\n",
    "import src.aux_plots as aux_plots\n",
    "import src.serializer as serializer\n",
    "import src.gif as gif"
   ]
  },
  {
   "cell_type": "code",
   "execution_count": 3,
   "metadata": {},
   "outputs": [],
   "source": [
    "def print_result(i, scores, total_reward, score):\n",
    "    if i % 10 == 0:\n",
    "        print(f\"Run [{i:4}] - Total reward: {total_reward:7.2f} Mean scores: {sum(scores) / len(scores):.2f} Means Scores[:-10]: {sum(scores[-10:]) / len(scores[-10:]):5.2f} Score: {score:2} \")"
   ]
  },
  {
   "cell_type": "code",
   "execution_count": 5,
   "metadata": {},
   "outputs": [],
   "source": [
    "def read_int_array_from_file(fn: str):\n",
    "    with open(f\"./experiments/{fn}\") as f:\n",
    "        return [int(x) for x in f.read().splitlines()]"
   ]
  },
  {
   "cell_type": "markdown",
   "metadata": {},
   "source": [
    "# Action space"
   ]
  },
  {
   "cell_type": "markdown",
   "metadata": {},
   "source": [
    "As we said above, the agent in this game has three possible actions at each frame, each represented by an integer:\n",
    "\n",
    "* 0: Stay\n",
    "* 1: Move forward\n",
    "* 2: Move backward"
   ]
  },
  {
   "cell_type": "markdown",
   "metadata": {},
   "source": [
    "In theory, a perfect chicken wouldn't ever need to move backward, since it is possible to know if moving forward would lead you into a collision (in the immediate frame or in the future frames).\n",
    "\n",
    "In our project we will be experimenting with agents using only two possible actions (staying and moving forward) and also agents using all the three possible actions."
   ]
  },
  {
   "cell_type": "markdown",
   "metadata": {},
   "source": [
    "# Baseline"
   ]
  },
  {
   "cell_type": "markdown",
   "metadata": {},
   "source": [
    "## State of the art benchmarks"
   ]
  },
  {
   "cell_type": "markdown",
   "metadata": {},
   "source": [
    "The image bellow (extracted from https://paperswithcode.com/sota/atari-games-on-atari-2600-freeway) shows the evolution of the scores over time using different techniques.\n",
    "\n",
    "Today, the state of the art approaches are making 34.0 points, using Deep Reinforcement Learning methods.\n",
    "\n",
    "However, since we are using tabular methods, we don't think it will be possible to beat this benchmark.\n",
    "Instead, we will be looking at a different, simpler baseline."
   ]
  },
  {
   "cell_type": "markdown",
   "metadata": {},
   "source": [
    "![Benchmarks](./img/state_of_art_scores.png)"
   ]
  },
  {
   "cell_type": "markdown",
   "metadata": {},
   "source": [
    "## Simple baseline agent"
   ]
  },
  {
   "cell_type": "markdown",
   "metadata": {},
   "source": [
    "As a simple baseline, we are using an agent that always moves **up**, regardless of the rewards received or the current state."
   ]
  },
  {
   "cell_type": "code",
   "execution_count": 6,
   "metadata": {},
   "outputs": [],
   "source": [
    "# env, initial_state = environment.get_env()"
   ]
  },
  {
   "cell_type": "code",
   "execution_count": 7,
   "metadata": {},
   "outputs": [],
   "source": [
    "# agent = agents.Baseline()"
   ]
  },
  {
   "cell_type": "code",
   "execution_count": 8,
   "metadata": {},
   "outputs": [],
   "source": [
    "# total_rewards = []\n",
    "# n_runs = 10"
   ]
  },
  {
   "cell_type": "code",
   "execution_count": 9,
   "metadata": {},
   "outputs": [],
   "source": [
    "# %%time\n",
    "# for i in range(n_runs):\n",
    "#     render = i % 10 == 0\n",
    "\n",
    "#     game_over = False\n",
    "#     state = env.reset()\n",
    "#     action = agent.act(state)\n",
    "\n",
    "#     total_reward = 0\n",
    "\n",
    "#     while not game_over:\n",
    "#         if render:\n",
    "#             time.sleep(0.01)\n",
    "#             env.render()\n",
    "\n",
    "#         ob, reward, game_over, _ = env.step(action)\n",
    "\n",
    "#         total_reward += reward\n",
    "#         action = agent.act(state)  # Next action\n",
    "\n",
    "#     total_rewards.append(total_reward)"
   ]
  },
  {
   "cell_type": "code",
   "execution_count": 10,
   "metadata": {},
   "outputs": [],
   "source": [
    "# total_rewards"
   ]
  },
  {
   "cell_type": "code",
   "execution_count": 11,
   "metadata": {},
   "outputs": [],
   "source": [
    "# baseline_mean_score = np.mean(total_rewards)\n",
    "# baseline_mean_score"
   ]
  },
  {
   "cell_type": "markdown",
   "metadata": {},
   "source": [
    "As we can see, this agent usually scores 21 or 23 points (as shown in the images bellow). It depends on the the values of $k$ sampled, and on average it scores about 21.8 points per run."
   ]
  },
  {
   "cell_type": "markdown",
   "metadata": {},
   "source": [
    "![Baseline 1](./img/baseline_1.png)\n",
    "![Baseline 2](./img/baseline_2.png)"
   ]
  },
  {
   "cell_type": "markdown",
   "metadata": {},
   "source": [
    "# State Representation"
   ]
  },
  {
   "cell_type": "markdown",
   "metadata": {},
   "source": [
    "Since the tabular methods we are going to use work with some representation of the actual environment state, we will need to understand it better in order to effectively approach this problem."
   ]
  },
  {
   "cell_type": "markdown",
   "metadata": {},
   "source": [
    "## Atari 2600"
   ]
  },
  {
   "cell_type": "markdown",
   "metadata": {},
   "source": [
    "Before talking about the state representation, it is important to understand how the Atari 2600 works.\n",
    "\n",
    "Atari 2600 is a video game released in 1977 by the American Atari, Inc.\n",
    "Its **8-bit** microprocessor was of the MOS **6502** family and it had **128 bytes** of RAM.\n",
    "\n",
    "And these 128 bytes are what really matters here.\n",
    "\n",
    "---"
   ]
  },
  {
   "cell_type": "markdown",
   "metadata": {},
   "source": [
    "Recall that Gym gives us the RAM memory of the Atari as the state representation.\n",
    "In other words, it gives us an 128-element `np.array`, where each element of the array is an `uint8` (*integer values ranging from 0 to 255*).\n",
    "\n",
    "That said, we have (in theory) $256^{128} \\approx 1.8 \\cdot 10^{308}$ possible game states!\n",
    "\n",
    "This is *far* from being manageable, and thus we need to come up with a different approch to represent our state if we want our algorithms to converge.\n",
    "\n",
    "One might argue that the RAM state is *sparse* and although that is true, it is still not sparse enough to apply tabular methods."
   ]
  },
  {
   "cell_type": "markdown",
   "metadata": {},
   "source": [
    "## Selecting useful bytes"
   ]
  },
  {
   "cell_type": "markdown",
   "metadata": {},
   "source": [
    "We will try to select only the bytes that are useful to deal with our problem.\n",
    "\n",
    "To do so, we will be looking at a [fan made disassembly](http://www.bjars.com/disassemblies.html) by Glenn Saunders.\n",
    "\n",
    "From the 6502 assembly we can see the variables locations in the memory, their size and count the amount of bytes since the initial offset to determine which byte represents what.\n",
    "\n",
    "Simplifying it a bit, we would end up with a list of candidate bytes for our state representation like this:"
   ]
  },
  {
   "cell_type": "markdown",
   "metadata": {},
   "source": [
    "|Description| Bytes |\n",
    "|----|----|\n",
    "| Chicken Y | 14 |\n",
    "| Chicken Lane Collide | 16 |\n",
    "| Chicken Collision flag | 18 |\n",
    "| Car X Direction | 22 |\n",
    "| Z Car Patterns | 23, 24, 25, 26, 27, 28, 29, 30, 31, 32 |\n",
    "| Car Motion Timmers | 33, 34, 35, 36, 37, 38, 39, 40, 41, 42 |\n",
    "| Car Motions | 43, 44, 45, 46, 47, 48, 49, 50, 51, 52 |\n",
    "| Car Shape Ptr | 87, 88 |\n",
    "| Chicken Shape Ptr | 89, 90 |\n",
    "| Chicken Sounds | 106, 107 |\n",
    "| Car X Coords | 108, 109, 110, 111, 112, 113, 114, 115, 116, 117 |"
   ]
  },
  {
   "cell_type": "markdown",
   "metadata": {},
   "source": [
    "After observing them, we were able to filter bytes that wouldn't be useful for us (like auxiliary variables used during function calls, e.g. `Car Motion Timmers`, `Chicken Sounds`) and bytes that contain constant values, like `Car X Direction` and`Car Motions`.\n",
    "\n",
    "The final list of bytes being used is given here:"
   ]
  },
  {
   "cell_type": "markdown",
   "metadata": {},
   "source": [
    "|Description| Bytes |\n",
    "|----|----|\n",
    "| Chicken Y | 14 |\n",
    "| Chicken Lane Collide | 16 |\n",
    "| Car X Coords | 108, 109, 110, 111, 112, 113, 114, 115, 116, 117 |"
   ]
  },
  {
   "cell_type": "code",
   "execution_count": 12,
   "metadata": {},
   "outputs": [],
   "source": [
    "RAM_mask = [\n",
    "      14  # Chicken Y\n",
    "    , 16  # Chicken Lane Collided\n",
    "    , 108, 109, 110, 111, 112, 113, 114, 115, 116, 117  # Car X Coords\n",
    "]"
   ]
  },
  {
   "cell_type": "markdown",
   "metadata": {},
   "source": [
    "Thus, we went from using 128 bytes to only 12, with $256^{12} \\approx 7.9 \\cdot 10^{28}$ theoritical possible states.\n",
    "\n",
    "But this is still a lot.\n",
    "We need to reduce it even more, and that is exactly what the function `reduce_state` bellow does:"
   ]
  },
  {
   "cell_type": "code",
   "execution_count": 13,
   "metadata": {},
   "outputs": [],
   "source": [
    "def reduce_state(ob):\n",
    "    # Doesn't matter where we were hit\n",
    "    ob[16] = 1 if ob[16] != 255 else 0\n",
    "\n",
    "    # Reduce chicken y-position\n",
    "    ob[14] = ob[14] // 3\n",
    "\n",
    "    for b in range(108, 118):\n",
    "        # The chicken is in the x-posistion ~49\n",
    "        if ob[b] < 20 or ob[b] > 80:\n",
    "            # We don't need to represent cars far from the chicken\n",
    "            ob[b] = 0\n",
    "        else:\n",
    "            # Reduce the cars x-positions sample space\n",
    "            ob[b] = ob[b] // 3\n",
    "\n",
    "    return ob"
   ]
  },
  {
   "cell_type": "markdown",
   "metadata": {},
   "source": [
    "We are using 4 strategies to reduce our state.\n",
    "\n",
    "* The `byte[16]` represents the lane where a collision happened. Instead of using it like this, we will make it binary, 1 being a collision (on any lane) and 0 otherwise.\n",
    "* The `byte[14]` represents the y-position of the chicken (from 0 to ~170). We will be losing a bit of precision here in order to reduce the state space, dividing (truncating the fractional part) the `byte[14]` by 3.\n",
    "* The `bytes[108:118]` are used as the cars x-position. If they are far from the chicken (the chicken x-position is fixed at ~49), we won't care about them, setting it as 0. If they are near the chicken (between x-20 and x-80), we will represent them again dividing by 3. The idea here is that the cars that are near the chicken contain more valuable information than the cars far from it. "
   ]
  },
  {
   "cell_type": "markdown",
   "metadata": {},
   "source": [
    "Now we have $2 \\cdot 57 \\cdot 21^{10} \\approx 1.9 \\cdot 10^{15}$ theoritical possible states.\n",
    "\n",
    "This might seen like it is still too much, but as we will soon see, empirically this number is far smaller.\n",
    "\n",
    "The biggest factor of the $10^{15}$ states is due to the cars x-positions.\n",
    "But recall that each car has a constant speed (which can be different from the other cars). Because of it, their positions are periodical, meaning that they don't use the entire range of possible values in their byte.\n",
    "\n",
    "For instance: a car with speed 4 will *never* be at the x-coordinate 3, nor will a car with speed 2."
   ]
  },
  {
   "cell_type": "markdown",
   "metadata": {},
   "source": [
    "# Reward Policy"
   ]
  },
  {
   "cell_type": "markdown",
   "metadata": {},
   "source": [
    "In the base environment we are awarded on point each time we successfully cross the freeway.\n",
    "\n",
    "However, it stands to reason experimenting with other reward strategies, like penalizing collisions or standing still and also changing the numerical value of these quantities.\n",
    "\n",
    "The method bellow allows us to experiment multiple reward policies.\n",
    "\n",
    "We defined some conditions were the agent get a reward: \n",
    "- `REWARD_IF_CROSS`: If the chicken cross the 10 lanes; this is our fundamental goal and should be encouraged;\n",
    "- `REWARD_IF_COLLISION`: If the chicken collides with a car; as the collisions can delay the chicken to cross the lanes, it can be discouraged;\n",
    "- Each one of the agent's three actions can be rewarded according to how much they can help the chicken to cross all the lanes and doing so we can hopefully accelerate the conversion of the algorithms. The `REWARD_IF_STILL` is the reward given if the chicken doesn't  move up, and *can* be discouraged in some cases."
   ]
  },
  {
   "cell_type": "code",
   "execution_count": 14,
   "metadata": {},
   "outputs": [],
   "source": [
    "def reward_policy(reward, ob, action):\n",
    "    if reward == 1:\n",
    "        reward = reward_policy.REWARD_IF_CROSS\n",
    "    elif ob[16] == 1:  # Collision!\n",
    "        reward = reward_policy.REWARD_IF_COLLISION\n",
    "    elif action != 1:  # Don't incentivate staying still\n",
    "        reward = reward_policy.REWARD_IF_STILL\n",
    "\n",
    "    return reward"
   ]
  },
  {
   "cell_type": "markdown",
   "metadata": {},
   "source": [
    "# Hyper Parameters"
   ]
  },
  {
   "cell_type": "code",
   "execution_count": 15,
   "metadata": {},
   "outputs": [],
   "source": [
    "GAMMA = 0.99\n",
    "AVAILABLE_ACTIONS = 2\n",
    "N0 = 2.5\n",
    "LAMBD = 0.2\n",
    "\n",
    "reward_policy.REWARD_IF_CROSS = 1\n",
    "reward_policy.REWARD_IF_COLLISION = 0\n",
    "reward_policy.REWARD_IF_STILL = 0"
   ]
  },
  {
   "cell_type": "markdown",
   "metadata": {},
   "source": [
    "# Methodology"
   ]
  },
  {
   "cell_type": "markdown",
   "metadata": {},
   "source": [
    "Since it takes a lot of time to train the models, we won't train them all in this report.\n",
    "Instead, we will be load the results of our simulations and specifying the parameters used to obtain those results.\n",
    "Of course, it is possible to reproduce our results simply by running the algorithms here using the same hyper parameters as specified.\n",
    "\n",
    "You can find inside `./experiments/` the collection of results that we generated, and inside `./serialized_models/` one can find some serialized models.\n",
    "We don't advise trying to load the serialized models in machines different from the machine where it was generated beucase of compatibility issues.\n",
    "\n",
    "Whenever possible, we will be adding plots comparing different approaches and parameters, as well as adding gifs in this notebook so that we can visualize the development of the agent and unique strategies that they learned."
   ]
  },
  {
   "cell_type": "markdown",
   "metadata": {},
   "source": [
    "---"
   ]
  },
  {
   "cell_type": "code",
   "execution_count": 16,
   "metadata": {},
   "outputs": [
    {
     "ename": "NameError",
     "evalue": "name 'stop' is not defined",
     "output_type": "error",
     "traceback": [
      "\u001b[0;31m---------------------------------------------------------------------------\u001b[0m",
      "\u001b[0;31mNameError\u001b[0m                                 Traceback (most recent call last)",
      "\u001b[0;32m<ipython-input-16-4f76a9dad686>\u001b[0m in \u001b[0;36m<module>\u001b[0;34m\u001b[0m\n\u001b[0;32m----> 1\u001b[0;31m \u001b[0mstop\u001b[0m\u001b[0;34m\u001b[0m\u001b[0;34m\u001b[0m\u001b[0m\n\u001b[0m",
      "\u001b[0;31mNameError\u001b[0m: name 'stop' is not defined"
     ]
    }
   ],
   "source": [
    "stop"
   ]
  },
  {
   "cell_type": "markdown",
   "metadata": {},
   "source": [
    "# Q-Learning"
   ]
  },
  {
   "cell_type": "markdown",
   "metadata": {},
   "source": [
    "The Q-learning algorithm receives the $\\gamma$ and the $N0$ parameters.  \n",
    "\n",
    "$\\gamma$ is the discount factor; This parameters determines the importance of future rewards. A value of 0 makes the agent short-sighned by only considering current rewards, while a factor approaching 1 will make it strive for a long term reward.  \n",
    "\n",
    "The $N0$ parameter is used to define the agent's exploration rate $\\epsilon$, where $\\epsilon = N0/(N0+N_{sa})$ and $N_{sa}$ is the number of visits in the state $s$ where the action $a$ was taken.\n",
    "\n",
    "In the algorithm, the action-value function is initialized to zero. Then, at each time $t$ the agent selects an action $a_t$, observes a reward $r_t$, enters a new state $s_{s+1}$, and $Q$ is updated:"
   ]
  },
  {
   "cell_type": "markdown",
   "metadata": {},
   "source": [
    "$Q_{new}(s_t, a_t) :=  Q(s_t, a_t)+\\alpha (r_t + \\gamma.max_aQ(s_{t+1},a)-Q(s_t, a_t))$"
   ]
  },
  {
   "cell_type": "markdown",
   "metadata": {},
   "source": [
    "The learning rate $\\alpha$ is defined as $\\alpha = 1/N_{sa}$, where $N_{sa}$ is the number of times that the specific state-action pair has already occured."
   ]
  },
  {
   "cell_type": "code",
   "execution_count": null,
   "metadata": {},
   "outputs": [],
   "source": [
    "env, initial_state = environment.get_env()"
   ]
  },
  {
   "cell_type": "code",
   "execution_count": null,
   "metadata": {},
   "outputs": [],
   "source": [
    "agent = agents.QLearning(gamma=GAMMA, available_actions=AVAILABLE_ACTIONS, N0=N0)"
   ]
  },
  {
   "cell_type": "code",
   "execution_count": null,
   "metadata": {},
   "outputs": [],
   "source": [
    "scores = []\n",
    "total_rewards = []"
   ]
  },
  {
   "cell_type": "code",
   "execution_count": null,
   "metadata": {},
   "outputs": [],
   "source": [
    "%%time\n",
    "n_runs = 1\n",
    "\n",
    "for i in range(n_runs):\n",
    "    render = i % 200 == 201\n",
    "\n",
    "    game_over = False\n",
    "    state = env.reset()\n",
    "    state = reduce_state(state)[RAM_mask].data.tobytes()  # Select useful bytes\n",
    "    action = agent.act(state)\n",
    "    \n",
    "    score = 0\n",
    "    total_reward = 0\n",
    "\n",
    "    while not game_over:\n",
    "        if render:\n",
    "            time.sleep(0.025)\n",
    "            env.render()\n",
    "\n",
    "        old_state = state\n",
    "        ob, reward, game_over, _ = env.step(action)\n",
    "\n",
    "        ob = reduce_state(ob)\n",
    "        reward = reward_policy(reward, ob, action)\n",
    "\n",
    "        total_reward += reward\n",
    "\n",
    "        if reward == reward_policy.REWARD_IF_CROSS:\n",
    "            score += 1\n",
    "\n",
    "        state = ob[RAM_mask].data.tobytes()\n",
    "\n",
    "        agent.update_Q(old_state, state, action, reward)\n",
    "\n",
    "        action = agent.act(state)  # Next action\n",
    "\n",
    "    scores.append(score)\n",
    "    total_rewards.append(total_reward)\n",
    "\n",
    "    print_result(i, scores, total_reward, score)"
   ]
  },
  {
   "cell_type": "markdown",
   "metadata": {},
   "source": [
    "## Serialize the model"
   ]
  },
  {
   "cell_type": "code",
   "execution_count": null,
   "metadata": {},
   "outputs": [],
   "source": [
    "# exp = serializer.Experiment(agent, scores, total_rewards, reduce_state, reward_policy)\n",
    "# exp.save_experiment('QL_EXPERIMENT')"
   ]
  },
  {
   "cell_type": "markdown",
   "metadata": {},
   "source": [
    "## Experiments"
   ]
  },
  {
   "cell_type": "markdown",
   "metadata": {
    "id": "3rjTCHMkwfKE"
   },
   "source": [
    "### Influence of the number of actions"
   ]
  },
  {
   "cell_type": "markdown",
   "metadata": {},
   "source": [
    "Here we will compare the impact that the number of possible actions (3 vs 2) has on our score.\n",
    "\n",
    "To do so, we will run the QLearn algorithm twice, with 3 actions and with 2 actions, and then compare the scores obtained. The complete set of parameters used is shown bellow:"
   ]
  },
  {
   "cell_type": "markdown",
   "metadata": {},
   "source": [
    "Parameters used:\n",
    "```\n",
    "GAMMA = 0.99\n",
    "AVAILABLE_ACTIONS = {2, 3}\n",
    "N0 = 2.5\n",
    "\n",
    "reward_policy.REWARD_IF_CROSS = 1\n",
    "reward_policy.REWARD_IF_COLLISION = 0\n",
    "reward_policy.REWARD_IF_STILL = 0\n",
    "```"
   ]
  },
  {
   "cell_type": "code",
   "execution_count": null,
   "metadata": {},
   "outputs": [],
   "source": [
    "scores_2act = read_int_array_from_file(\"./QL/QL_scores_2act.txt\")\n",
    "total_rewards_2act = read_int_array_from_file(\"./QL/QL_total_rewards_2act.txt\")\n",
    "scores_3act = read_int_array_from_file(\"./QL/QL_scores_3act.txt\")\n",
    "total_rewards_3act = read_int_array_from_file(\"./QL/QL_total_rewards_3act.txt\")"
   ]
  },
  {
   "cell_type": "code",
   "execution_count": null,
   "metadata": {},
   "outputs": [],
   "source": [
    "baseline = [baseline_mean_score for i in range(4000)]\n",
    "\n",
    "ax = aux_plots.plot_2scores(scores_3act[:4000], scores_2act[:4000], \"3 actions (up, down or stay)\", \"2 actions (up or stay)\")\n",
    "aux_plots.moving_average(scores_2act[:4000], ax, label='2 actions moving avg', color='darkmagenta')\n",
    "aux_plots.moving_average(scores_3act[:4000], ax, label='3 actions moving avg', color='darkcyan')\n",
    "aux_plots.moving_average(baseline[:4000], ax, label='Baseline', color='black')"
   ]
  },
  {
   "cell_type": "markdown",
   "metadata": {},
   "source": [
    "From the graph above, we can see that when using only two actions the agent learns faster than with three actions, thus leading to better results in less iterations.\n",
    "\n",
    "As we said before, this is expected and we will now be focusing only on testing with two actions.\n",
    "\n",
    "Since we are using the default reward policy, the reward graph is exactly the same as the score, and thus we won't be showing it here."
   ]
  },
  {
   "cell_type": "markdown",
   "metadata": {
    "id": "eJ_JiwOewfKK"
   },
   "source": [
    "### Influence of the reward values"
   ]
  },
  {
   "cell_type": "markdown",
   "metadata": {},
   "source": [
    "In order to investigate the influence of the reward values in the agent behavior, we ran the algorithm using three different sets of reward values.\n",
    "\n",
    "* **R1:** Positive rewards for crossing: it offered a sparse reward to the agent: +1 if the chicken cross all the lanes.  \n",
    "* **R2:** Positive rewards for crossing and negative reward for colliding: it given +1 for crossing all the lanes and -1 if the chicken collide. Thus, we expect the agent to be encouraged to cross the lanes (positive reward) and to avoid collisions (negative reward).  \n",
    "* **R3:** Huge positive reward for crossing and negative reward for colliding or staying in the same position: it increased the reward for crossing all the lanes to +500 and give -10 when the chicken collide. It also gives a negative reward of -1 when the agent decide to **still**. Thus we expect the chicken to cross all the lanes faster and increase the final score."
   ]
  },
  {
   "cell_type": "markdown",
   "metadata": {},
   "source": [
    "| Parameter | R1 | R2 | R3 |\n",
    "|------|----|----|----|\n",
    "| `GAMMA` | 0.99 | 0.99 | 0.99 |\n",
    "| `AVAILABLE_ACTIONS` | 2 | 2 | 2 |\n",
    "| `N0` | 2.5 | 2.5 | 2.5 |\n",
    "| `CROSS` | 1 | 1 | 500 |\n",
    "| `COLLISION` | 0 | -1 | -10 |\n",
    "| `STILL` | 0 | 0 | -1 |"
   ]
  },
  {
   "cell_type": "code",
   "execution_count": null,
   "metadata": {},
   "outputs": [],
   "source": [
    "scores_2act_R1 = read_int_array_from_file('./QL/QL_scores_2act_R1.txt')\n",
    "scores_2act_R2 = read_int_array_from_file('./QL/QL_scores_2act_R2.txt')\n",
    "scores_2act_R3 = read_int_array_from_file('./QL/QL_scores_2act_R3.txt')\n",
    "\n",
    "total_rewards_2act_R1 = read_int_array_from_file('./QL/QL_total_rewards_2act_R1.txt')\n",
    "total_rewards_2act_R2 = read_int_array_from_file('./QL/QL_total_rewards_2act_R2.txt')\n",
    "total_rewards_2act_R3 = read_int_array_from_file('./QL/QL_total_rewards_2act_R3.txt')"
   ]
  },
  {
   "cell_type": "code",
   "execution_count": null,
   "metadata": {},
   "outputs": [],
   "source": [
    "baseline = [baseline_mean_score for i in range(4000)]\n",
    "\n",
    "ax = aux_plots.plot_3scores(scores_2act_R1[:4000], scores_2act_R2[:4000], scores_2act_R3[:4000], \"R1 (+1 if cross)\", \"R2 (+1 if cross, -1 if collide)\", \"R3 (+500 if cross, -10 if collide, -1 if stay)\")\n",
    "\n",
    "aux_plots.moving_average(scores_2act_R1[:4000], ax, label=\"R1 (+1 if cross)\", color='darkcyan')\n",
    "aux_plots.moving_average(scores_2act_R2[:4000], ax, label=\"R2 (+1 if cross, -1 if collide)\", color='darkmagenta')\n",
    "aux_plots.moving_average(scores_2act_R3[:4000], ax, label=\"R3 (+500 if cross, -10 if collide, -1 if stay)\", color='#FF3341')\n",
    "aux_plots.moving_average(baseline, ax, label='Baseline', color='black')"
   ]
  },
  {
   "cell_type": "code",
   "execution_count": null,
   "metadata": {},
   "outputs": [],
   "source": [
    "ax = aux_plots.plot_3rewards(total_rewards_2act_R1[:4000], total_rewards_2act_R2[:4000], total_rewards_2act_R3[:4000], \"R1 (+1 if cross)\", \"R2 (+1 if cross, -1 if collide)\", \"R3 (+500 if cross, -10 if collide, -1 if stay)\")\n",
    "\n",
    "aux_plots.moving_average(total_rewards_2act_R1[:4000], ax, label=\"R1 (+1 if cross)\", color='#1F8FFF')\n",
    "aux_plots.moving_average(total_rewards_2act_R2[:4000], ax, label=\"R2 (+1 if cross, -1 if collide)\", color='#9C4BE7')\n",
    "aux_plots.moving_average(total_rewards_2act_R3[:4000], ax, label=\"R3 (+500 if cross, -10 if collide, -1 if stay)\", color='#FF3341')"
   ]
  },
  {
   "cell_type": "markdown",
   "metadata": {},
   "source": [
    "Since the scales of the rewards vary a lot, we are separating R3 from R1 and R2, so we can compare than easily."
   ]
  },
  {
   "cell_type": "code",
   "execution_count": null,
   "metadata": {},
   "outputs": [],
   "source": [
    "ax = aux_plots.plot_2rewards(total_rewards_2act_R1[:4000], total_rewards_2act_R2[:4000], \"R1 (+1 if cross)\", \"R2 (+1 if cross, -1 if collide)\")\n",
    "\n",
    "aux_plots.moving_average(total_rewards_2act_R1[:4000], ax, label=\"R1 (+1 if cross)\", color='#1F8FFF')\n",
    "aux_plots.moving_average(total_rewards_2act_R2[:4000], ax, label=\"R2 (+1 if cross, -1 if collide)\", color='#9C4BE7')"
   ]
  },
  {
   "cell_type": "markdown",
   "metadata": {},
   "source": [
    "Recall that R1 is the default reward policy of our system, where the chicken receives 1 reward each time it crosses the freeway, and thus it is the same as the score.\n",
    "\n",
    "From these graphs we can see that for about 250 iterations the agents are scoring basically the same amount of points, but a few episodes latter, its behaviour change completely.\n",
    "R2 starts to show a very good performance for a while, but as it explores more and tries to maximize its reward, it starts getting more \"coward\", avoiding colliding with cars at all costs, even if it means staying still.\n",
    "The R2 agent prefers not to take risks, since one collision \"takes\" as much reward as it would get with a successful cross.\n",
    "That is why after 1000 episodes its performance starts to degrade a lot.\n",
    "This is the point where the agent starts to learn that in order to maximize its reward, it is better to stay still than to try to cross.\n",
    "Thus, even though the reward obtained is still good, the score is not.\n",
    "\n",
    "This behavior led us to the R3 approach, where we give a higher reward to crossing (500), while we still penalize collisions (-10) and also penalize staying still (-1).\n",
    "By doing so, we incentivate the agent to cross while discouraging it to collide or staying still.\n",
    "We give a higher penalty to collisions instead of staying still because the agent can avoid a collision by not moving.\n",
    "After a thound episodes, we can already see that this is the solution that performs better among these three, **scoring close to 30 points** in 4000 episodes!\n",
    "\n",
    "Notice that they haven't fully converged yet.\n",
    "However, the gain that we obtain from now on is marginal, compared to the time it takes for it to run."
   ]
  },
  {
   "cell_type": "markdown",
   "metadata": {
    "id": "U4zV0AFhwfKR"
   },
   "source": [
    "### Influence of the discount factor"
   ]
  },
  {
   "cell_type": "markdown",
   "metadata": {},
   "source": [
    "The discount factor $\\gamma$ determines how much the agent cares about rewards in the distant future relative to those in the immediate future.  \n",
    "\n",
    "If $\\gamma$=0, the agent will be completelly myopic and only learn about actions that produce an immediate reward.If $\\gamma$=1, the agent will evaluate each of its actions based on the sum of total of all futures rewards.\n",
    "\n",
    "We used a $\\gamma$ value of 0.99 in order to make our agent care about distant future and we also decreased this value to 0.90 and 0.75 to see how they can impact the agent behavior. "
   ]
  },
  {
   "cell_type": "markdown",
   "metadata": {},
   "source": [
    "Thus, we will be experimenting with 3 different parameters set:\n",
    "\n",
    "| Parameter | G1 | G2 | G3 |\n",
    "|------|----|----|----|\n",
    "| `GAMMA` | 0.99 | 0.90 | 0.75 |\n",
    "| `AVAILABLE_ACTIONS` | 2 | 2 | 2 |\n",
    "| `N0` | 2.5 | 2.5 | 2.5 |\n",
    "| `CROSS` | 500 | 500 | 500 |\n",
    "| `COLLISION` | -10 | -10 | -10 |\n",
    "| `STILL` | -1 | -1 | -1 |"
   ]
  },
  {
   "cell_type": "code",
   "execution_count": null,
   "metadata": {},
   "outputs": [],
   "source": [
    "scores_2act_gamma_0p99 = read_int_array_from_file('./QL/QL_scores_2act_R3.txt')\n",
    "scores_2act_gamma_0p9 = read_int_array_from_file('./QL/QL_scores_2act_gamma_0p9.txt')\n",
    "scores_2act_gamma_0p75 = read_int_array_from_file('./QL/QL_scores_2act_gamma_0p75.txt')\n",
    "\n",
    "total_rewards_2act_gamma_0p99 = read_int_array_from_file('./QL/QL_total_rewards_2act_R3.txt')\n",
    "total_rewards_2act_gamma_0p9 = read_int_array_from_file('./QL/QL_total_rewards_2act_gamma_0p9.txt')\n",
    "total_rewards_2act_gamma_0p75 = read_int_array_from_file('./QL/QL_total_rewards_2act_gamma_0p75.txt')"
   ]
  },
  {
   "cell_type": "code",
   "execution_count": null,
   "metadata": {},
   "outputs": [],
   "source": [
    "baseline = [baseline_mean_score for i in range(4000)]\n",
    "\n",
    "ax = aux_plots.plot_3scores(scores_2act_gamma_0p99[:4000], scores_2act_gamma_0p9[:4000], scores_2act_gamma_0p75[:4000], \"gamma=0.99\", \"gamma=0.90\", \"gamma=0.75\")\n",
    "\n",
    "aux_plots.moving_average(scores_2act_gamma_0p99[:4000], ax, label=\"gamma=0.99\", color='darkcyan')\n",
    "aux_plots.moving_average(scores_2act_gamma_0p9[:4000], ax, label=\"gamma=0.90\", color='darkmagenta')\n",
    "aux_plots.moving_average(scores_2act_gamma_0p75[:4000], ax, label=\"gamma=0.75\", color='#FF3341')\n",
    "aux_plots.moving_average(baseline, ax, label='Baseline', color='black')"
   ]
  },
  {
   "cell_type": "code",
   "execution_count": null,
   "metadata": {},
   "outputs": [],
   "source": [
    "ax = aux_plots.plot_3rewards(total_rewards_2act_gamma_0p99[:4000], total_rewards_2act_gamma_0p9[:4000], total_rewards_2act_gamma_0p75[:4000], \"gamma=0.99\", \"gamma=0.90\", \"gamma=0.75\")\n",
    "\n",
    "aux_plots.moving_average(total_rewards_2act_gamma_0p99[:4000], ax, label=\"gamma=0.99\", color='darkcyan')\n",
    "aux_plots.moving_average(total_rewards_2act_gamma_0p9[:4000], ax, label=\"gamma=0.90\", color='darkmagenta')\n",
    "aux_plots.moving_average(total_rewards_2act_gamma_0p75[:4000], ax, label=\"gamma=0.75\", color='#FF3341')"
   ]
  },
  {
   "cell_type": "markdown",
   "metadata": {},
   "source": [
    "# TODO: JUSTIFICAR O 0.99"
   ]
  },
  {
   "cell_type": "markdown",
   "metadata": {},
   "source": [
    "As we can see from the results show in the plots above, the agent with higher values of $\\gamma$ got the best results.\n",
    "\n",
    "As our fundamental goal is to make the agent to cross all the lanes, we give it a huge reward when achieving this goal.\n",
    "If we make the agent far-sighned it keeps seeking the final reward and obtain the higher scores.\n",
    "\n",
    "When we make the agent more short-sighned, it considers the final reward as less valuable and starts to avoid to be penalized at the immediate future.\n",
    "\n",
    "Below the plots are showing the score and the total rewards got using the three agents. "
   ]
  },
  {
   "cell_type": "markdown",
   "metadata": {
    "id": "xiogqiuFwfKN"
   },
   "source": [
    "### Influence of the $N0$ parameter that is used to define the agent's exploration rate $\\epsilon$"
   ]
  },
  {
   "cell_type": "markdown",
   "metadata": {},
   "source": [
    "The exploration rate is the probability that our agent will explore the environment rather than exploit it.  \n",
    "The $N0$ parameter is used to define the agent's exploration rate $\\epsilon$ , where  $\\epsilon = N0/(N0+N_{sa})$ and $N_{sa}$ is the number of times that state $s$ has been visited and taken the action $a$.\n",
    "\n",
    "We used a very small value of $N0$ (0.001) so we can see how well the agent performs if this constant $N0$ had almost no impact in the exploration rate done and we also used $N0$ = 2.5 and $N0$ = 5.0 so we can see how the exploration rate impact the agent behavior."
   ]
  },
  {
   "cell_type": "markdown",
   "metadata": {},
   "source": [
    "All in all, these are the parameters that we are going to use to execute this experiment.\n",
    "\n",
    "| Parameter | N1 | N2 | N3 |\n",
    "|------|----|----|----|\n",
    "| `GAMMA` | 0.99 | 0.99 | 0.99 |\n",
    "| `AVAILABLE_ACTIONS` | 2 | 2 | 2 |\n",
    "| `N0` | 0.001 | 2.5 | 5.0 |\n",
    "| `CROSS` | 500 | 500 | 500 |\n",
    "| `COLLISION` | -10 | -10 | -10 |\n",
    "| `STILL` | -1 | -1 | -1 |"
   ]
  },
  {
   "cell_type": "code",
   "execution_count": null,
   "metadata": {},
   "outputs": [],
   "source": [
    "scores_2act_N0_0 = read_int_array_from_file('./QL/QL_scores_2act_N0_0.txt')\n",
    "scores_2act_N0_25 = read_int_array_from_file('./QL/QL_scores_2act_R3.txt')\n",
    "scores_2act_N0_5 = read_int_array_from_file('./QL/QL_scores_2act_N0_5.txt')\n",
    "\n",
    "total_rewards_2act_N0_0 = read_int_array_from_file('./QL/QL_total_rewards_2act_N0_0.txt')\n",
    "total_rewards_2act_N0_25 = read_int_array_from_file('./QL/QL_total_rewards_2act_R3.txt')\n",
    "total_rewards_2act_N0_5 = read_int_array_from_file('./QL/QL_total_rewards_2act_N0_5.txt')"
   ]
  },
  {
   "cell_type": "code",
   "execution_count": null,
   "metadata": {},
   "outputs": [],
   "source": [
    "baseline = [baseline_mean_score for i in range(4000)]\n",
    "\n",
    "ax = aux_plots.plot_3scores(scores_2act_N0_0[:4000], scores_2act_N0_25[:4000], scores_2act_N0_5[:4000], \"N0=0.001\", \"N0=2.50\", \"N0=5.00\")\n",
    "\n",
    "aux_plots.moving_average(scores_2act_N0_0[:4000], ax, label=\"N0=0.001\", color='darkcyan')\n",
    "aux_plots.moving_average(scores_2act_N0_25[:4000], ax, label=\"N0=2.50\", color='darkmagenta')\n",
    "aux_plots.moving_average(scores_2act_N0_5[:4000], ax, label=\"N0=5.00\", color='#FF3341')\n",
    "aux_plots.moving_average(baseline, ax, label='Baseline', color='black')"
   ]
  },
  {
   "cell_type": "code",
   "execution_count": null,
   "metadata": {},
   "outputs": [],
   "source": [
    "ax = aux_plots.plot_3rewards(total_rewards_2act_N0_0[:4000], total_rewards_2act_N0_25[:4000], total_rewards_2act_N0_5[:4000], \"N0=0.001\", \"N0=2.50\", \"N0=5.00\")\n",
    "\n",
    "aux_plots.moving_average(total_rewards_2act_N0_0[:4000], ax, label=\"N0=0.001\", color='darkcyan')\n",
    "aux_plots.moving_average(total_rewards_2act_N0_25[:4000], ax, label=\"N0=2.50\", color='darkmagenta')\n",
    "aux_plots.moving_average(total_rewards_2act_N0_5[:4000], ax, label=\"N0=5.00\", color='#FF3341')"
   ]
  },
  {
   "cell_type": "markdown",
   "metadata": {},
   "source": [
    "The exploration rate is the probability that our agent will explore the environment rather than exploit it.  \n",
    "\n",
    "As we can see from the results show in the plots above, the lower is the $N0$ value, the better is the performance of the agent.\n",
    "Although this migth seem counterintuitive at first, in fact, it stands to reason.\n",
    "When we explore more (higher $N0$), we exploit less, leading to worst results in the beginning.\n",
    "From the graphs above, we can see that all three lines are looking up, still increasing their values, and the gap between them is closing.\n",
    "We expect to achive better results with higher $N0$s, but it would take too much time for it to happen (we even tested some of them overnight and it still wasn't enough).\n",
    "\n",
    "Based on our reward function, it is fairly simple to detect which action should be taken in most of the states.\n",
    "We want to move up always, unless it is leading to a collision.\n",
    "Thus, frequently it is easy to detect the best action, and for most of the states we don't need to explore a lot to find it."
   ]
  },
  {
   "cell_type": "markdown",
   "metadata": {},
   "source": [
    "## Visualizations"
   ]
  },
  {
   "cell_type": "markdown",
   "metadata": {},
   "source": [
    "| #Episodes | 500 | 1000 | 2000 | 4000 |\n",
    "|------|----|---|---|---|\n",
    "| GIF - Coward | ![QL-R2_500](./gif/QL-R2_500.gif) | ![QL-R2_1000](./gif/QL-R2_1000.gif) | ![QL-R2_2000](./gif/QL-R2_2000.gif) | ![QL-R2_4000](./gif/QL-R2_4000.gif) |\n",
    "| GIF - Champion | ![QL-R3_500](./gif/QL-R3_500.gif) | ![QL-R3_1000](./gif/QL-R3_1000.gif) | ![QL-R3_2000](./gif/QL-R3_2000.gif) | ![QL-R3_4000](./gif/QL-R3_4000.gif) |"
   ]
  },
  {
   "cell_type": "markdown",
   "metadata": {},
   "source": [
    "# TODO: Explain the gifs."
   ]
  },
  {
   "cell_type": "code",
   "execution_count": null,
   "metadata": {},
   "outputs": [],
   "source": [
    "stop"
   ]
  },
  {
   "cell_type": "markdown",
   "metadata": {},
   "source": [
    "---"
   ]
  },
  {
   "cell_type": "markdown",
   "metadata": {},
   "source": [
    "# Monte Carlo Control"
   ]
  },
  {
   "cell_type": "markdown",
   "metadata": {},
   "source": [
    "The Monte Carlo algorithm receives the $\\gamma$ and the $N0$ parameters.\n",
    "\n",
    "$\\gamma$ is the discount factor; This parameters determines the importance of future rewards. A value of 0 makes the agent short-sighned by only considering current rewards, while a factor approaching 1 will make it strive for a long term reward.  \n",
    "\n",
    "The $N0$ parameter is used to define the agent's exploration rate $\\epsilon$, where $\\epsilon = N0/(N0+N_{sa})$ and $N_{sa}$ is the number of visits in the state $s$ where the action $a$ was taken.\n",
    "\n",
    "In the algorithm, the value function is initialized to zero."
   ]
  },
  {
   "cell_type": "code",
   "execution_count": null,
   "metadata": {},
   "outputs": [],
   "source": [
    "env, initial_state = environment.get_env()"
   ]
  },
  {
   "cell_type": "code",
   "execution_count": null,
   "metadata": {},
   "outputs": [],
   "source": [
    "agent = agents.MonteCarloControl(gamma=GAMMA, available_actions=AVAILABLE_ACTIONS, N0=N0)"
   ]
  },
  {
   "cell_type": "code",
   "execution_count": null,
   "metadata": {},
   "outputs": [],
   "source": [
    "def MonteCarloES(RAM_mask: List[int], render: bool=False):\n",
    "    epi = episode.generate_episode(env\n",
    "                                   , reduce_state=reduce_state\n",
    "                                   , reward_policy=reward_policy\n",
    "                                   , agent=agent\n",
    "                                   , RAM_mask=RAM_mask\n",
    "                                   , render=render)\n",
    "    return agent.update_policy(epi)"
   ]
  },
  {
   "cell_type": "code",
   "execution_count": null,
   "metadata": {},
   "outputs": [],
   "source": [
    "scores = []\n",
    "total_rewards = []"
   ]
  },
  {
   "cell_type": "code",
   "execution_count": null,
   "metadata": {},
   "outputs": [],
   "source": [
    "%%time\n",
    "n_runs = 1000\n",
    "\n",
    "for i in range(n_runs):\n",
    "    render = i % 201 == 200\n",
    "\n",
    "    score, total_reward = MonteCarloES(RAM_mask=RAM_mask, render=render)\n",
    "\n",
    "    scores.append(score)\n",
    "    total_rewards.append(total_reward)\n",
    "\n",
    "    print_result(i, scores, total_reward, score)"
   ]
  },
  {
   "cell_type": "markdown",
   "metadata": {},
   "source": [
    "## Experiments"
   ]
  },
  {
   "cell_type": "markdown",
   "metadata": {
    "id": "BHaOs0-xx9La"
   },
   "source": [
    "### Influence of the number of actions "
   ]
  },
  {
   "cell_type": "markdown",
   "metadata": {},
   "source": [
    "As the goal of the game is to cross all the lanes, we propose that it would be enought if the chicken use just the two actions move **up** or **stay** and never move **down**.\n",
    "<br>\n",
    "As we did for the Q-learning agent, in order to test our hypothesis also for Monte Carlo control, we ran the agent using 3 and 2 actions.  "
   ]
  },
  {
   "cell_type": "code",
   "execution_count": null,
   "metadata": {},
   "outputs": [],
   "source": [
    "scores_2act = read_int_array_from_file(\"./MC/MC_scores_2act.txt\")\n",
    "scores_3act = read_int_array_from_file(\"./MC/MC_scores_3act.txt\")\n",
    "\n",
    "total_rewards_2act = read_int_array_from_file(\"./MC/MC_total_rewards_2act.txt\")\n",
    "total_rewards_3act = read_int_array_from_file(\"./MC/MC_total_rewards_3act.txt\")"
   ]
  },
  {
   "cell_type": "code",
   "execution_count": null,
   "metadata": {},
   "outputs": [],
   "source": [
    "baseline = [baseline_mean_score for i in range(4000)]\n",
    "\n",
    "ax = aux_plots.plot_2scores(scores_3act[:4000], scores_2act[:4000], \"3 actions (up, down or stay)\", \"2 actions (up or stay)\")\n",
    "\n",
    "aux_plots.moving_average(scores_2act[:4000], ax, label='2 actions moving avg', color='darkmagenta')\n",
    "aux_plots.moving_average(scores_3act[:4000], ax, label='3 actions moving avg', color='darkcyan')\n",
    "aux_plots.moving_average(baseline[:4000], ax, label='Baseline', color='black')"
   ]
  },
  {
   "cell_type": "markdown",
   "metadata": {
    "id": "KUX1Bnz1x9Ll"
   },
   "source": [
    "### Influence of the reward values"
   ]
  },
  {
   "cell_type": "markdown",
   "metadata": {},
   "source": [
    "As we did for the Q-learning agent, in order to investigate the influence of the reward values in the agent behavior also for Monte Carlo control, we ran the algorithm using three different set of reward values.\n",
    "\n",
    "**R1:** Positive rewards for crossing: it offered a sparse reward to the agent: +1 if the chicken cross all the lanes.\n",
    "\n",
    "**R2:** Positive rewards for crossing and negative reward for colliding: it given +1 for crossing all the lanes and -1 if the chicken collide. Thus, we expect the agent to be encouraged to cross the lanes (positive reward) and to avoid collisions (negative reward).\n",
    "\n",
    "**R3:** Huge positive reward for crossing and negative reward for colliding or staying in the same position: it increased the reward for crossing all the lanes to +500 and give -10 when the chicken collide. It also gives a negative reward of -1 when the agent decide to still. Thus we expect the chicken to be incentivate to cross the lanes more rapidilly and increase the score."
   ]
  },
  {
   "cell_type": "code",
   "execution_count": null,
   "metadata": {},
   "outputs": [],
   "source": [
    "scores_2act_R1 = read_int_array_from_file('MC/MC_scores_2act_R1.txt')\n",
    "scores_2act_R2 = read_int_array_from_file('MC/MC_scores_2act_R2.txt')\n",
    "scores_2act_R3 = read_int_array_from_file('MC/MC_scores_2act_R3.txt')\n",
    "\n",
    "total_rewards_2act_R1 = read_int_array_from_file('MC/MC_total_rewards_2act_R1.txt')\n",
    "total_rewards_2act_R2 = read_int_array_from_file('MC/MC_total_rewards_2act_R2.txt')\n",
    "total_rewards_2act_R3 = read_int_array_from_file('MC/MC_total_rewards_2act_R3.txt')"
   ]
  },
  {
   "cell_type": "code",
   "execution_count": null,
   "metadata": {},
   "outputs": [],
   "source": [
    "baseline = [baseline_mean_score for i in range(4000)]\n",
    "\n",
    "ax = aux_plots.plot_3scores(scores_2act_R1[:4000], scores_2act_R2[:4000], scores_2act_R3[:4000], \"R1 (+1 if cross)\", \"R2 (+1 if cross, -1 if collide)\", \"R3 (+500 if cross, -10 if collide, -1 if stay)\")\n",
    "\n",
    "aux_plots.moving_average(scores_2act_R1[:4000], ax, label=\"R1 (+1 if cross)\", color='darkcyan')\n",
    "aux_plots.moving_average(scores_2act_R2[:4000], ax, label=\"R2 (+1 if cross, -1 if collide)\", color='darkmagenta')\n",
    "aux_plots.moving_average(scores_2act_R3[:4000], ax, label=\"R3 (+500 if cross, -10 if collide, -1 if stay)\", color='#FF3341')\n",
    "aux_plots.moving_average(baseline, ax, label='Baseline', color='black')"
   ]
  },
  {
   "cell_type": "code",
   "execution_count": null,
   "metadata": {},
   "outputs": [],
   "source": [
    "ax = aux_plots.plot_3rewards(total_rewards_2act_R1[:4000], total_rewards_2act_R2[:4000], total_rewards_2act_R3[:4000], \"R1 (+1 if cross)\", \"R2 (+1 if cross, -1 if collide)\", \"R3 (+500 if cross, -10 if collide, -1 if stay)\")\n",
    "\n",
    "aux_plots.moving_average(total_rewards_2act_R1[:4000], ax, label=\"R1 (+1 if cross)\", color='#1F8FFF')\n",
    "aux_plots.moving_average(total_rewards_2act_R2[:4000], ax, label=\"R2 (+1 if cross, -1 if collide)\", color='#9C4BE7')\n",
    "aux_plots.moving_average(total_rewards_2act_R3[:4000], ax, label=\"R3 (+500 if cross, -10 if collide, -1 if stay)\", color='#FF3341')"
   ]
  },
  {
   "cell_type": "markdown",
   "metadata": {},
   "source": [
    "Since the scales of the rewards vary a lot, we are separating R3 from R1 and R2, so we can compare than easily."
   ]
  },
  {
   "cell_type": "markdown",
   "metadata": {},
   "source": [
    "# TODO: valores negativos errados"
   ]
  },
  {
   "cell_type": "code",
   "execution_count": null,
   "metadata": {},
   "outputs": [],
   "source": [
    "ax = aux_plots.plot_2rewards(total_rewards_2act_R1[:4000], total_rewards_2act_R2[:4000], \"R1 (+1 if cross)\", \"R2 (+1 if cross, -1 if collide)\")\n",
    "\n",
    "aux_plots.moving_average(total_rewards_2act_R1[:4000], ax, label=\"R1 (+1 if cross)\", color='#1F8FFF')\n",
    "aux_plots.moving_average(total_rewards_2act_R2[:4000], ax, label=\"R2 (+1 if cross, -1 if collide)\", color='#9C4BE7')"
   ]
  },
  {
   "cell_type": "markdown",
   "metadata": {
    "id": "xjXbOOO_x9Lt"
   },
   "source": [
    "### Influence of the discount factor"
   ]
  },
  {
   "cell_type": "markdown",
   "metadata": {},
   "source": [
    "The discount factor $\\gamma$ determines how much the agent cares about rewards in the distant future relative to those in the immediate future.  \n",
    "\n",
    "If $\\gamma$=0, the agent will be completelly myopic and only learn about actions that produce an immediate reward.If $\\gamma$=1, the agent will evaluate each of its actions based on the sum of total of all futures rewards.\n",
    "\n",
    "We used a $\\gamma$ value of 0.99 in order to make our agent care about distant future and we also decreased this value to 0.90 and 0.75 to see how they can impact the agent behavior. "
   ]
  },
  {
   "cell_type": "markdown",
   "metadata": {},
   "source": [
    "Thus, we will be experimenting with 3 different parameters set:\n",
    "\n",
    "| Parameter | G1 | G2 | G3 |\n",
    "|------|----|----|----|\n",
    "| `GAMMA` | 0.99 | 0.90 | 0.75 |\n",
    "| `AVAILABLE_ACTIONS` | 2 | 2 | 2 |\n",
    "| `N0` | 2.5 | 2.5 | 2.5 |\n",
    "| `CROSS` | 500 | 500 | 500 |\n",
    "| `COLLISION` | -10 | -10 | -10 |\n",
    "| `STILL` | -1 | -1 | -1 |"
   ]
  },
  {
   "cell_type": "code",
   "execution_count": null,
   "metadata": {},
   "outputs": [],
   "source": [
    "scores_2act_gamma_0p99 = read_int_array_from_file('./MC/MC_scores_2act_R3.txt')\n",
    "scores_2act_gamma_0p9 = read_int_array_from_file('./MC/MC_scores_2act_gamma_0p9.txt')\n",
    "scores_2act_gamma_0p75 = read_int_array_from_file('./MC/MC_scores_2act_gamma_0p75.txt')\n",
    "\n",
    "total_rewards_2act_gamma_0p99 = read_int_array_from_file('./MC/MC_total_rewards_2act_R3.txt')\n",
    "total_rewards_2act_gamma_0p9 = read_int_array_from_file('./MC/MC_total_rewards_2act_gamma_0p9.txt')\n",
    "total_rewards_2act_gamma_0p75 = read_int_array_from_file('./MC/MC_total_rewards_2act_gamma_0p75.txt')"
   ]
  },
  {
   "cell_type": "code",
   "execution_count": null,
   "metadata": {},
   "outputs": [],
   "source": [
    "baseline = [baseline_mean_score for i in range(4000)]\n",
    "\n",
    "ax = aux_plots.plot_3scores(scores_2act_gamma_0p99[:4000], scores_2act_gamma_0p9[:4000], scores_2act_gamma_0p75[:4000], \"gamma=0.99\", \"gamma=0.90\", \"gamma=0.75\")\n",
    "\n",
    "aux_plots.moving_average(scores_2act_gamma_0p99[:4000], ax, label=\"gamma=0.99\", color='darkcyan')\n",
    "aux_plots.moving_average(scores_2act_gamma_0p9[:4000], ax, label=\"gamma=0.90\", color='darkmagenta')\n",
    "aux_plots.moving_average(scores_2act_gamma_0p75[:4000], ax, label=\"gamma=0.75\", color='#FF3341')\n",
    "aux_plots.moving_average(baseline, ax, label='Baseline', color='black')"
   ]
  },
  {
   "cell_type": "code",
   "execution_count": null,
   "metadata": {},
   "outputs": [],
   "source": [
    "ax = aux_plots.plot_3rewards(total_rewards_2act_gamma_0p99[:4000], total_rewards_2act_gamma_0p9[:4000], total_rewards_2act_gamma_0p75[:4000], \"gamma=0.99\", \"gamma=0.90\", \"gamma=0.75\")\n",
    "\n",
    "aux_plots.moving_average(total_rewards_2act_gamma_0p99[:4000], ax, label=\"gamma=0.99\", color='darkcyan')\n",
    "aux_plots.moving_average(total_rewards_2act_gamma_0p9[:4000], ax, label=\"gamma=0.90\", color='darkmagenta')\n",
    "aux_plots.moving_average(total_rewards_2act_gamma_0p75[:4000], ax, label=\"gamma=0.75\", color='#FF3341')"
   ]
  },
  {
   "cell_type": "markdown",
   "metadata": {
    "id": "wDjX3Uhqx9Lp"
   },
   "source": [
    "### Influence of the $N0$ parameter that is used to define the agent's exploration rate  $\\epsilon$"
   ]
  },
  {
   "cell_type": "markdown",
   "metadata": {},
   "source": [
    "The exploration rate is the probability that our agent will explore the environment rather than exploit it.  \n",
    "The $𝑁0$ parameter is used to define the agent's exploration rate $\\epsilon$ , where  $\\epsilon = N0/(N0+n)$ and $n$ is the number of times that state has been visited.  \n",
    "<br>\n",
    "As we did for the Q-learning agent, we used a $N0$ value very small (0.001) in order to make our agent short-sighned by only considering immediate rewards, and also used another two values of 2.5 and 5 to compare the results and see how they can impact the agent behavior. "
   ]
  },
  {
   "cell_type": "code",
   "execution_count": null,
   "metadata": {},
   "outputs": [],
   "source": [
    "scores_2act_N0_0 = read_int_array_from_file('./MC/MC_scores_2act_N0_0.txt')\n",
    "scores_2act_N0_25 = read_int_array_from_file('./MC/MC_scores_2act_R3.txt')\n",
    "scores_2act_N0_5 = read_int_array_from_file('./MC/MC_scores_2act_N0_5.txt')\n",
    "\n",
    "total_rewards_2act_N0_0 = read_int_array_from_file('./MC/MC_total_rewards_2act_N0_0.txt')\n",
    "total_rewards_2act_N0_25 = read_int_array_from_file('./MC/MC_total_rewards_2act_R3.txt')\n",
    "total_rewards_2act_N0_5 = read_int_array_from_file('./MC/MC_total_rewards_2act_N0_5.txt')"
   ]
  },
  {
   "cell_type": "code",
   "execution_count": null,
   "metadata": {},
   "outputs": [],
   "source": [
    "baseline = [baseline_mean_score for i in range(4000)]\n",
    "\n",
    "ax = aux_plots.plot_3scores(scores_2act_N0_0[:4000], scores_2act_N0_25[:4000], scores_2act_N0_5[:4000], \"N0=0.001\", \"N0=2.50\", \"N0=5.00\")\n",
    "\n",
    "aux_plots.moving_average(scores_2act_N0_0[:4000], ax, label=\"N0=0.001\", color='darkcyan')\n",
    "aux_plots.moving_average(scores_2act_N0_25[:4000], ax, label=\"N0=2.50\", color='darkmagenta')\n",
    "aux_plots.moving_average(scores_2act_N0_5[:4000], ax, label=\"N0=5.00\", color='#FF3341')\n",
    "aux_plots.moving_average(baseline, ax, label='Baseline', color='black')"
   ]
  },
  {
   "cell_type": "code",
   "execution_count": null,
   "metadata": {},
   "outputs": [],
   "source": [
    "ax = aux_plots.plot_3rewards(total_rewards_2act_N0_0[:4000], total_rewards_2act_N0_25[:4000], total_rewards_2act_N0_5[:4000], \"N0=0.001\", \"N0=2.50\", \"N0=5.00\")\n",
    "\n",
    "aux_plots.moving_average(total_rewards_2act_N0_0[:4000], ax, label=\"N0=0.001\", color='darkcyan')\n",
    "aux_plots.moving_average(total_rewards_2act_N0_25[:4000], ax, label=\"N0=2.50\", color='darkmagenta')\n",
    "aux_plots.moving_average(total_rewards_2act_N0_5[:4000], ax, label=\"N0=5.00\", color='#FF3341')"
   ]
  },
  {
   "cell_type": "markdown",
   "metadata": {},
   "source": [
    "## Fixed epsilon Monte Carlo"
   ]
  },
  {
   "cell_type": "markdown",
   "metadata": {},
   "source": [
    "# TODO: Explain why we are doing this"
   ]
  },
  {
   "cell_type": "code",
   "execution_count": null,
   "metadata": {},
   "outputs": [],
   "source": [
    "env, initial_state = environment.get_env()"
   ]
  },
  {
   "cell_type": "code",
   "execution_count": null,
   "metadata": {},
   "outputs": [],
   "source": [
    "agent = agents.MonteCarloControlFixedEpsilon(gamma=GAMMA, available_actions=AVAILABLE_ACTIONS, epsilon=0.05)"
   ]
  },
  {
   "cell_type": "code",
   "execution_count": null,
   "metadata": {},
   "outputs": [],
   "source": [
    "def MonteCarloES(RAM_mask: List[int], render: bool=False):\n",
    "    epi = episode.generate_episode(env\n",
    "                                   , reduce_state=reduce_state\n",
    "                                   , reward_policy=reward_policy\n",
    "                                   , agent=agent\n",
    "                                   , RAM_mask=RAM_mask\n",
    "                                   , render=render)\n",
    "    return agent.update_policy(epi)"
   ]
  },
  {
   "cell_type": "code",
   "execution_count": null,
   "metadata": {},
   "outputs": [],
   "source": [
    "scores = []\n",
    "total_rewards = []"
   ]
  },
  {
   "cell_type": "code",
   "execution_count": null,
   "metadata": {},
   "outputs": [],
   "source": [
    "%%time\n",
    "n_runs = 1000\n",
    "\n",
    "for i in range(n_runs):\n",
    "    render = i % 201 == 200\n",
    "\n",
    "    score, total_reward = MonteCarloES(RAM_mask=RAM_mask, render=render)\n",
    "\n",
    "    scores.append(score)\n",
    "    total_rewards.append(total_reward)\n",
    "\n",
    "    print_result(i, scores, total_reward, score)"
   ]
  },
  {
   "cell_type": "code",
   "execution_count": null,
   "metadata": {},
   "outputs": [],
   "source": [
    "aux_plots.plot_scores(scores)"
   ]
  },
  {
   "cell_type": "code",
   "execution_count": null,
   "metadata": {},
   "outputs": [],
   "source": [
    "aux_plots.plot_rewards(total_rewards)"
   ]
  },
  {
   "cell_type": "markdown",
   "metadata": {},
   "source": [
    "---"
   ]
  },
  {
   "cell_type": "markdown",
   "metadata": {},
   "source": [
    "# SARSA($\\lambda$)"
   ]
  },
  {
   "cell_type": "code",
   "execution_count": null,
   "metadata": {},
   "outputs": [],
   "source": [
    "env, initial_state = environment.get_env()"
   ]
  },
  {
   "cell_type": "code",
   "execution_count": null,
   "metadata": {},
   "outputs": [],
   "source": [
    "agent = agents.SarsaLambda(gamma=GAMMA, available_actions=AVAILABLE_ACTIONS, N0=N0, lambd=LAMBD)"
   ]
  },
  {
   "cell_type": "code",
   "execution_count": null,
   "metadata": {},
   "outputs": [],
   "source": [
    "scores = []\n",
    "total_rewards = []"
   ]
  },
  {
   "cell_type": "code",
   "execution_count": null,
   "metadata": {},
   "outputs": [],
   "source": [
    "%%timeit\n",
    "n_runs = 1\n",
    "\n",
    "for i in range(n_runs):\n",
    "    render = i % 200 == 199\n",
    "    \n",
    "    agent.reset_E()\n",
    "\n",
    "    game_over = False\n",
    "    state = env.reset()\n",
    "    state = reduce_state(state)[RAM_mask].data.tobytes()  # Select useful bytes\n",
    "    action = agent.act(state)\n",
    "    \n",
    "    score = 0\n",
    "    total_reward = 0\n",
    "\n",
    "    while not game_over:\n",
    "        if render:\n",
    "            time.sleep(0.005)\n",
    "            env.render()\n",
    "\n",
    "        old_state = state\n",
    "        old_action = action\n",
    "        ob, reward, game_over, _ = env.step(action)\n",
    "\n",
    "        ob = reduce_state(ob)\n",
    "        reward = reward_policy(reward, ob, action)\n",
    "\n",
    "        total_reward += reward\n",
    "\n",
    "        if reward == reward_policy.REWARD_IF_CROSS:\n",
    "            score += 1\n",
    "\n",
    "        state = ob[RAM_mask].data.tobytes()\n",
    "\n",
    "        action = agent.act(state)  # Next action\n",
    "\n",
    "        agent.update_Q(old_s=old_state, new_s=state, old_a=old_action, new_a=action, reward=reward)\n",
    "\n",
    "    scores.append(score)\n",
    "    total_rewards.append(total_reward)\n",
    "\n",
    "    print_result(i, scores, total_reward, score)"
   ]
  },
  {
   "cell_type": "markdown",
   "metadata": {},
   "source": [
    "## TODO: Influence of the $\\lambda$ parameter"
   ]
  },
  {
   "cell_type": "markdown",
   "metadata": {},
   "source": [
    "# Linear function approximators"
   ]
  },
  {
   "cell_type": "markdown",
   "metadata": {},
   "source": [
    "The previous algorithms aim to solve control problems using a model free approach that depends on Q tables, which are structures that store the values associated with how good it is to take an action A in a state S, called Q values.\n",
    "\n",
    "Although using Q tables are good for solving small learning problems, they suffer with a trouble called the curse of dimensionality, in which even some small environments can generate a huge amount of possible states, requiring a large amount of memory that is not available. This drawback often prevents those techniques to be used in many tasks from real life that could benefit from it.\n",
    "\n",
    "One of the solutions developed to deal with this problem is Function Approximation. On it, instead of trying to find the optimal values for a very large table, we try to find the best parameters for a parameterized function whose objective is to approximate the optimal values that we would find on that table.\n",
    "\n",
    "Mathematically, we say that we have a family of parameterized functions $\\mathcal{Q}$ given by $Q_{\\theta}: S\\times A \\rightarrow \\mathbb{R}$, where $\\theta$ is an array of parameters in $\\mathbb{R}^d$, called weights, and $d << |S|$. Given that, the objective of a function approximator is to find the array of weights $\\theta^*$ that produces the $Q_{\\theta}^*$ that better approximates the optimal Q values ($Q^*$) for the problem addressed. Some of the greatest advantages of these algorithms is that they learn to generalize for unseen states and requires a much smaller set of values to be learned (d instead of |S|).\n",
    "\n",
    "For this project, we experimented with linear function approximators, which are given by the following equation, where $\\hat{q}(s,a)$ is the approximated value of choosing action **a** in state **s**, $\\theta_i$ is the i-th element of the array of parameters and $x_i$ is a function that turns the action-state pair into the i-th feature of a d-dimensional feature array.\n",
    "\n",
    "$\\hat{q}(s,a,\\theta) = \\sum_{i = 1}^d \\theta_i*x_i(s,a)$\n",
    "\n",
    "In order to discover the best parameters, we applied a Stochastic Gradient Descent algorithm to update the weights, given by the equation below:\n",
    "\n",
    "$\\theta = \\theta + \\alpha*(target - \\hat{q}(S_t, A_t, \\theta))*x(S_t, A_t)$\n",
    "\n",
    "The **target** is the value that our function approximator tries to achieve at each update and it changes for each algorithm approximated (Monte Carlo, Q Learning and Sarsa Lambda), and $\\alpha$ is a learning step size.\n",
    "\n",
    "One of the critical points of function approximators is the choice of the features to be used to represent the states. Depending on their choice, we can build good or bad function approximators. For this project, we experimented with a set of different features, as described in the next sections."
   ]
  },
  {
   "cell_type": "markdown",
   "metadata": {},
   "source": [
    "## Auxiliary functions"
   ]
  },
  {
   "cell_type": "code",
   "execution_count": null,
   "metadata": {},
   "outputs": [],
   "source": [
    "RAM_full_mask=[14  # Chicken Y\n",
    "    , 16  # Chicken Lane Collide\n",
    "    , 18  # Chicken Collision flag (with the bottom car)\n",
    "    , 22  # Car X Direction\n",
    "    , 23, 24, 25, 26, 27, 28, 29, 30, 31, 32  # Z Car Patterns\n",
    "    , 33, 34, 35, 36, 37, 38, 39, 40, 41, 42  # Car Motion Timmers\n",
    "    , 43, 44, 45, 46, 47, 48, 49, 50, 51, 52  # Car Motions\n",
    "    , 87, 88  # Car Shape Ptr\n",
    "    # TODO: test if this makes any difference\n",
    "    , 89, 90  # Chicken Shape Ptr\n",
    "    # TODO: test if this makes any difference\n",
    "    #, 106, 107  # Chicken Sounds\n",
    "    , 108, 109, 110, 111, 112, 113, 114, 115, 116, 117]  # Car X Coords\n",
    "\n",
    "\n",
    "def reduce_state_abs_neg(ob):\n",
    "    # Doesn't matter where we were hit\n",
    "    ob[16] = 1 if ob[16] != 255 else 0\n",
    "\n",
    "    # Reduce chicken y-position\n",
    "    ob[14] = ob[14] // 3\n",
    "\n",
    "    for b in range(108, 118):\n",
    "        ob[b] = abs(ob[b] - 50)\n",
    "        \n",
    "        if b <= 112:\n",
    "            ob[b] = -ob[b]\n",
    "     \n",
    "        ob[b] = ob[b] // 3\n",
    "\n",
    "    return ob\n",
    "\n",
    "\n",
    "def runGame(env, agent, mask, reduce_state, reduce=True):\n",
    "    \n",
    "    actions = []\n",
    "    score = 0\n",
    "    total_reward = 0\n",
    "    \n",
    "    state = env.reset()\n",
    "    if reduce:\n",
    "        state = reduce_state(state)[mask].data.tobytes()  # Select useful bytes\n",
    "    else:\n",
    "        state = state[mask].data.tobytes()\n",
    "        \n",
    "    action = agent.act(state)\n",
    "    actions.append(action)\n",
    "    \n",
    "    game_over = False\n",
    "    render  = True\n",
    "    while not game_over:\n",
    "        if render:\n",
    "            time.sleep(0.0025)\n",
    "            env.render()\n",
    "\n",
    "        old_state = state\n",
    "        ob, reward, game_over, _ = env.step(action)\n",
    "        \n",
    "        if reward == 1:\n",
    "            score+=1\n",
    "        total_reward+=reward\n",
    "        \n",
    "        if reduce:\n",
    "            state = reduce_state(ob)[mask].data.tobytes()\n",
    "        else:\n",
    "            state = ob[mask].data.tobytes()\n",
    "            \n",
    "        action = agent.act(state)\n",
    "        actions.append(action)\n",
    "    \n",
    "    return score, total_reward, actions"
   ]
  },
  {
   "cell_type": "markdown",
   "metadata": {},
   "source": [
    "## Q Learning Function Approximation"
   ]
  },
  {
   "cell_type": "markdown",
   "metadata": {},
   "source": [
    "For the Q learning function approximator, we decided to use the best parameters found for the Q learning algorithm shown before. They were: \n",
    "- $\\gamma = 0,99$\n",
    "- N0 = 0,001\n",
    "- 2 available actions (move up and stay)\n",
    "- A reward of 500 if the chicken crosses the street, a reward of -10 if it collides with a car and a reward of -1 if the chicken decides to stay.\n",
    "\n",
    "One important detail is that, for the function approximator we decided to use a fixed step size $\\alpha = 0,00001$. It happened because, when we were using the time varying step size used for the previous algorithms, its values were still much bigger than the necessary for the function approximator error converge, making the score and reward curves decrease instead of increase. With the smaller fixed value of $\\alpha$, the updates started to help the algorithm to learn.\n"
   ]
  },
  {
   "cell_type": "markdown",
   "metadata": {},
   "source": [
    "### Experiment A (Original approximator)\n",
    "\n",
    "In the figures in this section, we can see the scores and the rewards achieved by the function approximator when it ran for 6000 episodes. As we can see, the scores and rewards were smaller than those achieved for the best Q learning algorithm, and the scores are close to those found for the baseline, which just moves up. \n",
    "\n",
    "We also can see that, in the first 500 episodes, the agent achieves bigger scores, with a mean of 23 and maximum value achieving 27 points. However, soon the agent starts to get worse scores and they seem to stabilize close to 21,5 after a few more episodes, varying just a little around it. Also, it is possible to see that the original curve spans a more behaved range of scores. \n",
    "\n",
    "The mean score and reward achieved by this agent were 21,49 and 10043,16, respectively. This results indicates that the agent is possibly learning to move up almost every time, what is close to the behavior of the baseline. To check this hypothesis, we watched a sample episode of this agent and saw that the agent chose to move up in all time steps. One possible explanation for it is the small value of N0, which implies a smaller exploration by the agent that seems it is not being enough."
   ]
  },
  {
   "cell_type": "code",
   "execution_count": null,
   "metadata": {},
   "outputs": [],
   "source": [
    "path = './serialized_models/'\n",
    "model_exp08 = serializer.Experiment.load_experiment(path+'exp08_model_baseline_ql_approximator_6000_2020_12_26_10_07_09.dill')"
   ]
  },
  {
   "cell_type": "code",
   "execution_count": null,
   "metadata": {},
   "outputs": [],
   "source": [
    "mean_score_exp08 = np.sum(model_exp08.scores)/len(model_exp08.scores)\n",
    "mean_reward_exp08 = np.sum(model_exp08.total_rewards)/len(model_exp08.total_rewards)\n",
    "mean_weights_exp08 = np.sum(model_exp08.agent.W)/len(model_exp08.agent.W)\n",
    "print('Mean score: {}, Mean reward: {}, Mean weights: {}'.format(mean_score_exp08, mean_reward_exp08, mean_weights_exp08))"
   ]
  },
  {
   "cell_type": "code",
   "execution_count": null,
   "metadata": {},
   "outputs": [],
   "source": [
    "aux_plots.plot_scores_mean(model_exp08.scores)"
   ]
  },
  {
   "cell_type": "code",
   "execution_count": null,
   "metadata": {},
   "outputs": [],
   "source": [
    "aux_plots.plot_rewards_mean(model_exp08.total_rewards, 1000)"
   ]
  },
  {
   "cell_type": "code",
   "execution_count": null,
   "metadata": {},
   "outputs": [],
   "source": [
    "env, initial_state = environment.get_env()\n",
    "model_exp08.agent.trainScaler(env, RAM_mask)\n",
    "\n",
    "score_exp08, reward_exp08, actions_exp08 = runGame(env,model_exp08.agent, RAM_mask, reduce_state, True)\n",
    "env.close()\n",
    "\n",
    "print('Score: {}, Reward: {}, Actions: {}'.format(score_exp08, reward_exp08, np.unique(actions_exp08, return_counts=True)))"
   ]
  },
  {
   "cell_type": "markdown",
   "metadata": {},
   "source": [
    "### Experiment B (Features without reduce)\n",
    "\n",
    "In order to analyse the influence of the features used to represent the state-action pairs, we decided to perform some experiments varying these features and keeping those hyperparameters. \n",
    "\n",
    "So, the next experiment we performed was the creation of an agent using no reduction to represent the states. We hypothesized that maybe if the agent had a wider view of the environment, it could help it to take better decisions.\n",
    "\n",
    "This time, the mean score and reward were 21,39 and 9942,23, respectively, which are smaller than those achieved by the previous agent. This indicates that the pre-processed states built with the reduced features provides much better information to the agent than using the raw values obtained from the RAM. However, we can see that the agent scores start to decrease a little later and that the score curve is less behaved than that of the previous agent. This can indicate that the learning process of this agent is slower than that of the original agent. Again, running an episode of the game, the agent always chose to move up."
   ]
  },
  {
   "cell_type": "code",
   "execution_count": null,
   "metadata": {},
   "outputs": [],
   "source": [
    "path = './serialized_models/'\n",
    "model_exp04 = serializer.Experiment.load_experiment(path+'exp04_model_no_reduce_ql_approximator_6000_2020_12_26_00_25_50.dill')"
   ]
  },
  {
   "cell_type": "code",
   "execution_count": null,
   "metadata": {},
   "outputs": [],
   "source": [
    "mean_score_exp04 = np.sum(model_exp04.scores)/len(model_exp04.scores)\n",
    "mean_reward_exp04 = np.sum(model_exp04.total_rewards)/len(model_exp04.total_rewards)\n",
    "mean_weights_exp04 = np.sum(model_exp04.agent.W)/len(model_exp04.agent.W)\n",
    "print('Mean score: {}, Mean reward: {}, Mean weights: {}'.format(mean_score_exp04, mean_reward_exp04, mean_weights_exp04))"
   ]
  },
  {
   "cell_type": "code",
   "execution_count": null,
   "metadata": {},
   "outputs": [],
   "source": [
    "aux_plots.plot_scores_mean(model_exp04.scores)"
   ]
  },
  {
   "cell_type": "code",
   "execution_count": null,
   "metadata": {},
   "outputs": [],
   "source": [
    "aux_plots.plot_rewards_mean(model_exp04.total_rewards, 1000)"
   ]
  },
  {
   "cell_type": "code",
   "execution_count": null,
   "metadata": {},
   "outputs": [],
   "source": [
    "env, initial_state = environment.get_env()\n",
    "model_exp04.agent.trainScaler(env, RAM_mask)\n",
    "\n",
    "score_exp04, reward_exp04, actions_exp04 = runGame(env,model_exp04.agent, RAM_mask, reduce_state, False)\n",
    "env.close()\n",
    "\n",
    "print('Score: {}, Reward: {}, Actions: {}'.format(score_exp04, reward_exp04, np.unique(actions_exp04, return_counts=True)))"
   ]
  },
  {
   "cell_type": "markdown",
   "metadata": {},
   "source": [
    "### Experiment C (Distance features)\n",
    "\n",
    "Another idea of features that we tried to use with the function approximators was to show to the agent not the position, but the distance each car was from it. Also, we hypothesized that, once half of the cars walk in a direction while the other half walk in the opposite direction, show this to the agent, turning negative the first half of the distances, could also help the agent to better understand the environment and choose better actions.\n",
    "\n",
    "As we can see in the figures below, these features bring better results than using no pre-processing on the states, but achieved slightly worse results than the original agent, with a mean score and a mean reward of 21,47 and 10025,16. We also can see that the scores started to decrease earlier than the two others seen before and that the curve is a little less behaved than the original, especially in the latter episodes. Again, running an episode, the agent always chooses to move up."
   ]
  },
  {
   "cell_type": "code",
   "execution_count": null,
   "metadata": {},
   "outputs": [],
   "source": [
    "path = './serialized_models/'\n",
    "model_exp10 = serializer.Experiment.load_experiment(path+'exp10_model_abs_neg_div3_ql_approximator_6000_2020_12_26_10_16_00.dill')"
   ]
  },
  {
   "cell_type": "code",
   "execution_count": null,
   "metadata": {},
   "outputs": [],
   "source": [
    "mean_score_exp10 = np.sum(model_exp10.scores)/len(model_exp10.scores)\n",
    "mean_reward_exp10 = np.sum(model_exp10.total_rewards)/len(model_exp10.total_rewards)\n",
    "mean_weights_exp10 = np.sum(model_exp10.agent.W)/len(model_exp10.agent.W)\n",
    "print('Mean score: {}, Mean reward: {}, Mean weights: {}'.format(mean_score_exp10, mean_reward_exp10, mean_weights_exp10))"
   ]
  },
  {
   "cell_type": "code",
   "execution_count": null,
   "metadata": {},
   "outputs": [],
   "source": [
    "aux_plots.plot_scores_mean(model_exp10.scores)"
   ]
  },
  {
   "cell_type": "code",
   "execution_count": null,
   "metadata": {},
   "outputs": [],
   "source": [
    "aux_plots.plot_rewards_mean(model_exp10.total_rewards, 1000)"
   ]
  },
  {
   "cell_type": "code",
   "execution_count": null,
   "metadata": {},
   "outputs": [],
   "source": [
    "env, initial_state = environment.get_env()\n",
    "model_exp10.agent.trainScaler(env, RAM_mask)\n",
    "\n",
    "score_exp10, reward_exp10, actions_exp10 = runGame(env,model_exp10.agent, RAM_mask, reduce_state_abs_neg, True)\n",
    "env.close()\n",
    "\n",
    "print('Score: {}, Reward: {}, Actions: {}'.format(score_exp10, reward_exp10, np.unique(actions_exp10, return_counts=True)))"
   ]
  },
  {
   "cell_type": "markdown",
   "metadata": {},
   "source": [
    "### Experiment D (Distance features and more RAM)\n",
    "\n",
    "The next experiment we performed tried to see if passing more information about the environment to the agent, through more RAM bytes that encodes, for example, chicken shapes and car timers, could help in its learning process. For this, we kept the states preprocessing of the previous agent, but we gave more RAM positions.\n",
    "\n",
    "As can be seen in the figures below, the agent score still starts to decrease earlier, but the curve is less noisy for the latter episodes. The mean score and reward for this agent were 21,44 and 10007,21. Again, the agent decided to always move up when running an episode.\n",
    "\n",
    "\n",
    "As we could see for the four experiments discussed, the agent is not improving over the baseline. Despite that, the changes in the features generated different behaviors for the agents in the earlier episodes, even converging to a similar bad behavior in the last episodes. Moreover, the creation of more noisy or well behaved score and reward curves indicates the influence of the exploration policy adopted. More well behaved curves indicates that the agent is trying more the best action than exploring other possibilities. More noisy curves could indicate that the presented features could help the agent to achieve better results, probably, if it didn’t always choose the best action.\n"
   ]
  },
  {
   "cell_type": "code",
   "execution_count": null,
   "metadata": {},
   "outputs": [],
   "source": [
    "path = './serialized_models/'\n",
    "model_exp09 = serializer.Experiment.load_experiment(path+'exp09_model_all_ram_abs_neg_ql_approximator_6000_2020_12_26_10_02_43.dill')"
   ]
  },
  {
   "cell_type": "code",
   "execution_count": null,
   "metadata": {},
   "outputs": [],
   "source": [
    "mean_score_exp09 = np.sum(model_exp09.scores)/len(model_exp09.scores)\n",
    "mean_reward_exp09 = np.sum(model_exp09.total_rewards)/len(model_exp09.total_rewards)\n",
    "mean_weights_exp09 = np.sum(model_exp09.agent.W)/len(model_exp09.agent.W)\n",
    "print('Mean score: {}, Mean reward: {}, Mean weights: {}'.format(mean_score_exp09, mean_reward_exp09, mean_weights_exp09))"
   ]
  },
  {
   "cell_type": "code",
   "execution_count": null,
   "metadata": {},
   "outputs": [],
   "source": [
    "aux_plots.plot_scores_mean(model_exp09.scores)"
   ]
  },
  {
   "cell_type": "code",
   "execution_count": null,
   "metadata": {},
   "outputs": [],
   "source": [
    "aux_plots.plot_rewards_mean(model_exp09.total_rewards, 1000)"
   ]
  },
  {
   "cell_type": "code",
   "execution_count": null,
   "metadata": {},
   "outputs": [],
   "source": [
    "env, initial_state = environment.get_env()\n",
    "model_exp09.agent.trainScaler(env, RAM_full_mask)\n",
    "\n",
    "score_exp09, reward_exp09, actions_exp09 = runGame(env,model_exp09.agent, RAM_full_mask, reduce_state_abs_neg, True)\n",
    "env.close()\n",
    "\n",
    "print('Score: {}, Reward: {}, Actions: {}'.format(score_exp09, reward_exp09, np.unique(actions_exp09, return_counts=True)))"
   ]
  },
  {
   "cell_type": "markdown",
   "metadata": {},
   "source": [
    "### Experiment E (Exploring more)\n",
    "\n",
    "Given the results obtained with the hyperparameters shown before, we decided to let the Q learning approximator to explore more, now giving N0 = 2,5. \n",
    "\n",
    "In the figures below, we can see that the score and reward curves changed their shapes, not presenting that big decrease in the first episodes. The bigger exploration manifests in the noisier curves, showing that sometimes the agent chooses actions that drive it to greater scores and rewards, and other times its decisions generate bad results, as expected from an agent that is exploring more.\n",
    "\n",
    "This time, the mean score and reward were 22,61 and 10560,47, which are better than the baseline and the previous results, but still worse than the best results achieved for the Q learning model without function approximation. Moreover, now the agent chooses to don’t move in some time steps. For a sample running, the agent chose to don’t move for 14 of the 2754 time steps. These results indicate that now we were able to build an agent that decides better when to take a given action in a given situation."
   ]
  },
  {
   "cell_type": "code",
   "execution_count": null,
   "metadata": {},
   "outputs": [],
   "source": [
    "path = './serialized_models/'\n",
    "model_exp02 = serializer.Experiment.load_experiment(path+'exp02_model_r3_ql_approximator_6000_2020_12_25_12_00_15.dill')"
   ]
  },
  {
   "cell_type": "code",
   "execution_count": null,
   "metadata": {},
   "outputs": [],
   "source": [
    "mean_score_exp02 = np.sum(model_exp02.scores)/len(model_exp02.scores)\n",
    "mean_reward_exp02 = np.sum(model_exp02.total_rewards)/len(model_exp02.total_rewards)\n",
    "mean_weights_exp02 = np.sum(model_exp02.agent.W)/len(model_exp02.agent.W)\n",
    "print('Mean score: {}, Mean reward: {}, Mean weights: {}'.format(mean_score_exp02, mean_reward_exp02, mean_weights_exp02))"
   ]
  },
  {
   "cell_type": "code",
   "execution_count": null,
   "metadata": {},
   "outputs": [],
   "source": [
    "aux_plots.plot_scores_mean(model_exp02.scores)"
   ]
  },
  {
   "cell_type": "code",
   "execution_count": null,
   "metadata": {},
   "outputs": [],
   "source": [
    "aux_plots.plot_rewards_mean(model_exp02.total_rewards, 1000)"
   ]
  },
  {
   "cell_type": "code",
   "execution_count": null,
   "metadata": {},
   "outputs": [],
   "source": [
    "setattr(model_exp02.agent, 'feat_type', 'all')\n",
    "env, initial_state = environment.get_env()\n",
    "model_exp02.agent.trainScaler(env, RAM_mask)\n",
    "\n",
    "score_exp02, reward_exp02, actions_exp02 = runGame(env,model_exp02.agent, RAM_mask, reduce_state, True)\n",
    "env.close()\n",
    "\n",
    "print('Score: {}, Reward: {}, Actions: {}'.format(score_exp02, reward_exp02, np.unique(actions_exp02, return_counts=True)))"
   ]
  },
  {
   "cell_type": "markdown",
   "metadata": {},
   "source": [
    "### Experiment F (-50 for collision)\n",
    "\n",
    "Given that the results of the Q learning approximator were not good enough, compared with the Q learning without the approximation, we tried to perform other changes that could help the agent to learn. Watching some episodes of the created agent, we saw that it was colliding with cars a lot of times. So, we hypothesized that changing the reward function, given a bigger negative value for the collision, would help the agent to learn to collide less.\n",
    "\n",
    "To check it, we performed two more experiments, keeping N0 equal to 2,5. In one of them we gave a reward of -50 when the chicken collided with a car, and in the other we gave a reward of -100.\n",
    "\n",
    "The two figures below show the results for the reward of -50. As we can see, the curve of scores is very similar to that using the original rewards. Nevertheless, the reward curve shows much more variation in its values, as a consequence of the bigger negative reward. These results indicate that this change in the reward function was not able to decrease sufficiently the number of collisions.  The mean score and reward for this agent were 22,54 and 7876,18, which are smaller than that of the agent with the original reward policy. And, again, the agent learned to don’t move in some few situations.\n"
   ]
  },
  {
   "cell_type": "code",
   "execution_count": null,
   "metadata": {},
   "outputs": [],
   "source": [
    "path = './serialized_models/'\n",
    "model_exp11 = serializer.Experiment.load_experiment(path+'exp11_model_r50_approximator_6000_2020_12_26_22_27_33.dill')"
   ]
  },
  {
   "cell_type": "code",
   "execution_count": null,
   "metadata": {},
   "outputs": [],
   "source": [
    "mean_score_exp11 = np.sum(model_exp11.scores)/len(model_exp11.scores)\n",
    "mean_reward_exp11 = np.sum(model_exp11.total_rewards)/len(model_exp11.total_rewards)\n",
    "mean_weights_exp11 = np.sum(model_exp11.agent.W)/len(model_exp11.agent.W)\n",
    "print('Mean score: {}, Mean reward: {}, Mean weights: {}'.format(mean_score_exp11, mean_reward_exp11, mean_weights_exp11))"
   ]
  },
  {
   "cell_type": "code",
   "execution_count": null,
   "metadata": {},
   "outputs": [],
   "source": [
    "aux_plots.plot_scores_mean(model_exp11.scores)"
   ]
  },
  {
   "cell_type": "code",
   "execution_count": null,
   "metadata": {},
   "outputs": [],
   "source": [
    "aux_plots.plot_rewards_mean(model_exp11.total_rewards, 1000)"
   ]
  },
  {
   "cell_type": "code",
   "execution_count": null,
   "metadata": {},
   "outputs": [],
   "source": [
    "env, initial_state = environment.get_env()\n",
    "model_exp11.agent.trainScaler(env, RAM_mask)\n",
    "\n",
    "score_exp11, reward_exp11, actions_exp11 = runGame(env,model_exp11.agent, RAM_mask, reduce_state, True)\n",
    "env.close()\n",
    "\n",
    "print('Score: {}, Reward: {}, Actions: {}'.format(score_exp11, reward_exp11, np.unique(actions_exp11, return_counts=True)))"
   ]
  },
  {
   "cell_type": "markdown",
   "metadata": {},
   "source": [
    "### Experiment G (-100 for collision)\n",
    "\n",
    "Using a reward of -100 when the chicken collides with a car gaves us a score curve that is slightly more stable than using a reward of -50. However, it is still very similar with the score curve built using the original reward policy. The reward curve, on the other hand, has much bigger amplitudes than the other two, as expected, but also has less variant mean values. The mean score and reward for this agent were 22,59 and 4617,35, and it also choses to don’t move in some time steps, but in less time steps than the other two.\n",
    "\n",
    "With these results we could see that changes in the reward policy was not good enough to prevent the chicken from colliding and, consequently, achieving better scores.\n"
   ]
  },
  {
   "cell_type": "code",
   "execution_count": null,
   "metadata": {},
   "outputs": [],
   "source": [
    "path = './serialized_models/'\n",
    "model_exp12 = serializer.Experiment.load_experiment(path+'exp12_model_r100_approximator_6000_2020_12_26_23_04_24.dill')"
   ]
  },
  {
   "cell_type": "code",
   "execution_count": null,
   "metadata": {},
   "outputs": [],
   "source": [
    "mean_score_exp12 = np.sum(model_exp12.scores)/len(model_exp12.scores)\n",
    "mean_reward_exp12 = np.sum(model_exp12.total_rewards)/len(model_exp12.total_rewards)\n",
    "mean_weights_exp12 = np.sum(model_exp12.agent.W)/len(model_exp12.agent.W)\n",
    "print('Mean score: {}, Mean reward: {}, Mean weights: {}'.format(mean_score_exp12, mean_reward_exp12, mean_weights_exp12))"
   ]
  },
  {
   "cell_type": "code",
   "execution_count": null,
   "metadata": {},
   "outputs": [],
   "source": [
    "aux_plots.plot_scores_mean(model_exp12.scores)"
   ]
  },
  {
   "cell_type": "code",
   "execution_count": null,
   "metadata": {},
   "outputs": [],
   "source": [
    "aux_plots.plot_rewards_mean(model_exp12.total_rewards, 1000)"
   ]
  },
  {
   "cell_type": "code",
   "execution_count": null,
   "metadata": {},
   "outputs": [],
   "source": [
    "env, initial_state = environment.get_env()\n",
    "model_exp12.agent.trainScaler(env, RAM_mask)\n",
    "\n",
    "score_exp12, reward_exp12, actions_exp12 = runGame(env,model_exp12.agent, RAM_mask, reduce_state, True)\n",
    "env.close()\n",
    "\n",
    "print('Score: {}, Reward: {}, Actions: {}'.format(score_exp12, reward_exp12, np.unique(actions_exp12, return_counts=True)))"
   ]
  },
  {
   "cell_type": "markdown",
   "metadata": {},
   "source": [
    "### Conclusions for Q Learning"
   ]
  },
  {
   "cell_type": "markdown",
   "metadata": {},
   "source": [
    "In the table below we can see a summary of the mean scores and rewards for each experiment.\n",
    "\n",
    "| Experiment | Mean Score | Mean Reward |\n",
    "|:----------:|:----------:|:-----------:|\n",
    "|      A     |    21,49   |   10043,16  |\n",
    "|      B     |    21,39   |   9942,23   |\n",
    "|      C     |    21,47   |   10025,16  |\n",
    "|      D     |    21,44   |   10007,21  |\n",
    "|      E     |    22,61   |   10560,47  |\n",
    "|      F     |    22,54   |   7876,18   |\n",
    "|      G     |    22,59   |   4617,35   |\n",
    "\n",
    "\n",
    "As we could see from the results, the function approximation implemented for the Q learning algorithm didn’t improve the performance of the agents, compared to the Q learning without approximation, as we were expecting. Some factors could explain that, such as the choice of better hyperparameters, but one of the most important is the creation of the features.\n",
    "\n",
    "As discussed in the introduction about function approximation, the features are a key factor for the success of these algorithms, both because they decrease the dimension space of the values we are trying to optimize and because they are responsible for expressing the most important information that the agent will use to learn about the environment.\n",
    "\n",
    "Although the linear function approximators are powerful algorithms for a lot of reinforcement learning tasks, they have some disadvantages. One of them is its lack of capacity to express some kind of relationships between environment variables. For example, if a given variable represents a good event in the environment only in the absence of another, the linear approximator cannot parameterize that. In these cases, the features become responsible for representing the necessary information for the learning process, requiring good feature engineering.\n",
    "\n",
    "Given that and the results achieved with function approximators in this project, we assume that the features chosen by us, probably, were not very representative of our problem, for function approximation. So, for future works, we need to investigate better representations and try with more complex function approximators, such as the nonlinear ones. Despite that, we could see how the exploration capacity of the agent  and the rewards chosen can impact how good it becomes, as well as how the learning step size contributes to the convergence of the algorithms.\n"
   ]
  },
  {
   "cell_type": "markdown",
   "metadata": {},
   "source": [
    "### Visualizations"
   ]
  },
  {
   "cell_type": "markdown",
   "metadata": {},
   "source": [
    "In the table below we can see the gifs generated for 3 out of the 8 experiments performed for the Q Learning approximator: **A**, which uses the original model; **E**, that is the agent with N0 = 2,5; and **G**, where the agent receives a reward of -100 when collides with a car. Each gif executes 1000 time steps and they were produced for agents trained during 500, 1000 and 6000 episodes.\n",
    "\n",
    "As we can see, there is not a big difference between the gifs of the same experiment, especially for those of experiments A and E. This reinforces the assumption that these agents are learning to act as the baseline, which is not the best behavior. However, in the gif for 500 episodes of experiment G, we can see that the agent suffers less collisions than the other examples (approximately 10 instead of 14, as the others), showing that for the first episodes that reward policy may be a little helpful.\n",
    "\n",
    "\n",
    "| Episodes | Experiment A | Experiment E | Experiment G |\n",
    "|:--------:|:------------:|:------------:|:------------:|\n",
    "|    500   |     ![SegmentLocal](./gif/ql_lfa_exp_A_500.gif \"segment\")     |     ![SegmentLocal](./gif/ql_lfa_exp_E_500.gif \"segment\")     |     ![SegmentLocal](./gif/ql_lfa_exp_G_500.gif \"segment\")     |\n",
    "|   1000   |     ![SegmentLocal](./gif/ql_lfa_exp_A_1000.gif \"segment\")     |     ![SegmentLocal](./gif/ql_lfa_exp_E_1000.gif \"segment\")    |     ![SegmentLocal](./gif/ql_lfa_exp_G_1000.gif \"segment\")    |\n",
    "|   6000   |     ![SegmentLocal](./gif/ql_lfa_exp_A_6000.gif \"segment\")     |     ![SegmentLocal](./gif/ql_lfa_exp_E_6000.gif \"segment\")     |     ![SegmentLocal](./gif/ql_lfa_exp_G_6000.gif \"segment\")     |\n",
    "\n",
    "\n",
    "\n"
   ]
  },
  {
   "cell_type": "markdown",
   "metadata": {},
   "source": [
    "# SARSA($\\lambda$) Function Approximation"
   ]
  },
  {
   "cell_type": "code",
   "execution_count": 17,
   "metadata": {},
   "outputs": [
    {
     "name": "stderr",
     "output_type": "stream",
     "text": [
      "/home/dionisius/Documents/academics/mestrado/2020_02/reinforcement_learning/venv/lib/python3.7/site-packages/sklearn/base.py:318: UserWarning: Trying to unpickle estimator StandardScaler from version 0.23.1 when using version 0.22.2.post1. This might lead to breaking code or invalid results. Use at your own risk.\n",
      "  UserWarning)\n"
     ]
    }
   ],
   "source": [
    "exp_adam = serializer.Experiment.load_experiment('./serialized_models/adam_2020_12_27_15_27_35.dill')\n",
    "exp_adam_n25 = serializer.Experiment.load_experiment('./serialized_models/adam_n25_2020_12_27_15_18_08.dill')\n",
    "exp_lfa_n00 = serializer.Experiment.load_experiment('./serialized_models/sarsa_lfa_n00_2020_12_27_15_09_33.dill')\n",
    "exp_lfa_n25 = serializer.Experiment.load_experiment('./serialized_models/sarsa_lfa_n25_2020_12_27_14_19_24.dill')\n",
    "exp_adam_n25_r1 = serializer.Experiment.load_experiment('./serialized_models/adam_r1_2020_12_27_15_13_52.dill')\n",
    "num_eps = 2500\n",
    "blocks = num_eps//100"
   ]
  },
  {
   "cell_type": "markdown",
   "metadata": {},
   "source": [
    "## Sarsa With Linear Function Approximation\n",
    "\n",
    "In this experiment we tested a linear function approximation with Sarsa. So for the values of Q(state, action) we substitute for a Q(w, state, action) where w are the weights for the following linear function:\n",
    "\n",
    "$w_1 \\cdot f_1 + w2 \\cdot f2 + ... + w_n \\cdot f_n + w_n + 1$\n",
    "\n",
    "And the weights are updated as follows:\n",
    "delta = reward + gamma * Q(w, new_state, new_action) - Q(w, old_state, old_action)\n",
    "Weights += alpha * delta * (Features)\n",
    "\n"
   ]
  },
  {
   "cell_type": "markdown",
   "metadata": {},
   "source": [
    "### Score Sarsa LFA\n",
    "\n",
    "In this first experiment, for the features we chose the y position of the chicken, if has collided and the x positions for the cars. The actions space is to go forward or be still. We chose Gamma=0.99, N0=2.5, alpha=0.001 and the rewords we chose were R3.\n",
    "\n",
    "\n"
   ]
  },
  {
   "cell_type": "code",
   "execution_count": 18,
   "metadata": {},
   "outputs": [
    {
     "data": {
      "text/plain": [
       "<AxesSubplot:xlabel='Episode', ylabel='Final Score'>"
      ]
     },
     "execution_count": 18,
     "metadata": {},
     "output_type": "execute_result"
    },
    {
     "data": {
      "image/png": "[encoded data removed]",
      "text/plain": [
       "<Figure size 800x480 with 1 Axes>"
      ]
     },
     "metadata": {
      "needs_background": "light"
     },
     "output_type": "display_data"
    }
   ],
   "source": [
    "s1 = exp_lfa_n00.scores[:num_eps]\n",
    "s2 = exp_lfa_n25.scores[:num_eps]\n",
    "s1_avg100 = []\n",
    "for b in range(blocks-1):\n",
    "    value = statistics.mean(s1[b*100:(b+1)*100])\n",
    "    s1_avg100.append(value)\n",
    "\n",
    "s2_avg100 = []\n",
    "for b in range(blocks-1):\n",
    "    value = statistics.mean(s2[b*100:(b+1)*100])\n",
    "    s2_avg100.append(value)\n",
    "    \n",
    "aux_plots.plot_2scores(s1_avg100, s2_avg100, \"N0=0.001\", \"N0=2.50\")"
   ]
  },
  {
   "cell_type": "markdown",
   "metadata": {},
   "source": [
    "After running the experiment with 2500 we already can see the convergence for the model. Analyzing the results based on the mean for the 100 last scores in each run, we can see that it passes the baseline, but not by much, the chicken learns a similar strategy as the baseline that is to go forward and not to worry about the collisions. We can observe that the linear model is too simple and it underfits the problem.\n",
    "\n",
    "\n",
    "In this second experiment we changed N0 to 0.001, and gave 2500 iterations. We can see that at first it rises very fast to the peak mean score of about 23, but as the weights keep being influenced to go forward we see that the weights explode to go only forward, going back to a mean score of 21.\n"
   ]
  },
  {
   "cell_type": "markdown",
   "metadata": {},
   "source": [
    "### Scores Sarsa LSA with and without optimizer\n",
    "\n",
    "\n",
    "In this third experiment we used an optimization algorithm to change alpha over time and used a similar strategy as the l2 regularization. The Adam optimization algorithm is an algorithm that update alpha as the experiment runs, so in each iteration we update alpha as follows:\n",
    "self.m = self.beta_1 * self.m + (1 - self.beta_1) * g\n",
    "        self.v = self.beta_2 * self.v + (1 - self.beta_2) * np.power(g, 2)\n",
    "        m_hat = self.m / (1 - np.power(self.beta_1, t))\n",
    "        v_hat = self.v / (1 - np.power(self.beta_2, t))\n",
    "        return self.alpha * m_hat / (np.sqrt(v_hat) + self.epsilon)\n",
    "Where m and v are first and second moment estimators.\n",
    "\n",
    "Inspired by the l2 regularization we also tried to subtract lambda*Weights in the weights update, where lambda is a hyperparameter.\n",
    "\n"
   ]
  },
  {
   "cell_type": "code",
   "execution_count": 19,
   "metadata": {},
   "outputs": [
    {
     "data": {
      "text/plain": [
       "<AxesSubplot:xlabel='Episode', ylabel='Final Score'>"
      ]
     },
     "execution_count": 19,
     "metadata": {},
     "output_type": "execute_result"
    },
    {
     "data": {
      "image/png": "[encoded data removed]",
      "text/plain": [
       "<Figure size 800x480 with 1 Axes>"
      ]
     },
     "metadata": {
      "needs_background": "light"
     },
     "output_type": "display_data"
    }
   ],
   "source": [
    "s1 = exp_adam_n25.scores[:num_eps]\n",
    "s2 = exp_lfa_n25.scores[:num_eps]\n",
    "s1_avg100 = []\n",
    "for b in range(blocks-1):\n",
    "    value = statistics.mean(s1[b*100:(b+1)*100])\n",
    "    s1_avg100.append(value)\n",
    "\n",
    "s2_avg100 = []\n",
    "for b in range(blocks-1):\n",
    "    value = statistics.mean(s2[b*100:(b+1)*100])\n",
    "    s2_avg100.append(value)\n",
    "    \n",
    "aux_plots.plot_2scores(s1_avg100, s2_avg100, \"Adam\", \"No optimizer\")"
   ]
  },
  {
   "cell_type": "markdown",
   "metadata": {},
   "source": [
    "\n",
    "In this experiment we ran many values for alpha, beta_1, beta_2 and lambda, and we concluded that Adam can speed up the convergence, but for these two ideas we coulnt see  an improvement of the solution. We ran 2500 iterations with alpha=0.001, beta1=0.9 and beta_2=0.99 and lambda=0.001, and N0 = 0.01, and we see the same conclusion as the previous experiment."
   ]
  },
  {
   "cell_type": "markdown",
   "metadata": {},
   "source": [
    "### Score Adam N0=0.01\" vs \"N0=2.50"
   ]
  },
  {
   "cell_type": "markdown",
   "metadata": {},
   "source": [
    "We changed N0=2.5 and we compare if Adam works better with N0=0.01"
   ]
  },
  {
   "cell_type": "code",
   "execution_count": 20,
   "metadata": {},
   "outputs": [
    {
     "data": {
      "text/plain": [
       "<AxesSubplot:xlabel='Episode', ylabel='Final Score'>"
      ]
     },
     "execution_count": 20,
     "metadata": {},
     "output_type": "execute_result"
    },
    {
     "data": {
      "image/png": "[encoded data removed]",
      "text/plain": [
       "<Figure size 800x480 with 1 Axes>"
      ]
     },
     "metadata": {
      "needs_background": "light"
     },
     "output_type": "display_data"
    }
   ],
   "source": [
    "s1 = exp_adam.scores[:num_eps]\n",
    "s2 = exp_adam_n25.scores[:num_eps]\n",
    "s1_avg100 = []\n",
    "for b in range(blocks-1):\n",
    "    value = statistics.mean(s1[b*100:(b+1)*100])\n",
    "    s1_avg100.append(value)\n",
    "\n",
    "s2_avg100 = []\n",
    "for b in range(blocks-1):\n",
    "    value = statistics.mean(s2[b*100:(b+1)*100])\n",
    "    s2_avg100.append(value)\n",
    "    \n",
    "aux_plots.plot_2scores(s1_avg100, s2_avg100, \"N0=0.01\", \"N0=2.50\")"
   ]
  },
  {
   "cell_type": "markdown",
   "metadata": {},
   "source": [
    "### Reward Adam N0=0.01\" vs \"N0=2.50"
   ]
  },
  {
   "cell_type": "code",
   "execution_count": 21,
   "metadata": {},
   "outputs": [
    {
     "data": {
      "text/plain": [
       "<AxesSubplot:xlabel='Episode', ylabel='Final Reward'>"
      ]
     },
     "execution_count": 21,
     "metadata": {},
     "output_type": "execute_result"
    },
    {
     "data": {
      "image/png": "[encoded data removed]",
      "text/plain": [
       "<Figure size 800x480 with 1 Axes>"
      ]
     },
     "metadata": {
      "needs_background": "light"
     },
     "output_type": "display_data"
    }
   ],
   "source": [
    "s1 = exp_adam.total_rewards[:num_eps]\n",
    "s2 = exp_adam_n25.total_rewards[:num_eps]\n",
    "s1_avg100 = []\n",
    "for b in range(blocks-1):\n",
    "    value = statistics.mean(s1[b*100:(b+1)*100])\n",
    "    s1_avg100.append(value)\n",
    "\n",
    "s2_avg100 = []\n",
    "for b in range(blocks-1):\n",
    "    value = statistics.mean(s2[b*100:(b+1)*100])\n",
    "    s2_avg100.append(value)\n",
    "    \n",
    "    \n",
    "aux_plots.plot_2rewards(s1_avg100, s2_avg100, \"N0=0.01\", \"N0=2.50\")"
   ]
  },
  {
   "cell_type": "markdown",
   "metadata": {},
   "source": [
    "Unfortunately we see again results similar to the first experiment.\n"
   ]
  },
  {
   "cell_type": "markdown",
   "metadata": {},
   "source": [
    "### Score Adam Reward=r1\", \"Reward=r3"
   ]
  },
  {
   "cell_type": "code",
   "execution_count": 22,
   "metadata": {},
   "outputs": [
    {
     "data": {
      "text/plain": [
       "<AxesSubplot:xlabel='Episode', ylabel='Final Score'>"
      ]
     },
     "execution_count": 22,
     "metadata": {},
     "output_type": "execute_result"
    },
    {
     "data": {
      "image/png": "[encoded data removed]",
      "text/plain": [
       "<Figure size 800x480 with 1 Axes>"
      ]
     },
     "metadata": {
      "needs_background": "light"
     },
     "output_type": "display_data"
    }
   ],
   "source": [
    "s1 = exp_adam_n25_r1.scores[:num_eps]\n",
    "s2 = exp_adam_n25.scores[:num_eps]\n",
    "s1_avg100 = []\n",
    "for b in range(blocks-1):\n",
    "    value = statistics.mean(s1[b*100:(b+1)*100])\n",
    "    s1_avg100.append(value)\n",
    "\n",
    "\n",
    "s2_avg100 = []\n",
    "for b in range(blocks-1):\n",
    "    value = statistics.mean(s2[b*100:(b+1)*100])\n",
    "    s2_avg100.append(value)\n",
    "    \n",
    "aux_plots.plot_2scores(s1_avg100, s2_avg100, \"Reward=r1 modified\", \"Reward=r3\")"
   ]
  },
  {
   "cell_type": "markdown",
   "metadata": {},
   "source": [
    "We changed the rewards to r1, in hopes that it could learn to avoid collisions, but it kept falling to very low scores since it was too scared and it was still most of the time. Changing only the reward when a collision happened to -0.5, then it got better but it just got as good as the other ones.\n"
   ]
  },
  {
   "cell_type": "markdown",
   "metadata": {},
   "source": [
    "## Conclusion\n",
    "\n",
    "This game requires a more complex model to make an approximation. The linear approximation for Sarsa underfits, maybe with a better approximator it could work better. Most models are influenced to learn to go forward, and cannot serve well to evaluate the state for this game. This is due to the nature of the features and the fact that there is not many of them. Many other types of features were tested, as the distance to the cars, reorganizing to get the distance to the next car and others, still the pure ram worked as good as the others. Another problem is that Sarsa can sometimes lose knowledge since it is not a perfect gradient descent, as we saw in the experiments.\n",
    "\n",
    "An advantage seen was that compared to Sarsa Lambda, this performs very fast, and for simpler cases this approximation can be of big advantage."
   ]
  },
  {
   "cell_type": "markdown",
   "metadata": {},
   "source": [
    "# Final Thoughts"
   ]
  },
  {
   "cell_type": "markdown",
   "metadata": {},
   "source": [
    "## Computational cost"
   ]
  },
  {
   "cell_type": "markdown",
   "metadata": {},
   "source": [
    "One of the biggest problems on this project was the computational cost of running an episode.\n",
    "\n",
    "Since each run plays for 2 minutes and 16 seconds in the original game, there are quite a lot of frames that need to be computed for each episode.\n",
    "Even though the frame-sync is deactivated in our environment, each time we execute on episode it takes about 2 seconds to compute it for Q-Learn and Monte Carlo, and XXXXXXXXXX seconds for SARSA(λ).\n",
    "\n",
    "The memory usage is fairly low compared to the time that it takes to run the algorithms, even with a decent amount of unique states in our problem."
   ]
  },
  {
   "cell_type": "markdown",
   "metadata": {},
   "source": [
    "..............."
   ]
  },
  {
   "cell_type": "code",
   "execution_count": null,
   "metadata": {},
   "outputs": [],
   "source": []
  }
 ],
 "metadata": {
  "kernelspec": {
   "display_name": "Python 3",
   "language": "python",
   "name": "python3"
  },
  "language_info": {
   "codemirror_mode": {
    "name": "ipython",
    "version": 3
   },
   "file_extension": ".py",
   "mimetype": "text/x-python",
   "name": "python",
   "nbconvert_exporter": "python",
   "pygments_lexer": "ipython3",
   "version": "3.7.9"
  }
 },
 "nbformat": 4,
 "nbformat_minor": 4
}
