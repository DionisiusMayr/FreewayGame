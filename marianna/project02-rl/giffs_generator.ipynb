{
 "cells": [
  {
   "cell_type": "markdown",
   "id": "announced-wisconsin",
   "metadata": {},
   "source": [
    "### Import libraries"
   ]
  },
  {
   "cell_type": "code",
   "execution_count": 2,
   "id": "ranking-logan",
   "metadata": {},
   "outputs": [],
   "source": [
    "# !pip install stable-baselines"
   ]
  },
  {
   "cell_type": "code",
   "execution_count": 5,
   "id": "civilian-arrival",
   "metadata": {},
   "outputs": [],
   "source": [
    "import time\n",
    "from stable_baselines.common.atari_wrappers import make_atari\n",
    "from stable_baselines.common.cmd_util import make_atari_env\n",
    "from stable_baselines.common.vec_env import VecFrameStack\n",
    "from stable_baselines.common.policies import MlpPolicy, CnnPolicy, MlpLstmPolicy, MlpLnLstmPolicy, CnnLstmPolicy\n",
    "from stable_baselines.common import make_vec_env\n",
    "from stable_baselines import PPO2, DQN\n",
    "from matplotlib import animation\n",
    "import matplotlib.pyplot as plt"
   ]
  },
  {
   "cell_type": "code",
   "execution_count": 7,
   "id": "listed-front",
   "metadata": {},
   "outputs": [],
   "source": [
    "basePath = '/home/marianna/Documentos/01-semesters-unicamp/02-second-semester-unicamp/03-reinforcement-learning/03-projects-rl/02-project02-rl/02-codes/03-experiments_models/models/'\n",
    "\n",
    "baselinePath = basePath+'01-image_models/ppo2_freeway_baseline.pkl'\n",
    "baselineGamma75Path = basePath+'01-image_models/ppo2_freeway_exp01_gamma_75.pkl'\n",
    "baselineStack64Path = basePath+'01-image_models/ppo2_freeway_baseline_stack_64.pkl'\n",
    "baselineRAMPath = basePath+'02-ram_models/ppo2_freeway_ram_baseline_mlp.pkl'\n",
    "baseline1MPath = basePath+'01-image_models/ppo2_baseline_1M.pkl'\n",
    "dqnPath = basePath+'01-image_models/deepdoubleq_freeway_gamma0p90_lr0p0010_exp0p05_best.zip'"
   ]
  },
  {
   "cell_type": "code",
   "execution_count": 4,
   "id": "warming-investing",
   "metadata": {},
   "outputs": [],
   "source": [
    "# From https://gist.github.com/botforge/64cbb71780e6208172bbf03cd9293553\n",
    "def _save_frames_as_gif(frames, path='./', filename='gym_animation.gif'):\n",
    "    #Mess with this to change frame size\n",
    "    plt.figure(figsize=(frames[0].shape[1] / 72.0, frames[0].shape[0] / 72.0), dpi=72)\n",
    "\n",
    "    patch = plt.imshow(frames[0])\n",
    "    plt.axis('off')\n",
    "\n",
    "    def animate(i):\n",
    "        patch.set_data(frames[i])\n",
    "\n",
    "    anim = animation.FuncAnimation(plt.gcf(), animate, frames = len(frames), interval=50)\n",
    "    anim.save(path + filename, writer='imagemagick', fps=60)\n",
    "    print(\"saved model at \"+path+filename)\n",
    "    \n",
    "\n",
    "def generate_gif(fn,freeway,model):\n",
    "    \n",
    "    env = make_atari_env('FreewayNoFrameskip-v0', num_env=1, seed=0)\n",
    "    env = VecFrameStack(env, n_stack=4)\n",
    "    model = model.load(freeway)\n",
    "    frames = []\n",
    "    FRAME_FREQ = 2\n",
    "    obs = env.reset()\n",
    "    for t in range(50000):\n",
    "        if t % FRAME_FREQ == 0:\n",
    "            frames.append(env.render(mode=\"rgb_array\"))\n",
    "        action, _states = model.predict(obs,env)\n",
    "        obs, rewards, dones, info = env.step(action)\n",
    "        if dones:\n",
    "            break\n",
    "    # you must have a folder gif no directory\n",
    "    _save_frames_as_gif(frames=frames, path='./gif/', filename=fn+'.gif')"
   ]
  },
  {
   "cell_type": "markdown",
   "id": "planned-arthritis",
   "metadata": {},
   "source": [
    "### 0. DQN"
   ]
  },
  {
   "cell_type": "code",
   "execution_count": 9,
   "id": "composite-child",
   "metadata": {},
   "outputs": [],
   "source": [
    "# dqn_model = DQN.load(dqnPath)"
   ]
  },
  {
   "cell_type": "code",
   "execution_count": 10,
   "id": "identical-receipt",
   "metadata": {},
   "outputs": [
    {
     "name": "stdout",
     "output_type": "stream",
     "text": [
      "WARNING:tensorflow:From /home/marianna/anaconda3/lib/python3.7/site-packages/stable_baselines/common/misc_util.py:26: The name tf.set_random_seed is deprecated. Please use tf.compat.v1.set_random_seed instead.\n",
      "\n",
      "Loading a model without an environment, this model cannot be trained until it has a valid environment.\n",
      "saved model at ./gif/dqn_1M_gif.gif\n"
     ]
    },
    {
     "data": {
      "image/png": "[encoded data removed]",
      "text/plain": [
       "<Figure size 160x210 with 1 Axes>"
      ]
     },
     "metadata": {
      "needs_background": "light"
     },
     "output_type": "display_data"
    }
   ],
   "source": [
    "generate_gif(\"dqn_1M_gif\",dqnPath,DQN)"
   ]
  },
  {
   "cell_type": "markdown",
   "id": "raised-marriage",
   "metadata": {},
   "source": [
    "### 1. Baseline"
   ]
  },
  {
   "cell_type": "code",
   "execution_count": 5,
   "id": "hundred-cameroon",
   "metadata": {},
   "outputs": [
    {
     "name": "stderr",
     "output_type": "stream",
     "text": [
      "/home/marianna/anaconda3/lib/python3.7/site-packages/cloudpickle/cloudpickle.py:704: UserWarning: A pickle file created using an old (<=1.4.1) version of cloudpicke is currently being loaded. This is not supported by cloudpickle and will break in cloudpickle 1.7\n",
      "  \"will break in cloudpickle 1.7\", category=UserWarning\n"
     ]
    },
    {
     "name": "stdout",
     "output_type": "stream",
     "text": [
      "Loading a model without an environment, this model cannot be trained until it has a valid environment.\n"
     ]
    }
   ],
   "source": [
    "baseline_model = PPO2.load(baselinePath)"
   ]
  },
  {
   "cell_type": "code",
   "execution_count": 6,
   "id": "sophisticated-sunset",
   "metadata": {},
   "outputs": [
    {
     "name": "stdout",
     "output_type": "stream",
     "text": [
      "WARNING:tensorflow:From /home/marianna/anaconda3/lib/python3.7/site-packages/stable_baselines/common/misc_util.py:26: The name tf.set_random_seed is deprecated. Please use tf.compat.v1.set_random_seed instead.\n",
      "\n"
     ]
    }
   ],
   "source": [
    "# env = make_atari_env('FreewayNoFrameskip-v0', seed=42, num_env=1)\n",
    "# env = VecFrameStack(env, n_stack=4)\n",
    "\n",
    "# obs = env.reset()\n",
    "# dones = False\n",
    "# while not dones:\n",
    "#     action, _states = baseline_model.predict(obs)\n",
    "#     obs, rewards, dones, info = env.step(action)\n",
    "#     env.render()"
   ]
  },
  {
   "cell_type": "code",
   "execution_count": 7,
   "id": "noticed-pakistan",
   "metadata": {},
   "outputs": [],
   "source": [
    "# env.close()"
   ]
  },
  {
   "cell_type": "code",
   "execution_count": 11,
   "id": "damaged-facial",
   "metadata": {},
   "outputs": [
    {
     "name": "stdout",
     "output_type": "stream",
     "text": [
      "WARNING:tensorflow:From /home/marianna/anaconda3/lib/python3.7/site-packages/stable_baselines/common/misc_util.py:26: The name tf.set_random_seed is deprecated. Please use tf.compat.v1.set_random_seed instead.\n",
      "\n",
      "Loading a model without an environment, this model cannot be trained until it has a valid environment.\n",
      "WARNING:tensorflow:From /home/marianna/anaconda3/lib/python3.7/site-packages/stable_baselines/common/tf_util.py:191: The name tf.ConfigProto is deprecated. Please use tf.compat.v1.ConfigProto instead.\n",
      "\n",
      "WARNING:tensorflow:From /home/marianna/anaconda3/lib/python3.7/site-packages/stable_baselines/common/tf_util.py:200: The name tf.Session is deprecated. Please use tf.compat.v1.Session instead.\n",
      "\n"
     ]
    },
    {
     "name": "stderr",
     "output_type": "stream",
     "text": [
      "/home/marianna/anaconda3/lib/python3.7/site-packages/cloudpickle/cloudpickle.py:704: UserWarning: A pickle file created using an old (<=1.4.1) version of cloudpicke is currently being loaded. This is not supported by cloudpickle and will break in cloudpickle 1.7\n",
      "  \"will break in cloudpickle 1.7\", category=UserWarning\n"
     ]
    },
    {
     "name": "stdout",
     "output_type": "stream",
     "text": [
      "WARNING:tensorflow:From /home/marianna/anaconda3/lib/python3.7/site-packages/stable_baselines/common/policies.py:116: The name tf.variable_scope is deprecated. Please use tf.compat.v1.variable_scope instead.\n",
      "\n",
      "WARNING:tensorflow:From /home/marianna/anaconda3/lib/python3.7/site-packages/stable_baselines/common/input.py:25: The name tf.placeholder is deprecated. Please use tf.compat.v1.placeholder instead.\n",
      "\n",
      "WARNING:tensorflow:From /home/marianna/anaconda3/lib/python3.7/site-packages/stable_baselines/common/tf_layers.py:103: The name tf.get_variable is deprecated. Please use tf.compat.v1.get_variable instead.\n",
      "\n",
      "WARNING:tensorflow:From /home/marianna/anaconda3/lib/python3.7/site-packages/stable_baselines/common/distributions.py:326: The name tf.random_uniform is deprecated. Please use tf.random.uniform instead.\n",
      "\n",
      "WARNING:tensorflow:From /home/marianna/anaconda3/lib/python3.7/site-packages/stable_baselines/common/distributions.py:327: The name tf.log is deprecated. Please use tf.math.log instead.\n",
      "\n",
      "WARNING:tensorflow:From /home/marianna/anaconda3/lib/python3.7/site-packages/stable_baselines/ppo2/ppo2.py:190: The name tf.summary.scalar is deprecated. Please use tf.compat.v1.summary.scalar instead.\n",
      "\n",
      "WARNING:tensorflow:From /home/marianna/anaconda3/lib/python3.7/site-packages/stable_baselines/ppo2/ppo2.py:198: The name tf.trainable_variables is deprecated. Please use tf.compat.v1.trainable_variables instead.\n",
      "\n",
      "WARNING:tensorflow:From /home/marianna/anaconda3/lib/python3.7/site-packages/tensorflow_core/python/ops/math_grad.py:1424: where (from tensorflow.python.ops.array_ops) is deprecated and will be removed in a future version.\n",
      "Instructions for updating:\n",
      "Use tf.where in 2.0, which has the same broadcast rule as np.where\n",
      "WARNING:tensorflow:From /home/marianna/anaconda3/lib/python3.7/site-packages/stable_baselines/ppo2/ppo2.py:206: The name tf.train.AdamOptimizer is deprecated. Please use tf.compat.v1.train.AdamOptimizer instead.\n",
      "\n",
      "WARNING:tensorflow:From /home/marianna/anaconda3/lib/python3.7/site-packages/stable_baselines/ppo2/ppo2.py:240: The name tf.global_variables_initializer is deprecated. Please use tf.compat.v1.global_variables_initializer instead.\n",
      "\n",
      "WARNING:tensorflow:From /home/marianna/anaconda3/lib/python3.7/site-packages/stable_baselines/ppo2/ppo2.py:242: The name tf.summary.merge_all is deprecated. Please use tf.compat.v1.summary.merge_all instead.\n",
      "\n",
      "saved model at ./gif/ppo_baseline_gif.gif\n"
     ]
    },
    {
     "data": {
      "image/png": "[encoded data removed]",
      "text/plain": [
       "<Figure size 160x210 with 1 Axes>"
      ]
     },
     "metadata": {
      "needs_background": "light"
     },
     "output_type": "display_data"
    }
   ],
   "source": [
    "generate_gif(\"ppo_baseline_gif\",baselinePath,PPO2)"
   ]
  },
  {
   "cell_type": "markdown",
   "id": "digital-tutorial",
   "metadata": {},
   "source": [
    "### 2. Baseline + gamma 75"
   ]
  },
  {
   "cell_type": "code",
   "execution_count": 8,
   "id": "banned-police",
   "metadata": {},
   "outputs": [
    {
     "name": "stderr",
     "output_type": "stream",
     "text": [
      "/home/marianna/anaconda3/lib/python3.7/site-packages/cloudpickle/cloudpickle.py:704: UserWarning: A pickle file created using an old (<=1.4.1) version of cloudpicke is currently being loaded. This is not supported by cloudpickle and will break in cloudpickle 1.7\n",
      "  \"will break in cloudpickle 1.7\", category=UserWarning\n"
     ]
    },
    {
     "name": "stdout",
     "output_type": "stream",
     "text": [
      "Loading a model without an environment, this model cannot be trained until it has a valid environment.\n"
     ]
    }
   ],
   "source": [
    "baseline_g75_model = PPO2.load(baselineGamma75Path)"
   ]
  },
  {
   "cell_type": "code",
   "execution_count": 11,
   "id": "hollow-force",
   "metadata": {},
   "outputs": [],
   "source": [
    "env = make_atari_env('FreewayNoFrameskip-v0', seed=42, num_env=1)\n",
    "env = VecFrameStack(env, n_stack=4)\n",
    "\n",
    "obs = env.reset()\n",
    "dones = False\n",
    "while not dones:\n",
    "    action, _states = baseline_g75_model.predict(obs)\n",
    "    obs, rewards, dones, info = env.step(action)\n",
    "    env.render()"
   ]
  },
  {
   "cell_type": "code",
   "execution_count": 12,
   "id": "sought-venice",
   "metadata": {},
   "outputs": [],
   "source": [
    "env.close()"
   ]
  },
  {
   "cell_type": "code",
   "execution_count": 12,
   "id": "lightweight-looking",
   "metadata": {},
   "outputs": [
    {
     "name": "stderr",
     "output_type": "stream",
     "text": [
      "/home/marianna/anaconda3/lib/python3.7/site-packages/cloudpickle/cloudpickle.py:704: UserWarning: A pickle file created using an old (<=1.4.1) version of cloudpicke is currently being loaded. This is not supported by cloudpickle and will break in cloudpickle 1.7\n",
      "  \"will break in cloudpickle 1.7\", category=UserWarning\n"
     ]
    },
    {
     "name": "stdout",
     "output_type": "stream",
     "text": [
      "Loading a model without an environment, this model cannot be trained until it has a valid environment.\n",
      "saved model at ./gif/ppo_gamma_75_gif.gif\n"
     ]
    },
    {
     "data": {
      "image/png": "[encoded data removed]",
      "text/plain": [
       "<Figure size 160x210 with 1 Axes>"
      ]
     },
     "metadata": {
      "needs_background": "light"
     },
     "output_type": "display_data"
    }
   ],
   "source": [
    "generate_gif(\"ppo_gamma_75_gif\",baselineGamma75Path,PPO2)"
   ]
  },
  {
   "cell_type": "markdown",
   "id": "registered-reply",
   "metadata": {},
   "source": [
    "### 3. Baseline + stack 64"
   ]
  },
  {
   "cell_type": "code",
   "execution_count": 13,
   "id": "advised-house",
   "metadata": {},
   "outputs": [
    {
     "name": "stderr",
     "output_type": "stream",
     "text": [
      "/home/marianna/anaconda3/lib/python3.7/site-packages/cloudpickle/cloudpickle.py:704: UserWarning: A pickle file created using an old (<=1.4.1) version of cloudpicke is currently being loaded. This is not supported by cloudpickle and will break in cloudpickle 1.7\n",
      "  \"will break in cloudpickle 1.7\", category=UserWarning\n"
     ]
    },
    {
     "name": "stdout",
     "output_type": "stream",
     "text": [
      "Loading a model without an environment, this model cannot be trained until it has a valid environment.\n"
     ]
    }
   ],
   "source": [
    "baseline_s64_model = PPO2.load(baselineStack64Path)"
   ]
  },
  {
   "cell_type": "code",
   "execution_count": 16,
   "id": "congressional-unemployment",
   "metadata": {},
   "outputs": [],
   "source": [
    "env = make_atari_env('FreewayNoFrameskip-v0', seed=42, num_env=1)\n",
    "env = VecFrameStack(env, n_stack=64)\n",
    "\n",
    "obs = env.reset()\n",
    "dones = False\n",
    "while not dones:\n",
    "    action, _states = baseline_s64_model.predict(obs)\n",
    "    obs, rewards, dones, info = env.step(action)\n",
    "    env.render()"
   ]
  },
  {
   "cell_type": "code",
   "execution_count": 17,
   "id": "floral-garden",
   "metadata": {},
   "outputs": [],
   "source": [
    "env.close()"
   ]
  },
  {
   "cell_type": "markdown",
   "id": "loved-benefit",
   "metadata": {},
   "source": [
    "### 4. Baseline + RAM"
   ]
  },
  {
   "cell_type": "code",
   "execution_count": 21,
   "id": "affecting-rates",
   "metadata": {},
   "outputs": [
    {
     "name": "stderr",
     "output_type": "stream",
     "text": [
      "/home/marianna/anaconda3/lib/python3.7/site-packages/cloudpickle/cloudpickle.py:704: UserWarning: A pickle file created using an old (<=1.4.1) version of cloudpicke is currently being loaded. This is not supported by cloudpickle and will break in cloudpickle 1.7\n",
      "  \"will break in cloudpickle 1.7\", category=UserWarning\n"
     ]
    },
    {
     "name": "stdout",
     "output_type": "stream",
     "text": [
      "Loading a model without an environment, this model cannot be trained until it has a valid environment.\n"
     ]
    }
   ],
   "source": [
    "baseline_ram_model = PPO2.load(baselineRAMPath)"
   ]
  },
  {
   "cell_type": "code",
   "execution_count": 30,
   "id": "prerequisite-lover",
   "metadata": {},
   "outputs": [],
   "source": [
    "env = make_atari('Freeway-ramNoFrameskip-v0')\n",
    "\n",
    "obs = env.reset()\n",
    "dones = False\n",
    "while not dones:\n",
    "    action, _states = baseline_ram_model.predict(obs)\n",
    "    obs, rewards, dones, info = env.step(action)\n",
    "    env.render()\n",
    "    time.sleep(0.005)"
   ]
  },
  {
   "cell_type": "code",
   "execution_count": 31,
   "id": "stainless-vector",
   "metadata": {},
   "outputs": [],
   "source": [
    "env.close()"
   ]
  },
  {
   "cell_type": "markdown",
   "id": "imperial-demonstration",
   "metadata": {},
   "source": [
    "### 5. Baseline + 1M timesteps"
   ]
  },
  {
   "cell_type": "code",
   "execution_count": 32,
   "id": "occasional-conservative",
   "metadata": {},
   "outputs": [
    {
     "name": "stderr",
     "output_type": "stream",
     "text": [
      "/home/marianna/anaconda3/lib/python3.7/site-packages/cloudpickle/cloudpickle.py:704: UserWarning: A pickle file created using an old (<=1.4.1) version of cloudpicke is currently being loaded. This is not supported by cloudpickle and will break in cloudpickle 1.7\n",
      "  \"will break in cloudpickle 1.7\", category=UserWarning\n"
     ]
    },
    {
     "name": "stdout",
     "output_type": "stream",
     "text": [
      "Loading a model without an environment, this model cannot be trained until it has a valid environment.\n"
     ]
    }
   ],
   "source": [
    "baseline_1m_model = PPO2.load(baseline1MPath)"
   ]
  },
  {
   "cell_type": "code",
   "execution_count": 37,
   "id": "integral-unknown",
   "metadata": {},
   "outputs": [],
   "source": [
    "env = make_atari_env('FreewayNoFrameskip-v0', seed=42, num_env=1)\n",
    "env = VecFrameStack(env, n_stack=4)\n",
    "\n",
    "obs = env.reset()\n",
    "dones = False\n",
    "while not dones:\n",
    "    action, _states = baseline_1m_model.predict(obs)\n",
    "    obs, rewards, dones, info = env.step(action)\n",
    "    env.render()"
   ]
  },
  {
   "cell_type": "code",
   "execution_count": 39,
   "id": "greenhouse-stereo",
   "metadata": {},
   "outputs": [],
   "source": [
    "env.close()"
   ]
  },
  {
   "cell_type": "code",
   "execution_count": 13,
   "id": "statewide-bones",
   "metadata": {},
   "outputs": [
    {
     "name": "stderr",
     "output_type": "stream",
     "text": [
      "/home/marianna/anaconda3/lib/python3.7/site-packages/cloudpickle/cloudpickle.py:704: UserWarning: A pickle file created using an old (<=1.4.1) version of cloudpicke is currently being loaded. This is not supported by cloudpickle and will break in cloudpickle 1.7\n",
      "  \"will break in cloudpickle 1.7\", category=UserWarning\n"
     ]
    },
    {
     "name": "stdout",
     "output_type": "stream",
     "text": [
      "Loading a model without an environment, this model cannot be trained until it has a valid environment.\n",
      "saved model at ./gif/ppo_baseline_1M_gif.gif\n"
     ]
    },
    {
     "data": {
      "image/png": "[encoded data removed]",
      "text/plain": [
       "<Figure size 160x210 with 1 Axes>"
      ]
     },
     "metadata": {
      "needs_background": "light"
     },
     "output_type": "display_data"
    }
   ],
   "source": [
    "generate_gif(\"ppo_baseline_1M_gif\",baseline1MPath,PPO2)"
   ]
  },
  {
   "cell_type": "code",
   "execution_count": null,
   "id": "governmental-words",
   "metadata": {},
   "outputs": [],
   "source": []
  }
 ],
 "metadata": {
  "kernelspec": {
   "display_name": "Python 3",
   "language": "python",
   "name": "python3"
  },
  "language_info": {
   "codemirror_mode": {
    "name": "ipython",
    "version": 3
   },
   "file_extension": ".py",
   "mimetype": "text/x-python",
   "name": "python",
   "nbconvert_exporter": "python",
   "pygments_lexer": "ipython3",
   "version": "3.7.9"
  }
 },
 "nbformat": 4,
 "nbformat_minor": 5
}
