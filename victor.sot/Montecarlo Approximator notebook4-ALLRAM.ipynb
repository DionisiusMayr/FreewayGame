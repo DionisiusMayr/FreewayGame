{
 "cells": [
  {
   "cell_type": "markdown",
   "metadata": {},
   "source": [
    "# Montecarlo Approximator"
   ]
  },
  {
   "cell_type": "markdown",
   "metadata": {},
   "source": [
    "##  1. Importing Libraries"
   ]
  },
  {
   "cell_type": "code",
   "execution_count": 1,
   "metadata": {},
   "outputs": [],
   "source": [
    "%load_ext autoreload\n",
    "\n",
    "%autoreload 2"
   ]
  },
  {
   "cell_type": "code",
   "execution_count": 2,
   "metadata": {},
   "outputs": [],
   "source": [
    "import sys\n",
    "sys.path.append('../')  # Enable importing from `src` folder"
   ]
  },
  {
   "cell_type": "code",
   "execution_count": 3,
   "metadata": {},
   "outputs": [],
   "source": [
    "%matplotlib inline\n",
    "from tqdm import tqdm\n",
    "from collections import defaultdict\n",
    "from typing import List\n",
    "import pickle\n",
    "import numpy as np\n",
    "import time\n",
    "import matplotlib.pyplot as plt\n",
    "import seaborn as sns\n",
    "import os\n",
    "import gym\n",
    "import src.serializer as serializer\n",
    "import src.agents as agents\n",
    "import src.episode as episode\n",
    "import src.environment as environment\n",
    "import src.aux_plots as aux_plots\n",
    "from sklearn.preprocessing import MinMaxScaler\n",
    "from sklearn.preprocessing import StandardScaler"
   ]
  },
  {
   "cell_type": "markdown",
   "metadata": {},
   "source": [
    "##  2. Auxiliary functions"
   ]
  },
  {
   "cell_type": "markdown",
   "metadata": {},
   "source": [
    "### 2.1 Print Result"
   ]
  },
  {
   "cell_type": "code",
   "execution_count": 4,
   "metadata": {},
   "outputs": [],
   "source": [
    "def print_result(i, scores, total_reward, score):\n",
    "    if i % 10 == 0:\n",
    "        print(f\"Run [{i:4}] - Total reward: {total_reward:7.2f} Mean scores: {sum(scores) / len(scores):.2f} Means Scores[:-10]: {sum(scores[-10:]) / len(scores[-10:]):5.2f} Score: {score:2} \")"
   ]
  },
  {
   "cell_type": "code",
   "execution_count": 5,
   "metadata": {},
   "outputs": [],
   "source": [
    "RAM_mask = [\n",
    "      14  # Chicken Y\n",
    "    , 16  # Chicken Lane Collide\n",
    "    , 108, 109, 110, 111, 112, 113, 114, 115, 116, 117  # Car X Coords\n",
    "]"
   ]
  },
  {
   "cell_type": "code",
   "execution_count": 6,
   "metadata": {},
   "outputs": [],
   "source": [
    "RAM_full_mask=[14  # Chicken Y\n",
    "    , 16  # Chicken Lane Collide\n",
    "    , 18  # Chicken Collision flag (with the bottom car)\n",
    "    , 22  # Car X Direction\n",
    "    , 23, 24, 25, 26, 27, 28, 29, 30, 31, 32  # Z Car Patterns\n",
    "    , 33, 34, 35, 36, 37, 38, 39, 40, 41, 42  # Car Motion Timmers\n",
    "    , 43, 44, 45, 46, 47, 48, 49, 50, 51, 52  # Car Motions\n",
    "    , 87, 88  # Car Shape Ptr\n",
    "    # TODO: test if this makes any difference\n",
    "    , 89, 90  # Chicken Shape Ptr\n",
    "    # TODO: test if this makes any difference\n",
    "    #, 106, 107  # Chicken Sounds\n",
    "    , 108, 109, 110, 111, 112, 113, 114, 115, 116, 117]  # Car X Coords"
   ]
  },
  {
   "cell_type": "markdown",
   "metadata": {},
   "source": [
    "###  2.2 Reduce State"
   ]
  },
  {
   "cell_type": "code",
   "execution_count": 7,
   "metadata": {},
   "outputs": [],
   "source": [
    "def reduce_state_distance(ob):\n",
    "    \n",
    "    # Doesn't matter where we were hit\n",
    "    ob[16] = 1 if ob[16] != 255 else 0\n",
    "\n",
    "    # Reduce chicken y-position\n",
    "    ob[14] = ob[14] // 3\n",
    "\n",
    "    for b in range(108, 118):\n",
    "        ob[b] = abs(ob[b] - 50)\n",
    "        if b<=112:\n",
    "            ob[b]*=-1\n",
    "        ob[b] = ob[b] // 3\n",
    "        # The chicken is in the x-posistion ~49\n",
    "        #if ob[b] < 20 or ob[b] > 80:\n",
    "        #   # We don't need to represent cars far from the chicken\n",
    "        #    ob[b] = 0\n",
    "        #else:\n",
    "        #    # Reduce the cars x-positions sample space\n",
    "        #    ob[b] = ob[b] // 3\n",
    "\n",
    "    return ob"
   ]
  },
  {
   "cell_type": "markdown",
   "metadata": {},
   "source": [
    "Ideias para os aproximadores de função:\n",
    "* não utilizar o `ob = reduce_state(ob)`. Fazer apenas `state = ob[RAM_mask].data.tobytes()`\n",
    "* outro teste pode ser utilzar uma transformação no estado do jogo fazendo os bytes da pos X do carro ficarem +- em linha com a distância, uma possível transformação seria algo como\n",
    "\n",
    "for b in range(108, 118):\n",
    "    ob[b] = abs(ob[b] - 50)\n",
    "\n",
    "Dá para alterar a função reduce_state e colocar esse código lá ao invés dos outro código (e lembrar de reativar essa função).\n",
    "* Tentar multiplicar por -1 os 5 primeiros carros (talvez facilite o aproximador a entender o que deve fazer)"
   ]
  },
  {
   "cell_type": "code",
   "execution_count": 8,
   "metadata": {},
   "outputs": [],
   "source": [
    "def reduce_state(ob):\n",
    "    # Doesn't matter where we were hit\n",
    "    ob[16] = 1 if ob[16] != 255 else 0\n",
    "\n",
    "    # Reduce chicken y-position\n",
    "    ob[14] = ob[14] // 3\n",
    "\n",
    "    for b in range(108, 118):\n",
    "        # The chicken is in the x-posistion ~49\n",
    "        if ob[b] < 20 or ob[b] > 80:\n",
    "            # We don't need to represent cars far from the chicken\n",
    "            ob[b] = 0\n",
    "        else:\n",
    "            # Reduce the cars x-positions sample space\n",
    "            ob[b] = ob[b] // 3\n",
    "\n",
    "    return ob"
   ]
  },
  {
   "cell_type": "markdown",
   "metadata": {},
   "source": [
    "### 2.3 Saving and Load History"
   ]
  },
  {
   "cell_type": "code",
   "execution_count": 9,
   "metadata": {},
   "outputs": [],
   "source": [
    "def saveHistory(config,scores,total_rewards):\n",
    "    base=\"history/\"\n",
    "    with open(base+\"scores_\"+config+\".pickle\", 'wb') as handle:\n",
    "        pickle.dump(scores, handle, protocol=pickle.HIGHEST_PROTOCOL)\n",
    "        \n",
    "    with open(base+\"total_rewards_\"+config+\".pickle\", 'wb') as handle:\n",
    "        pickle.dump(total_rewards, handle, protocol=pickle.HIGHEST_PROTOCOL)    \n",
    "    print(\"Scores and Total rewards for \"+config+\" saved\")\n",
    "    \n",
    "def loadHistory(fileDir):\n",
    "    with open(fileDir, 'rb') as handle:\n",
    "        data = pickle.load(handle)\n",
    "        return data"
   ]
  },
  {
   "cell_type": "markdown",
   "metadata": {},
   "source": [
    "###  2.4 Reward Policy"
   ]
  },
  {
   "cell_type": "code",
   "execution_count": 10,
   "metadata": {},
   "outputs": [],
   "source": [
    "def reward_policy(reward, ob, action):\n",
    "    if reward == 1:\n",
    "        reward = reward_policy.REWARD_IF_CROSS\n",
    "    elif ob[16] == 1:  # Collision!\n",
    "        reward = reward_policy.REWARD_IF_COLISION\n",
    "    elif action != 1:  # Don't incentivate staying still\n",
    "        reward = reward_policy.REWARD_IF_STILL\n",
    "\n",
    "    return reward"
   ]
  },
  {
   "cell_type": "markdown",
   "metadata": {},
   "source": [
    "## 3. Running algorithms"
   ]
  },
  {
   "cell_type": "markdown",
   "metadata": {},
   "source": [
    "### 3.1 Setting Parameters"
   ]
  },
  {
   "cell_type": "code",
   "execution_count": 11,
   "metadata": {},
   "outputs": [],
   "source": [
    "GAMMA = 0.99\n",
    "AVAILABLE_ACTIONS = 2\n",
    "N0 = 0.001\n",
    "#2 ações \n",
    "#- Recompensa R3 (+500 se cruzar a rua, -10 para colisão, -1 se ficar parado)\n",
    "#- N0 = 0.001 \n",
    "#- gamma = 0.99\n",
    "reward_policy.REWARD_IF_CROSS = 500\n",
    "reward_policy.REWARD_IF_COLISION = -10\n",
    "reward_policy.REWARD_IF_STILL = -1"
   ]
  },
  {
   "cell_type": "markdown",
   "metadata": {},
   "source": [
    "## 3.2 Montecarlo approximator"
   ]
  },
  {
   "cell_type": "markdown",
   "metadata": {},
   "source": [
    "### 3.2.1 Features All RAM + StandarScaler"
   ]
  },
  {
   "cell_type": "code",
   "execution_count": 12,
   "metadata": {},
   "outputs": [],
   "source": [
    "RAM=RAM_full_mask\n",
    "reduce=False"
   ]
  },
  {
   "cell_type": "code",
   "execution_count": 13,
   "metadata": {},
   "outputs": [],
   "source": [
    "def MonteCarloAprox(RAM_mask: List[int], render: bool=False,feat_type: str=\"all\"):\n",
    "    epi = episode.generate_episode(env, reduce_state=reduce_state_distance, reward_policy=reward_policy, agent=agent, RAM_mask=RAM, render=render,reduce=reduce)\n",
    "    return agent.updating(epi)"
   ]
  },
  {
   "cell_type": "code",
   "execution_count": 14,
   "metadata": {},
   "outputs": [],
   "source": [
    "env, initial_state = environment.get_env()"
   ]
  },
  {
   "cell_type": "code",
   "execution_count": 15,
   "metadata": {},
   "outputs": [],
   "source": [
    "agent = agents.MonteCarloAprox(gamma=GAMMA, available_actions=AVAILABLE_ACTIONS, N0=N0,nFeatures=len(RAM),scaler=StandardScaler(),feat_type= \"all\")"
   ]
  },
  {
   "cell_type": "code",
   "execution_count": 16,
   "metadata": {},
   "outputs": [],
   "source": [
    "agent.trainScaler(env,RAM)"
   ]
  },
  {
   "cell_type": "code",
   "execution_count": 17,
   "metadata": {},
   "outputs": [],
   "source": [
    "scores = []\n",
    "total_rewards = []"
   ]
  },
  {
   "cell_type": "code",
   "execution_count": 18,
   "metadata": {},
   "outputs": [
    {
     "name": "stderr",
     "output_type": "stream",
     "text": [
      "  0%|          | 1/5000 [00:04<5:43:53,  4.13s/it]"
     ]
    },
    {
     "name": "stdout",
     "output_type": "stream",
     "text": [
      "Run [   0] - Total reward: 4144.00 Mean scores: 12.00 Means Scores[:-10]: 12.00 Score: 12 \n"
     ]
    },
    {
     "name": "stderr",
     "output_type": "stream",
     "text": [
      "  0%|          | 11/5000 [00:43<5:14:45,  3.79s/it]"
     ]
    },
    {
     "name": "stdout",
     "output_type": "stream",
     "text": [
      "Run [  10] - Total reward: 4091.00 Mean scores: 12.36 Means Scores[:-10]: 12.40 Score: 12 \n"
     ]
    },
    {
     "name": "stderr",
     "output_type": "stream",
     "text": [
      "  0%|          | 21/5000 [01:20<5:15:04,  3.80s/it]"
     ]
    },
    {
     "name": "stdout",
     "output_type": "stream",
     "text": [
      "Run [  20] - Total reward: 5804.00 Mean scores: 12.62 Means Scores[:-10]: 12.90 Score: 15 \n"
     ]
    },
    {
     "name": "stderr",
     "output_type": "stream",
     "text": [
      "  1%|          | 31/5000 [02:00<5:08:55,  3.73s/it]"
     ]
    },
    {
     "name": "stdout",
     "output_type": "stream",
     "text": [
      "Run [  30] - Total reward: 5948.00 Mean scores: 13.48 Means Scores[:-10]: 15.30 Score: 15 \n"
     ]
    },
    {
     "name": "stderr",
     "output_type": "stream",
     "text": [
      "  1%|          | 41/5000 [02:36<4:54:03,  3.56s/it]"
     ]
    },
    {
     "name": "stdout",
     "output_type": "stream",
     "text": [
      "Run [  40] - Total reward: 7006.00 Mean scores: 14.07 Means Scores[:-10]: 15.90 Score: 17 \n"
     ]
    },
    {
     "name": "stderr",
     "output_type": "stream",
     "text": [
      "  1%|          | 51/5000 [03:11<4:48:13,  3.49s/it]"
     ]
    },
    {
     "name": "stdout",
     "output_type": "stream",
     "text": [
      "Run [  50] - Total reward: 8239.00 Mean scores: 14.90 Means Scores[:-10]: 18.30 Score: 19 \n"
     ]
    },
    {
     "name": "stderr",
     "output_type": "stream",
     "text": [
      "  1%|          | 61/5000 [03:46<4:48:25,  3.50s/it]"
     ]
    },
    {
     "name": "stdout",
     "output_type": "stream",
     "text": [
      "Run [  60] - Total reward: 8175.00 Mean scores: 15.52 Means Scores[:-10]: 18.70 Score: 19 \n"
     ]
    },
    {
     "name": "stderr",
     "output_type": "stream",
     "text": [
      "  1%|▏         | 71/5000 [04:20<4:45:33,  3.48s/it]"
     ]
    },
    {
     "name": "stdout",
     "output_type": "stream",
     "text": [
      "Run [  70] - Total reward: 8934.00 Mean scores: 15.90 Means Scores[:-10]: 18.20 Score: 20 \n"
     ]
    },
    {
     "name": "stderr",
     "output_type": "stream",
     "text": [
      "  2%|▏         | 81/5000 [04:55<4:41:58,  3.44s/it]"
     ]
    },
    {
     "name": "stdout",
     "output_type": "stream",
     "text": [
      "Run [  80] - Total reward: 8234.00 Mean scores: 16.21 Means Scores[:-10]: 18.40 Score: 19 \n"
     ]
    },
    {
     "name": "stderr",
     "output_type": "stream",
     "text": [
      "  2%|▏         | 91/5000 [05:29<4:44:48,  3.48s/it]"
     ]
    },
    {
     "name": "stdout",
     "output_type": "stream",
     "text": [
      "Run [  90] - Total reward: 9373.00 Mean scores: 16.42 Means Scores[:-10]: 18.10 Score: 21 \n"
     ]
    },
    {
     "name": "stderr",
     "output_type": "stream",
     "text": [
      "  2%|▏         | 101/5000 [06:03<4:36:15,  3.38s/it]"
     ]
    },
    {
     "name": "stdout",
     "output_type": "stream",
     "text": [
      "Run [ 100] - Total reward: 8831.00 Mean scores: 16.65 Means Scores[:-10]: 18.80 Score: 20 \n"
     ]
    },
    {
     "name": "stderr",
     "output_type": "stream",
     "text": [
      "  2%|▏         | 111/5000 [06:37<4:33:31,  3.36s/it]"
     ]
    },
    {
     "name": "stdout",
     "output_type": "stream",
     "text": [
      "Run [ 110] - Total reward: 9396.00 Mean scores: 16.90 Means Scores[:-10]: 19.40 Score: 21 \n"
     ]
    },
    {
     "name": "stderr",
     "output_type": "stream",
     "text": [
      "  2%|▏         | 121/5000 [07:11<4:34:48,  3.38s/it]"
     ]
    },
    {
     "name": "stdout",
     "output_type": "stream",
     "text": [
      "Run [ 120] - Total reward: 8461.00 Mean scores: 17.07 Means Scores[:-10]: 19.00 Score: 19 \n"
     ]
    },
    {
     "name": "stderr",
     "output_type": "stream",
     "text": [
      "  3%|▎         | 131/5000 [07:47<4:52:17,  3.60s/it]"
     ]
    },
    {
     "name": "stdout",
     "output_type": "stream",
     "text": [
      "Run [ 130] - Total reward: 9520.00 Mean scores: 17.31 Means Scores[:-10]: 20.20 Score: 21 \n"
     ]
    },
    {
     "name": "stderr",
     "output_type": "stream",
     "text": [
      "  3%|▎         | 141/5000 [08:20<4:30:45,  3.34s/it]"
     ]
    },
    {
     "name": "stdout",
     "output_type": "stream",
     "text": [
      "Run [ 140] - Total reward: 9594.00 Mean scores: 17.50 Means Scores[:-10]: 19.90 Score: 21 \n"
     ]
    },
    {
     "name": "stderr",
     "output_type": "stream",
     "text": [
      "  3%|▎         | 151/5000 [08:53<4:28:32,  3.32s/it]"
     ]
    },
    {
     "name": "stdout",
     "output_type": "stream",
     "text": [
      "Run [ 150] - Total reward: 9030.00 Mean scores: 17.70 Means Scores[:-10]: 20.50 Score: 20 \n"
     ]
    },
    {
     "name": "stderr",
     "output_type": "stream",
     "text": [
      "  3%|▎         | 161/5000 [09:27<4:37:54,  3.45s/it]"
     ]
    },
    {
     "name": "stdout",
     "output_type": "stream",
     "text": [
      "Run [ 160] - Total reward: 9552.00 Mean scores: 17.88 Means Scores[:-10]: 20.70 Score: 21 \n"
     ]
    },
    {
     "name": "stderr",
     "output_type": "stream",
     "text": [
      "  3%|▎         | 171/5000 [10:00<4:27:57,  3.33s/it]"
     ]
    },
    {
     "name": "stdout",
     "output_type": "stream",
     "text": [
      "Run [ 170] - Total reward: 9438.00 Mean scores: 18.05 Means Scores[:-10]: 20.70 Score: 21 \n"
     ]
    },
    {
     "name": "stderr",
     "output_type": "stream",
     "text": [
      "  4%|▎         | 181/5000 [10:33<4:26:49,  3.32s/it]"
     ]
    },
    {
     "name": "stdout",
     "output_type": "stream",
     "text": [
      "Run [ 180] - Total reward: 9598.00 Mean scores: 18.22 Means Scores[:-10]: 21.10 Score: 21 \n"
     ]
    },
    {
     "name": "stderr",
     "output_type": "stream",
     "text": [
      "  4%|▍         | 191/5000 [11:06<4:25:10,  3.31s/it]"
     ]
    },
    {
     "name": "stdout",
     "output_type": "stream",
     "text": [
      "Run [ 190] - Total reward: 10204.00 Mean scores: 18.34 Means Scores[:-10]: 20.60 Score: 22 \n"
     ]
    },
    {
     "name": "stderr",
     "output_type": "stream",
     "text": [
      "  4%|▍         | 201/5000 [11:59<12:17:48,  9.22s/it]"
     ]
    },
    {
     "name": "stdout",
     "output_type": "stream",
     "text": [
      "Run [ 200] - Total reward: 10582.00 Mean scores: 18.50 Means Scores[:-10]: 21.60 Score: 23 \n"
     ]
    },
    {
     "name": "stderr",
     "output_type": "stream",
     "text": [
      "  4%|▍         | 211/5000 [12:31<4:32:18,  3.41s/it] "
     ]
    },
    {
     "name": "stdout",
     "output_type": "stream",
     "text": [
      "Run [ 210] - Total reward: 10606.00 Mean scores: 18.64 Means Scores[:-10]: 21.30 Score: 23 \n"
     ]
    },
    {
     "name": "stderr",
     "output_type": "stream",
     "text": [
      "  4%|▍         | 221/5000 [13:04<4:20:59,  3.28s/it]"
     ]
    },
    {
     "name": "stdout",
     "output_type": "stream",
     "text": [
      "Run [ 220] - Total reward: 10699.00 Mean scores: 18.80 Means Scores[:-10]: 22.30 Score: 23 \n"
     ]
    },
    {
     "name": "stderr",
     "output_type": "stream",
     "text": [
      "  5%|▍         | 231/5000 [13:37<4:22:07,  3.30s/it]"
     ]
    },
    {
     "name": "stdout",
     "output_type": "stream",
     "text": [
      "Run [ 230] - Total reward: 10160.00 Mean scores: 18.93 Means Scores[:-10]: 21.70 Score: 22 \n"
     ]
    },
    {
     "name": "stderr",
     "output_type": "stream",
     "text": [
      "  5%|▍         | 241/5000 [14:10<4:21:05,  3.29s/it]"
     ]
    },
    {
     "name": "stdout",
     "output_type": "stream",
     "text": [
      "Run [ 240] - Total reward: 9687.00 Mean scores: 19.04 Means Scores[:-10]: 21.70 Score: 21 \n"
     ]
    },
    {
     "name": "stderr",
     "output_type": "stream",
     "text": [
      "  5%|▌         | 251/5000 [14:43<4:18:19,  3.26s/it]"
     ]
    },
    {
     "name": "stdout",
     "output_type": "stream",
     "text": [
      "Run [ 250] - Total reward: 9624.00 Mean scores: 19.15 Means Scores[:-10]: 21.80 Score: 21 \n"
     ]
    },
    {
     "name": "stderr",
     "output_type": "stream",
     "text": [
      "  5%|▌         | 261/5000 [15:16<4:17:41,  3.26s/it]"
     ]
    },
    {
     "name": "stdout",
     "output_type": "stream",
     "text": [
      "Run [ 260] - Total reward: 10288.00 Mean scores: 19.25 Means Scores[:-10]: 21.60 Score: 22 \n"
     ]
    },
    {
     "name": "stderr",
     "output_type": "stream",
     "text": [
      "  5%|▌         | 271/5000 [15:49<4:19:29,  3.29s/it]"
     ]
    },
    {
     "name": "stdout",
     "output_type": "stream",
     "text": [
      "Run [ 270] - Total reward: 10194.00 Mean scores: 19.35 Means Scores[:-10]: 22.20 Score: 22 \n"
     ]
    },
    {
     "name": "stderr",
     "output_type": "stream",
     "text": [
      "  6%|▌         | 281/5000 [16:22<4:18:27,  3.29s/it]"
     ]
    },
    {
     "name": "stdout",
     "output_type": "stream",
     "text": [
      "Run [ 280] - Total reward: 10142.00 Mean scores: 19.45 Means Scores[:-10]: 22.10 Score: 22 \n"
     ]
    },
    {
     "name": "stderr",
     "output_type": "stream",
     "text": [
      "  6%|▌         | 291/5000 [16:55<4:15:19,  3.25s/it]"
     ]
    },
    {
     "name": "stdout",
     "output_type": "stream",
     "text": [
      "Run [ 290] - Total reward: 10673.00 Mean scores: 19.55 Means Scores[:-10]: 22.30 Score: 23 \n"
     ]
    },
    {
     "name": "stderr",
     "output_type": "stream",
     "text": [
      "  6%|▌         | 301/5000 [17:28<4:23:41,  3.37s/it]"
     ]
    },
    {
     "name": "stdout",
     "output_type": "stream",
     "text": [
      "Run [ 300] - Total reward: 10787.00 Mean scores: 19.66 Means Scores[:-10]: 22.90 Score: 23 \n"
     ]
    },
    {
     "name": "stderr",
     "output_type": "stream",
     "text": [
      "  6%|▌         | 311/5000 [18:00<4:15:14,  3.27s/it]"
     ]
    },
    {
     "name": "stdout",
     "output_type": "stream",
     "text": [
      "Run [ 310] - Total reward: 11247.00 Mean scores: 19.78 Means Scores[:-10]: 23.40 Score: 24 \n"
     ]
    },
    {
     "name": "stderr",
     "output_type": "stream",
     "text": [
      "  6%|▋         | 321/5000 [18:33<4:16:59,  3.30s/it]"
     ]
    },
    {
     "name": "stdout",
     "output_type": "stream",
     "text": [
      "Run [ 320] - Total reward: 11214.00 Mean scores: 19.88 Means Scores[:-10]: 23.10 Score: 24 \n"
     ]
    },
    {
     "name": "stderr",
     "output_type": "stream",
     "text": [
      "  7%|▋         | 331/5000 [19:06<4:09:07,  3.20s/it]"
     ]
    },
    {
     "name": "stdout",
     "output_type": "stream",
     "text": [
      "Run [ 330] - Total reward: 9044.00 Mean scores: 19.98 Means Scores[:-10]: 23.00 Score: 20 \n"
     ]
    },
    {
     "name": "stderr",
     "output_type": "stream",
     "text": [
      "  7%|▋         | 341/5000 [19:41<4:35:52,  3.55s/it]"
     ]
    },
    {
     "name": "stdout",
     "output_type": "stream",
     "text": [
      "Run [ 340] - Total reward: 11754.00 Mean scores: 20.06 Means Scores[:-10]: 22.90 Score: 25 \n"
     ]
    },
    {
     "name": "stderr",
     "output_type": "stream",
     "text": [
      "  7%|▋         | 351/5000 [20:14<4:24:38,  3.42s/it]"
     ]
    },
    {
     "name": "stdout",
     "output_type": "stream",
     "text": [
      "Run [ 350] - Total reward: 11169.00 Mean scores: 20.14 Means Scores[:-10]: 22.60 Score: 24 \n"
     ]
    },
    {
     "name": "stderr",
     "output_type": "stream",
     "text": [
      "  7%|▋         | 361/5000 [20:48<4:17:47,  3.33s/it]"
     ]
    },
    {
     "name": "stdout",
     "output_type": "stream",
     "text": [
      "Run [ 360] - Total reward: 10755.00 Mean scores: 20.21 Means Scores[:-10]: 22.70 Score: 23 \n"
     ]
    },
    {
     "name": "stderr",
     "output_type": "stream",
     "text": [
      "  7%|▋         | 371/5000 [21:20<4:08:21,  3.22s/it]"
     ]
    },
    {
     "name": "stdout",
     "output_type": "stream",
     "text": [
      "Run [ 370] - Total reward: 9249.00 Mean scores: 20.27 Means Scores[:-10]: 22.50 Score: 20 \n"
     ]
    },
    {
     "name": "stderr",
     "output_type": "stream",
     "text": [
      "  8%|▊         | 381/5000 [21:53<4:11:13,  3.26s/it]"
     ]
    },
    {
     "name": "stdout",
     "output_type": "stream",
     "text": [
      "Run [ 380] - Total reward: 11142.00 Mean scores: 20.35 Means Scores[:-10]: 23.20 Score: 24 \n"
     ]
    },
    {
     "name": "stderr",
     "output_type": "stream",
     "text": [
      "  8%|▊         | 391/5000 [22:25<4:08:02,  3.23s/it]"
     ]
    },
    {
     "name": "stdout",
     "output_type": "stream",
     "text": [
      "Run [ 390] - Total reward: 11808.00 Mean scores: 20.41 Means Scores[:-10]: 22.90 Score: 25 \n"
     ]
    },
    {
     "name": "stderr",
     "output_type": "stream",
     "text": [
      "  8%|▊         | 401/5000 [22:57<4:06:09,  3.21s/it]"
     ]
    },
    {
     "name": "stdout",
     "output_type": "stream",
     "text": [
      "Run [ 400] - Total reward: 11825.00 Mean scores: 20.49 Means Scores[:-10]: 23.50 Score: 25 \n"
     ]
    },
    {
     "name": "stderr",
     "output_type": "stream",
     "text": [
      "  8%|▊         | 411/5000 [23:48<4:19:15,  3.39s/it] "
     ]
    },
    {
     "name": "stdout",
     "output_type": "stream",
     "text": [
      "Run [ 410] - Total reward: 11106.00 Mean scores: 20.55 Means Scores[:-10]: 23.10 Score: 24 \n"
     ]
    },
    {
     "name": "stderr",
     "output_type": "stream",
     "text": [
      "  8%|▊         | 421/5000 [24:20<4:06:10,  3.23s/it]"
     ]
    },
    {
     "name": "stdout",
     "output_type": "stream",
     "text": [
      "Run [ 420] - Total reward: 11875.00 Mean scores: 20.62 Means Scores[:-10]: 23.50 Score: 25 \n"
     ]
    },
    {
     "name": "stderr",
     "output_type": "stream",
     "text": [
      "  9%|▊         | 431/5000 [24:52<4:04:03,  3.20s/it]"
     ]
    },
    {
     "name": "stdout",
     "output_type": "stream",
     "text": [
      "Run [ 430] - Total reward: 8618.00 Mean scores: 20.66 Means Scores[:-10]: 22.40 Score: 19 \n"
     ]
    },
    {
     "name": "stderr",
     "output_type": "stream",
     "text": [
      "  9%|▉         | 441/5000 [25:24<4:11:03,  3.30s/it]"
     ]
    },
    {
     "name": "stdout",
     "output_type": "stream",
     "text": [
      "Run [ 440] - Total reward: 10129.00 Mean scores: 20.71 Means Scores[:-10]: 22.90 Score: 22 \n"
     ]
    },
    {
     "name": "stderr",
     "output_type": "stream",
     "text": [
      "  9%|▉         | 451/5000 [25:57<4:03:48,  3.22s/it]"
     ]
    },
    {
     "name": "stdout",
     "output_type": "stream",
     "text": [
      "Run [ 450] - Total reward: 10808.00 Mean scores: 20.78 Means Scores[:-10]: 23.50 Score: 23 \n"
     ]
    },
    {
     "name": "stderr",
     "output_type": "stream",
     "text": [
      "  9%|▉         | 461/5000 [26:29<4:04:35,  3.23s/it]"
     ]
    },
    {
     "name": "stdout",
     "output_type": "stream",
     "text": [
      "Run [ 460] - Total reward: 11273.00 Mean scores: 20.84 Means Scores[:-10]: 23.70 Score: 24 \n"
     ]
    },
    {
     "name": "stderr",
     "output_type": "stream",
     "text": [
      "  9%|▉         | 471/5000 [27:01<4:02:33,  3.21s/it]"
     ]
    },
    {
     "name": "stdout",
     "output_type": "stream",
     "text": [
      "Run [ 470] - Total reward: 10171.00 Mean scores: 20.88 Means Scores[:-10]: 22.90 Score: 22 \n"
     ]
    },
    {
     "name": "stderr",
     "output_type": "stream",
     "text": [
      " 10%|▉         | 481/5000 [27:34<4:09:00,  3.31s/it]"
     ]
    },
    {
     "name": "stdout",
     "output_type": "stream",
     "text": [
      "Run [ 480] - Total reward: 10717.00 Mean scores: 20.92 Means Scores[:-10]: 22.80 Score: 23 \n"
     ]
    },
    {
     "name": "stderr",
     "output_type": "stream",
     "text": [
      " 10%|▉         | 491/5000 [28:06<4:02:37,  3.23s/it]"
     ]
    },
    {
     "name": "stdout",
     "output_type": "stream",
     "text": [
      "Run [ 490] - Total reward: 9670.00 Mean scores: 20.95 Means Scores[:-10]: 22.40 Score: 21 \n"
     ]
    },
    {
     "name": "stderr",
     "output_type": "stream",
     "text": [
      " 10%|█         | 501/5000 [28:39<4:02:51,  3.24s/it]"
     ]
    },
    {
     "name": "stdout",
     "output_type": "stream",
     "text": [
      "Run [ 500] - Total reward: 11235.00 Mean scores: 20.99 Means Scores[:-10]: 23.00 Score: 24 \n"
     ]
    },
    {
     "name": "stderr",
     "output_type": "stream",
     "text": [
      " 10%|█         | 511/5000 [29:11<4:02:46,  3.24s/it]"
     ]
    },
    {
     "name": "stdout",
     "output_type": "stream",
     "text": [
      "Run [ 510] - Total reward: 10745.00 Mean scores: 21.03 Means Scores[:-10]: 22.80 Score: 23 \n"
     ]
    },
    {
     "name": "stderr",
     "output_type": "stream",
     "text": [
      " 10%|█         | 521/5000 [29:44<4:01:58,  3.24s/it]"
     ]
    },
    {
     "name": "stdout",
     "output_type": "stream",
     "text": [
      "Run [ 520] - Total reward: 10698.00 Mean scores: 21.07 Means Scores[:-10]: 23.00 Score: 23 \n"
     ]
    },
    {
     "name": "stderr",
     "output_type": "stream",
     "text": [
      " 11%|█         | 531/5000 [30:16<3:53:06,  3.13s/it]"
     ]
    },
    {
     "name": "stdout",
     "output_type": "stream",
     "text": [
      "Run [ 530] - Total reward: 9716.00 Mean scores: 21.10 Means Scores[:-10]: 22.70 Score: 21 \n"
     ]
    },
    {
     "name": "stderr",
     "output_type": "stream",
     "text": [
      " 11%|█         | 541/5000 [30:48<3:59:56,  3.23s/it]"
     ]
    },
    {
     "name": "stdout",
     "output_type": "stream",
     "text": [
      "Run [ 540] - Total reward: 10190.00 Mean scores: 21.13 Means Scores[:-10]: 22.60 Score: 22 \n"
     ]
    },
    {
     "name": "stderr",
     "output_type": "stream",
     "text": [
      " 11%|█         | 551/5000 [31:20<3:59:38,  3.23s/it]"
     ]
    },
    {
     "name": "stdout",
     "output_type": "stream",
     "text": [
      "Run [ 550] - Total reward: 9108.00 Mean scores: 21.15 Means Scores[:-10]: 22.70 Score: 20 \n"
     ]
    },
    {
     "name": "stderr",
     "output_type": "stream",
     "text": [
      " 11%|█         | 561/5000 [31:53<4:00:03,  3.24s/it]"
     ]
    },
    {
     "name": "stdout",
     "output_type": "stream",
     "text": [
      "Run [ 560] - Total reward: 9030.00 Mean scores: 21.18 Means Scores[:-10]: 22.80 Score: 20 \n"
     ]
    },
    {
     "name": "stderr",
     "output_type": "stream",
     "text": [
      " 11%|█▏        | 571/5000 [32:25<3:57:29,  3.22s/it]"
     ]
    },
    {
     "name": "stdout",
     "output_type": "stream",
     "text": [
      "Run [ 570] - Total reward: 10229.00 Mean scores: 21.21 Means Scores[:-10]: 22.60 Score: 22 \n"
     ]
    },
    {
     "name": "stderr",
     "output_type": "stream",
     "text": [
      " 12%|█▏        | 581/5000 [32:58<3:58:50,  3.24s/it]"
     ]
    },
    {
     "name": "stdout",
     "output_type": "stream",
     "text": [
      "Run [ 580] - Total reward: 10140.00 Mean scores: 21.24 Means Scores[:-10]: 23.00 Score: 22 \n"
     ]
    },
    {
     "name": "stderr",
     "output_type": "stream",
     "text": [
      " 12%|█▏        | 591/5000 [33:30<4:05:16,  3.34s/it]"
     ]
    },
    {
     "name": "stdout",
     "output_type": "stream",
     "text": [
      "Run [ 590] - Total reward: 11241.00 Mean scores: 21.26 Means Scores[:-10]: 22.70 Score: 24 \n"
     ]
    },
    {
     "name": "stderr",
     "output_type": "stream",
     "text": [
      " 12%|█▏        | 601/5000 [34:03<3:55:44,  3.22s/it]"
     ]
    },
    {
     "name": "stdout",
     "output_type": "stream",
     "text": [
      "Run [ 600] - Total reward: 10232.00 Mean scores: 21.29 Means Scores[:-10]: 22.70 Score: 22 \n"
     ]
    },
    {
     "name": "stderr",
     "output_type": "stream",
     "text": [
      " 12%|█▏        | 611/5000 [34:53<4:16:46,  3.51s/it] "
     ]
    },
    {
     "name": "stdout",
     "output_type": "stream",
     "text": [
      "Run [ 610] - Total reward: 10602.00 Mean scores: 21.31 Means Scores[:-10]: 22.90 Score: 23 \n"
     ]
    },
    {
     "name": "stderr",
     "output_type": "stream",
     "text": [
      " 12%|█▏        | 621/5000 [35:26<4:02:02,  3.32s/it]"
     ]
    },
    {
     "name": "stdout",
     "output_type": "stream",
     "text": [
      "Run [ 620] - Total reward: 9634.00 Mean scores: 21.34 Means Scores[:-10]: 22.70 Score: 21 \n"
     ]
    },
    {
     "name": "stderr",
     "output_type": "stream",
     "text": [
      " 13%|█▎        | 631/5000 [35:58<3:53:59,  3.21s/it]"
     ]
    },
    {
     "name": "stdout",
     "output_type": "stream",
     "text": [
      "Run [ 630] - Total reward: 9817.00 Mean scores: 21.36 Means Scores[:-10]: 22.60 Score: 21 \n"
     ]
    },
    {
     "name": "stderr",
     "output_type": "stream",
     "text": [
      " 13%|█▎        | 641/5000 [36:30<3:54:04,  3.22s/it]"
     ]
    },
    {
     "name": "stdout",
     "output_type": "stream",
     "text": [
      "Run [ 640] - Total reward: 10739.00 Mean scores: 21.39 Means Scores[:-10]: 23.70 Score: 23 \n"
     ]
    },
    {
     "name": "stderr",
     "output_type": "stream",
     "text": [
      " 13%|█▎        | 651/5000 [37:02<3:51:19,  3.19s/it]"
     ]
    },
    {
     "name": "stdout",
     "output_type": "stream",
     "text": [
      "Run [ 650] - Total reward: 9660.00 Mean scores: 21.41 Means Scores[:-10]: 22.60 Score: 21 \n"
     ]
    },
    {
     "name": "stderr",
     "output_type": "stream",
     "text": [
      " 13%|█▎        | 661/5000 [37:35<3:58:43,  3.30s/it]"
     ]
    },
    {
     "name": "stdout",
     "output_type": "stream",
     "text": [
      "Run [ 660] - Total reward: 10833.00 Mean scores: 21.43 Means Scores[:-10]: 22.80 Score: 23 \n"
     ]
    },
    {
     "name": "stderr",
     "output_type": "stream",
     "text": [
      " 13%|█▎        | 671/5000 [38:07<3:52:10,  3.22s/it]"
     ]
    },
    {
     "name": "stdout",
     "output_type": "stream",
     "text": [
      "Run [ 670] - Total reward: 11243.00 Mean scores: 21.45 Means Scores[:-10]: 22.40 Score: 24 \n"
     ]
    },
    {
     "name": "stderr",
     "output_type": "stream",
     "text": [
      " 14%|█▎        | 681/5000 [38:39<3:50:34,  3.20s/it]"
     ]
    },
    {
     "name": "stdout",
     "output_type": "stream",
     "text": [
      "Run [ 680] - Total reward: 11252.00 Mean scores: 21.47 Means Scores[:-10]: 22.90 Score: 24 \n"
     ]
    },
    {
     "name": "stderr",
     "output_type": "stream",
     "text": [
      " 14%|█▍        | 691/5000 [39:11<3:49:19,  3.19s/it]"
     ]
    },
    {
     "name": "stdout",
     "output_type": "stream",
     "text": [
      "Run [ 690] - Total reward: 10860.00 Mean scores: 21.49 Means Scores[:-10]: 23.30 Score: 23 \n"
     ]
    },
    {
     "name": "stderr",
     "output_type": "stream",
     "text": [
      " 14%|█▍        | 701/5000 [39:44<3:51:46,  3.23s/it]"
     ]
    },
    {
     "name": "stdout",
     "output_type": "stream",
     "text": [
      "Run [ 700] - Total reward: 12367.00 Mean scores: 21.51 Means Scores[:-10]: 22.90 Score: 26 \n"
     ]
    },
    {
     "name": "stderr",
     "output_type": "stream",
     "text": [
      " 14%|█▍        | 711/5000 [40:16<3:48:16,  3.19s/it]"
     ]
    },
    {
     "name": "stdout",
     "output_type": "stream",
     "text": [
      "Run [ 710] - Total reward: 10159.00 Mean scores: 21.54 Means Scores[:-10]: 23.00 Score: 22 \n"
     ]
    },
    {
     "name": "stderr",
     "output_type": "stream",
     "text": [
      " 14%|█▍        | 721/5000 [40:48<3:53:16,  3.27s/it]"
     ]
    },
    {
     "name": "stdout",
     "output_type": "stream",
     "text": [
      "Run [ 720] - Total reward: 11818.00 Mean scores: 21.56 Means Scores[:-10]: 23.50 Score: 25 \n"
     ]
    },
    {
     "name": "stderr",
     "output_type": "stream",
     "text": [
      " 15%|█▍        | 731/5000 [41:20<3:42:42,  3.13s/it]"
     ]
    },
    {
     "name": "stdout",
     "output_type": "stream",
     "text": [
      "Run [ 730] - Total reward: 11268.00 Mean scores: 21.59 Means Scores[:-10]: 23.30 Score: 24 \n"
     ]
    },
    {
     "name": "stderr",
     "output_type": "stream",
     "text": [
      " 15%|█▍        | 741/5000 [41:53<3:48:02,  3.21s/it]"
     ]
    },
    {
     "name": "stdout",
     "output_type": "stream",
     "text": [
      "Run [ 740] - Total reward: 11819.00 Mean scores: 21.61 Means Scores[:-10]: 23.10 Score: 25 \n"
     ]
    },
    {
     "name": "stderr",
     "output_type": "stream",
     "text": [
      " 15%|█▌        | 751/5000 [42:25<3:46:18,  3.20s/it]"
     ]
    },
    {
     "name": "stdout",
     "output_type": "stream",
     "text": [
      "Run [ 750] - Total reward: 11728.00 Mean scores: 21.63 Means Scores[:-10]: 23.30 Score: 25 \n"
     ]
    },
    {
     "name": "stderr",
     "output_type": "stream",
     "text": [
      " 15%|█▌        | 761/5000 [42:57<3:46:14,  3.20s/it]"
     ]
    },
    {
     "name": "stdout",
     "output_type": "stream",
     "text": [
      "Run [ 760] - Total reward: 11730.00 Mean scores: 21.66 Means Scores[:-10]: 24.10 Score: 25 \n"
     ]
    },
    {
     "name": "stderr",
     "output_type": "stream",
     "text": [
      " 15%|█▌        | 771/5000 [43:29<3:50:22,  3.27s/it]"
     ]
    },
    {
     "name": "stdout",
     "output_type": "stream",
     "text": [
      "Run [ 770] - Total reward: 11218.00 Mean scores: 21.68 Means Scores[:-10]: 23.40 Score: 24 \n"
     ]
    },
    {
     "name": "stderr",
     "output_type": "stream",
     "text": [
      " 16%|█▌        | 781/5000 [44:02<3:45:55,  3.21s/it]"
     ]
    },
    {
     "name": "stdout",
     "output_type": "stream",
     "text": [
      "Run [ 780] - Total reward: 11302.00 Mean scores: 21.72 Means Scores[:-10]: 24.20 Score: 24 \n"
     ]
    },
    {
     "name": "stderr",
     "output_type": "stream",
     "text": [
      " 16%|█▌        | 791/5000 [44:33<3:43:47,  3.19s/it]"
     ]
    },
    {
     "name": "stdout",
     "output_type": "stream",
     "text": [
      "Run [ 790] - Total reward: 11266.00 Mean scores: 21.73 Means Scores[:-10]: 22.80 Score: 24 \n"
     ]
    },
    {
     "name": "stderr",
     "output_type": "stream",
     "text": [
      " 16%|█▌        | 801/5000 [45:05<3:43:37,  3.20s/it]"
     ]
    },
    {
     "name": "stdout",
     "output_type": "stream",
     "text": [
      "Run [ 800] - Total reward: 11267.00 Mean scores: 21.74 Means Scores[:-10]: 22.70 Score: 24 \n"
     ]
    },
    {
     "name": "stderr",
     "output_type": "stream",
     "text": [
      " 16%|█▌        | 811/5000 [45:56<4:09:49,  3.58s/it] "
     ]
    },
    {
     "name": "stdout",
     "output_type": "stream",
     "text": [
      "Run [ 810] - Total reward: 10221.00 Mean scores: 21.76 Means Scores[:-10]: 23.20 Score: 22 \n"
     ]
    },
    {
     "name": "stderr",
     "output_type": "stream",
     "text": [
      " 16%|█▋        | 821/5000 [46:28<3:44:35,  3.22s/it]"
     ]
    },
    {
     "name": "stdout",
     "output_type": "stream",
     "text": [
      "Run [ 820] - Total reward: 11279.00 Mean scores: 21.78 Means Scores[:-10]: 23.30 Score: 24 \n"
     ]
    },
    {
     "name": "stderr",
     "output_type": "stream",
     "text": [
      " 17%|█▋        | 831/5000 [47:00<3:44:05,  3.23s/it]"
     ]
    },
    {
     "name": "stdout",
     "output_type": "stream",
     "text": [
      "Run [ 830] - Total reward: 11354.00 Mean scores: 21.81 Means Scores[:-10]: 24.10 Score: 24 \n"
     ]
    },
    {
     "name": "stderr",
     "output_type": "stream",
     "text": [
      " 17%|█▋        | 841/5000 [47:33<3:49:53,  3.32s/it]"
     ]
    },
    {
     "name": "stdout",
     "output_type": "stream",
     "text": [
      "Run [ 840] - Total reward: 10178.00 Mean scores: 21.82 Means Scores[:-10]: 23.20 Score: 22 \n"
     ]
    },
    {
     "name": "stderr",
     "output_type": "stream",
     "text": [
      " 17%|█▋        | 851/5000 [48:05<3:42:31,  3.22s/it]"
     ]
    },
    {
     "name": "stdout",
     "output_type": "stream",
     "text": [
      "Run [ 850] - Total reward: 11938.00 Mean scores: 21.85 Means Scores[:-10]: 23.70 Score: 25 \n"
     ]
    },
    {
     "name": "stderr",
     "output_type": "stream",
     "text": [
      " 17%|█▋        | 861/5000 [48:37<3:41:57,  3.22s/it]"
     ]
    },
    {
     "name": "stdout",
     "output_type": "stream",
     "text": [
      "Run [ 860] - Total reward: 12450.00 Mean scores: 21.88 Means Scores[:-10]: 24.50 Score: 26 \n"
     ]
    },
    {
     "name": "stderr",
     "output_type": "stream",
     "text": [
      " 17%|█▋        | 871/5000 [49:09<3:41:35,  3.22s/it]"
     ]
    },
    {
     "name": "stdout",
     "output_type": "stream",
     "text": [
      "Run [ 870] - Total reward: 9822.00 Mean scores: 21.89 Means Scores[:-10]: 23.00 Score: 21 \n"
     ]
    },
    {
     "name": "stderr",
     "output_type": "stream",
     "text": [
      " 18%|█▊        | 881/5000 [49:42<3:42:44,  3.24s/it]"
     ]
    },
    {
     "name": "stdout",
     "output_type": "stream",
     "text": [
      "Run [ 880] - Total reward: 9746.00 Mean scores: 21.90 Means Scores[:-10]: 22.60 Score: 21 \n"
     ]
    },
    {
     "name": "stderr",
     "output_type": "stream",
     "text": [
      " 18%|█▊        | 891/5000 [50:14<3:39:23,  3.20s/it]"
     ]
    },
    {
     "name": "stdout",
     "output_type": "stream",
     "text": [
      "Run [ 890] - Total reward: 11836.00 Mean scores: 21.92 Means Scores[:-10]: 23.70 Score: 25 \n"
     ]
    },
    {
     "name": "stderr",
     "output_type": "stream",
     "text": [
      " 18%|█▊        | 901/5000 [50:46<3:41:08,  3.24s/it]"
     ]
    },
    {
     "name": "stdout",
     "output_type": "stream",
     "text": [
      "Run [ 900] - Total reward: 11681.00 Mean scores: 21.93 Means Scores[:-10]: 23.20 Score: 25 \n"
     ]
    },
    {
     "name": "stderr",
     "output_type": "stream",
     "text": [
      " 18%|█▊        | 911/5000 [51:19<3:39:16,  3.22s/it]"
     ]
    },
    {
     "name": "stdout",
     "output_type": "stream",
     "text": [
      "Run [ 910] - Total reward: 10741.00 Mean scores: 21.95 Means Scores[:-10]: 23.10 Score: 23 \n"
     ]
    },
    {
     "name": "stderr",
     "output_type": "stream",
     "text": [
      " 18%|█▊        | 921/5000 [51:52<3:51:54,  3.41s/it]"
     ]
    },
    {
     "name": "stdout",
     "output_type": "stream",
     "text": [
      "Run [ 920] - Total reward: 9722.00 Mean scores: 21.95 Means Scores[:-10]: 22.30 Score: 21 \n"
     ]
    },
    {
     "name": "stderr",
     "output_type": "stream",
     "text": [
      " 19%|█▊        | 931/5000 [52:23<3:31:08,  3.11s/it]"
     ]
    },
    {
     "name": "stdout",
     "output_type": "stream",
     "text": [
      "Run [ 930] - Total reward: 11754.00 Mean scores: 21.97 Means Scores[:-10]: 23.60 Score: 25 \n"
     ]
    },
    {
     "name": "stderr",
     "output_type": "stream",
     "text": [
      " 19%|█▉        | 941/5000 [52:55<3:35:14,  3.18s/it]"
     ]
    },
    {
     "name": "stdout",
     "output_type": "stream",
     "text": [
      "Run [ 940] - Total reward: 10716.00 Mean scores: 21.97 Means Scores[:-10]: 22.50 Score: 23 \n"
     ]
    },
    {
     "name": "stderr",
     "output_type": "stream",
     "text": [
      " 19%|█▉        | 951/5000 [53:27<3:38:41,  3.24s/it]"
     ]
    },
    {
     "name": "stdout",
     "output_type": "stream",
     "text": [
      "Run [ 950] - Total reward: 10073.00 Mean scores: 21.99 Means Scores[:-10]: 23.30 Score: 22 \n"
     ]
    },
    {
     "name": "stderr",
     "output_type": "stream",
     "text": [
      " 19%|█▉        | 961/5000 [54:00<3:36:08,  3.21s/it]"
     ]
    },
    {
     "name": "stdout",
     "output_type": "stream",
     "text": [
      "Run [ 960] - Total reward: 10808.00 Mean scores: 21.99 Means Scores[:-10]: 22.60 Score: 23 \n"
     ]
    },
    {
     "name": "stderr",
     "output_type": "stream",
     "text": [
      " 19%|█▉        | 971/5000 [54:32<3:33:40,  3.18s/it]"
     ]
    },
    {
     "name": "stdout",
     "output_type": "stream",
     "text": [
      "Run [ 970] - Total reward: 10194.00 Mean scores: 22.01 Means Scores[:-10]: 23.40 Score: 22 \n"
     ]
    },
    {
     "name": "stderr",
     "output_type": "stream",
     "text": [
      " 20%|█▉        | 981/5000 [55:03<3:33:32,  3.19s/it]"
     ]
    },
    {
     "name": "stdout",
     "output_type": "stream",
     "text": [
      "Run [ 980] - Total reward: 11210.00 Mean scores: 22.02 Means Scores[:-10]: 23.20 Score: 24 \n"
     ]
    },
    {
     "name": "stderr",
     "output_type": "stream",
     "text": [
      " 20%|█▉        | 991/5000 [55:36<3:41:14,  3.31s/it]"
     ]
    },
    {
     "name": "stdout",
     "output_type": "stream",
     "text": [
      "Run [ 990] - Total reward: 11288.00 Mean scores: 22.03 Means Scores[:-10]: 22.80 Score: 24 \n"
     ]
    },
    {
     "name": "stderr",
     "output_type": "stream",
     "text": [
      " 20%|██        | 1001/5000 [56:08<3:33:26,  3.20s/it]"
     ]
    },
    {
     "name": "stdout",
     "output_type": "stream",
     "text": [
      "Run [1000] - Total reward: 10843.00 Mean scores: 22.03 Means Scores[:-10]: 22.70 Score: 23 \n"
     ]
    },
    {
     "name": "stderr",
     "output_type": "stream",
     "text": [
      " 20%|██        | 1011/5000 [57:00<4:14:07,  3.82s/it] "
     ]
    },
    {
     "name": "stdout",
     "output_type": "stream",
     "text": [
      "Run [1010] - Total reward: 11786.00 Mean scores: 22.04 Means Scores[:-10]: 23.10 Score: 25 \n"
     ]
    },
    {
     "name": "stderr",
     "output_type": "stream",
     "text": [
      " 20%|██        | 1021/5000 [57:32<3:37:31,  3.28s/it]"
     ]
    },
    {
     "name": "stdout",
     "output_type": "stream",
     "text": [
      "Run [1020] - Total reward: 10944.00 Mean scores: 22.05 Means Scores[:-10]: 22.20 Score: 23 \n"
     ]
    },
    {
     "name": "stderr",
     "output_type": "stream",
     "text": [
      " 21%|██        | 1031/5000 [58:04<3:33:02,  3.22s/it]"
     ]
    },
    {
     "name": "stdout",
     "output_type": "stream",
     "text": [
      "Run [1030] - Total reward: 11385.00 Mean scores: 22.06 Means Scores[:-10]: 23.10 Score: 24 \n"
     ]
    },
    {
     "name": "stderr",
     "output_type": "stream",
     "text": [
      " 21%|██        | 1041/5000 [58:36<3:32:56,  3.23s/it]"
     ]
    },
    {
     "name": "stdout",
     "output_type": "stream",
     "text": [
      "Run [1040] - Total reward: 10200.00 Mean scores: 22.06 Means Scores[:-10]: 22.40 Score: 22 \n"
     ]
    },
    {
     "name": "stderr",
     "output_type": "stream",
     "text": [
      " 21%|██        | 1051/5000 [59:08<3:30:30,  3.20s/it]"
     ]
    },
    {
     "name": "stdout",
     "output_type": "stream",
     "text": [
      "Run [1050] - Total reward: 9723.00 Mean scores: 22.07 Means Scores[:-10]: 23.30 Score: 21 \n"
     ]
    },
    {
     "name": "stderr",
     "output_type": "stream",
     "text": [
      " 21%|██        | 1061/5000 [59:41<3:34:07,  3.26s/it]"
     ]
    },
    {
     "name": "stdout",
     "output_type": "stream",
     "text": [
      "Run [1060] - Total reward: 11258.00 Mean scores: 22.09 Means Scores[:-10]: 23.70 Score: 24 \n"
     ]
    },
    {
     "name": "stderr",
     "output_type": "stream",
     "text": [
      " 21%|██▏       | 1071/5000 [1:00:13<3:28:10,  3.18s/it]"
     ]
    },
    {
     "name": "stdout",
     "output_type": "stream",
     "text": [
      "Run [1070] - Total reward: 10120.00 Mean scores: 22.10 Means Scores[:-10]: 23.10 Score: 22 \n"
     ]
    },
    {
     "name": "stderr",
     "output_type": "stream",
     "text": [
      " 22%|██▏       | 1081/5000 [1:00:45<3:28:14,  3.19s/it]"
     ]
    },
    {
     "name": "stdout",
     "output_type": "stream",
     "text": [
      "Run [1080] - Total reward: 11244.00 Mean scores: 22.11 Means Scores[:-10]: 23.50 Score: 24 \n"
     ]
    },
    {
     "name": "stderr",
     "output_type": "stream",
     "text": [
      " 22%|██▏       | 1091/5000 [1:01:17<3:26:52,  3.18s/it]"
     ]
    },
    {
     "name": "stdout",
     "output_type": "stream",
     "text": [
      "Run [1090] - Total reward: 11822.00 Mean scores: 22.12 Means Scores[:-10]: 23.30 Score: 25 \n"
     ]
    },
    {
     "name": "stderr",
     "output_type": "stream",
     "text": [
      " 22%|██▏       | 1101/5000 [1:01:49<3:30:51,  3.24s/it]"
     ]
    },
    {
     "name": "stdout",
     "output_type": "stream",
     "text": [
      "Run [1100] - Total reward: 10720.00 Mean scores: 22.12 Means Scores[:-10]: 22.60 Score: 23 \n"
     ]
    },
    {
     "name": "stderr",
     "output_type": "stream",
     "text": [
      " 22%|██▏       | 1111/5000 [1:02:21<3:27:05,  3.20s/it]"
     ]
    },
    {
     "name": "stdout",
     "output_type": "stream",
     "text": [
      "Run [1110] - Total reward: 11283.00 Mean scores: 22.14 Means Scores[:-10]: 23.50 Score: 24 \n"
     ]
    },
    {
     "name": "stderr",
     "output_type": "stream",
     "text": [
      " 22%|██▏       | 1121/5000 [1:02:54<3:42:23,  3.44s/it]"
     ]
    },
    {
     "name": "stdout",
     "output_type": "stream",
     "text": [
      "Run [1120] - Total reward: 11272.00 Mean scores: 22.15 Means Scores[:-10]: 23.60 Score: 24 \n"
     ]
    },
    {
     "name": "stderr",
     "output_type": "stream",
     "text": [
      " 23%|██▎       | 1131/5000 [1:03:26<3:27:00,  3.21s/it]"
     ]
    },
    {
     "name": "stdout",
     "output_type": "stream",
     "text": [
      "Run [1130] - Total reward: 9168.00 Mean scores: 22.15 Means Scores[:-10]: 22.50 Score: 20 \n"
     ]
    },
    {
     "name": "stderr",
     "output_type": "stream",
     "text": [
      " 23%|██▎       | 1141/5000 [1:03:58<3:25:20,  3.19s/it]"
     ]
    },
    {
     "name": "stdout",
     "output_type": "stream",
     "text": [
      "Run [1140] - Total reward: 10209.00 Mean scores: 22.15 Means Scores[:-10]: 22.10 Score: 22 \n"
     ]
    },
    {
     "name": "stderr",
     "output_type": "stream",
     "text": [
      " 23%|██▎       | 1151/5000 [1:04:30<3:24:48,  3.19s/it]"
     ]
    },
    {
     "name": "stdout",
     "output_type": "stream",
     "text": [
      "Run [1150] - Total reward: 9746.00 Mean scores: 22.15 Means Scores[:-10]: 22.20 Score: 21 \n"
     ]
    },
    {
     "name": "stderr",
     "output_type": "stream",
     "text": [
      " 23%|██▎       | 1161/5000 [1:05:02<3:24:34,  3.20s/it]"
     ]
    },
    {
     "name": "stdout",
     "output_type": "stream",
     "text": [
      "Run [1160] - Total reward: 10655.00 Mean scores: 22.15 Means Scores[:-10]: 22.30 Score: 23 \n"
     ]
    },
    {
     "name": "stderr",
     "output_type": "stream",
     "text": [
      " 23%|██▎       | 1171/5000 [1:05:34<3:27:24,  3.25s/it]"
     ]
    },
    {
     "name": "stdout",
     "output_type": "stream",
     "text": [
      "Run [1170] - Total reward: 10660.00 Mean scores: 22.16 Means Scores[:-10]: 22.80 Score: 23 \n"
     ]
    },
    {
     "name": "stderr",
     "output_type": "stream",
     "text": [
      " 24%|██▎       | 1181/5000 [1:06:06<3:23:39,  3.20s/it]"
     ]
    },
    {
     "name": "stdout",
     "output_type": "stream",
     "text": [
      "Run [1180] - Total reward: 10139.00 Mean scores: 22.17 Means Scores[:-10]: 23.30 Score: 22 \n"
     ]
    },
    {
     "name": "stderr",
     "output_type": "stream",
     "text": [
      " 24%|██▍       | 1191/5000 [1:06:38<3:22:42,  3.19s/it]"
     ]
    },
    {
     "name": "stdout",
     "output_type": "stream",
     "text": [
      "Run [1190] - Total reward: 11267.00 Mean scores: 22.18 Means Scores[:-10]: 22.90 Score: 24 \n"
     ]
    },
    {
     "name": "stderr",
     "output_type": "stream",
     "text": [
      " 24%|██▍       | 1201/5000 [1:07:10<3:21:33,  3.18s/it]"
     ]
    },
    {
     "name": "stdout",
     "output_type": "stream",
     "text": [
      "Run [1200] - Total reward: 9664.00 Mean scores: 22.18 Means Scores[:-10]: 22.30 Score: 21 \n"
     ]
    },
    {
     "name": "stderr",
     "output_type": "stream",
     "text": [
      " 24%|██▍       | 1211/5000 [1:08:00<4:16:17,  4.06s/it]"
     ]
    },
    {
     "name": "stdout",
     "output_type": "stream",
     "text": [
      "Run [1210] - Total reward: 10310.00 Mean scores: 22.18 Means Scores[:-10]: 22.50 Score: 22 \n"
     ]
    },
    {
     "name": "stderr",
     "output_type": "stream",
     "text": [
      " 24%|██▍       | 1221/5000 [1:08:32<3:22:11,  3.21s/it]"
     ]
    },
    {
     "name": "stdout",
     "output_type": "stream",
     "text": [
      "Run [1220] - Total reward: 11746.00 Mean scores: 22.19 Means Scores[:-10]: 22.90 Score: 25 \n"
     ]
    },
    {
     "name": "stderr",
     "output_type": "stream",
     "text": [
      " 25%|██▍       | 1231/5000 [1:09:04<3:21:04,  3.20s/it]"
     ]
    },
    {
     "name": "stdout",
     "output_type": "stream",
     "text": [
      "Run [1230] - Total reward: 10110.00 Mean scores: 22.19 Means Scores[:-10]: 22.90 Score: 22 \n"
     ]
    },
    {
     "name": "stderr",
     "output_type": "stream",
     "text": [
      " 25%|██▍       | 1241/5000 [1:09:36<3:26:06,  3.29s/it]"
     ]
    },
    {
     "name": "stdout",
     "output_type": "stream",
     "text": [
      "Run [1240] - Total reward: 11168.00 Mean scores: 22.20 Means Scores[:-10]: 23.40 Score: 24 \n"
     ]
    },
    {
     "name": "stderr",
     "output_type": "stream",
     "text": [
      " 25%|██▌       | 1251/5000 [1:10:08<3:20:21,  3.21s/it]"
     ]
    },
    {
     "name": "stdout",
     "output_type": "stream",
     "text": [
      "Run [1250] - Total reward: 11275.00 Mean scores: 22.21 Means Scores[:-10]: 23.00 Score: 24 \n"
     ]
    },
    {
     "name": "stderr",
     "output_type": "stream",
     "text": [
      " 25%|██▌       | 1261/5000 [1:10:40<3:20:27,  3.22s/it]"
     ]
    },
    {
     "name": "stdout",
     "output_type": "stream",
     "text": [
      "Run [1260] - Total reward: 9725.00 Mean scores: 22.20 Means Scores[:-10]: 21.70 Score: 21 \n"
     ]
    },
    {
     "name": "stderr",
     "output_type": "stream",
     "text": [
      " 25%|██▌       | 1271/5000 [1:11:13<3:20:09,  3.22s/it]"
     ]
    },
    {
     "name": "stdout",
     "output_type": "stream",
     "text": [
      "Run [1270] - Total reward: 9772.00 Mean scores: 22.20 Means Scores[:-10]: 22.40 Score: 21 \n"
     ]
    },
    {
     "name": "stderr",
     "output_type": "stream",
     "text": [
      " 26%|██▌       | 1281/5000 [1:11:46<3:24:03,  3.29s/it]"
     ]
    },
    {
     "name": "stdout",
     "output_type": "stream",
     "text": [
      "Run [1280] - Total reward: 10086.00 Mean scores: 22.21 Means Scores[:-10]: 22.70 Score: 22 \n"
     ]
    },
    {
     "name": "stderr",
     "output_type": "stream",
     "text": [
      " 26%|██▌       | 1291/5000 [1:12:18<3:18:44,  3.21s/it]"
     ]
    },
    {
     "name": "stdout",
     "output_type": "stream",
     "text": [
      "Run [1290] - Total reward: 10792.00 Mean scores: 22.21 Means Scores[:-10]: 22.70 Score: 23 \n"
     ]
    },
    {
     "name": "stderr",
     "output_type": "stream",
     "text": [
      " 26%|██▌       | 1301/5000 [1:12:50<3:18:24,  3.22s/it]"
     ]
    },
    {
     "name": "stdout",
     "output_type": "stream",
     "text": [
      "Run [1300] - Total reward: 10744.00 Mean scores: 22.22 Means Scores[:-10]: 22.60 Score: 23 \n"
     ]
    },
    {
     "name": "stderr",
     "output_type": "stream",
     "text": [
      " 26%|██▌       | 1311/5000 [1:13:22<3:17:54,  3.22s/it]"
     ]
    },
    {
     "name": "stdout",
     "output_type": "stream",
     "text": [
      "Run [1310] - Total reward: 9661.00 Mean scores: 22.22 Means Scores[:-10]: 22.70 Score: 21 \n"
     ]
    },
    {
     "name": "stderr",
     "output_type": "stream",
     "text": [
      " 26%|██▋       | 1321/5000 [1:13:55<3:21:24,  3.28s/it]"
     ]
    },
    {
     "name": "stdout",
     "output_type": "stream",
     "text": [
      "Run [1320] - Total reward: 10795.00 Mean scores: 22.22 Means Scores[:-10]: 23.00 Score: 23 \n"
     ]
    },
    {
     "name": "stderr",
     "output_type": "stream",
     "text": [
      " 27%|██▋       | 1331/5000 [1:14:26<3:11:29,  3.13s/it]"
     ]
    },
    {
     "name": "stdout",
     "output_type": "stream",
     "text": [
      "Run [1330] - Total reward: 11246.00 Mean scores: 22.23 Means Scores[:-10]: 23.10 Score: 24 \n"
     ]
    },
    {
     "name": "stderr",
     "output_type": "stream",
     "text": [
      " 27%|██▋       | 1341/5000 [1:14:58<3:15:17,  3.20s/it]"
     ]
    },
    {
     "name": "stdout",
     "output_type": "stream",
     "text": [
      "Run [1340] - Total reward: 9891.00 Mean scores: 22.24 Means Scores[:-10]: 22.80 Score: 21 \n"
     ]
    },
    {
     "name": "stderr",
     "output_type": "stream",
     "text": [
      " 27%|██▋       | 1351/5000 [1:15:31<3:20:46,  3.30s/it]"
     ]
    },
    {
     "name": "stdout",
     "output_type": "stream",
     "text": [
      "Run [1350] - Total reward: 10724.00 Mean scores: 22.24 Means Scores[:-10]: 22.90 Score: 23 \n"
     ]
    },
    {
     "name": "stderr",
     "output_type": "stream",
     "text": [
      " 27%|██▋       | 1361/5000 [1:16:03<3:15:27,  3.22s/it]"
     ]
    },
    {
     "name": "stdout",
     "output_type": "stream",
     "text": [
      "Run [1360] - Total reward: 10342.00 Mean scores: 22.24 Means Scores[:-10]: 22.20 Score: 22 \n"
     ]
    },
    {
     "name": "stderr",
     "output_type": "stream",
     "text": [
      " 27%|██▋       | 1371/5000 [1:16:35<3:14:28,  3.22s/it]"
     ]
    },
    {
     "name": "stdout",
     "output_type": "stream",
     "text": [
      "Run [1370] - Total reward: 10883.00 Mean scores: 22.24 Means Scores[:-10]: 22.30 Score: 23 \n"
     ]
    },
    {
     "name": "stderr",
     "output_type": "stream",
     "text": [
      " 28%|██▊       | 1381/5000 [1:17:07<3:13:45,  3.21s/it]"
     ]
    },
    {
     "name": "stdout",
     "output_type": "stream",
     "text": [
      "Run [1380] - Total reward: 11979.00 Mean scores: 22.25 Means Scores[:-10]: 23.60 Score: 25 \n"
     ]
    },
    {
     "name": "stderr",
     "output_type": "stream",
     "text": [
      " 28%|██▊       | 1391/5000 [1:17:40<3:18:55,  3.31s/it]"
     ]
    },
    {
     "name": "stdout",
     "output_type": "stream",
     "text": [
      "Run [1390] - Total reward: 10732.00 Mean scores: 22.26 Means Scores[:-10]: 23.00 Score: 23 \n"
     ]
    },
    {
     "name": "stderr",
     "output_type": "stream",
     "text": [
      " 28%|██▊       | 1401/5000 [1:18:12<3:12:02,  3.20s/it]"
     ]
    },
    {
     "name": "stdout",
     "output_type": "stream",
     "text": [
      "Run [1400] - Total reward: 11214.00 Mean scores: 22.27 Means Scores[:-10]: 23.80 Score: 24 \n"
     ]
    },
    {
     "name": "stderr",
     "output_type": "stream",
     "text": [
      " 28%|██▊       | 1411/5000 [1:19:02<4:24:53,  4.43s/it]"
     ]
    },
    {
     "name": "stdout",
     "output_type": "stream",
     "text": [
      "Run [1410] - Total reward: 10183.00 Mean scores: 22.27 Means Scores[:-10]: 22.50 Score: 22 \n"
     ]
    },
    {
     "name": "stderr",
     "output_type": "stream",
     "text": [
      " 28%|██▊       | 1421/5000 [1:19:34<3:14:17,  3.26s/it]"
     ]
    },
    {
     "name": "stdout",
     "output_type": "stream",
     "text": [
      "Run [1420] - Total reward: 9152.00 Mean scores: 22.28 Means Scores[:-10]: 23.30 Score: 20 \n"
     ]
    },
    {
     "name": "stderr",
     "output_type": "stream",
     "text": [
      " 29%|██▊       | 1431/5000 [1:20:06<3:09:47,  3.19s/it]"
     ]
    },
    {
     "name": "stdout",
     "output_type": "stream",
     "text": [
      "Run [1430] - Total reward: 10209.00 Mean scores: 22.28 Means Scores[:-10]: 22.60 Score: 22 \n"
     ]
    },
    {
     "name": "stderr",
     "output_type": "stream",
     "text": [
      " 29%|██▉       | 1441/5000 [1:20:38<3:09:11,  3.19s/it]"
     ]
    },
    {
     "name": "stdout",
     "output_type": "stream",
     "text": [
      "Run [1440] - Total reward: 10244.00 Mean scores: 22.28 Means Scores[:-10]: 21.90 Score: 22 \n"
     ]
    },
    {
     "name": "stderr",
     "output_type": "stream",
     "text": [
      " 29%|██▉       | 1451/5000 [1:21:10<3:08:21,  3.18s/it]"
     ]
    },
    {
     "name": "stdout",
     "output_type": "stream",
     "text": [
      "Run [1450] - Total reward: 11402.00 Mean scores: 22.28 Means Scores[:-10]: 22.80 Score: 24 \n"
     ]
    },
    {
     "name": "stderr",
     "output_type": "stream",
     "text": [
      " 29%|██▉       | 1461/5000 [1:21:42<3:14:29,  3.30s/it]"
     ]
    },
    {
     "name": "stdout",
     "output_type": "stream",
     "text": [
      "Run [1460] - Total reward: 11250.00 Mean scores: 22.29 Means Scores[:-10]: 23.40 Score: 24 \n"
     ]
    },
    {
     "name": "stderr",
     "output_type": "stream",
     "text": [
      " 29%|██▉       | 1471/5000 [1:22:15<3:09:14,  3.22s/it]"
     ]
    },
    {
     "name": "stdout",
     "output_type": "stream",
     "text": [
      "Run [1470] - Total reward: 11164.00 Mean scores: 22.29 Means Scores[:-10]: 23.00 Score: 24 \n"
     ]
    },
    {
     "name": "stderr",
     "output_type": "stream",
     "text": [
      " 30%|██▉       | 1481/5000 [1:22:47<3:08:27,  3.21s/it]"
     ]
    },
    {
     "name": "stdout",
     "output_type": "stream",
     "text": [
      "Run [1480] - Total reward: 10878.00 Mean scores: 22.29 Means Scores[:-10]: 22.30 Score: 23 \n"
     ]
    },
    {
     "name": "stderr",
     "output_type": "stream",
     "text": [
      " 30%|██▉       | 1491/5000 [1:23:19<3:07:18,  3.20s/it]"
     ]
    },
    {
     "name": "stdout",
     "output_type": "stream",
     "text": [
      "Run [1490] - Total reward: 10826.00 Mean scores: 22.29 Means Scores[:-10]: 22.60 Score: 23 \n"
     ]
    },
    {
     "name": "stderr",
     "output_type": "stream",
     "text": [
      " 30%|███       | 1501/5000 [1:23:51<3:09:37,  3.25s/it]"
     ]
    },
    {
     "name": "stdout",
     "output_type": "stream",
     "text": [
      "Run [1500] - Total reward: 10187.00 Mean scores: 22.30 Means Scores[:-10]: 23.70 Score: 22 \n"
     ]
    },
    {
     "name": "stderr",
     "output_type": "stream",
     "text": [
      " 30%|███       | 1511/5000 [1:24:23<3:06:22,  3.21s/it]"
     ]
    },
    {
     "name": "stdout",
     "output_type": "stream",
     "text": [
      "Run [1510] - Total reward: 11306.00 Mean scores: 22.31 Means Scores[:-10]: 23.20 Score: 24 \n"
     ]
    },
    {
     "name": "stderr",
     "output_type": "stream",
     "text": [
      " 30%|███       | 1521/5000 [1:24:56<3:14:06,  3.35s/it]"
     ]
    },
    {
     "name": "stdout",
     "output_type": "stream",
     "text": [
      "Run [1520] - Total reward: 10680.00 Mean scores: 22.31 Means Scores[:-10]: 22.40 Score: 23 \n"
     ]
    },
    {
     "name": "stderr",
     "output_type": "stream",
     "text": [
      " 31%|███       | 1531/5000 [1:25:29<3:04:27,  3.19s/it]"
     ]
    },
    {
     "name": "stdout",
     "output_type": "stream",
     "text": [
      "Run [1530] - Total reward: 10115.00 Mean scores: 22.31 Means Scores[:-10]: 23.10 Score: 22 \n"
     ]
    },
    {
     "name": "stderr",
     "output_type": "stream",
     "text": [
      " 31%|███       | 1541/5000 [1:26:01<3:04:29,  3.20s/it]"
     ]
    },
    {
     "name": "stdout",
     "output_type": "stream",
     "text": [
      "Run [1540] - Total reward: 10223.00 Mean scores: 22.32 Means Scores[:-10]: 22.40 Score: 22 \n"
     ]
    },
    {
     "name": "stderr",
     "output_type": "stream",
     "text": [
      " 31%|███       | 1551/5000 [1:26:33<3:04:10,  3.20s/it]"
     ]
    },
    {
     "name": "stdout",
     "output_type": "stream",
     "text": [
      "Run [1550] - Total reward: 9166.00 Mean scores: 22.31 Means Scores[:-10]: 21.90 Score: 20 \n"
     ]
    },
    {
     "name": "stderr",
     "output_type": "stream",
     "text": [
      " 31%|███       | 1561/5000 [1:27:05<3:02:40,  3.19s/it]"
     ]
    },
    {
     "name": "stdout",
     "output_type": "stream",
     "text": [
      "Run [1560] - Total reward: 11234.00 Mean scores: 22.31 Means Scores[:-10]: 22.60 Score: 24 \n"
     ]
    },
    {
     "name": "stderr",
     "output_type": "stream",
     "text": [
      " 31%|███▏      | 1571/5000 [1:27:37<3:05:10,  3.24s/it]"
     ]
    },
    {
     "name": "stdout",
     "output_type": "stream",
     "text": [
      "Run [1570] - Total reward: 9689.00 Mean scores: 22.31 Means Scores[:-10]: 22.20 Score: 21 \n"
     ]
    },
    {
     "name": "stderr",
     "output_type": "stream",
     "text": [
      " 32%|███▏      | 1581/5000 [1:28:10<3:02:58,  3.21s/it]"
     ]
    },
    {
     "name": "stdout",
     "output_type": "stream",
     "text": [
      "Run [1580] - Total reward: 9187.00 Mean scores: 22.31 Means Scores[:-10]: 22.50 Score: 20 \n"
     ]
    },
    {
     "name": "stderr",
     "output_type": "stream",
     "text": [
      " 32%|███▏      | 1591/5000 [1:28:42<3:02:07,  3.21s/it]"
     ]
    },
    {
     "name": "stdout",
     "output_type": "stream",
     "text": [
      "Run [1590] - Total reward: 11247.00 Mean scores: 22.32 Means Scores[:-10]: 22.40 Score: 24 \n"
     ]
    },
    {
     "name": "stderr",
     "output_type": "stream",
     "text": [
      " 32%|███▏      | 1601/5000 [1:29:14<3:01:17,  3.20s/it]"
     ]
    },
    {
     "name": "stdout",
     "output_type": "stream",
     "text": [
      "Run [1600] - Total reward: 10592.00 Mean scores: 22.32 Means Scores[:-10]: 23.00 Score: 23 \n"
     ]
    },
    {
     "name": "stderr",
     "output_type": "stream",
     "text": [
      " 32%|███▏      | 1611/5000 [1:30:05<4:52:38,  5.18s/it]"
     ]
    },
    {
     "name": "stdout",
     "output_type": "stream",
     "text": [
      "Run [1610] - Total reward: 10134.00 Mean scores: 22.33 Means Scores[:-10]: 23.40 Score: 22 \n"
     ]
    },
    {
     "name": "stderr",
     "output_type": "stream",
     "text": [
      " 32%|███▏      | 1621/5000 [1:30:38<3:11:57,  3.41s/it]"
     ]
    },
    {
     "name": "stdout",
     "output_type": "stream",
     "text": [
      "Run [1620] - Total reward: 11795.00 Mean scores: 22.34 Means Scores[:-10]: 24.10 Score: 25 \n"
     ]
    },
    {
     "name": "stderr",
     "output_type": "stream",
     "text": [
      " 33%|███▎      | 1631/5000 [1:31:10<3:00:29,  3.21s/it]"
     ]
    },
    {
     "name": "stdout",
     "output_type": "stream",
     "text": [
      "Run [1630] - Total reward: 9828.00 Mean scores: 22.34 Means Scores[:-10]: 22.40 Score: 21 \n"
     ]
    },
    {
     "name": "stderr",
     "output_type": "stream",
     "text": [
      " 33%|███▎      | 1641/5000 [1:31:43<3:05:03,  3.31s/it]"
     ]
    },
    {
     "name": "stdout",
     "output_type": "stream",
     "text": [
      "Run [1640] - Total reward: 11225.00 Mean scores: 22.34 Means Scores[:-10]: 22.70 Score: 24 \n"
     ]
    },
    {
     "name": "stderr",
     "output_type": "stream",
     "text": [
      " 33%|███▎      | 1651/5000 [1:32:16<3:00:24,  3.23s/it]"
     ]
    },
    {
     "name": "stdout",
     "output_type": "stream",
     "text": [
      "Run [1650] - Total reward: 10234.00 Mean scores: 22.34 Means Scores[:-10]: 21.60 Score: 22 \n"
     ]
    },
    {
     "name": "stderr",
     "output_type": "stream",
     "text": [
      " 33%|███▎      | 1661/5000 [1:32:48<2:58:36,  3.21s/it]"
     ]
    },
    {
     "name": "stdout",
     "output_type": "stream",
     "text": [
      "Run [1660] - Total reward: 10418.00 Mean scores: 22.34 Means Scores[:-10]: 22.30 Score: 22 \n"
     ]
    },
    {
     "name": "stderr",
     "output_type": "stream",
     "text": [
      " 33%|███▎      | 1671/5000 [1:33:20<2:58:19,  3.21s/it]"
     ]
    },
    {
     "name": "stdout",
     "output_type": "stream",
     "text": [
      "Run [1670] - Total reward: 11881.00 Mean scores: 22.34 Means Scores[:-10]: 22.80 Score: 25 \n"
     ]
    },
    {
     "name": "stderr",
     "output_type": "stream",
     "text": [
      " 34%|███▎      | 1681/5000 [1:33:53<2:59:53,  3.25s/it]"
     ]
    },
    {
     "name": "stdout",
     "output_type": "stream",
     "text": [
      "Run [1680] - Total reward: 9672.00 Mean scores: 22.34 Means Scores[:-10]: 22.10 Score: 21 \n"
     ]
    },
    {
     "name": "stderr",
     "output_type": "stream",
     "text": [
      " 34%|███▍      | 1691/5000 [1:34:27<3:28:40,  3.78s/it]"
     ]
    },
    {
     "name": "stdout",
     "output_type": "stream",
     "text": [
      "Run [1690] - Total reward: 9789.00 Mean scores: 22.34 Means Scores[:-10]: 22.50 Score: 21 \n"
     ]
    },
    {
     "name": "stderr",
     "output_type": "stream",
     "text": [
      " 34%|███▍      | 1701/5000 [1:34:59<2:57:06,  3.22s/it]"
     ]
    },
    {
     "name": "stdout",
     "output_type": "stream",
     "text": [
      "Run [1700] - Total reward: 9728.00 Mean scores: 22.33 Means Scores[:-10]: 21.80 Score: 21 \n"
     ]
    },
    {
     "name": "stderr",
     "output_type": "stream",
     "text": [
      " 34%|███▍      | 1711/5000 [1:35:33<3:04:43,  3.37s/it]"
     ]
    },
    {
     "name": "stdout",
     "output_type": "stream",
     "text": [
      "Run [1710] - Total reward: 11810.00 Mean scores: 22.34 Means Scores[:-10]: 23.00 Score: 25 \n"
     ]
    },
    {
     "name": "stderr",
     "output_type": "stream",
     "text": [
      " 34%|███▍      | 1721/5000 [1:36:06<3:04:59,  3.39s/it]"
     ]
    },
    {
     "name": "stdout",
     "output_type": "stream",
     "text": [
      "Run [1720] - Total reward: 11693.00 Mean scores: 22.34 Means Scores[:-10]: 23.00 Score: 25 \n"
     ]
    },
    {
     "name": "stderr",
     "output_type": "stream",
     "text": [
      " 35%|███▍      | 1731/5000 [1:36:39<2:53:15,  3.18s/it]"
     ]
    },
    {
     "name": "stdout",
     "output_type": "stream",
     "text": [
      "Run [1730] - Total reward: 11243.00 Mean scores: 22.34 Means Scores[:-10]: 21.70 Score: 24 \n"
     ]
    },
    {
     "name": "stderr",
     "output_type": "stream",
     "text": [
      " 35%|███▍      | 1741/5000 [1:37:11<2:54:26,  3.21s/it]"
     ]
    },
    {
     "name": "stdout",
     "output_type": "stream",
     "text": [
      "Run [1740] - Total reward: 9714.00 Mean scores: 22.34 Means Scores[:-10]: 22.10 Score: 21 \n"
     ]
    },
    {
     "name": "stderr",
     "output_type": "stream",
     "text": [
      " 35%|███▌      | 1751/5000 [1:37:43<2:55:50,  3.25s/it]"
     ]
    },
    {
     "name": "stdout",
     "output_type": "stream",
     "text": [
      "Run [1750] - Total reward: 11310.00 Mean scores: 22.34 Means Scores[:-10]: 23.60 Score: 24 \n"
     ]
    },
    {
     "name": "stderr",
     "output_type": "stream",
     "text": [
      " 35%|███▌      | 1761/5000 [1:38:17<2:59:34,  3.33s/it]"
     ]
    },
    {
     "name": "stdout",
     "output_type": "stream",
     "text": [
      "Run [1760] - Total reward: 10239.00 Mean scores: 22.35 Means Scores[:-10]: 22.50 Score: 22 \n"
     ]
    },
    {
     "name": "stderr",
     "output_type": "stream",
     "text": [
      " 35%|███▌      | 1771/5000 [1:38:48<2:52:31,  3.21s/it]"
     ]
    },
    {
     "name": "stdout",
     "output_type": "stream",
     "text": [
      "Run [1770] - Total reward: 11898.00 Mean scores: 22.35 Means Scores[:-10]: 23.40 Score: 25 \n"
     ]
    },
    {
     "name": "stderr",
     "output_type": "stream",
     "text": [
      " 36%|███▌      | 1781/5000 [1:39:21<2:52:04,  3.21s/it]"
     ]
    },
    {
     "name": "stdout",
     "output_type": "stream",
     "text": [
      "Run [1780] - Total reward: 10835.00 Mean scores: 22.35 Means Scores[:-10]: 22.50 Score: 23 \n"
     ]
    },
    {
     "name": "stderr",
     "output_type": "stream",
     "text": [
      " 36%|███▌      | 1791/5000 [1:39:53<2:53:17,  3.24s/it]"
     ]
    },
    {
     "name": "stdout",
     "output_type": "stream",
     "text": [
      "Run [1790] - Total reward: 11921.00 Mean scores: 22.36 Means Scores[:-10]: 22.90 Score: 25 \n"
     ]
    },
    {
     "name": "stderr",
     "output_type": "stream",
     "text": [
      " 36%|███▌      | 1801/5000 [1:40:25<2:52:05,  3.23s/it]"
     ]
    },
    {
     "name": "stdout",
     "output_type": "stream",
     "text": [
      "Run [1800] - Total reward: 10309.00 Mean scores: 22.36 Means Scores[:-10]: 23.20 Score: 22 \n"
     ]
    },
    {
     "name": "stderr",
     "output_type": "stream",
     "text": [
      " 36%|███▌      | 1811/5000 [1:41:17<5:20:53,  6.04s/it]"
     ]
    },
    {
     "name": "stdout",
     "output_type": "stream",
     "text": [
      "Run [1810] - Total reward: 10093.00 Mean scores: 22.36 Means Scores[:-10]: 22.90 Score: 22 \n"
     ]
    },
    {
     "name": "stderr",
     "output_type": "stream",
     "text": [
      " 36%|███▋      | 1821/5000 [1:41:49<2:56:20,  3.33s/it]"
     ]
    },
    {
     "name": "stdout",
     "output_type": "stream",
     "text": [
      "Run [1820] - Total reward: 9354.00 Mean scores: 22.37 Means Scores[:-10]: 23.30 Score: 20 \n"
     ]
    },
    {
     "name": "stderr",
     "output_type": "stream",
     "text": [
      " 37%|███▋      | 1831/5000 [1:42:21<2:48:51,  3.20s/it]"
     ]
    },
    {
     "name": "stdout",
     "output_type": "stream",
     "text": [
      "Run [1830] - Total reward: 12302.00 Mean scores: 22.37 Means Scores[:-10]: 22.20 Score: 26 \n"
     ]
    },
    {
     "name": "stderr",
     "output_type": "stream",
     "text": [
      " 37%|███▋      | 1841/5000 [1:42:53<2:51:28,  3.26s/it]"
     ]
    },
    {
     "name": "stdout",
     "output_type": "stream",
     "text": [
      "Run [1840] - Total reward: 10837.00 Mean scores: 22.37 Means Scores[:-10]: 22.20 Score: 23 \n"
     ]
    },
    {
     "name": "stderr",
     "output_type": "stream",
     "text": [
      " 37%|███▋      | 1851/5000 [1:43:25<2:52:16,  3.28s/it]"
     ]
    },
    {
     "name": "stdout",
     "output_type": "stream",
     "text": [
      "Run [1850] - Total reward: 9133.00 Mean scores: 22.37 Means Scores[:-10]: 22.40 Score: 20 \n"
     ]
    },
    {
     "name": "stderr",
     "output_type": "stream",
     "text": [
      " 37%|███▋      | 1861/5000 [1:43:58<2:48:55,  3.23s/it]"
     ]
    },
    {
     "name": "stdout",
     "output_type": "stream",
     "text": [
      "Run [1860] - Total reward: 10677.00 Mean scores: 22.37 Means Scores[:-10]: 22.50 Score: 23 \n"
     ]
    },
    {
     "name": "stderr",
     "output_type": "stream",
     "text": [
      " 37%|███▋      | 1871/5000 [1:44:30<2:47:19,  3.21s/it]"
     ]
    },
    {
     "name": "stdout",
     "output_type": "stream",
     "text": [
      "Run [1870] - Total reward: 10344.00 Mean scores: 22.37 Means Scores[:-10]: 22.70 Score: 22 \n"
     ]
    },
    {
     "name": "stderr",
     "output_type": "stream",
     "text": [
      " 38%|███▊      | 1881/5000 [1:45:02<2:46:17,  3.20s/it]"
     ]
    },
    {
     "name": "stdout",
     "output_type": "stream",
     "text": [
      "Run [1880] - Total reward: 9179.00 Mean scores: 22.37 Means Scores[:-10]: 22.10 Score: 20 \n"
     ]
    },
    {
     "name": "stderr",
     "output_type": "stream",
     "text": [
      " 38%|███▊      | 1891/5000 [1:45:34<2:47:36,  3.23s/it]"
     ]
    },
    {
     "name": "stdout",
     "output_type": "stream",
     "text": [
      "Run [1890] - Total reward: 10234.00 Mean scores: 22.37 Means Scores[:-10]: 22.20 Score: 22 \n"
     ]
    },
    {
     "name": "stderr",
     "output_type": "stream",
     "text": [
      " 38%|███▊      | 1901/5000 [1:46:06<2:45:25,  3.20s/it]"
     ]
    },
    {
     "name": "stdout",
     "output_type": "stream",
     "text": [
      "Run [1900] - Total reward: 11327.00 Mean scores: 22.37 Means Scores[:-10]: 23.10 Score: 24 \n"
     ]
    },
    {
     "name": "stderr",
     "output_type": "stream",
     "text": [
      " 38%|███▊      | 1911/5000 [1:46:38<2:44:14,  3.19s/it]"
     ]
    },
    {
     "name": "stdout",
     "output_type": "stream",
     "text": [
      "Run [1910] - Total reward: 10776.00 Mean scores: 22.37 Means Scores[:-10]: 22.70 Score: 23 \n"
     ]
    },
    {
     "name": "stderr",
     "output_type": "stream",
     "text": [
      " 38%|███▊      | 1921/5000 [1:47:12<2:57:24,  3.46s/it]"
     ]
    },
    {
     "name": "stdout",
     "output_type": "stream",
     "text": [
      "Run [1920] - Total reward: 10716.00 Mean scores: 22.37 Means Scores[:-10]: 22.80 Score: 23 \n"
     ]
    },
    {
     "name": "stderr",
     "output_type": "stream",
     "text": [
      " 39%|███▊      | 1931/5000 [1:47:44<2:41:16,  3.15s/it]"
     ]
    },
    {
     "name": "stdout",
     "output_type": "stream",
     "text": [
      "Run [1930] - Total reward: 10796.00 Mean scores: 22.37 Means Scores[:-10]: 22.20 Score: 23 \n"
     ]
    },
    {
     "name": "stderr",
     "output_type": "stream",
     "text": [
      " 39%|███▉      | 1941/5000 [1:48:16<2:42:46,  3.19s/it]"
     ]
    },
    {
     "name": "stdout",
     "output_type": "stream",
     "text": [
      "Run [1940] - Total reward: 10871.00 Mean scores: 22.37 Means Scores[:-10]: 22.40 Score: 23 \n"
     ]
    },
    {
     "name": "stderr",
     "output_type": "stream",
     "text": [
      " 39%|███▉      | 1951/5000 [1:48:48<2:43:39,  3.22s/it]"
     ]
    },
    {
     "name": "stdout",
     "output_type": "stream",
     "text": [
      "Run [1950] - Total reward: 10770.00 Mean scores: 22.38 Means Scores[:-10]: 23.10 Score: 23 \n"
     ]
    },
    {
     "name": "stderr",
     "output_type": "stream",
     "text": [
      " 39%|███▉      | 1961/5000 [1:49:20<2:42:08,  3.20s/it]"
     ]
    },
    {
     "name": "stdout",
     "output_type": "stream",
     "text": [
      "Run [1960] - Total reward: 10766.00 Mean scores: 22.38 Means Scores[:-10]: 22.50 Score: 23 \n"
     ]
    },
    {
     "name": "stderr",
     "output_type": "stream",
     "text": [
      " 39%|███▉      | 1971/5000 [1:49:53<2:46:15,  3.29s/it]"
     ]
    },
    {
     "name": "stdout",
     "output_type": "stream",
     "text": [
      "Run [1970] - Total reward: 11237.00 Mean scores: 22.38 Means Scores[:-10]: 23.00 Score: 24 \n"
     ]
    },
    {
     "name": "stderr",
     "output_type": "stream",
     "text": [
      " 40%|███▉      | 1981/5000 [1:50:25<2:41:30,  3.21s/it]"
     ]
    },
    {
     "name": "stdout",
     "output_type": "stream",
     "text": [
      "Run [1980] - Total reward: 8724.00 Mean scores: 22.38 Means Scores[:-10]: 22.40 Score: 19 \n"
     ]
    },
    {
     "name": "stderr",
     "output_type": "stream",
     "text": [
      " 40%|███▉      | 1991/5000 [1:50:57<2:40:45,  3.21s/it]"
     ]
    },
    {
     "name": "stdout",
     "output_type": "stream",
     "text": [
      "Run [1990] - Total reward: 11331.00 Mean scores: 22.38 Means Scores[:-10]: 23.10 Score: 24 \n"
     ]
    },
    {
     "name": "stderr",
     "output_type": "stream",
     "text": [
      " 40%|████      | 2001/5000 [1:51:30<2:51:18,  3.43s/it]"
     ]
    },
    {
     "name": "stdout",
     "output_type": "stream",
     "text": [
      "Run [2000] - Total reward: 11835.00 Mean scores: 22.39 Means Scores[:-10]: 22.90 Score: 25 \n"
     ]
    },
    {
     "name": "stderr",
     "output_type": "stream",
     "text": [
      " 40%|████      | 2011/5000 [1:52:22<5:58:09,  7.19s/it]"
     ]
    },
    {
     "name": "stdout",
     "output_type": "stream",
     "text": [
      "Run [2010] - Total reward: 11852.00 Mean scores: 22.39 Means Scores[:-10]: 22.70 Score: 25 \n"
     ]
    },
    {
     "name": "stderr",
     "output_type": "stream",
     "text": [
      " 40%|████      | 2021/5000 [1:52:53<2:42:33,  3.27s/it]"
     ]
    },
    {
     "name": "stdout",
     "output_type": "stream",
     "text": [
      "Run [2020] - Total reward: 9766.00 Mean scores: 22.39 Means Scores[:-10]: 22.20 Score: 21 \n"
     ]
    },
    {
     "name": "stderr",
     "output_type": "stream",
     "text": [
      " 41%|████      | 2031/5000 [1:53:25<2:40:32,  3.24s/it]"
     ]
    },
    {
     "name": "stdout",
     "output_type": "stream",
     "text": [
      "Run [2030] - Total reward: 9686.00 Mean scores: 22.39 Means Scores[:-10]: 22.50 Score: 21 \n"
     ]
    },
    {
     "name": "stderr",
     "output_type": "stream",
     "text": [
      " 41%|████      | 2041/5000 [1:53:58<2:40:17,  3.25s/it]"
     ]
    },
    {
     "name": "stdout",
     "output_type": "stream",
     "text": [
      "Run [2040] - Total reward: 9258.00 Mean scores: 22.39 Means Scores[:-10]: 22.20 Score: 20 \n"
     ]
    },
    {
     "name": "stderr",
     "output_type": "stream",
     "text": [
      " 41%|████      | 2051/5000 [1:54:30<2:36:05,  3.18s/it]"
     ]
    },
    {
     "name": "stdout",
     "output_type": "stream",
     "text": [
      "Run [2050] - Total reward: 10047.00 Mean scores: 22.39 Means Scores[:-10]: 22.10 Score: 22 \n"
     ]
    },
    {
     "name": "stderr",
     "output_type": "stream",
     "text": [
      " 41%|████      | 2061/5000 [1:55:02<2:36:48,  3.20s/it]"
     ]
    },
    {
     "name": "stdout",
     "output_type": "stream",
     "text": [
      "Run [2060] - Total reward: 10139.00 Mean scores: 22.39 Means Scores[:-10]: 23.00 Score: 22 \n"
     ]
    },
    {
     "name": "stderr",
     "output_type": "stream",
     "text": [
      " 41%|████▏     | 2071/5000 [1:55:34<2:38:02,  3.24s/it]"
     ]
    },
    {
     "name": "stdout",
     "output_type": "stream",
     "text": [
      "Run [2070] - Total reward: 10232.00 Mean scores: 22.39 Means Scores[:-10]: 22.40 Score: 22 \n"
     ]
    },
    {
     "name": "stderr",
     "output_type": "stream",
     "text": [
      " 42%|████▏     | 2081/5000 [1:56:06<2:35:22,  3.19s/it]"
     ]
    },
    {
     "name": "stdout",
     "output_type": "stream",
     "text": [
      "Run [2080] - Total reward: 10264.00 Mean scores: 22.39 Means Scores[:-10]: 22.80 Score: 22 \n"
     ]
    },
    {
     "name": "stderr",
     "output_type": "stream",
     "text": [
      " 42%|████▏     | 2091/5000 [1:56:38<2:35:44,  3.21s/it]"
     ]
    },
    {
     "name": "stdout",
     "output_type": "stream",
     "text": [
      "Run [2090] - Total reward: 9738.00 Mean scores: 22.39 Means Scores[:-10]: 22.60 Score: 21 \n"
     ]
    },
    {
     "name": "stderr",
     "output_type": "stream",
     "text": [
      " 42%|████▏     | 2101/5000 [1:57:10<2:33:46,  3.18s/it]"
     ]
    },
    {
     "name": "stdout",
     "output_type": "stream",
     "text": [
      "Run [2100] - Total reward: 10119.00 Mean scores: 22.39 Means Scores[:-10]: 22.20 Score: 22 \n"
     ]
    },
    {
     "name": "stderr",
     "output_type": "stream",
     "text": [
      " 42%|████▏     | 2111/5000 [1:57:42<2:35:03,  3.22s/it]"
     ]
    },
    {
     "name": "stdout",
     "output_type": "stream",
     "text": [
      "Run [2110] - Total reward: 10257.00 Mean scores: 22.39 Means Scores[:-10]: 22.50 Score: 22 \n"
     ]
    },
    {
     "name": "stderr",
     "output_type": "stream",
     "text": [
      " 42%|████▏     | 2121/5000 [1:58:16<2:46:16,  3.47s/it]"
     ]
    },
    {
     "name": "stdout",
     "output_type": "stream",
     "text": [
      "Run [2120] - Total reward: 10249.00 Mean scores: 22.39 Means Scores[:-10]: 22.80 Score: 22 \n"
     ]
    },
    {
     "name": "stderr",
     "output_type": "stream",
     "text": [
      " 43%|████▎     | 2131/5000 [1:58:48<2:29:44,  3.13s/it]"
     ]
    },
    {
     "name": "stdout",
     "output_type": "stream",
     "text": [
      "Run [2130] - Total reward: 10810.00 Mean scores: 22.39 Means Scores[:-10]: 21.70 Score: 23 \n"
     ]
    },
    {
     "name": "stderr",
     "output_type": "stream",
     "text": [
      " 43%|████▎     | 2141/5000 [1:59:19<2:31:42,  3.18s/it]"
     ]
    },
    {
     "name": "stdout",
     "output_type": "stream",
     "text": [
      "Run [2140] - Total reward: 10785.00 Mean scores: 22.39 Means Scores[:-10]: 22.70 Score: 23 \n"
     ]
    },
    {
     "name": "stderr",
     "output_type": "stream",
     "text": [
      " 43%|████▎     | 2151/5000 [1:59:52<2:36:58,  3.31s/it]"
     ]
    },
    {
     "name": "stdout",
     "output_type": "stream",
     "text": [
      "Run [2150] - Total reward: 10760.00 Mean scores: 22.39 Means Scores[:-10]: 22.60 Score: 23 \n"
     ]
    },
    {
     "name": "stderr",
     "output_type": "stream",
     "text": [
      " 43%|████▎     | 2161/5000 [2:00:24<2:31:57,  3.21s/it]"
     ]
    },
    {
     "name": "stdout",
     "output_type": "stream",
     "text": [
      "Run [2160] - Total reward: 10273.00 Mean scores: 22.39 Means Scores[:-10]: 22.60 Score: 22 \n"
     ]
    },
    {
     "name": "stderr",
     "output_type": "stream",
     "text": [
      " 43%|████▎     | 2171/5000 [2:00:56<2:30:21,  3.19s/it]"
     ]
    },
    {
     "name": "stdout",
     "output_type": "stream",
     "text": [
      "Run [2170] - Total reward: 10742.00 Mean scores: 22.40 Means Scores[:-10]: 23.30 Score: 23 \n"
     ]
    },
    {
     "name": "stderr",
     "output_type": "stream",
     "text": [
      " 44%|████▎     | 2181/5000 [2:01:28<2:32:32,  3.25s/it]"
     ]
    },
    {
     "name": "stdout",
     "output_type": "stream",
     "text": [
      "Run [2180] - Total reward: 11244.00 Mean scores: 22.40 Means Scores[:-10]: 23.20 Score: 24 \n"
     ]
    },
    {
     "name": "stderr",
     "output_type": "stream",
     "text": [
      " 44%|████▍     | 2191/5000 [2:02:00<2:30:52,  3.22s/it]"
     ]
    },
    {
     "name": "stdout",
     "output_type": "stream",
     "text": [
      "Run [2190] - Total reward: 9786.00 Mean scores: 22.40 Means Scores[:-10]: 21.80 Score: 21 \n"
     ]
    },
    {
     "name": "stderr",
     "output_type": "stream",
     "text": [
      " 44%|████▍     | 2201/5000 [2:02:32<2:29:59,  3.22s/it]"
     ]
    },
    {
     "name": "stdout",
     "output_type": "stream",
     "text": [
      "Run [2200] - Total reward: 11231.00 Mean scores: 22.40 Means Scores[:-10]: 22.40 Score: 24 \n"
     ]
    },
    {
     "name": "stderr",
     "output_type": "stream",
     "text": [
      " 44%|████▍     | 2211/5000 [2:03:23<6:41:39,  8.64s/it]"
     ]
    },
    {
     "name": "stdout",
     "output_type": "stream",
     "text": [
      "Run [2210] - Total reward: 9686.00 Mean scores: 22.40 Means Scores[:-10]: 22.40 Score: 21 \n"
     ]
    },
    {
     "name": "stderr",
     "output_type": "stream",
     "text": [
      " 44%|████▍     | 2221/5000 [2:03:54<2:35:58,  3.37s/it]"
     ]
    },
    {
     "name": "stdout",
     "output_type": "stream",
     "text": [
      "Run [2220] - Total reward: 10733.00 Mean scores: 22.40 Means Scores[:-10]: 22.60 Score: 23 \n"
     ]
    },
    {
     "name": "stderr",
     "output_type": "stream",
     "text": [
      " 45%|████▍     | 2231/5000 [2:04:26<2:27:26,  3.19s/it]"
     ]
    },
    {
     "name": "stdout",
     "output_type": "stream",
     "text": [
      "Run [2230] - Total reward: 11350.00 Mean scores: 22.40 Means Scores[:-10]: 22.50 Score: 24 \n"
     ]
    },
    {
     "name": "stderr",
     "output_type": "stream",
     "text": [
      " 45%|████▍     | 2241/5000 [2:04:58<2:26:57,  3.20s/it]"
     ]
    },
    {
     "name": "stdout",
     "output_type": "stream",
     "text": [
      "Run [2240] - Total reward: 11315.00 Mean scores: 22.40 Means Scores[:-10]: 22.80 Score: 24 \n"
     ]
    },
    {
     "name": "stderr",
     "output_type": "stream",
     "text": [
      " 45%|████▌     | 2251/5000 [2:05:31<2:31:10,  3.30s/it]"
     ]
    },
    {
     "name": "stdout",
     "output_type": "stream",
     "text": [
      "Run [2250] - Total reward: 10764.00 Mean scores: 22.40 Means Scores[:-10]: 22.10 Score: 23 \n"
     ]
    },
    {
     "name": "stderr",
     "output_type": "stream",
     "text": [
      " 45%|████▌     | 2261/5000 [2:06:03<2:28:12,  3.25s/it]"
     ]
    },
    {
     "name": "stdout",
     "output_type": "stream",
     "text": [
      "Run [2260] - Total reward: 9177.00 Mean scores: 22.40 Means Scores[:-10]: 22.40 Score: 20 \n"
     ]
    },
    {
     "name": "stderr",
     "output_type": "stream",
     "text": [
      " 45%|████▌     | 2271/5000 [2:06:35<2:30:20,  3.31s/it]"
     ]
    },
    {
     "name": "stdout",
     "output_type": "stream",
     "text": [
      "Run [2270] - Total reward: 10752.00 Mean scores: 22.41 Means Scores[:-10]: 24.00 Score: 23 \n"
     ]
    },
    {
     "name": "stderr",
     "output_type": "stream",
     "text": [
      " 46%|████▌     | 2281/5000 [2:07:08<2:26:31,  3.23s/it]"
     ]
    },
    {
     "name": "stdout",
     "output_type": "stream",
     "text": [
      "Run [2280] - Total reward: 11239.00 Mean scores: 22.41 Means Scores[:-10]: 22.80 Score: 24 \n"
     ]
    },
    {
     "name": "stderr",
     "output_type": "stream",
     "text": [
      " 46%|████▌     | 2291/5000 [2:07:41<2:27:02,  3.26s/it]"
     ]
    },
    {
     "name": "stdout",
     "output_type": "stream",
     "text": [
      "Run [2290] - Total reward: 10749.00 Mean scores: 22.41 Means Scores[:-10]: 22.80 Score: 23 \n"
     ]
    },
    {
     "name": "stderr",
     "output_type": "stream",
     "text": [
      " 46%|████▌     | 2301/5000 [2:08:13<2:24:49,  3.22s/it]"
     ]
    },
    {
     "name": "stdout",
     "output_type": "stream",
     "text": [
      "Run [2300] - Total reward: 11080.00 Mean scores: 22.42 Means Scores[:-10]: 23.30 Score: 24 \n"
     ]
    },
    {
     "name": "stderr",
     "output_type": "stream",
     "text": [
      " 46%|████▌     | 2311/5000 [2:08:45<2:23:52,  3.21s/it]"
     ]
    },
    {
     "name": "stdout",
     "output_type": "stream",
     "text": [
      "Run [2310] - Total reward: 9793.00 Mean scores: 22.41 Means Scores[:-10]: 22.40 Score: 21 \n"
     ]
    },
    {
     "name": "stderr",
     "output_type": "stream",
     "text": [
      " 46%|████▋     | 2321/5000 [2:09:17<2:24:04,  3.23s/it]"
     ]
    },
    {
     "name": "stdout",
     "output_type": "stream",
     "text": [
      "Run [2320] - Total reward: 9692.00 Mean scores: 22.41 Means Scores[:-10]: 22.10 Score: 21 \n"
     ]
    },
    {
     "name": "stderr",
     "output_type": "stream",
     "text": [
      " 47%|████▋     | 2331/5000 [2:09:49<2:22:42,  3.21s/it]"
     ]
    },
    {
     "name": "stdout",
     "output_type": "stream",
     "text": [
      "Run [2330] - Total reward: 12314.00 Mean scores: 22.42 Means Scores[:-10]: 23.50 Score: 26 \n"
     ]
    },
    {
     "name": "stderr",
     "output_type": "stream",
     "text": [
      " 47%|████▋     | 2341/5000 [2:10:22<2:23:05,  3.23s/it]"
     ]
    },
    {
     "name": "stdout",
     "output_type": "stream",
     "text": [
      "Run [2340] - Total reward: 9774.00 Mean scores: 22.42 Means Scores[:-10]: 22.60 Score: 21 \n"
     ]
    },
    {
     "name": "stderr",
     "output_type": "stream",
     "text": [
      " 47%|████▋     | 2351/5000 [2:10:54<2:21:16,  3.20s/it]"
     ]
    },
    {
     "name": "stdout",
     "output_type": "stream",
     "text": [
      "Run [2350] - Total reward: 11364.00 Mean scores: 22.42 Means Scores[:-10]: 23.30 Score: 24 \n"
     ]
    },
    {
     "name": "stderr",
     "output_type": "stream",
     "text": [
      " 47%|████▋     | 2361/5000 [2:11:26<2:21:18,  3.21s/it]"
     ]
    },
    {
     "name": "stdout",
     "output_type": "stream",
     "text": [
      "Run [2360] - Total reward: 10824.00 Mean scores: 22.42 Means Scores[:-10]: 22.70 Score: 23 \n"
     ]
    },
    {
     "name": "stderr",
     "output_type": "stream",
     "text": [
      " 47%|████▋     | 2371/5000 [2:12:00<2:26:22,  3.34s/it]"
     ]
    },
    {
     "name": "stdout",
     "output_type": "stream",
     "text": [
      "Run [2370] - Total reward: 11334.00 Mean scores: 22.43 Means Scores[:-10]: 23.00 Score: 24 \n"
     ]
    },
    {
     "name": "stderr",
     "output_type": "stream",
     "text": [
      " 48%|████▊     | 2381/5000 [2:12:32<2:20:28,  3.22s/it]"
     ]
    },
    {
     "name": "stdout",
     "output_type": "stream",
     "text": [
      "Run [2380] - Total reward: 8676.00 Mean scores: 22.43 Means Scores[:-10]: 22.10 Score: 19 \n"
     ]
    },
    {
     "name": "stderr",
     "output_type": "stream",
     "text": [
      " 48%|████▊     | 2391/5000 [2:13:04<2:19:44,  3.21s/it]"
     ]
    },
    {
     "name": "stdout",
     "output_type": "stream",
     "text": [
      "Run [2390] - Total reward: 11281.00 Mean scores: 22.43 Means Scores[:-10]: 23.40 Score: 24 \n"
     ]
    },
    {
     "name": "stderr",
     "output_type": "stream",
     "text": [
      " 48%|████▊     | 2401/5000 [2:13:36<2:20:43,  3.25s/it]"
     ]
    },
    {
     "name": "stdout",
     "output_type": "stream",
     "text": [
      "Run [2400] - Total reward: 11839.00 Mean scores: 22.43 Means Scores[:-10]: 23.30 Score: 25 \n"
     ]
    },
    {
     "name": "stderr",
     "output_type": "stream",
     "text": [
      " 48%|████▊     | 2411/5000 [2:14:09<2:19:48,  3.24s/it]"
     ]
    },
    {
     "name": "stdout",
     "output_type": "stream",
     "text": [
      "Run [2410] - Total reward: 10616.00 Mean scores: 22.43 Means Scores[:-10]: 22.40 Score: 23 \n"
     ]
    },
    {
     "name": "stderr",
     "output_type": "stream",
     "text": [
      " 48%|████▊     | 2421/5000 [2:16:07<13:06:32, 18.30s/it]"
     ]
    },
    {
     "name": "stdout",
     "output_type": "stream",
     "text": [
      "Run [2420] - Total reward: 10848.00 Mean scores: 22.43 Means Scores[:-10]: 22.80 Score: 23 \n"
     ]
    },
    {
     "name": "stderr",
     "output_type": "stream",
     "text": [
      " 49%|████▊     | 2431/5000 [2:17:36<3:18:21,  4.63s/it] "
     ]
    },
    {
     "name": "stdout",
     "output_type": "stream",
     "text": [
      "Run [2430] - Total reward: 10889.00 Mean scores: 22.43 Means Scores[:-10]: 21.80 Score: 23 \n"
     ]
    },
    {
     "name": "stderr",
     "output_type": "stream",
     "text": [
      " 49%|████▉     | 2441/5000 [2:18:09<2:17:41,  3.23s/it]"
     ]
    },
    {
     "name": "stdout",
     "output_type": "stream",
     "text": [
      "Run [2440] - Total reward: 10815.00 Mean scores: 22.43 Means Scores[:-10]: 22.80 Score: 23 \n"
     ]
    },
    {
     "name": "stderr",
     "output_type": "stream",
     "text": [
      " 49%|████▉     | 2451/5000 [2:18:41<2:16:11,  3.21s/it]"
     ]
    },
    {
     "name": "stdout",
     "output_type": "stream",
     "text": [
      "Run [2450] - Total reward: 12779.00 Mean scores: 22.44 Means Scores[:-10]: 23.80 Score: 27 \n"
     ]
    },
    {
     "name": "stderr",
     "output_type": "stream",
     "text": [
      " 49%|████▉     | 2461/5000 [2:19:13<2:15:42,  3.21s/it]"
     ]
    },
    {
     "name": "stdout",
     "output_type": "stream",
     "text": [
      "Run [2460] - Total reward: 10056.00 Mean scores: 22.44 Means Scores[:-10]: 22.80 Score: 22 \n"
     ]
    },
    {
     "name": "stderr",
     "output_type": "stream",
     "text": [
      " 49%|████▉     | 2471/5000 [2:19:45<2:17:57,  3.27s/it]"
     ]
    },
    {
     "name": "stdout",
     "output_type": "stream",
     "text": [
      "Run [2470] - Total reward: 10306.00 Mean scores: 22.44 Means Scores[:-10]: 22.10 Score: 22 \n"
     ]
    },
    {
     "name": "stderr",
     "output_type": "stream",
     "text": [
      " 50%|████▉     | 2481/5000 [2:20:19<2:20:19,  3.34s/it]"
     ]
    },
    {
     "name": "stdout",
     "output_type": "stream",
     "text": [
      "Run [2480] - Total reward: 10638.00 Mean scores: 22.44 Means Scores[:-10]: 22.40 Score: 23 \n"
     ]
    },
    {
     "name": "stderr",
     "output_type": "stream",
     "text": [
      " 50%|████▉     | 2491/5000 [2:20:51<2:13:53,  3.20s/it]"
     ]
    },
    {
     "name": "stdout",
     "output_type": "stream",
     "text": [
      "Run [2490] - Total reward: 11305.00 Mean scores: 22.44 Means Scores[:-10]: 22.50 Score: 24 \n"
     ]
    },
    {
     "name": "stderr",
     "output_type": "stream",
     "text": [
      " 50%|█████     | 2501/5000 [2:21:23<2:13:18,  3.20s/it]"
     ]
    },
    {
     "name": "stdout",
     "output_type": "stream",
     "text": [
      "Run [2500] - Total reward: 10248.00 Mean scores: 22.45 Means Scores[:-10]: 24.00 Score: 22 \n"
     ]
    },
    {
     "name": "stderr",
     "output_type": "stream",
     "text": [
      " 50%|█████     | 2511/5000 [2:21:56<2:17:39,  3.32s/it]"
     ]
    },
    {
     "name": "stdout",
     "output_type": "stream",
     "text": [
      "Run [2510] - Total reward: 10706.00 Mean scores: 22.45 Means Scores[:-10]: 23.80 Score: 23 \n"
     ]
    },
    {
     "name": "stderr",
     "output_type": "stream",
     "text": [
      " 50%|█████     | 2521/5000 [2:22:28<2:13:50,  3.24s/it]"
     ]
    },
    {
     "name": "stdout",
     "output_type": "stream",
     "text": [
      "Run [2520] - Total reward: 11284.00 Mean scores: 22.45 Means Scores[:-10]: 22.60 Score: 24 \n"
     ]
    },
    {
     "name": "stderr",
     "output_type": "stream",
     "text": [
      " 51%|█████     | 2531/5000 [2:23:00<2:12:03,  3.21s/it]"
     ]
    },
    {
     "name": "stdout",
     "output_type": "stream",
     "text": [
      "Run [2530] - Total reward: 11899.00 Mean scores: 22.45 Means Scores[:-10]: 23.40 Score: 25 \n"
     ]
    },
    {
     "name": "stderr",
     "output_type": "stream",
     "text": [
      " 51%|█████     | 2541/5000 [2:23:32<2:13:53,  3.27s/it]"
     ]
    },
    {
     "name": "stdout",
     "output_type": "stream",
     "text": [
      "Run [2540] - Total reward: 9767.00 Mean scores: 22.46 Means Scores[:-10]: 23.10 Score: 21 \n"
     ]
    },
    {
     "name": "stderr",
     "output_type": "stream",
     "text": [
      " 51%|█████     | 2551/5000 [2:24:04<2:12:42,  3.25s/it]"
     ]
    },
    {
     "name": "stdout",
     "output_type": "stream",
     "text": [
      "Run [2550] - Total reward: 10228.00 Mean scores: 22.46 Means Scores[:-10]: 22.00 Score: 22 \n"
     ]
    },
    {
     "name": "stderr",
     "output_type": "stream",
     "text": [
      " 51%|█████     | 2561/5000 [2:24:36<2:09:25,  3.18s/it]"
     ]
    },
    {
     "name": "stdout",
     "output_type": "stream",
     "text": [
      "Run [2560] - Total reward: 10646.00 Mean scores: 22.46 Means Scores[:-10]: 23.00 Score: 23 \n"
     ]
    },
    {
     "name": "stderr",
     "output_type": "stream",
     "text": [
      " 51%|█████▏    | 2571/5000 [2:25:08<2:09:09,  3.19s/it]"
     ]
    },
    {
     "name": "stdout",
     "output_type": "stream",
     "text": [
      "Run [2570] - Total reward: 11130.00 Mean scores: 22.46 Means Scores[:-10]: 22.70 Score: 24 \n"
     ]
    },
    {
     "name": "stderr",
     "output_type": "stream",
     "text": [
      " 52%|█████▏    | 2581/5000 [2:25:41<2:10:47,  3.24s/it]"
     ]
    },
    {
     "name": "stdout",
     "output_type": "stream",
     "text": [
      "Run [2580] - Total reward: 10663.00 Mean scores: 22.46 Means Scores[:-10]: 22.90 Score: 23 \n"
     ]
    },
    {
     "name": "stderr",
     "output_type": "stream",
     "text": [
      " 52%|█████▏    | 2591/5000 [2:26:13<2:08:41,  3.21s/it]"
     ]
    },
    {
     "name": "stdout",
     "output_type": "stream",
     "text": [
      "Run [2590] - Total reward: 10687.00 Mean scores: 22.46 Means Scores[:-10]: 23.20 Score: 23 \n"
     ]
    },
    {
     "name": "stderr",
     "output_type": "stream",
     "text": [
      " 52%|█████▏    | 2601/5000 [2:26:45<2:08:12,  3.21s/it]"
     ]
    },
    {
     "name": "stdout",
     "output_type": "stream",
     "text": [
      "Run [2600] - Total reward: 10679.00 Mean scores: 22.46 Means Scores[:-10]: 21.70 Score: 23 \n"
     ]
    },
    {
     "name": "stderr",
     "output_type": "stream",
     "text": [
      " 52%|█████▏    | 2611/5000 [2:27:17<2:07:37,  3.21s/it]"
     ]
    },
    {
     "name": "stdout",
     "output_type": "stream",
     "text": [
      "Run [2610] - Total reward: 10189.00 Mean scores: 22.46 Means Scores[:-10]: 22.80 Score: 22 \n"
     ]
    },
    {
     "name": "stderr",
     "output_type": "stream",
     "text": [
      " 52%|█████▏    | 2621/5000 [2:28:08<2:18:07,  3.48s/it]"
     ]
    },
    {
     "name": "stdout",
     "output_type": "stream",
     "text": [
      "Run [2620] - Total reward: 9738.00 Mean scores: 22.46 Means Scores[:-10]: 22.10 Score: 21 \n"
     ]
    },
    {
     "name": "stderr",
     "output_type": "stream",
     "text": [
      " 53%|█████▎    | 2631/5000 [2:28:40<2:06:01,  3.19s/it]"
     ]
    },
    {
     "name": "stdout",
     "output_type": "stream",
     "text": [
      "Run [2630] - Total reward: 10676.00 Mean scores: 22.46 Means Scores[:-10]: 23.00 Score: 23 \n"
     ]
    },
    {
     "name": "stderr",
     "output_type": "stream",
     "text": [
      " 53%|█████▎    | 2641/5000 [2:29:12<2:06:00,  3.20s/it]"
     ]
    },
    {
     "name": "stdout",
     "output_type": "stream",
     "text": [
      "Run [2640] - Total reward: 10757.00 Mean scores: 22.46 Means Scores[:-10]: 23.20 Score: 23 \n"
     ]
    },
    {
     "name": "stderr",
     "output_type": "stream",
     "text": [
      " 53%|█████▎    | 2651/5000 [2:29:44<2:06:02,  3.22s/it]"
     ]
    },
    {
     "name": "stdout",
     "output_type": "stream",
     "text": [
      "Run [2650] - Total reward: 9159.00 Mean scores: 22.46 Means Scores[:-10]: 22.30 Score: 20 \n"
     ]
    },
    {
     "name": "stderr",
     "output_type": "stream",
     "text": [
      " 53%|█████▎    | 2661/5000 [2:30:16<2:05:38,  3.22s/it]"
     ]
    },
    {
     "name": "stdout",
     "output_type": "stream",
     "text": [
      "Run [2660] - Total reward: 10716.00 Mean scores: 22.47 Means Scores[:-10]: 23.60 Score: 23 \n"
     ]
    },
    {
     "name": "stderr",
     "output_type": "stream",
     "text": [
      " 53%|█████▎    | 2671/5000 [2:30:49<2:05:17,  3.23s/it]"
     ]
    },
    {
     "name": "stdout",
     "output_type": "stream",
     "text": [
      "Run [2670] - Total reward: 10201.00 Mean scores: 22.47 Means Scores[:-10]: 22.80 Score: 22 \n"
     ]
    },
    {
     "name": "stderr",
     "output_type": "stream",
     "text": [
      " 54%|█████▎    | 2681/5000 [2:31:21<2:03:50,  3.20s/it]"
     ]
    },
    {
     "name": "stdout",
     "output_type": "stream",
     "text": [
      "Run [2680] - Total reward: 11315.00 Mean scores: 22.47 Means Scores[:-10]: 23.10 Score: 24 \n"
     ]
    },
    {
     "name": "stderr",
     "output_type": "stream",
     "text": [
      " 54%|█████▍    | 2691/5000 [2:31:53<2:04:16,  3.23s/it]"
     ]
    },
    {
     "name": "stdout",
     "output_type": "stream",
     "text": [
      "Run [2690] - Total reward: 11791.00 Mean scores: 22.47 Means Scores[:-10]: 23.00 Score: 25 \n"
     ]
    },
    {
     "name": "stderr",
     "output_type": "stream",
     "text": [
      " 54%|█████▍    | 2701/5000 [2:32:26<2:02:39,  3.20s/it]"
     ]
    },
    {
     "name": "stdout",
     "output_type": "stream",
     "text": [
      "Run [2700] - Total reward: 10258.00 Mean scores: 22.48 Means Scores[:-10]: 22.70 Score: 22 \n"
     ]
    },
    {
     "name": "stderr",
     "output_type": "stream",
     "text": [
      " 54%|█████▍    | 2711/5000 [2:32:58<2:02:19,  3.21s/it]"
     ]
    },
    {
     "name": "stdout",
     "output_type": "stream",
     "text": [
      "Run [2710] - Total reward: 10292.00 Mean scores: 22.48 Means Scores[:-10]: 23.40 Score: 22 \n"
     ]
    },
    {
     "name": "stderr",
     "output_type": "stream",
     "text": [
      " 54%|█████▍    | 2721/5000 [2:33:30<2:01:50,  3.21s/it]"
     ]
    },
    {
     "name": "stdout",
     "output_type": "stream",
     "text": [
      "Run [2720] - Total reward: 10287.00 Mean scores: 22.48 Means Scores[:-10]: 22.80 Score: 22 \n"
     ]
    },
    {
     "name": "stderr",
     "output_type": "stream",
     "text": [
      " 55%|█████▍    | 2731/5000 [2:34:01<2:02:34,  3.24s/it]"
     ]
    },
    {
     "name": "stdout",
     "output_type": "stream",
     "text": [
      "Run [2730] - Total reward: 9739.00 Mean scores: 22.48 Means Scores[:-10]: 23.60 Score: 21 \n"
     ]
    },
    {
     "name": "stderr",
     "output_type": "stream",
     "text": [
      " 55%|█████▍    | 2741/5000 [2:34:35<2:07:56,  3.40s/it]"
     ]
    },
    {
     "name": "stdout",
     "output_type": "stream",
     "text": [
      "Run [2740] - Total reward: 10764.00 Mean scores: 22.48 Means Scores[:-10]: 22.10 Score: 23 \n"
     ]
    },
    {
     "name": "stderr",
     "output_type": "stream",
     "text": [
      " 55%|█████▌    | 2751/5000 [2:35:07<2:00:01,  3.20s/it]"
     ]
    },
    {
     "name": "stdout",
     "output_type": "stream",
     "text": [
      "Run [2750] - Total reward: 10673.00 Mean scores: 22.48 Means Scores[:-10]: 22.40 Score: 23 \n"
     ]
    },
    {
     "name": "stderr",
     "output_type": "stream",
     "text": [
      " 55%|█████▌    | 2761/5000 [2:35:40<2:01:35,  3.26s/it]"
     ]
    },
    {
     "name": "stdout",
     "output_type": "stream",
     "text": [
      "Run [2760] - Total reward: 9275.00 Mean scores: 22.48 Means Scores[:-10]: 22.50 Score: 20 \n"
     ]
    },
    {
     "name": "stderr",
     "output_type": "stream",
     "text": [
      " 55%|█████▌    | 2771/5000 [2:36:12<1:59:25,  3.21s/it]"
     ]
    },
    {
     "name": "stdout",
     "output_type": "stream",
     "text": [
      "Run [2770] - Total reward: 12225.00 Mean scores: 22.48 Means Scores[:-10]: 22.40 Score: 26 \n"
     ]
    },
    {
     "name": "stderr",
     "output_type": "stream",
     "text": [
      " 56%|█████▌    | 2781/5000 [2:36:44<1:58:29,  3.20s/it]"
     ]
    },
    {
     "name": "stdout",
     "output_type": "stream",
     "text": [
      "Run [2780] - Total reward: 11237.00 Mean scores: 22.48 Means Scores[:-10]: 23.30 Score: 24 \n"
     ]
    },
    {
     "name": "stderr",
     "output_type": "stream",
     "text": [
      " 56%|█████▌    | 2791/5000 [2:37:16<1:58:04,  3.21s/it]"
     ]
    },
    {
     "name": "stdout",
     "output_type": "stream",
     "text": [
      "Run [2790] - Total reward: 9714.00 Mean scores: 22.49 Means Scores[:-10]: 23.20 Score: 21 \n"
     ]
    },
    {
     "name": "stderr",
     "output_type": "stream",
     "text": [
      " 56%|█████▌    | 2801/5000 [2:37:50<2:03:53,  3.38s/it]"
     ]
    },
    {
     "name": "stdout",
     "output_type": "stream",
     "text": [
      "Run [2800] - Total reward: 11771.00 Mean scores: 22.49 Means Scores[:-10]: 22.40 Score: 25 \n"
     ]
    },
    {
     "name": "stderr",
     "output_type": "stream",
     "text": [
      " 56%|█████▌    | 2811/5000 [2:38:22<1:56:43,  3.20s/it]"
     ]
    },
    {
     "name": "stdout",
     "output_type": "stream",
     "text": [
      "Run [2810] - Total reward: 10235.00 Mean scores: 22.49 Means Scores[:-10]: 22.40 Score: 22 \n"
     ]
    },
    {
     "name": "stderr",
     "output_type": "stream",
     "text": [
      " 56%|█████▋    | 2821/5000 [2:39:13<2:10:40,  3.60s/it]"
     ]
    },
    {
     "name": "stdout",
     "output_type": "stream",
     "text": [
      "Run [2820] - Total reward: 11412.00 Mean scores: 22.49 Means Scores[:-10]: 23.00 Score: 24 \n"
     ]
    },
    {
     "name": "stderr",
     "output_type": "stream",
     "text": [
      " 57%|█████▋    | 2831/5000 [2:39:46<1:56:42,  3.23s/it]"
     ]
    },
    {
     "name": "stdout",
     "output_type": "stream",
     "text": [
      "Run [2830] - Total reward: 12300.00 Mean scores: 22.49 Means Scores[:-10]: 23.90 Score: 26 \n"
     ]
    },
    {
     "name": "stderr",
     "output_type": "stream",
     "text": [
      " 57%|█████▋    | 2841/5000 [2:40:18<1:55:39,  3.21s/it]"
     ]
    },
    {
     "name": "stdout",
     "output_type": "stream",
     "text": [
      "Run [2840] - Total reward: 9819.00 Mean scores: 22.50 Means Scores[:-10]: 23.00 Score: 21 \n"
     ]
    },
    {
     "name": "stderr",
     "output_type": "stream",
     "text": [
      " 57%|█████▋    | 2851/5000 [2:40:50<1:55:27,  3.22s/it]"
     ]
    },
    {
     "name": "stdout",
     "output_type": "stream",
     "text": [
      "Run [2850] - Total reward: 11806.00 Mean scores: 22.50 Means Scores[:-10]: 22.70 Score: 25 \n"
     ]
    },
    {
     "name": "stderr",
     "output_type": "stream",
     "text": [
      " 57%|█████▋    | 2861/5000 [2:41:22<1:53:26,  3.18s/it]"
     ]
    },
    {
     "name": "stdout",
     "output_type": "stream",
     "text": [
      "Run [2860] - Total reward: 10783.00 Mean scores: 22.50 Means Scores[:-10]: 22.30 Score: 23 \n"
     ]
    },
    {
     "name": "stderr",
     "output_type": "stream",
     "text": [
      " 57%|█████▋    | 2871/5000 [2:41:54<1:54:52,  3.24s/it]"
     ]
    },
    {
     "name": "stdout",
     "output_type": "stream",
     "text": [
      "Run [2870] - Total reward: 11700.00 Mean scores: 22.50 Means Scores[:-10]: 24.00 Score: 25 \n"
     ]
    },
    {
     "name": "stderr",
     "output_type": "stream",
     "text": [
      " 58%|█████▊    | 2881/5000 [2:42:27<1:53:32,  3.22s/it]"
     ]
    },
    {
     "name": "stdout",
     "output_type": "stream",
     "text": [
      "Run [2880] - Total reward: 10694.00 Mean scores: 22.50 Means Scores[:-10]: 21.80 Score: 23 \n"
     ]
    },
    {
     "name": "stderr",
     "output_type": "stream",
     "text": [
      " 58%|█████▊    | 2891/5000 [2:42:59<1:53:14,  3.22s/it]"
     ]
    },
    {
     "name": "stdout",
     "output_type": "stream",
     "text": [
      "Run [2890] - Total reward: 9674.00 Mean scores: 22.50 Means Scores[:-10]: 23.20 Score: 21 \n"
     ]
    },
    {
     "name": "stderr",
     "output_type": "stream",
     "text": [
      " 58%|█████▊    | 2901/5000 [2:43:31<1:53:56,  3.26s/it]"
     ]
    },
    {
     "name": "stdout",
     "output_type": "stream",
     "text": [
      "Run [2900] - Total reward: 10610.00 Mean scores: 22.50 Means Scores[:-10]: 22.20 Score: 23 \n"
     ]
    },
    {
     "name": "stderr",
     "output_type": "stream",
     "text": [
      " 58%|█████▊    | 2911/5000 [2:44:04<1:54:52,  3.30s/it]"
     ]
    },
    {
     "name": "stdout",
     "output_type": "stream",
     "text": [
      "Run [2910] - Total reward: 9783.00 Mean scores: 22.50 Means Scores[:-10]: 22.10 Score: 21 \n"
     ]
    },
    {
     "name": "stderr",
     "output_type": "stream",
     "text": [
      " 58%|█████▊    | 2921/5000 [2:44:37<1:53:11,  3.27s/it]"
     ]
    },
    {
     "name": "stdout",
     "output_type": "stream",
     "text": [
      "Run [2920] - Total reward: 10757.00 Mean scores: 22.50 Means Scores[:-10]: 22.20 Score: 23 \n"
     ]
    },
    {
     "name": "stderr",
     "output_type": "stream",
     "text": [
      " 59%|█████▊    | 2931/5000 [2:45:08<1:49:24,  3.17s/it]"
     ]
    },
    {
     "name": "stdout",
     "output_type": "stream",
     "text": [
      "Run [2930] - Total reward: 11872.00 Mean scores: 22.50 Means Scores[:-10]: 22.40 Score: 25 \n"
     ]
    },
    {
     "name": "stderr",
     "output_type": "stream",
     "text": [
      " 59%|█████▉    | 2941/5000 [2:45:41<1:50:54,  3.23s/it]"
     ]
    },
    {
     "name": "stdout",
     "output_type": "stream",
     "text": [
      "Run [2940] - Total reward: 14007.00 Mean scores: 22.50 Means Scores[:-10]: 23.10 Score: 29 \n"
     ]
    },
    {
     "name": "stderr",
     "output_type": "stream",
     "text": [
      " 59%|█████▉    | 2951/5000 [2:46:13<1:50:34,  3.24s/it]"
     ]
    },
    {
     "name": "stdout",
     "output_type": "stream",
     "text": [
      "Run [2950] - Total reward: 11246.00 Mean scores: 22.50 Means Scores[:-10]: 23.10 Score: 24 \n"
     ]
    },
    {
     "name": "stderr",
     "output_type": "stream",
     "text": [
      " 59%|█████▉    | 2961/5000 [2:46:45<1:49:15,  3.22s/it]"
     ]
    },
    {
     "name": "stdout",
     "output_type": "stream",
     "text": [
      "Run [2960] - Total reward: 9032.00 Mean scores: 22.50 Means Scores[:-10]: 22.70 Score: 20 \n"
     ]
    },
    {
     "name": "stderr",
     "output_type": "stream",
     "text": [
      " 59%|█████▉    | 2971/5000 [2:47:17<1:49:04,  3.23s/it]"
     ]
    },
    {
     "name": "stdout",
     "output_type": "stream",
     "text": [
      "Run [2970] - Total reward: 9782.00 Mean scores: 22.50 Means Scores[:-10]: 23.10 Score: 21 \n"
     ]
    },
    {
     "name": "stderr",
     "output_type": "stream",
     "text": [
      " 60%|█████▉    | 2981/5000 [2:47:50<1:49:10,  3.24s/it]"
     ]
    },
    {
     "name": "stdout",
     "output_type": "stream",
     "text": [
      "Run [2980] - Total reward: 10716.00 Mean scores: 22.51 Means Scores[:-10]: 23.30 Score: 23 \n"
     ]
    },
    {
     "name": "stderr",
     "output_type": "stream",
     "text": [
      " 60%|█████▉    | 2991/5000 [2:48:23<1:47:56,  3.22s/it]"
     ]
    },
    {
     "name": "stdout",
     "output_type": "stream",
     "text": [
      "Run [2990] - Total reward: 10221.00 Mean scores: 22.51 Means Scores[:-10]: 22.80 Score: 22 \n"
     ]
    },
    {
     "name": "stderr",
     "output_type": "stream",
     "text": [
      " 60%|██████    | 3001/5000 [2:48:55<1:47:14,  3.22s/it]"
     ]
    },
    {
     "name": "stdout",
     "output_type": "stream",
     "text": [
      "Run [3000] - Total reward: 10399.00 Mean scores: 22.51 Means Scores[:-10]: 23.10 Score: 22 \n"
     ]
    },
    {
     "name": "stderr",
     "output_type": "stream",
     "text": [
      " 60%|██████    | 3011/5000 [2:49:27<1:46:14,  3.20s/it]"
     ]
    },
    {
     "name": "stdout",
     "output_type": "stream",
     "text": [
      "Run [3010] - Total reward: 10200.00 Mean scores: 22.51 Means Scores[:-10]: 23.20 Score: 22 \n"
     ]
    },
    {
     "name": "stderr",
     "output_type": "stream",
     "text": [
      " 60%|██████    | 3021/5000 [2:50:18<2:06:02,  3.82s/it]"
     ]
    },
    {
     "name": "stdout",
     "output_type": "stream",
     "text": [
      "Run [3020] - Total reward: 10188.00 Mean scores: 22.51 Means Scores[:-10]: 23.50 Score: 22 \n"
     ]
    },
    {
     "name": "stderr",
     "output_type": "stream",
     "text": [
      " 61%|██████    | 3031/5000 [2:50:51<1:48:36,  3.31s/it]"
     ]
    },
    {
     "name": "stdout",
     "output_type": "stream",
     "text": [
      "Run [3030] - Total reward: 10703.00 Mean scores: 22.52 Means Scores[:-10]: 23.60 Score: 23 \n"
     ]
    },
    {
     "name": "stderr",
     "output_type": "stream",
     "text": [
      " 61%|██████    | 3041/5000 [2:51:23<1:44:42,  3.21s/it]"
     ]
    },
    {
     "name": "stdout",
     "output_type": "stream",
     "text": [
      "Run [3040] - Total reward: 10594.00 Mean scores: 22.52 Means Scores[:-10]: 22.60 Score: 23 \n"
     ]
    },
    {
     "name": "stderr",
     "output_type": "stream",
     "text": [
      " 61%|██████    | 3051/5000 [2:51:55<1:44:45,  3.23s/it]"
     ]
    },
    {
     "name": "stdout",
     "output_type": "stream",
     "text": [
      "Run [3050] - Total reward: 10656.00 Mean scores: 22.52 Means Scores[:-10]: 22.80 Score: 23 \n"
     ]
    },
    {
     "name": "stderr",
     "output_type": "stream",
     "text": [
      " 61%|██████    | 3061/5000 [2:52:28<1:43:46,  3.21s/it]"
     ]
    },
    {
     "name": "stdout",
     "output_type": "stream",
     "text": [
      "Run [3060] - Total reward: 10197.00 Mean scores: 22.52 Means Scores[:-10]: 23.10 Score: 22 \n"
     ]
    },
    {
     "name": "stderr",
     "output_type": "stream",
     "text": [
      " 61%|██████▏   | 3071/5000 [2:53:00<1:43:24,  3.22s/it]"
     ]
    },
    {
     "name": "stdout",
     "output_type": "stream",
     "text": [
      "Run [3070] - Total reward: 10736.00 Mean scores: 22.52 Means Scores[:-10]: 23.40 Score: 23 \n"
     ]
    },
    {
     "name": "stderr",
     "output_type": "stream",
     "text": [
      " 62%|██████▏   | 3081/5000 [2:53:32<1:42:46,  3.21s/it]"
     ]
    },
    {
     "name": "stdout",
     "output_type": "stream",
     "text": [
      "Run [3080] - Total reward: 9212.00 Mean scores: 22.52 Means Scores[:-10]: 22.60 Score: 20 \n"
     ]
    },
    {
     "name": "stderr",
     "output_type": "stream",
     "text": [
      " 62%|██████▏   | 3091/5000 [2:54:05<1:43:55,  3.27s/it]"
     ]
    },
    {
     "name": "stdout",
     "output_type": "stream",
     "text": [
      "Run [3090] - Total reward: 9061.00 Mean scores: 22.53 Means Scores[:-10]: 22.90 Score: 20 \n"
     ]
    },
    {
     "name": "stderr",
     "output_type": "stream",
     "text": [
      " 62%|██████▏   | 3101/5000 [2:54:37<1:41:36,  3.21s/it]"
     ]
    },
    {
     "name": "stdout",
     "output_type": "stream",
     "text": [
      "Run [3100] - Total reward: 10347.00 Mean scores: 22.53 Means Scores[:-10]: 23.80 Score: 22 \n"
     ]
    },
    {
     "name": "stderr",
     "output_type": "stream",
     "text": [
      " 62%|██████▏   | 3111/5000 [2:55:09<1:40:58,  3.21s/it]"
     ]
    },
    {
     "name": "stdout",
     "output_type": "stream",
     "text": [
      "Run [3110] - Total reward: 11753.00 Mean scores: 22.53 Means Scores[:-10]: 22.70 Score: 25 \n"
     ]
    },
    {
     "name": "stderr",
     "output_type": "stream",
     "text": [
      " 62%|██████▏   | 3121/5000 [2:55:42<1:42:11,  3.26s/it]"
     ]
    },
    {
     "name": "stdout",
     "output_type": "stream",
     "text": [
      "Run [3120] - Total reward: 10218.00 Mean scores: 22.53 Means Scores[:-10]: 23.30 Score: 22 \n"
     ]
    },
    {
     "name": "stderr",
     "output_type": "stream",
     "text": [
      " 63%|██████▎   | 3131/5000 [2:56:14<1:40:53,  3.24s/it]"
     ]
    },
    {
     "name": "stdout",
     "output_type": "stream",
     "text": [
      "Run [3130] - Total reward: 11228.00 Mean scores: 22.53 Means Scores[:-10]: 23.10 Score: 24 \n"
     ]
    },
    {
     "name": "stderr",
     "output_type": "stream",
     "text": [
      " 63%|██████▎   | 3141/5000 [2:56:47<1:39:55,  3.23s/it]"
     ]
    },
    {
     "name": "stdout",
     "output_type": "stream",
     "text": [
      "Run [3140] - Total reward: 10277.00 Mean scores: 22.54 Means Scores[:-10]: 23.60 Score: 22 \n"
     ]
    },
    {
     "name": "stderr",
     "output_type": "stream",
     "text": [
      " 63%|██████▎   | 3151/5000 [2:57:19<1:39:00,  3.21s/it]"
     ]
    },
    {
     "name": "stdout",
     "output_type": "stream",
     "text": [
      "Run [3150] - Total reward: 10724.00 Mean scores: 22.54 Means Scores[:-10]: 22.40 Score: 23 \n"
     ]
    },
    {
     "name": "stderr",
     "output_type": "stream",
     "text": [
      " 63%|██████▎   | 3161/5000 [2:57:51<1:38:49,  3.22s/it]"
     ]
    },
    {
     "name": "stdout",
     "output_type": "stream",
     "text": [
      "Run [3160] - Total reward: 10704.00 Mean scores: 22.54 Means Scores[:-10]: 22.60 Score: 23 \n"
     ]
    },
    {
     "name": "stderr",
     "output_type": "stream",
     "text": [
      " 63%|██████▎   | 3171/5000 [2:58:24<1:38:11,  3.22s/it]"
     ]
    },
    {
     "name": "stdout",
     "output_type": "stream",
     "text": [
      "Run [3170] - Total reward: 10322.00 Mean scores: 22.54 Means Scores[:-10]: 22.80 Score: 22 \n"
     ]
    },
    {
     "name": "stderr",
     "output_type": "stream",
     "text": [
      " 64%|██████▎   | 3181/5000 [2:58:56<1:36:51,  3.19s/it]"
     ]
    },
    {
     "name": "stdout",
     "output_type": "stream",
     "text": [
      "Run [3180] - Total reward: 12494.00 Mean scores: 22.54 Means Scores[:-10]: 22.50 Score: 26 \n"
     ]
    },
    {
     "name": "stderr",
     "output_type": "stream",
     "text": [
      " 64%|██████▍   | 3191/5000 [2:59:28<1:36:39,  3.21s/it]"
     ]
    },
    {
     "name": "stdout",
     "output_type": "stream",
     "text": [
      "Run [3190] - Total reward: 10139.00 Mean scores: 22.54 Means Scores[:-10]: 23.20 Score: 22 \n"
     ]
    },
    {
     "name": "stderr",
     "output_type": "stream",
     "text": [
      " 64%|██████▍   | 3201/5000 [3:00:01<1:39:43,  3.33s/it]"
     ]
    },
    {
     "name": "stdout",
     "output_type": "stream",
     "text": [
      "Run [3200] - Total reward: 9684.00 Mean scores: 22.54 Means Scores[:-10]: 23.00 Score: 21 \n"
     ]
    },
    {
     "name": "stderr",
     "output_type": "stream",
     "text": [
      " 64%|██████▍   | 3211/5000 [3:00:33<1:35:28,  3.20s/it]"
     ]
    },
    {
     "name": "stdout",
     "output_type": "stream",
     "text": [
      "Run [3210] - Total reward: 9112.00 Mean scores: 22.54 Means Scores[:-10]: 22.50 Score: 20 \n"
     ]
    },
    {
     "name": "stderr",
     "output_type": "stream",
     "text": [
      " 64%|██████▍   | 3221/5000 [3:01:23<2:01:18,  4.09s/it]"
     ]
    },
    {
     "name": "stdout",
     "output_type": "stream",
     "text": [
      "Run [3220] - Total reward: 9665.00 Mean scores: 22.54 Means Scores[:-10]: 23.00 Score: 21 \n"
     ]
    },
    {
     "name": "stderr",
     "output_type": "stream",
     "text": [
      " 65%|██████▍   | 3231/5000 [3:01:55<1:35:25,  3.24s/it]"
     ]
    },
    {
     "name": "stdout",
     "output_type": "stream",
     "text": [
      "Run [3230] - Total reward: 10832.00 Mean scores: 22.55 Means Scores[:-10]: 23.30 Score: 23 \n"
     ]
    },
    {
     "name": "stderr",
     "output_type": "stream",
     "text": [
      " 65%|██████▍   | 3241/5000 [3:02:28<1:34:07,  3.21s/it]"
     ]
    },
    {
     "name": "stdout",
     "output_type": "stream",
     "text": [
      "Run [3240] - Total reward: 11266.00 Mean scores: 22.55 Means Scores[:-10]: 23.00 Score: 24 \n"
     ]
    },
    {
     "name": "stderr",
     "output_type": "stream",
     "text": [
      " 65%|██████▌   | 3251/5000 [3:03:00<1:33:24,  3.20s/it]"
     ]
    },
    {
     "name": "stdout",
     "output_type": "stream",
     "text": [
      "Run [3250] - Total reward: 11216.00 Mean scores: 22.55 Means Scores[:-10]: 23.80 Score: 24 \n"
     ]
    },
    {
     "name": "stderr",
     "output_type": "stream",
     "text": [
      " 65%|██████▌   | 3261/5000 [3:03:32<1:33:04,  3.21s/it]"
     ]
    },
    {
     "name": "stdout",
     "output_type": "stream",
     "text": [
      "Run [3260] - Total reward: 9829.00 Mean scores: 22.55 Means Scores[:-10]: 22.70 Score: 21 \n"
     ]
    },
    {
     "name": "stderr",
     "output_type": "stream",
     "text": [
      " 65%|██████▌   | 3271/5000 [3:04:05<1:34:28,  3.28s/it]"
     ]
    },
    {
     "name": "stdout",
     "output_type": "stream",
     "text": [
      "Run [3270] - Total reward: 10689.00 Mean scores: 22.55 Means Scores[:-10]: 23.10 Score: 23 \n"
     ]
    },
    {
     "name": "stderr",
     "output_type": "stream",
     "text": [
      " 66%|██████▌   | 3281/5000 [3:04:37<1:32:27,  3.23s/it]"
     ]
    },
    {
     "name": "stdout",
     "output_type": "stream",
     "text": [
      "Run [3280] - Total reward: 10856.00 Mean scores: 22.56 Means Scores[:-10]: 23.50 Score: 23 \n"
     ]
    },
    {
     "name": "stderr",
     "output_type": "stream",
     "text": [
      " 66%|██████▌   | 3291/5000 [3:05:10<1:31:28,  3.21s/it]"
     ]
    },
    {
     "name": "stdout",
     "output_type": "stream",
     "text": [
      "Run [3290] - Total reward: 10878.00 Mean scores: 22.56 Means Scores[:-10]: 23.50 Score: 23 \n"
     ]
    },
    {
     "name": "stderr",
     "output_type": "stream",
     "text": [
      " 66%|██████▌   | 3301/5000 [3:05:42<1:33:39,  3.31s/it]"
     ]
    },
    {
     "name": "stdout",
     "output_type": "stream",
     "text": [
      "Run [3300] - Total reward: 10272.00 Mean scores: 22.56 Means Scores[:-10]: 23.40 Score: 22 \n"
     ]
    },
    {
     "name": "stderr",
     "output_type": "stream",
     "text": [
      " 66%|██████▌   | 3311/5000 [3:06:15<1:31:02,  3.23s/it]"
     ]
    },
    {
     "name": "stdout",
     "output_type": "stream",
     "text": [
      "Run [3310] - Total reward: 11882.00 Mean scores: 22.56 Means Scores[:-10]: 22.80 Score: 25 \n"
     ]
    },
    {
     "name": "stderr",
     "output_type": "stream",
     "text": [
      " 66%|██████▋   | 3321/5000 [3:06:47<1:28:48,  3.17s/it]"
     ]
    },
    {
     "name": "stdout",
     "output_type": "stream",
     "text": [
      "Run [3320] - Total reward: 10337.00 Mean scores: 22.57 Means Scores[:-10]: 23.60 Score: 22 \n"
     ]
    },
    {
     "name": "stderr",
     "output_type": "stream",
     "text": [
      " 67%|██████▋   | 3331/5000 [3:07:18<1:29:03,  3.20s/it]"
     ]
    },
    {
     "name": "stdout",
     "output_type": "stream",
     "text": [
      "Run [3330] - Total reward: 9751.00 Mean scores: 22.57 Means Scores[:-10]: 22.80 Score: 21 \n"
     ]
    },
    {
     "name": "stderr",
     "output_type": "stream",
     "text": [
      " 67%|██████▋   | 3341/5000 [3:07:51<1:29:11,  3.23s/it]"
     ]
    },
    {
     "name": "stdout",
     "output_type": "stream",
     "text": [
      "Run [3340] - Total reward: 10207.00 Mean scores: 22.57 Means Scores[:-10]: 23.10 Score: 22 \n"
     ]
    },
    {
     "name": "stderr",
     "output_type": "stream",
     "text": [
      " 67%|██████▋   | 3351/5000 [3:08:23<1:27:37,  3.19s/it]"
     ]
    },
    {
     "name": "stdout",
     "output_type": "stream",
     "text": [
      "Run [3350] - Total reward: 11840.00 Mean scores: 22.57 Means Scores[:-10]: 23.10 Score: 25 \n"
     ]
    },
    {
     "name": "stderr",
     "output_type": "stream",
     "text": [
      " 67%|██████▋   | 3361/5000 [3:08:55<1:27:41,  3.21s/it]"
     ]
    },
    {
     "name": "stdout",
     "output_type": "stream",
     "text": [
      "Run [3360] - Total reward: 9734.00 Mean scores: 22.57 Means Scores[:-10]: 23.20 Score: 21 \n"
     ]
    },
    {
     "name": "stderr",
     "output_type": "stream",
     "text": [
      " 67%|██████▋   | 3371/5000 [3:09:27<1:26:56,  3.20s/it]"
     ]
    },
    {
     "name": "stdout",
     "output_type": "stream",
     "text": [
      "Run [3370] - Total reward: 10133.00 Mean scores: 22.57 Means Scores[:-10]: 22.00 Score: 22 \n"
     ]
    },
    {
     "name": "stderr",
     "output_type": "stream",
     "text": [
      " 68%|██████▊   | 3381/5000 [3:10:00<1:29:58,  3.33s/it]"
     ]
    },
    {
     "name": "stdout",
     "output_type": "stream",
     "text": [
      "Run [3380] - Total reward: 11817.00 Mean scores: 22.57 Means Scores[:-10]: 23.10 Score: 25 \n"
     ]
    },
    {
     "name": "stderr",
     "output_type": "stream",
     "text": [
      " 68%|██████▊   | 3391/5000 [3:10:32<1:27:00,  3.24s/it]"
     ]
    },
    {
     "name": "stdout",
     "output_type": "stream",
     "text": [
      "Run [3390] - Total reward: 12485.00 Mean scores: 22.58 Means Scores[:-10]: 24.00 Score: 26 \n"
     ]
    },
    {
     "name": "stderr",
     "output_type": "stream",
     "text": [
      " 68%|██████▊   | 3401/5000 [3:11:04<1:25:03,  3.19s/it]"
     ]
    },
    {
     "name": "stdout",
     "output_type": "stream",
     "text": [
      "Run [3400] - Total reward: 10813.00 Mean scores: 22.58 Means Scores[:-10]: 22.70 Score: 23 \n"
     ]
    },
    {
     "name": "stderr",
     "output_type": "stream",
     "text": [
      " 68%|██████▊   | 3411/5000 [3:11:36<1:25:16,  3.22s/it]"
     ]
    },
    {
     "name": "stdout",
     "output_type": "stream",
     "text": [
      "Run [3410] - Total reward: 10248.00 Mean scores: 22.57 Means Scores[:-10]: 22.30 Score: 22 \n"
     ]
    },
    {
     "name": "stderr",
     "output_type": "stream",
     "text": [
      " 68%|██████▊   | 3421/5000 [3:12:28<1:58:43,  4.51s/it]"
     ]
    },
    {
     "name": "stdout",
     "output_type": "stream",
     "text": [
      "Run [3420] - Total reward: 11294.00 Mean scores: 22.57 Means Scores[:-10]: 22.70 Score: 24 \n"
     ]
    },
    {
     "name": "stderr",
     "output_type": "stream",
     "text": [
      " 69%|██████▊   | 3431/5000 [3:12:59<1:24:54,  3.25s/it]"
     ]
    },
    {
     "name": "stdout",
     "output_type": "stream",
     "text": [
      "Run [3430] - Total reward: 10833.00 Mean scores: 22.57 Means Scores[:-10]: 22.30 Score: 23 \n"
     ]
    },
    {
     "name": "stderr",
     "output_type": "stream",
     "text": [
      " 69%|██████▉   | 3441/5000 [3:13:31<1:23:25,  3.21s/it]"
     ]
    },
    {
     "name": "stdout",
     "output_type": "stream",
     "text": [
      "Run [3440] - Total reward: 10186.00 Mean scores: 22.57 Means Scores[:-10]: 22.30 Score: 22 \n"
     ]
    },
    {
     "name": "stderr",
     "output_type": "stream",
     "text": [
      " 69%|██████▉   | 3451/5000 [3:14:04<1:24:49,  3.29s/it]"
     ]
    },
    {
     "name": "stdout",
     "output_type": "stream",
     "text": [
      "Run [3450] - Total reward: 9744.00 Mean scores: 22.57 Means Scores[:-10]: 22.60 Score: 21 \n"
     ]
    },
    {
     "name": "stderr",
     "output_type": "stream",
     "text": [
      " 69%|██████▉   | 3461/5000 [3:14:37<1:23:54,  3.27s/it]"
     ]
    },
    {
     "name": "stdout",
     "output_type": "stream",
     "text": [
      "Run [3460] - Total reward: 10859.00 Mean scores: 22.57 Means Scores[:-10]: 22.80 Score: 23 \n"
     ]
    },
    {
     "name": "stderr",
     "output_type": "stream",
     "text": [
      " 69%|██████▉   | 3471/5000 [3:15:09<1:21:48,  3.21s/it]"
     ]
    },
    {
     "name": "stdout",
     "output_type": "stream",
     "text": [
      "Run [3470] - Total reward: 9878.00 Mean scores: 22.58 Means Scores[:-10]: 23.40 Score: 21 \n"
     ]
    },
    {
     "name": "stderr",
     "output_type": "stream",
     "text": [
      " 70%|██████▉   | 3481/5000 [3:15:41<1:23:57,  3.32s/it]"
     ]
    },
    {
     "name": "stdout",
     "output_type": "stream",
     "text": [
      "Run [3480] - Total reward: 11649.00 Mean scores: 22.58 Means Scores[:-10]: 22.40 Score: 25 \n"
     ]
    },
    {
     "name": "stderr",
     "output_type": "stream",
     "text": [
      " 70%|██████▉   | 3491/5000 [3:16:14<1:21:27,  3.24s/it]"
     ]
    },
    {
     "name": "stdout",
     "output_type": "stream",
     "text": [
      "Run [3490] - Total reward: 11687.00 Mean scores: 22.58 Means Scores[:-10]: 23.20 Score: 25 \n"
     ]
    },
    {
     "name": "stderr",
     "output_type": "stream",
     "text": [
      " 70%|███████   | 3501/5000 [3:16:46<1:20:01,  3.20s/it]"
     ]
    },
    {
     "name": "stdout",
     "output_type": "stream",
     "text": [
      "Run [3500] - Total reward: 11325.00 Mean scores: 22.58 Means Scores[:-10]: 23.50 Score: 24 \n"
     ]
    },
    {
     "name": "stderr",
     "output_type": "stream",
     "text": [
      " 70%|███████   | 3511/5000 [3:17:18<1:19:59,  3.22s/it]"
     ]
    },
    {
     "name": "stdout",
     "output_type": "stream",
     "text": [
      "Run [3510] - Total reward: 9745.00 Mean scores: 22.58 Means Scores[:-10]: 22.80 Score: 21 \n"
     ]
    },
    {
     "name": "stderr",
     "output_type": "stream",
     "text": [
      " 70%|███████   | 3521/5000 [3:17:51<1:18:43,  3.19s/it]"
     ]
    },
    {
     "name": "stdout",
     "output_type": "stream",
     "text": [
      "Run [3520] - Total reward: 10244.00 Mean scores: 22.58 Means Scores[:-10]: 23.10 Score: 22 \n"
     ]
    },
    {
     "name": "stderr",
     "output_type": "stream",
     "text": [
      " 71%|███████   | 3531/5000 [3:18:23<1:18:40,  3.21s/it]"
     ]
    },
    {
     "name": "stdout",
     "output_type": "stream",
     "text": [
      "Run [3530] - Total reward: 12850.00 Mean scores: 22.58 Means Scores[:-10]: 22.90 Score: 27 \n"
     ]
    },
    {
     "name": "stderr",
     "output_type": "stream",
     "text": [
      " 71%|███████   | 3541/5000 [3:18:55<1:17:55,  3.20s/it]"
     ]
    },
    {
     "name": "stdout",
     "output_type": "stream",
     "text": [
      "Run [3540] - Total reward: 9240.00 Mean scores: 22.58 Means Scores[:-10]: 22.70 Score: 20 \n"
     ]
    },
    {
     "name": "stderr",
     "output_type": "stream",
     "text": [
      " 71%|███████   | 3551/5000 [3:19:27<1:16:56,  3.19s/it]"
     ]
    },
    {
     "name": "stdout",
     "output_type": "stream",
     "text": [
      "Run [3550] - Total reward: 10808.00 Mean scores: 22.58 Means Scores[:-10]: 22.50 Score: 23 \n"
     ]
    },
    {
     "name": "stderr",
     "output_type": "stream",
     "text": [
      " 71%|███████   | 3561/5000 [3:20:00<1:20:38,  3.36s/it]"
     ]
    },
    {
     "name": "stdout",
     "output_type": "stream",
     "text": [
      "Run [3560] - Total reward: 11111.00 Mean scores: 22.58 Means Scores[:-10]: 22.90 Score: 24 \n"
     ]
    },
    {
     "name": "stderr",
     "output_type": "stream",
     "text": [
      " 71%|███████▏  | 3571/5000 [3:20:32<1:16:06,  3.20s/it]"
     ]
    },
    {
     "name": "stdout",
     "output_type": "stream",
     "text": [
      "Run [3570] - Total reward: 11344.00 Mean scores: 22.59 Means Scores[:-10]: 23.20 Score: 24 \n"
     ]
    },
    {
     "name": "stderr",
     "output_type": "stream",
     "text": [
      " 72%|███████▏  | 3581/5000 [3:21:04<1:15:26,  3.19s/it]"
     ]
    },
    {
     "name": "stdout",
     "output_type": "stream",
     "text": [
      "Run [3580] - Total reward: 9708.00 Mean scores: 22.59 Means Scores[:-10]: 22.70 Score: 21 \n"
     ]
    },
    {
     "name": "stderr",
     "output_type": "stream",
     "text": [
      " 72%|███████▏  | 3591/5000 [3:21:36<1:14:52,  3.19s/it]"
     ]
    },
    {
     "name": "stdout",
     "output_type": "stream",
     "text": [
      "Run [3590] - Total reward: 9811.00 Mean scores: 22.59 Means Scores[:-10]: 22.40 Score: 21 \n"
     ]
    },
    {
     "name": "stderr",
     "output_type": "stream",
     "text": [
      " 72%|███████▏  | 3601/5000 [3:22:09<1:16:12,  3.27s/it]"
     ]
    },
    {
     "name": "stdout",
     "output_type": "stream",
     "text": [
      "Run [3600] - Total reward: 9190.00 Mean scores: 22.58 Means Scores[:-10]: 22.20 Score: 20 \n"
     ]
    },
    {
     "name": "stderr",
     "output_type": "stream",
     "text": [
      " 72%|███████▏  | 3611/5000 [3:22:41<1:14:21,  3.21s/it]"
     ]
    },
    {
     "name": "stdout",
     "output_type": "stream",
     "text": [
      "Run [3610] - Total reward: 10313.00 Mean scores: 22.58 Means Scores[:-10]: 21.80 Score: 22 \n"
     ]
    },
    {
     "name": "stderr",
     "output_type": "stream",
     "text": [
      " 72%|███████▏  | 3621/5000 [3:23:31<1:56:35,  5.07s/it]"
     ]
    },
    {
     "name": "stdout",
     "output_type": "stream",
     "text": [
      "Run [3620] - Total reward: 11876.00 Mean scores: 22.59 Means Scores[:-10]: 23.50 Score: 25 \n"
     ]
    },
    {
     "name": "stderr",
     "output_type": "stream",
     "text": [
      " 73%|███████▎  | 3631/5000 [3:24:04<1:16:39,  3.36s/it]"
     ]
    },
    {
     "name": "stdout",
     "output_type": "stream",
     "text": [
      "Run [3630] - Total reward: 10118.00 Mean scores: 22.58 Means Scores[:-10]: 22.30 Score: 22 \n"
     ]
    },
    {
     "name": "stderr",
     "output_type": "stream",
     "text": [
      " 73%|███████▎  | 3641/5000 [3:24:36<1:13:01,  3.22s/it]"
     ]
    },
    {
     "name": "stdout",
     "output_type": "stream",
     "text": [
      "Run [3640] - Total reward: 10750.00 Mean scores: 22.59 Means Scores[:-10]: 23.40 Score: 23 \n"
     ]
    },
    {
     "name": "stderr",
     "output_type": "stream",
     "text": [
      " 73%|███████▎  | 3651/5000 [3:25:08<1:12:05,  3.21s/it]"
     ]
    },
    {
     "name": "stdout",
     "output_type": "stream",
     "text": [
      "Run [3650] - Total reward: 11184.00 Mean scores: 22.59 Means Scores[:-10]: 23.60 Score: 24 \n"
     ]
    },
    {
     "name": "stderr",
     "output_type": "stream",
     "text": [
      " 73%|███████▎  | 3661/5000 [3:25:40<1:11:38,  3.21s/it]"
     ]
    },
    {
     "name": "stdout",
     "output_type": "stream",
     "text": [
      "Run [3660] - Total reward: 9664.00 Mean scores: 22.59 Means Scores[:-10]: 23.00 Score: 21 \n"
     ]
    },
    {
     "name": "stderr",
     "output_type": "stream",
     "text": [
      " 73%|███████▎  | 3671/5000 [3:26:13<1:11:58,  3.25s/it]"
     ]
    },
    {
     "name": "stdout",
     "output_type": "stream",
     "text": [
      "Run [3670] - Total reward: 10172.00 Mean scores: 22.59 Means Scores[:-10]: 22.40 Score: 22 \n"
     ]
    },
    {
     "name": "stderr",
     "output_type": "stream",
     "text": [
      " 74%|███████▎  | 3681/5000 [3:26:45<1:10:50,  3.22s/it]"
     ]
    },
    {
     "name": "stdout",
     "output_type": "stream",
     "text": [
      "Run [3680] - Total reward: 10805.00 Mean scores: 22.59 Means Scores[:-10]: 23.20 Score: 23 \n"
     ]
    },
    {
     "name": "stderr",
     "output_type": "stream",
     "text": [
      " 74%|███████▍  | 3691/5000 [3:27:17<1:10:18,  3.22s/it]"
     ]
    },
    {
     "name": "stdout",
     "output_type": "stream",
     "text": [
      "Run [3690] - Total reward: 9726.00 Mean scores: 22.59 Means Scores[:-10]: 22.20 Score: 21 \n"
     ]
    },
    {
     "name": "stderr",
     "output_type": "stream",
     "text": [
      " 74%|███████▍  | 3701/5000 [3:27:50<1:11:33,  3.31s/it]"
     ]
    },
    {
     "name": "stdout",
     "output_type": "stream",
     "text": [
      "Run [3700] - Total reward: 11188.00 Mean scores: 22.59 Means Scores[:-10]: 22.90 Score: 24 \n"
     ]
    },
    {
     "name": "stderr",
     "output_type": "stream",
     "text": [
      " 74%|███████▍  | 3711/5000 [3:28:22<1:09:26,  3.23s/it]"
     ]
    },
    {
     "name": "stdout",
     "output_type": "stream",
     "text": [
      "Run [3710] - Total reward: 10805.00 Mean scores: 22.59 Means Scores[:-10]: 22.40 Score: 23 \n"
     ]
    },
    {
     "name": "stderr",
     "output_type": "stream",
     "text": [
      " 74%|███████▍  | 3721/5000 [3:28:55<1:07:42,  3.18s/it]"
     ]
    },
    {
     "name": "stdout",
     "output_type": "stream",
     "text": [
      "Run [3720] - Total reward: 9711.00 Mean scores: 22.59 Means Scores[:-10]: 23.90 Score: 21 \n"
     ]
    },
    {
     "name": "stderr",
     "output_type": "stream",
     "text": [
      " 75%|███████▍  | 3731/5000 [3:29:27<1:08:02,  3.22s/it]"
     ]
    },
    {
     "name": "stdout",
     "output_type": "stream",
     "text": [
      "Run [3730] - Total reward: 11248.00 Mean scores: 22.60 Means Scores[:-10]: 22.90 Score: 24 \n"
     ]
    },
    {
     "name": "stderr",
     "output_type": "stream",
     "text": [
      " 75%|███████▍  | 3741/5000 [3:30:00<1:10:06,  3.34s/it]"
     ]
    },
    {
     "name": "stdout",
     "output_type": "stream",
     "text": [
      "Run [3740] - Total reward: 10714.00 Mean scores: 22.60 Means Scores[:-10]: 23.30 Score: 23 \n"
     ]
    },
    {
     "name": "stderr",
     "output_type": "stream",
     "text": [
      " 75%|███████▌  | 3751/5000 [3:30:32<1:06:54,  3.21s/it]"
     ]
    },
    {
     "name": "stdout",
     "output_type": "stream",
     "text": [
      "Run [3750] - Total reward: 9639.00 Mean scores: 22.60 Means Scores[:-10]: 22.50 Score: 21 \n"
     ]
    },
    {
     "name": "stderr",
     "output_type": "stream",
     "text": [
      " 75%|███████▌  | 3761/5000 [3:31:04<1:06:25,  3.22s/it]"
     ]
    },
    {
     "name": "stdout",
     "output_type": "stream",
     "text": [
      "Run [3760] - Total reward: 10639.00 Mean scores: 22.60 Means Scores[:-10]: 22.70 Score: 23 \n"
     ]
    },
    {
     "name": "stderr",
     "output_type": "stream",
     "text": [
      " 75%|███████▌  | 3771/5000 [3:31:36<1:05:54,  3.22s/it]"
     ]
    },
    {
     "name": "stdout",
     "output_type": "stream",
     "text": [
      "Run [3770] - Total reward: 10102.00 Mean scores: 22.60 Means Scores[:-10]: 22.10 Score: 22 \n"
     ]
    },
    {
     "name": "stderr",
     "output_type": "stream",
     "text": [
      " 76%|███████▌  | 3781/5000 [3:32:09<1:06:24,  3.27s/it]"
     ]
    },
    {
     "name": "stdout",
     "output_type": "stream",
     "text": [
      "Run [3780] - Total reward: 9777.00 Mean scores: 22.60 Means Scores[:-10]: 23.10 Score: 21 \n"
     ]
    },
    {
     "name": "stderr",
     "output_type": "stream",
     "text": [
      " 76%|███████▌  | 3791/5000 [3:32:41<1:05:08,  3.23s/it]"
     ]
    },
    {
     "name": "stdout",
     "output_type": "stream",
     "text": [
      "Run [3790] - Total reward: 11727.00 Mean scores: 22.60 Means Scores[:-10]: 23.80 Score: 25 \n"
     ]
    },
    {
     "name": "stderr",
     "output_type": "stream",
     "text": [
      " 76%|███████▌  | 3801/5000 [3:33:13<1:04:01,  3.20s/it]"
     ]
    },
    {
     "name": "stdout",
     "output_type": "stream",
     "text": [
      "Run [3800] - Total reward: 10220.00 Mean scores: 22.60 Means Scores[:-10]: 22.90 Score: 22 \n"
     ]
    },
    {
     "name": "stderr",
     "output_type": "stream",
     "text": [
      " 76%|███████▌  | 3811/5000 [3:33:46<1:03:53,  3.22s/it]"
     ]
    },
    {
     "name": "stdout",
     "output_type": "stream",
     "text": [
      "Run [3810] - Total reward: 9728.00 Mean scores: 22.60 Means Scores[:-10]: 23.50 Score: 21 \n"
     ]
    },
    {
     "name": "stderr",
     "output_type": "stream",
     "text": [
      " 76%|███████▋  | 3821/5000 [3:34:37<1:57:50,  6.00s/it]"
     ]
    },
    {
     "name": "stdout",
     "output_type": "stream",
     "text": [
      "Run [3820] - Total reward: 9267.00 Mean scores: 22.60 Means Scores[:-10]: 22.50 Score: 20 \n"
     ]
    },
    {
     "name": "stderr",
     "output_type": "stream",
     "text": [
      " 77%|███████▋  | 3831/5000 [3:35:09<1:03:31,  3.26s/it]"
     ]
    },
    {
     "name": "stdout",
     "output_type": "stream",
     "text": [
      "Run [3830] - Total reward: 12209.00 Mean scores: 22.60 Means Scores[:-10]: 23.20 Score: 26 \n"
     ]
    },
    {
     "name": "stderr",
     "output_type": "stream",
     "text": [
      " 77%|███████▋  | 3841/5000 [3:35:41<1:01:47,  3.20s/it]"
     ]
    },
    {
     "name": "stdout",
     "output_type": "stream",
     "text": [
      "Run [3840] - Total reward: 11232.00 Mean scores: 22.60 Means Scores[:-10]: 22.20 Score: 24 \n"
     ]
    },
    {
     "name": "stderr",
     "output_type": "stream",
     "text": [
      " 77%|███████▋  | 3851/5000 [3:36:14<1:01:44,  3.22s/it]"
     ]
    },
    {
     "name": "stdout",
     "output_type": "stream",
     "text": [
      "Run [3850] - Total reward: 10189.00 Mean scores: 22.61 Means Scores[:-10]: 23.40 Score: 22 \n"
     ]
    },
    {
     "name": "stderr",
     "output_type": "stream",
     "text": [
      " 77%|███████▋  | 3861/5000 [3:36:46<1:00:48,  3.20s/it]"
     ]
    },
    {
     "name": "stdout",
     "output_type": "stream",
     "text": [
      "Run [3860] - Total reward: 10686.00 Mean scores: 22.61 Means Scores[:-10]: 23.00 Score: 23 \n"
     ]
    },
    {
     "name": "stderr",
     "output_type": "stream",
     "text": [
      " 77%|███████▋  | 3871/5000 [3:37:18<1:00:17,  3.20s/it]"
     ]
    },
    {
     "name": "stdout",
     "output_type": "stream",
     "text": [
      "Run [3870] - Total reward: 10238.00 Mean scores: 22.61 Means Scores[:-10]: 23.20 Score: 22 \n"
     ]
    },
    {
     "name": "stderr",
     "output_type": "stream",
     "text": [
      " 78%|███████▊  | 3881/5000 [3:37:50<1:01:10,  3.28s/it]"
     ]
    },
    {
     "name": "stdout",
     "output_type": "stream",
     "text": [
      "Run [3880] - Total reward: 9726.00 Mean scores: 22.61 Means Scores[:-10]: 23.30 Score: 21 \n"
     ]
    },
    {
     "name": "stderr",
     "output_type": "stream",
     "text": [
      " 78%|███████▊  | 3891/5000 [3:38:23<59:37,  3.23s/it]  "
     ]
    },
    {
     "name": "stdout",
     "output_type": "stream",
     "text": [
      "Run [3890] - Total reward: 10227.00 Mean scores: 22.61 Means Scores[:-10]: 22.30 Score: 22 \n"
     ]
    },
    {
     "name": "stderr",
     "output_type": "stream",
     "text": [
      " 78%|███████▊  | 3901/5000 [3:38:55<58:47,  3.21s/it]"
     ]
    },
    {
     "name": "stdout",
     "output_type": "stream",
     "text": [
      "Run [3900] - Total reward: 10288.00 Mean scores: 22.61 Means Scores[:-10]: 21.70 Score: 22 \n"
     ]
    },
    {
     "name": "stderr",
     "output_type": "stream",
     "text": [
      " 78%|███████▊  | 3911/5000 [3:39:27<57:29,  3.17s/it]"
     ]
    },
    {
     "name": "stdout",
     "output_type": "stream",
     "text": [
      "Run [3910] - Total reward: 10806.00 Mean scores: 22.61 Means Scores[:-10]: 22.50 Score: 23 \n"
     ]
    },
    {
     "name": "stderr",
     "output_type": "stream",
     "text": [
      " 78%|███████▊  | 3921/5000 [3:40:00<59:34,  3.31s/it]  "
     ]
    },
    {
     "name": "stdout",
     "output_type": "stream",
     "text": [
      "Run [3920] - Total reward: 11764.00 Mean scores: 22.61 Means Scores[:-10]: 23.30 Score: 25 \n"
     ]
    },
    {
     "name": "stderr",
     "output_type": "stream",
     "text": [
      " 79%|███████▊  | 3931/5000 [3:40:33<58:11,  3.27s/it]  "
     ]
    },
    {
     "name": "stdout",
     "output_type": "stream",
     "text": [
      "Run [3930] - Total reward: 10857.00 Mean scores: 22.61 Means Scores[:-10]: 21.80 Score: 23 \n"
     ]
    },
    {
     "name": "stderr",
     "output_type": "stream",
     "text": [
      " 79%|███████▉  | 3941/5000 [3:41:05<56:48,  3.22s/it]"
     ]
    },
    {
     "name": "stdout",
     "output_type": "stream",
     "text": [
      "Run [3940] - Total reward: 10228.00 Mean scores: 22.61 Means Scores[:-10]: 23.40 Score: 22 \n"
     ]
    },
    {
     "name": "stderr",
     "output_type": "stream",
     "text": [
      " 79%|███████▉  | 3951/5000 [3:41:38<56:21,  3.22s/it]"
     ]
    },
    {
     "name": "stdout",
     "output_type": "stream",
     "text": [
      "Run [3950] - Total reward: 9670.00 Mean scores: 22.61 Means Scores[:-10]: 22.70 Score: 21 \n"
     ]
    },
    {
     "name": "stderr",
     "output_type": "stream",
     "text": [
      " 79%|███████▉  | 3961/5000 [3:42:10<56:34,  3.27s/it]"
     ]
    },
    {
     "name": "stdout",
     "output_type": "stream",
     "text": [
      "Run [3960] - Total reward: 11915.00 Mean scores: 22.61 Means Scores[:-10]: 22.40 Score: 25 \n"
     ]
    },
    {
     "name": "stderr",
     "output_type": "stream",
     "text": [
      " 79%|███████▉  | 3971/5000 [3:42:43<55:00,  3.21s/it]"
     ]
    },
    {
     "name": "stdout",
     "output_type": "stream",
     "text": [
      "Run [3970] - Total reward: 9697.00 Mean scores: 22.61 Means Scores[:-10]: 22.30 Score: 21 \n"
     ]
    },
    {
     "name": "stderr",
     "output_type": "stream",
     "text": [
      " 80%|███████▉  | 3981/5000 [3:43:15<54:44,  3.22s/it]"
     ]
    },
    {
     "name": "stdout",
     "output_type": "stream",
     "text": [
      "Run [3980] - Total reward: 10783.00 Mean scores: 22.61 Means Scores[:-10]: 23.10 Score: 23 \n"
     ]
    },
    {
     "name": "stderr",
     "output_type": "stream",
     "text": [
      " 80%|███████▉  | 3991/5000 [3:43:47<53:59,  3.21s/it]"
     ]
    },
    {
     "name": "stdout",
     "output_type": "stream",
     "text": [
      "Run [3990] - Total reward: 10147.00 Mean scores: 22.61 Means Scores[:-10]: 21.70 Score: 22 \n"
     ]
    },
    {
     "name": "stderr",
     "output_type": "stream",
     "text": [
      " 80%|████████  | 4001/5000 [3:44:20<53:39,  3.22s/it]"
     ]
    },
    {
     "name": "stdout",
     "output_type": "stream",
     "text": [
      "Run [4000] - Total reward: 10619.00 Mean scores: 22.61 Means Scores[:-10]: 23.10 Score: 23 \n"
     ]
    },
    {
     "name": "stderr",
     "output_type": "stream",
     "text": [
      " 80%|████████  | 4011/5000 [3:44:52<52:44,  3.20s/it]"
     ]
    },
    {
     "name": "stdout",
     "output_type": "stream",
     "text": [
      "Run [4010] - Total reward: 10335.00 Mean scores: 22.61 Means Scores[:-10]: 22.90 Score: 22 \n"
     ]
    },
    {
     "name": "stderr",
     "output_type": "stream",
     "text": [
      " 80%|████████  | 4021/5000 [3:45:43<1:57:12,  7.18s/it]"
     ]
    },
    {
     "name": "stdout",
     "output_type": "stream",
     "text": [
      "Run [4020] - Total reward: 9745.00 Mean scores: 22.61 Means Scores[:-10]: 21.90 Score: 21 \n"
     ]
    },
    {
     "name": "stderr",
     "output_type": "stream",
     "text": [
      " 81%|████████  | 4031/5000 [3:46:15<54:09,  3.35s/it]  "
     ]
    },
    {
     "name": "stdout",
     "output_type": "stream",
     "text": [
      "Run [4030] - Total reward: 11846.00 Mean scores: 22.61 Means Scores[:-10]: 22.80 Score: 25 \n"
     ]
    },
    {
     "name": "stderr",
     "output_type": "stream",
     "text": [
      " 81%|████████  | 4041/5000 [3:46:48<51:50,  3.24s/it]"
     ]
    },
    {
     "name": "stdout",
     "output_type": "stream",
     "text": [
      "Run [4040] - Total reward: 10186.00 Mean scores: 22.61 Means Scores[:-10]: 22.00 Score: 22 \n"
     ]
    },
    {
     "name": "stderr",
     "output_type": "stream",
     "text": [
      " 81%|████████  | 4051/5000 [3:47:20<50:39,  3.20s/it]"
     ]
    },
    {
     "name": "stdout",
     "output_type": "stream",
     "text": [
      "Run [4050] - Total reward: 11717.00 Mean scores: 22.61 Means Scores[:-10]: 23.70 Score: 25 \n"
     ]
    },
    {
     "name": "stderr",
     "output_type": "stream",
     "text": [
      " 81%|████████  | 4061/5000 [3:47:52<51:35,  3.30s/it]"
     ]
    },
    {
     "name": "stdout",
     "output_type": "stream",
     "text": [
      "Run [4060] - Total reward: 10229.00 Mean scores: 22.61 Means Scores[:-10]: 21.90 Score: 22 \n"
     ]
    },
    {
     "name": "stderr",
     "output_type": "stream",
     "text": [
      " 81%|████████▏ | 4071/5000 [3:48:25<50:04,  3.23s/it]"
     ]
    },
    {
     "name": "stdout",
     "output_type": "stream",
     "text": [
      "Run [4070] - Total reward: 10656.00 Mean scores: 22.61 Means Scores[:-10]: 22.70 Score: 23 \n"
     ]
    },
    {
     "name": "stderr",
     "output_type": "stream",
     "text": [
      " 82%|████████▏ | 4081/5000 [3:48:57<49:16,  3.22s/it]"
     ]
    },
    {
     "name": "stdout",
     "output_type": "stream",
     "text": [
      "Run [4080] - Total reward: 8669.00 Mean scores: 22.61 Means Scores[:-10]: 22.40 Score: 19 \n"
     ]
    },
    {
     "name": "stderr",
     "output_type": "stream",
     "text": [
      " 82%|████████▏ | 4091/5000 [3:49:29<48:31,  3.20s/it]"
     ]
    },
    {
     "name": "stdout",
     "output_type": "stream",
     "text": [
      "Run [4090] - Total reward: 8695.00 Mean scores: 22.60 Means Scores[:-10]: 21.80 Score: 19 \n"
     ]
    },
    {
     "name": "stderr",
     "output_type": "stream",
     "text": [
      " 82%|████████▏ | 4101/5000 [3:50:02<50:12,  3.35s/it]"
     ]
    },
    {
     "name": "stdout",
     "output_type": "stream",
     "text": [
      "Run [4100] - Total reward: 10195.00 Mean scores: 22.60 Means Scores[:-10]: 22.50 Score: 22 \n"
     ]
    },
    {
     "name": "stderr",
     "output_type": "stream",
     "text": [
      " 82%|████████▏ | 4111/5000 [3:50:34<47:47,  3.23s/it]"
     ]
    },
    {
     "name": "stdout",
     "output_type": "stream",
     "text": [
      "Run [4110] - Total reward: 10217.00 Mean scores: 22.60 Means Scores[:-10]: 22.70 Score: 22 \n"
     ]
    },
    {
     "name": "stderr",
     "output_type": "stream",
     "text": [
      " 82%|████████▏ | 4121/5000 [3:51:06<45:51,  3.13s/it]"
     ]
    },
    {
     "name": "stdout",
     "output_type": "stream",
     "text": [
      "Run [4120] - Total reward: 10237.00 Mean scores: 22.60 Means Scores[:-10]: 22.50 Score: 22 \n"
     ]
    },
    {
     "name": "stderr",
     "output_type": "stream",
     "text": [
      " 83%|████████▎ | 4131/5000 [3:51:38<46:22,  3.20s/it]"
     ]
    },
    {
     "name": "stdout",
     "output_type": "stream",
     "text": [
      "Run [4130] - Total reward: 12398.00 Mean scores: 22.60 Means Scores[:-10]: 22.30 Score: 26 \n"
     ]
    },
    {
     "name": "stderr",
     "output_type": "stream",
     "text": [
      " 83%|████████▎ | 4141/5000 [3:52:12<47:26,  3.31s/it]"
     ]
    },
    {
     "name": "stdout",
     "output_type": "stream",
     "text": [
      "Run [4140] - Total reward: 10823.00 Mean scores: 22.60 Means Scores[:-10]: 22.40 Score: 23 \n"
     ]
    },
    {
     "name": "stderr",
     "output_type": "stream",
     "text": [
      " 83%|████████▎ | 4151/5000 [3:52:44<45:39,  3.23s/it]"
     ]
    },
    {
     "name": "stdout",
     "output_type": "stream",
     "text": [
      "Run [4150] - Total reward: 10176.00 Mean scores: 22.60 Means Scores[:-10]: 23.30 Score: 22 \n"
     ]
    },
    {
     "name": "stderr",
     "output_type": "stream",
     "text": [
      " 83%|████████▎ | 4161/5000 [3:53:16<44:55,  3.21s/it]"
     ]
    },
    {
     "name": "stdout",
     "output_type": "stream",
     "text": [
      "Run [4160] - Total reward: 11811.00 Mean scores: 22.61 Means Scores[:-10]: 23.80 Score: 25 \n"
     ]
    },
    {
     "name": "stderr",
     "output_type": "stream",
     "text": [
      " 83%|████████▎ | 4171/5000 [3:53:48<44:21,  3.21s/it]"
     ]
    },
    {
     "name": "stdout",
     "output_type": "stream",
     "text": [
      "Run [4170] - Total reward: 10313.00 Mean scores: 22.61 Means Scores[:-10]: 23.00 Score: 22 \n"
     ]
    },
    {
     "name": "stderr",
     "output_type": "stream",
     "text": [
      " 84%|████████▎ | 4181/5000 [3:54:21<43:55,  3.22s/it]"
     ]
    },
    {
     "name": "stdout",
     "output_type": "stream",
     "text": [
      "Run [4180] - Total reward: 11730.00 Mean scores: 22.61 Means Scores[:-10]: 23.00 Score: 25 \n"
     ]
    },
    {
     "name": "stderr",
     "output_type": "stream",
     "text": [
      " 84%|████████▍ | 4191/5000 [3:54:53<43:07,  3.20s/it]"
     ]
    },
    {
     "name": "stdout",
     "output_type": "stream",
     "text": [
      "Run [4190] - Total reward: 9739.00 Mean scores: 22.61 Means Scores[:-10]: 23.20 Score: 21 \n"
     ]
    },
    {
     "name": "stderr",
     "output_type": "stream",
     "text": [
      " 84%|████████▍ | 4201/5000 [3:55:25<42:31,  3.19s/it]"
     ]
    },
    {
     "name": "stdout",
     "output_type": "stream",
     "text": [
      "Run [4200] - Total reward: 10257.00 Mean scores: 22.61 Means Scores[:-10]: 22.80 Score: 22 \n"
     ]
    },
    {
     "name": "stderr",
     "output_type": "stream",
     "text": [
      " 84%|████████▍ | 4211/5000 [3:55:58<46:04,  3.50s/it]"
     ]
    },
    {
     "name": "stdout",
     "output_type": "stream",
     "text": [
      "Run [4210] - Total reward: 10041.00 Mean scores: 22.61 Means Scores[:-10]: 23.60 Score: 22 \n"
     ]
    },
    {
     "name": "stderr",
     "output_type": "stream",
     "text": [
      " 84%|████████▍ | 4221/5000 [3:56:50<1:58:35,  9.13s/it]"
     ]
    },
    {
     "name": "stdout",
     "output_type": "stream",
     "text": [
      "Run [4220] - Total reward: 9786.00 Mean scores: 22.61 Means Scores[:-10]: 22.70 Score: 21 \n"
     ]
    },
    {
     "name": "stderr",
     "output_type": "stream",
     "text": [
      " 85%|████████▍ | 4231/5000 [3:57:21<42:27,  3.31s/it]  "
     ]
    },
    {
     "name": "stdout",
     "output_type": "stream",
     "text": [
      "Run [4230] - Total reward: 11833.00 Mean scores: 22.62 Means Scores[:-10]: 23.50 Score: 25 \n"
     ]
    },
    {
     "name": "stderr",
     "output_type": "stream",
     "text": [
      " 85%|████████▍ | 4241/5000 [3:57:53<42:09,  3.33s/it]"
     ]
    },
    {
     "name": "stdout",
     "output_type": "stream",
     "text": [
      "Run [4240] - Total reward: 9777.00 Mean scores: 22.62 Means Scores[:-10]: 22.90 Score: 21 \n"
     ]
    },
    {
     "name": "stderr",
     "output_type": "stream",
     "text": [
      " 85%|████████▌ | 4251/5000 [3:58:26<40:00,  3.21s/it]"
     ]
    },
    {
     "name": "stdout",
     "output_type": "stream",
     "text": [
      "Run [4250] - Total reward: 10725.00 Mean scores: 22.62 Means Scores[:-10]: 22.70 Score: 23 \n"
     ]
    },
    {
     "name": "stderr",
     "output_type": "stream",
     "text": [
      " 85%|████████▌ | 4261/5000 [3:58:58<39:33,  3.21s/it]"
     ]
    },
    {
     "name": "stdout",
     "output_type": "stream",
     "text": [
      "Run [4260] - Total reward: 10724.00 Mean scores: 22.62 Means Scores[:-10]: 22.30 Score: 23 \n"
     ]
    },
    {
     "name": "stderr",
     "output_type": "stream",
     "text": [
      " 85%|████████▌ | 4271/5000 [3:59:30<39:02,  3.21s/it]"
     ]
    },
    {
     "name": "stdout",
     "output_type": "stream",
     "text": [
      "Run [4270] - Total reward: 11164.00 Mean scores: 22.62 Means Scores[:-10]: 22.90 Score: 24 \n"
     ]
    },
    {
     "name": "stderr",
     "output_type": "stream",
     "text": [
      " 86%|████████▌ | 4281/5000 [4:00:03<40:30,  3.38s/it]"
     ]
    },
    {
     "name": "stdout",
     "output_type": "stream",
     "text": [
      "Run [4280] - Total reward: 11820.00 Mean scores: 22.62 Means Scores[:-10]: 22.50 Score: 25 \n"
     ]
    },
    {
     "name": "stderr",
     "output_type": "stream",
     "text": [
      " 86%|████████▌ | 4291/5000 [4:00:35<37:53,  3.21s/it]"
     ]
    },
    {
     "name": "stdout",
     "output_type": "stream",
     "text": [
      "Run [4290] - Total reward: 9835.00 Mean scores: 22.62 Means Scores[:-10]: 23.20 Score: 21 \n"
     ]
    },
    {
     "name": "stderr",
     "output_type": "stream",
     "text": [
      " 86%|████████▌ | 4301/5000 [4:01:07<37:29,  3.22s/it]"
     ]
    },
    {
     "name": "stdout",
     "output_type": "stream",
     "text": [
      "Run [4300] - Total reward: 11246.00 Mean scores: 22.62 Means Scores[:-10]: 23.20 Score: 24 \n"
     ]
    },
    {
     "name": "stderr",
     "output_type": "stream",
     "text": [
      " 86%|████████▌ | 4311/5000 [4:01:39<36:33,  3.18s/it]"
     ]
    },
    {
     "name": "stdout",
     "output_type": "stream",
     "text": [
      "Run [4310] - Total reward: 11694.00 Mean scores: 22.62 Means Scores[:-10]: 23.60 Score: 25 \n"
     ]
    },
    {
     "name": "stderr",
     "output_type": "stream",
     "text": [
      " 86%|████████▋ | 4321/5000 [4:02:12<35:59,  3.18s/it]"
     ]
    },
    {
     "name": "stdout",
     "output_type": "stream",
     "text": [
      "Run [4320] - Total reward: 10202.00 Mean scores: 22.62 Means Scores[:-10]: 22.30 Score: 22 \n"
     ]
    },
    {
     "name": "stderr",
     "output_type": "stream",
     "text": [
      " 87%|████████▋ | 4331/5000 [4:02:44<35:55,  3.22s/it]"
     ]
    },
    {
     "name": "stdout",
     "output_type": "stream",
     "text": [
      "Run [4330] - Total reward: 10160.00 Mean scores: 22.62 Means Scores[:-10]: 22.50 Score: 22 \n"
     ]
    },
    {
     "name": "stderr",
     "output_type": "stream",
     "text": [
      " 87%|████████▋ | 4341/5000 [4:03:16<35:07,  3.20s/it]"
     ]
    },
    {
     "name": "stdout",
     "output_type": "stream",
     "text": [
      "Run [4340] - Total reward: 12488.00 Mean scores: 22.62 Means Scores[:-10]: 23.00 Score: 26 \n"
     ]
    },
    {
     "name": "stderr",
     "output_type": "stream",
     "text": [
      " 87%|████████▋ | 4351/5000 [4:03:48<34:40,  3.21s/it]"
     ]
    },
    {
     "name": "stdout",
     "output_type": "stream",
     "text": [
      "Run [4350] - Total reward: 10256.00 Mean scores: 22.62 Means Scores[:-10]: 23.10 Score: 22 \n"
     ]
    },
    {
     "name": "stderr",
     "output_type": "stream",
     "text": [
      " 87%|████████▋ | 4361/5000 [4:04:20<34:09,  3.21s/it]"
     ]
    },
    {
     "name": "stdout",
     "output_type": "stream",
     "text": [
      "Run [4360] - Total reward: 9754.00 Mean scores: 22.62 Means Scores[:-10]: 23.10 Score: 21 \n"
     ]
    },
    {
     "name": "stderr",
     "output_type": "stream",
     "text": [
      " 87%|████████▋ | 4371/5000 [4:04:52<33:30,  3.20s/it]"
     ]
    },
    {
     "name": "stdout",
     "output_type": "stream",
     "text": [
      "Run [4370] - Total reward: 10717.00 Mean scores: 22.62 Means Scores[:-10]: 22.80 Score: 23 \n"
     ]
    },
    {
     "name": "stderr",
     "output_type": "stream",
     "text": [
      " 88%|████████▊ | 4381/5000 [4:05:24<32:54,  3.19s/it]"
     ]
    },
    {
     "name": "stdout",
     "output_type": "stream",
     "text": [
      "Run [4380] - Total reward: 9609.00 Mean scores: 22.62 Means Scores[:-10]: 22.10 Score: 21 \n"
     ]
    },
    {
     "name": "stderr",
     "output_type": "stream",
     "text": [
      " 88%|████████▊ | 4391/5000 [4:05:56<33:20,  3.28s/it]"
     ]
    },
    {
     "name": "stdout",
     "output_type": "stream",
     "text": [
      "Run [4390] - Total reward: 9112.00 Mean scores: 22.62 Means Scores[:-10]: 21.90 Score: 20 \n"
     ]
    },
    {
     "name": "stderr",
     "output_type": "stream",
     "text": [
      " 88%|████████▊ | 4401/5000 [4:06:29<31:51,  3.19s/it]"
     ]
    },
    {
     "name": "stdout",
     "output_type": "stream",
     "text": [
      "Run [4400] - Total reward: 10324.00 Mean scores: 22.62 Means Scores[:-10]: 22.30 Score: 22 \n"
     ]
    },
    {
     "name": "stderr",
     "output_type": "stream",
     "text": [
      " 88%|████████▊ | 4411/5000 [4:07:01<31:18,  3.19s/it]"
     ]
    },
    {
     "name": "stdout",
     "output_type": "stream",
     "text": [
      "Run [4410] - Total reward: 11755.00 Mean scores: 22.62 Means Scores[:-10]: 23.10 Score: 25 \n"
     ]
    },
    {
     "name": "stderr",
     "output_type": "stream",
     "text": [
      " 88%|████████▊ | 4421/5000 [4:07:33<30:51,  3.20s/it]"
     ]
    },
    {
     "name": "stdout",
     "output_type": "stream",
     "text": [
      "Run [4420] - Total reward: 10292.00 Mean scores: 22.62 Means Scores[:-10]: 23.40 Score: 22 \n"
     ]
    },
    {
     "name": "stderr",
     "output_type": "stream",
     "text": [
      " 89%|████████▊ | 4431/5000 [4:08:23<32:03,  3.38s/it]  "
     ]
    },
    {
     "name": "stdout",
     "output_type": "stream",
     "text": [
      "Run [4430] - Total reward: 10248.00 Mean scores: 22.62 Means Scores[:-10]: 23.20 Score: 22 \n"
     ]
    },
    {
     "name": "stderr",
     "output_type": "stream",
     "text": [
      " 89%|████████▉ | 4441/5000 [4:08:55<29:47,  3.20s/it]"
     ]
    },
    {
     "name": "stdout",
     "output_type": "stream",
     "text": [
      "Run [4440] - Total reward: 10119.00 Mean scores: 22.62 Means Scores[:-10]: 22.80 Score: 22 \n"
     ]
    },
    {
     "name": "stderr",
     "output_type": "stream",
     "text": [
      " 89%|████████▉ | 4451/5000 [4:09:27<29:18,  3.20s/it]"
     ]
    },
    {
     "name": "stdout",
     "output_type": "stream",
     "text": [
      "Run [4450] - Total reward: 11095.00 Mean scores: 22.62 Means Scores[:-10]: 22.70 Score: 24 \n"
     ]
    },
    {
     "name": "stderr",
     "output_type": "stream",
     "text": [
      " 89%|████████▉ | 4461/5000 [4:10:00<30:45,  3.42s/it]"
     ]
    },
    {
     "name": "stdout",
     "output_type": "stream",
     "text": [
      "Run [4460] - Total reward: 10604.00 Mean scores: 22.62 Means Scores[:-10]: 22.00 Score: 23 \n"
     ]
    },
    {
     "name": "stderr",
     "output_type": "stream",
     "text": [
      " 89%|████████▉ | 4471/5000 [4:10:32<28:12,  3.20s/it]"
     ]
    },
    {
     "name": "stdout",
     "output_type": "stream",
     "text": [
      "Run [4470] - Total reward: 12849.00 Mean scores: 22.62 Means Scores[:-10]: 22.70 Score: 27 \n"
     ]
    },
    {
     "name": "stderr",
     "output_type": "stream",
     "text": [
      " 90%|████████▉ | 4481/5000 [4:11:05<27:58,  3.23s/it]"
     ]
    },
    {
     "name": "stdout",
     "output_type": "stream",
     "text": [
      "Run [4480] - Total reward: 9670.00 Mean scores: 22.62 Means Scores[:-10]: 22.90 Score: 21 \n"
     ]
    },
    {
     "name": "stderr",
     "output_type": "stream",
     "text": [
      " 90%|████████▉ | 4491/5000 [4:11:37<27:30,  3.24s/it]"
     ]
    },
    {
     "name": "stdout",
     "output_type": "stream",
     "text": [
      "Run [4490] - Total reward: 8777.00 Mean scores: 22.62 Means Scores[:-10]: 22.00 Score: 19 \n"
     ]
    },
    {
     "name": "stderr",
     "output_type": "stream",
     "text": [
      " 90%|█████████ | 4501/5000 [4:12:10<27:11,  3.27s/it]"
     ]
    },
    {
     "name": "stdout",
     "output_type": "stream",
     "text": [
      "Run [4500] - Total reward: 9636.00 Mean scores: 22.62 Means Scores[:-10]: 23.10 Score: 21 \n"
     ]
    },
    {
     "name": "stderr",
     "output_type": "stream",
     "text": [
      " 90%|█████████ | 4511/5000 [4:12:42<26:52,  3.30s/it]"
     ]
    },
    {
     "name": "stdout",
     "output_type": "stream",
     "text": [
      "Run [4510] - Total reward: 12368.00 Mean scores: 22.62 Means Scores[:-10]: 22.90 Score: 26 \n"
     ]
    },
    {
     "name": "stderr",
     "output_type": "stream",
     "text": [
      " 90%|█████████ | 4521/5000 [4:13:15<25:13,  3.16s/it]"
     ]
    },
    {
     "name": "stdout",
     "output_type": "stream",
     "text": [
      "Run [4520] - Total reward: 9694.00 Mean scores: 22.63 Means Scores[:-10]: 23.10 Score: 21 \n"
     ]
    },
    {
     "name": "stderr",
     "output_type": "stream",
     "text": [
      " 91%|█████████ | 4531/5000 [4:13:47<25:07,  3.21s/it]"
     ]
    },
    {
     "name": "stdout",
     "output_type": "stream",
     "text": [
      "Run [4530] - Total reward: 11316.00 Mean scores: 22.63 Means Scores[:-10]: 23.00 Score: 24 \n"
     ]
    },
    {
     "name": "stderr",
     "output_type": "stream",
     "text": [
      " 91%|█████████ | 4541/5000 [4:14:20<24:47,  3.24s/it]"
     ]
    },
    {
     "name": "stdout",
     "output_type": "stream",
     "text": [
      "Run [4540] - Total reward: 9615.00 Mean scores: 22.62 Means Scores[:-10]: 22.00 Score: 21 \n"
     ]
    },
    {
     "name": "stderr",
     "output_type": "stream",
     "text": [
      " 91%|█████████ | 4551/5000 [4:14:52<24:02,  3.21s/it]"
     ]
    },
    {
     "name": "stdout",
     "output_type": "stream",
     "text": [
      "Run [4550] - Total reward: 10302.00 Mean scores: 22.62 Means Scores[:-10]: 22.10 Score: 22 \n"
     ]
    },
    {
     "name": "stderr",
     "output_type": "stream",
     "text": [
      " 91%|█████████ | 4561/5000 [4:15:24<23:35,  3.22s/it]"
     ]
    },
    {
     "name": "stdout",
     "output_type": "stream",
     "text": [
      "Run [4560] - Total reward: 10131.00 Mean scores: 22.62 Means Scores[:-10]: 22.60 Score: 22 \n"
     ]
    },
    {
     "name": "stderr",
     "output_type": "stream",
     "text": [
      " 91%|█████████▏| 4571/5000 [4:15:56<22:59,  3.21s/it]"
     ]
    },
    {
     "name": "stdout",
     "output_type": "stream",
     "text": [
      "Run [4570] - Total reward: 9623.00 Mean scores: 22.63 Means Scores[:-10]: 23.40 Score: 21 \n"
     ]
    },
    {
     "name": "stderr",
     "output_type": "stream",
     "text": [
      " 92%|█████████▏| 4581/5000 [4:16:29<22:34,  3.23s/it]"
     ]
    },
    {
     "name": "stdout",
     "output_type": "stream",
     "text": [
      "Run [4580] - Total reward: 10238.00 Mean scores: 22.63 Means Scores[:-10]: 23.30 Score: 22 \n"
     ]
    },
    {
     "name": "stderr",
     "output_type": "stream",
     "text": [
      " 92%|█████████▏| 4591/5000 [4:17:01<21:51,  3.21s/it]"
     ]
    },
    {
     "name": "stdout",
     "output_type": "stream",
     "text": [
      "Run [4590] - Total reward: 10246.00 Mean scores: 22.63 Means Scores[:-10]: 22.60 Score: 22 \n"
     ]
    },
    {
     "name": "stderr",
     "output_type": "stream",
     "text": [
      " 92%|█████████▏| 4601/5000 [4:17:33<21:15,  3.20s/it]"
     ]
    },
    {
     "name": "stdout",
     "output_type": "stream",
     "text": [
      "Run [4600] - Total reward: 10617.00 Mean scores: 22.63 Means Scores[:-10]: 22.80 Score: 23 \n"
     ]
    },
    {
     "name": "stderr",
     "output_type": "stream",
     "text": [
      " 92%|█████████▏| 4611/5000 [4:18:06<21:33,  3.32s/it]"
     ]
    },
    {
     "name": "stdout",
     "output_type": "stream",
     "text": [
      "Run [4610] - Total reward: 10726.00 Mean scores: 22.63 Means Scores[:-10]: 23.00 Score: 23 \n"
     ]
    },
    {
     "name": "stderr",
     "output_type": "stream",
     "text": [
      " 92%|█████████▏| 4621/5000 [4:18:38<20:11,  3.20s/it]"
     ]
    },
    {
     "name": "stdout",
     "output_type": "stream",
     "text": [
      "Run [4620] - Total reward: 9728.00 Mean scores: 22.63 Means Scores[:-10]: 22.40 Score: 21 \n"
     ]
    },
    {
     "name": "stderr",
     "output_type": "stream",
     "text": [
      " 93%|█████████▎| 4631/5000 [4:19:28<21:08,  3.44s/it]"
     ]
    },
    {
     "name": "stdout",
     "output_type": "stream",
     "text": [
      "Run [4630] - Total reward: 11353.00 Mean scores: 22.63 Means Scores[:-10]: 23.60 Score: 24 \n"
     ]
    },
    {
     "name": "stderr",
     "output_type": "stream",
     "text": [
      " 93%|█████████▎| 4641/5000 [4:20:00<20:42,  3.46s/it]"
     ]
    },
    {
     "name": "stdout",
     "output_type": "stream",
     "text": [
      "Run [4640] - Total reward: 11205.00 Mean scores: 22.63 Means Scores[:-10]: 22.30 Score: 24 \n"
     ]
    },
    {
     "name": "stderr",
     "output_type": "stream",
     "text": [
      " 93%|█████████▎| 4651/5000 [4:20:33<18:45,  3.22s/it]"
     ]
    },
    {
     "name": "stdout",
     "output_type": "stream",
     "text": [
      "Run [4650] - Total reward: 11292.00 Mean scores: 22.63 Means Scores[:-10]: 22.40 Score: 24 \n"
     ]
    },
    {
     "name": "stderr",
     "output_type": "stream",
     "text": [
      " 93%|█████████▎| 4661/5000 [4:21:05<18:05,  3.20s/it]"
     ]
    },
    {
     "name": "stdout",
     "output_type": "stream",
     "text": [
      "Run [4660] - Total reward: 10725.00 Mean scores: 22.63 Means Scores[:-10]: 22.90 Score: 23 \n"
     ]
    },
    {
     "name": "stderr",
     "output_type": "stream",
     "text": [
      " 93%|█████████▎| 4671/5000 [4:21:37<17:33,  3.20s/it]"
     ]
    },
    {
     "name": "stdout",
     "output_type": "stream",
     "text": [
      "Run [4670] - Total reward: 9234.00 Mean scores: 22.63 Means Scores[:-10]: 22.70 Score: 20 \n"
     ]
    },
    {
     "name": "stderr",
     "output_type": "stream",
     "text": [
      " 94%|█████████▎| 4681/5000 [4:22:09<17:28,  3.29s/it]"
     ]
    },
    {
     "name": "stdout",
     "output_type": "stream",
     "text": [
      "Run [4680] - Total reward: 10661.00 Mean scores: 22.63 Means Scores[:-10]: 23.50 Score: 23 \n"
     ]
    },
    {
     "name": "stderr",
     "output_type": "stream",
     "text": [
      " 94%|█████████▍| 4691/5000 [4:22:41<16:31,  3.21s/it]"
     ]
    },
    {
     "name": "stdout",
     "output_type": "stream",
     "text": [
      "Run [4690] - Total reward: 11898.00 Mean scores: 22.63 Means Scores[:-10]: 22.80 Score: 25 \n"
     ]
    },
    {
     "name": "stderr",
     "output_type": "stream",
     "text": [
      " 94%|█████████▍| 4701/5000 [4:23:13<15:57,  3.20s/it]"
     ]
    },
    {
     "name": "stdout",
     "output_type": "stream",
     "text": [
      "Run [4700] - Total reward: 10747.00 Mean scores: 22.63 Means Scores[:-10]: 22.90 Score: 23 \n"
     ]
    },
    {
     "name": "stderr",
     "output_type": "stream",
     "text": [
      " 94%|█████████▍| 4711/5000 [4:23:45<15:27,  3.21s/it]"
     ]
    },
    {
     "name": "stdout",
     "output_type": "stream",
     "text": [
      "Run [4710] - Total reward: 10246.00 Mean scores: 22.63 Means Scores[:-10]: 22.70 Score: 22 \n"
     ]
    },
    {
     "name": "stderr",
     "output_type": "stream",
     "text": [
      " 94%|█████████▍| 4721/5000 [4:24:19<14:43,  3.17s/it]"
     ]
    },
    {
     "name": "stdout",
     "output_type": "stream",
     "text": [
      "Run [4720] - Total reward: 10404.00 Mean scores: 22.63 Means Scores[:-10]: 22.10 Score: 22 \n"
     ]
    },
    {
     "name": "stderr",
     "output_type": "stream",
     "text": [
      " 95%|█████████▍| 4731/5000 [4:24:51<14:49,  3.31s/it]"
     ]
    },
    {
     "name": "stdout",
     "output_type": "stream",
     "text": [
      "Run [4730] - Total reward: 11259.00 Mean scores: 22.63 Means Scores[:-10]: 23.30 Score: 24 \n"
     ]
    },
    {
     "name": "stderr",
     "output_type": "stream",
     "text": [
      " 95%|█████████▍| 4741/5000 [4:25:26<14:58,  3.47s/it]"
     ]
    },
    {
     "name": "stdout",
     "output_type": "stream",
     "text": [
      "Run [4740] - Total reward: 10123.00 Mean scores: 22.63 Means Scores[:-10]: 22.40 Score: 22 \n"
     ]
    },
    {
     "name": "stderr",
     "output_type": "stream",
     "text": [
      " 95%|█████████▌| 4751/5000 [4:26:01<14:55,  3.60s/it]"
     ]
    },
    {
     "name": "stdout",
     "output_type": "stream",
     "text": [
      "Run [4750] - Total reward: 10254.00 Mean scores: 22.63 Means Scores[:-10]: 22.50 Score: 22 \n"
     ]
    },
    {
     "name": "stderr",
     "output_type": "stream",
     "text": [
      " 95%|█████████▌| 4761/5000 [4:26:35<13:32,  3.40s/it]"
     ]
    },
    {
     "name": "stdout",
     "output_type": "stream",
     "text": [
      "Run [4760] - Total reward: 10157.00 Mean scores: 22.63 Means Scores[:-10]: 23.30 Score: 22 \n"
     ]
    },
    {
     "name": "stderr",
     "output_type": "stream",
     "text": [
      " 95%|█████████▌| 4771/5000 [4:27:09<13:07,  3.44s/it]"
     ]
    },
    {
     "name": "stdout",
     "output_type": "stream",
     "text": [
      "Run [4770] - Total reward: 10129.00 Mean scores: 22.63 Means Scores[:-10]: 23.10 Score: 22 \n"
     ]
    },
    {
     "name": "stderr",
     "output_type": "stream",
     "text": [
      " 96%|█████████▌| 4781/5000 [4:27:51<15:51,  4.34s/it]"
     ]
    },
    {
     "name": "stdout",
     "output_type": "stream",
     "text": [
      "Run [4780] - Total reward: 10836.00 Mean scores: 22.63 Means Scores[:-10]: 22.70 Score: 23 \n"
     ]
    },
    {
     "name": "stderr",
     "output_type": "stream",
     "text": [
      " 96%|█████████▌| 4791/5000 [4:28:28<12:27,  3.58s/it]"
     ]
    },
    {
     "name": "stdout",
     "output_type": "stream",
     "text": [
      "Run [4790] - Total reward: 8660.00 Mean scores: 22.63 Means Scores[:-10]: 22.10 Score: 19 \n"
     ]
    },
    {
     "name": "stderr",
     "output_type": "stream",
     "text": [
      " 96%|█████████▌| 4801/5000 [4:29:03<11:41,  3.53s/it]"
     ]
    },
    {
     "name": "stdout",
     "output_type": "stream",
     "text": [
      "Run [4800] - Total reward: 10295.00 Mean scores: 22.64 Means Scores[:-10]: 23.70 Score: 22 \n"
     ]
    },
    {
     "name": "stderr",
     "output_type": "stream",
     "text": [
      " 96%|█████████▌| 4811/5000 [4:29:37<11:02,  3.51s/it]"
     ]
    },
    {
     "name": "stdout",
     "output_type": "stream",
     "text": [
      "Run [4810] - Total reward: 11239.00 Mean scores: 22.63 Means Scores[:-10]: 21.80 Score: 24 \n"
     ]
    },
    {
     "name": "stderr",
     "output_type": "stream",
     "text": [
      " 96%|█████████▋| 4821/5000 [4:30:13<10:40,  3.58s/it]"
     ]
    },
    {
     "name": "stdout",
     "output_type": "stream",
     "text": [
      "Run [4820] - Total reward: 10672.00 Mean scores: 22.63 Means Scores[:-10]: 22.50 Score: 23 \n"
     ]
    },
    {
     "name": "stderr",
     "output_type": "stream",
     "text": [
      " 97%|█████████▋| 4831/5000 [4:31:12<14:32,  5.16s/it]"
     ]
    },
    {
     "name": "stdout",
     "output_type": "stream",
     "text": [
      "Run [4830] - Total reward: 11241.00 Mean scores: 22.63 Means Scores[:-10]: 23.40 Score: 24 \n"
     ]
    },
    {
     "name": "stderr",
     "output_type": "stream",
     "text": [
      " 97%|█████████▋| 4841/5000 [4:31:57<11:38,  4.39s/it]"
     ]
    },
    {
     "name": "stdout",
     "output_type": "stream",
     "text": [
      "Run [4840] - Total reward: 11348.00 Mean scores: 22.64 Means Scores[:-10]: 23.00 Score: 24 \n"
     ]
    },
    {
     "name": "stderr",
     "output_type": "stream",
     "text": [
      " 97%|█████████▋| 4851/5000 [4:32:36<09:31,  3.84s/it]"
     ]
    },
    {
     "name": "stdout",
     "output_type": "stream",
     "text": [
      "Run [4850] - Total reward: 11795.00 Mean scores: 22.64 Means Scores[:-10]: 23.00 Score: 25 \n"
     ]
    },
    {
     "name": "stderr",
     "output_type": "stream",
     "text": [
      " 97%|█████████▋| 4861/5000 [4:33:14<08:54,  3.85s/it]"
     ]
    },
    {
     "name": "stdout",
     "output_type": "stream",
     "text": [
      "Run [4860] - Total reward: 9643.00 Mean scores: 22.64 Means Scores[:-10]: 22.30 Score: 21 \n"
     ]
    },
    {
     "name": "stderr",
     "output_type": "stream",
     "text": [
      " 97%|█████████▋| 4871/5000 [4:33:52<08:05,  3.77s/it]"
     ]
    },
    {
     "name": "stdout",
     "output_type": "stream",
     "text": [
      "Run [4870] - Total reward: 9703.00 Mean scores: 22.64 Means Scores[:-10]: 22.80 Score: 21 \n"
     ]
    },
    {
     "name": "stderr",
     "output_type": "stream",
     "text": [
      " 98%|█████████▊| 4881/5000 [4:34:34<07:44,  3.90s/it]"
     ]
    },
    {
     "name": "stdout",
     "output_type": "stream",
     "text": [
      "Run [4880] - Total reward: 9608.00 Mean scores: 22.64 Means Scores[:-10]: 23.00 Score: 21 \n"
     ]
    },
    {
     "name": "stderr",
     "output_type": "stream",
     "text": [
      " 98%|█████████▊| 4891/5000 [4:35:07<05:55,  3.26s/it]"
     ]
    },
    {
     "name": "stdout",
     "output_type": "stream",
     "text": [
      "Run [4890] - Total reward: 10235.00 Mean scores: 22.64 Means Scores[:-10]: 22.80 Score: 22 \n"
     ]
    },
    {
     "name": "stderr",
     "output_type": "stream",
     "text": [
      " 98%|█████████▊| 4901/5000 [4:35:43<06:04,  3.68s/it]"
     ]
    },
    {
     "name": "stdout",
     "output_type": "stream",
     "text": [
      "Run [4900] - Total reward: 11141.00 Mean scores: 22.64 Means Scores[:-10]: 22.60 Score: 24 \n"
     ]
    },
    {
     "name": "stderr",
     "output_type": "stream",
     "text": [
      " 98%|█████████▊| 4911/5000 [4:36:17<04:58,  3.36s/it]"
     ]
    },
    {
     "name": "stdout",
     "output_type": "stream",
     "text": [
      "Run [4910] - Total reward: 10760.00 Mean scores: 22.64 Means Scores[:-10]: 23.10 Score: 23 \n"
     ]
    },
    {
     "name": "stderr",
     "output_type": "stream",
     "text": [
      " 98%|█████████▊| 4921/5000 [4:36:50<04:19,  3.29s/it]"
     ]
    },
    {
     "name": "stdout",
     "output_type": "stream",
     "text": [
      "Run [4920] - Total reward: 10399.00 Mean scores: 22.64 Means Scores[:-10]: 22.80 Score: 22 \n"
     ]
    },
    {
     "name": "stderr",
     "output_type": "stream",
     "text": [
      " 99%|█████████▊| 4931/5000 [4:37:25<04:04,  3.54s/it]"
     ]
    },
    {
     "name": "stdout",
     "output_type": "stream",
     "text": [
      "Run [4930] - Total reward: 10759.00 Mean scores: 22.64 Means Scores[:-10]: 23.50 Score: 23 \n"
     ]
    },
    {
     "name": "stderr",
     "output_type": "stream",
     "text": [
      " 99%|█████████▉| 4941/5000 [4:37:59<03:20,  3.41s/it]"
     ]
    },
    {
     "name": "stdout",
     "output_type": "stream",
     "text": [
      "Run [4940] - Total reward: 11217.00 Mean scores: 22.64 Means Scores[:-10]: 23.30 Score: 24 \n"
     ]
    },
    {
     "name": "stderr",
     "output_type": "stream",
     "text": [
      " 99%|█████████▉| 4951/5000 [4:38:35<02:52,  3.51s/it]"
     ]
    },
    {
     "name": "stdout",
     "output_type": "stream",
     "text": [
      "Run [4950] - Total reward: 10224.00 Mean scores: 22.64 Means Scores[:-10]: 23.30 Score: 22 \n"
     ]
    },
    {
     "name": "stderr",
     "output_type": "stream",
     "text": [
      " 99%|█████████▉| 4961/5000 [4:39:09<02:08,  3.29s/it]"
     ]
    },
    {
     "name": "stdout",
     "output_type": "stream",
     "text": [
      "Run [4960] - Total reward: 10674.00 Mean scores: 22.64 Means Scores[:-10]: 22.00 Score: 23 \n"
     ]
    },
    {
     "name": "stderr",
     "output_type": "stream",
     "text": [
      " 99%|█████████▉| 4971/5000 [4:39:43<01:45,  3.64s/it]"
     ]
    },
    {
     "name": "stdout",
     "output_type": "stream",
     "text": [
      "Run [4970] - Total reward: 11410.00 Mean scores: 22.64 Means Scores[:-10]: 23.60 Score: 24 \n"
     ]
    },
    {
     "name": "stderr",
     "output_type": "stream",
     "text": [
      "100%|█████████▉| 4981/5000 [4:40:33<01:30,  4.77s/it]"
     ]
    },
    {
     "name": "stdout",
     "output_type": "stream",
     "text": [
      "Run [4980] - Total reward: 10183.00 Mean scores: 22.64 Means Scores[:-10]: 22.80 Score: 22 \n"
     ]
    },
    {
     "name": "stderr",
     "output_type": "stream",
     "text": [
      "100%|█████████▉| 4991/5000 [4:41:06<00:30,  3.33s/it]"
     ]
    },
    {
     "name": "stdout",
     "output_type": "stream",
     "text": [
      "Run [4990] - Total reward: 11668.00 Mean scores: 22.65 Means Scores[:-10]: 23.80 Score: 25 \n"
     ]
    },
    {
     "name": "stderr",
     "output_type": "stream",
     "text": [
      "100%|██████████| 5000/5000 [4:41:37<00:00,  3.38s/it]"
     ]
    },
    {
     "name": "stdout",
     "output_type": "stream",
     "text": [
      "CPU times: user 4h 35min 47s, sys: 10.7 s, total: 4h 35min 57s\n",
      "Wall time: 4h 41min 37s\n"
     ]
    },
    {
     "name": "stderr",
     "output_type": "stream",
     "text": [
      "\n"
     ]
    }
   ],
   "source": [
    "%%time\n",
    "\n",
    "n_runs = 5000\n",
    "\n",
    "for i in tqdm(range(n_runs)):\n",
    "    render = i % 201 == 200\n",
    "\n",
    "    score, total_reward = MonteCarloAprox(RAM_mask=RAM, render=render,feat_type=\"all\")\n",
    "\n",
    "    scores.append(score)\n",
    "    total_rewards.append(total_reward)\n",
    "\n",
    "    print_result(i, scores, total_reward, score)\n",
    "    \"\"\"\n",
    "    if i % 500 == 0:\n",
    "      exp = serializer.Experiment(ql_agent_app, scores, total_rewards, reduce_state, reward_policy)\n",
    "      exp.save_experiment(modelSavePath,'model_ql_approximator_'+str(i))\n",
    "      print(\"Model saved!\")\n",
    "    \"\"\""
   ]
  },
  {
   "cell_type": "code",
   "execution_count": 19,
   "metadata": {},
   "outputs": [
    {
     "data": {
      "image/png": "[encoded data removed]",
      "text/plain": [
       "<Figure size 800x560 with 1 Axes>"
      ]
     },
     "metadata": {
      "needs_background": "light"
     },
     "output_type": "display_data"
    }
   ],
   "source": [
    "aux_plots.plot_scores(scores)"
   ]
  },
  {
   "cell_type": "code",
   "execution_count": 20,
   "metadata": {},
   "outputs": [
    {
     "data": {
      "image/png": "[encoded data removed]",
      "text/plain": [
       "<Figure size 800x560 with 1 Axes>"
      ]
     },
     "metadata": {
      "needs_background": "light"
     },
     "output_type": "display_data"
    }
   ],
   "source": [
    "aux_plots.plot_rewards(total_rewards)"
   ]
  },
  {
   "cell_type": "code",
   "execution_count": 21,
   "metadata": {},
   "outputs": [],
   "source": [
    "name=\"MontecarloAproximatorALLRAMFeaturesBiasR3_5000\""
   ]
  },
  {
   "cell_type": "code",
   "execution_count": 22,
   "metadata": {},
   "outputs": [
    {
     "name": "stdout",
     "output_type": "stream",
     "text": [
      "Scores and Total rewards for MontecarloAproximatorALLRAMFeaturesBiasR3_5000 saved\n"
     ]
    }
   ],
   "source": [
    "saveHistory(name,scores,total_rewards)"
   ]
  },
  {
   "cell_type": "code",
   "execution_count": 23,
   "metadata": {},
   "outputs": [],
   "source": [
    "cwd = os.getcwd()"
   ]
  },
  {
   "cell_type": "code",
   "execution_count": 24,
   "metadata": {},
   "outputs": [],
   "source": [
    "modelSavePath=cwd+\"/models/\""
   ]
  },
  {
   "cell_type": "code",
   "execution_count": null,
   "metadata": {},
   "outputs": [],
   "source": [
    "exp = serializer.Experiment(agent, scores, total_rewards, reduce_state, reward_policy)\n",
    "exp.save_experiment(modelSavePath,name)\n",
    "print(\"Model saved!\")"
   ]
  }
 ],
 "metadata": {
  "kernelspec": {
   "display_name": "Python 3",
   "language": "python",
   "name": "python3"
  },
  "language_info": {
   "codemirror_mode": {
    "name": "ipython",
    "version": 3
   },
   "file_extension": ".py",
   "mimetype": "text/x-python",
   "name": "python",
   "nbconvert_exporter": "python",
   "pygments_lexer": "ipython3",
   "version": "3.8.5"
  }
 },
 "nbformat": 4,
 "nbformat_minor": 4
}
