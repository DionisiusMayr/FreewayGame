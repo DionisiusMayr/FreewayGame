{
 "cells": [
  {
   "cell_type": "markdown",
   "metadata": {},
   "source": [
    "# Montecarlo Approximator"
   ]
  },
  {
   "cell_type": "markdown",
   "metadata": {},
   "source": [
    "##  1. Importing Libraries"
   ]
  },
  {
   "cell_type": "code",
   "execution_count": 2,
   "metadata": {},
   "outputs": [],
   "source": [
    "%load_ext autoreload\n",
    "\n",
    "%autoreload 2"
   ]
  },
  {
   "cell_type": "code",
   "execution_count": 3,
   "metadata": {},
   "outputs": [],
   "source": [
    "import sys\n",
    "sys.path.append('../')  # Enable importing from `src` folder"
   ]
  },
  {
   "cell_type": "code",
   "execution_count": 4,
   "metadata": {},
   "outputs": [],
   "source": [
    "%matplotlib inline\n",
    "from tqdm import tqdm\n",
    "from collections import defaultdict\n",
    "from typing import List\n",
    "import pickle\n",
    "import numpy as np\n",
    "import time\n",
    "import matplotlib.pyplot as plt\n",
    "import seaborn as sns\n",
    "import os\n",
    "import gym\n",
    "import src.serializer as serializer\n",
    "import src.agents as agents\n",
    "import src.episode as episode\n",
    "import src.environment as environment\n",
    "import src.aux_plots as aux_plots\n",
    "from sklearn.preprocessing import MinMaxScaler\n",
    "from sklearn.preprocessing import StandardScaler"
   ]
  },
  {
   "cell_type": "markdown",
   "metadata": {},
   "source": [
    "##  2. Auxiliary functions"
   ]
  },
  {
   "cell_type": "markdown",
   "metadata": {},
   "source": [
    "### 2.1 Print Result"
   ]
  },
  {
   "cell_type": "code",
   "execution_count": 5,
   "metadata": {},
   "outputs": [],
   "source": [
    "def print_result(i, scores, total_reward, score):\n",
    "    if i % 10 == 0:\n",
    "        print(f\"Run [{i:4}] - Total reward: {total_reward:7.2f} Mean scores: {sum(scores) / len(scores):.2f} Means Scores[:-10]: {sum(scores[-10:]) / len(scores[-10:]):5.2f} Score: {score:2} \")"
   ]
  },
  {
   "cell_type": "code",
   "execution_count": 6,
   "metadata": {},
   "outputs": [],
   "source": [
    "RAM_mask = [\n",
    "      14  # Chicken Y\n",
    "    , 16  # Chicken Lane Collide\n",
    "    , 108, 109, 110, 111, 112, 113, 114, 115, 116, 117  # Car X Coords\n",
    "]"
   ]
  },
  {
   "cell_type": "code",
   "execution_count": 7,
   "metadata": {},
   "outputs": [],
   "source": [
    "RAM_full_mask=[14  # Chicken Y\n",
    "    , 16  # Chicken Lane Collide\n",
    "    , 18  # Chicken Collision flag (with the bottom car)\n",
    "    , 22  # Car X Direction\n",
    "    , 23, 24, 25, 26, 27, 28, 29, 30, 31, 32  # Z Car Patterns\n",
    "    , 33, 34, 35, 36, 37, 38, 39, 40, 41, 42  # Car Motion Timmers\n",
    "    , 43, 44, 45, 46, 47, 48, 49, 50, 51, 52  # Car Motions\n",
    "    , 87, 88  # Car Shape Ptr\n",
    "    # TODO: test if this makes any difference\n",
    "    , 89, 90  # Chicken Shape Ptr\n",
    "    # TODO: test if this makes any difference\n",
    "    #, 106, 107  # Chicken Sounds\n",
    "    , 108, 109, 110, 111, 112, 113, 114, 115, 116, 117]  # Car X Coords"
   ]
  },
  {
   "cell_type": "markdown",
   "metadata": {},
   "source": [
    "###  2.2 Reduce State"
   ]
  },
  {
   "cell_type": "code",
   "execution_count": 9,
   "metadata": {},
   "outputs": [],
   "source": [
    "def reduce_state_distance(ob):\n",
    "    \n",
    "    # Doesn't matter where we were hit\n",
    "    ob[16] = 1 if ob[16] != 255 else 0\n",
    "\n",
    "    # Reduce chicken y-position\n",
    "    ob[14] = ob[14] // 3\n",
    "\n",
    "    for b in range(108, 118):\n",
    "        ob[b] = abs(ob[b] - 50)\n",
    "        if b<=112:\n",
    "            ob[b]*=-1\n",
    "        ob[b] = ob[b] // 3\n",
    "        # The chicken is in the x-posistion ~49\n",
    "        #if ob[b] < 20 or ob[b] > 80:\n",
    "        #   # We don't need to represent cars far from the chicken\n",
    "        #    ob[b] = 0\n",
    "        #else:\n",
    "        #    # Reduce the cars x-positions sample space\n",
    "        #    ob[b] = ob[b] // 3\n",
    "\n",
    "    return ob"
   ]
  },
  {
   "cell_type": "markdown",
   "metadata": {},
   "source": [
    "Ideias para os aproximadores de função:\n",
    "* não utilizar o `ob = reduce_state(ob)`. Fazer apenas `state = ob[RAM_mask].data.tobytes()`\n",
    "* outro teste pode ser utilzar uma transformação no estado do jogo fazendo os bytes da pos X do carro ficarem +- em linha com a distância, uma possível transformação seria algo como\n",
    "\n",
    "for b in range(108, 118):\n",
    "    ob[b] = abs(ob[b] - 50)\n",
    "\n",
    "Dá para alterar a função reduce_state e colocar esse código lá ao invés dos outro código (e lembrar de reativar essa função).\n",
    "* Tentar multiplicar por -1 os 5 primeiros carros (talvez facilite o aproximador a entender o que deve fazer)"
   ]
  },
  {
   "cell_type": "code",
   "execution_count": null,
   "metadata": {},
   "outputs": [],
   "source": [
    "def reduce_state(ob):\n",
    "    # Doesn't matter where we were hit\n",
    "    ob[16] = 1 if ob[16] != 255 else 0\n",
    "\n",
    "    # Reduce chicken y-position\n",
    "    ob[14] = ob[14] // 3\n",
    "\n",
    "    for b in range(108, 118):\n",
    "        # The chicken is in the x-posistion ~49\n",
    "        if ob[b] < 20 or ob[b] > 80:\n",
    "            # We don't need to represent cars far from the chicken\n",
    "            ob[b] = 0\n",
    "        else:\n",
    "            # Reduce the cars x-positions sample space\n",
    "            ob[b] = ob[b] // 3\n",
    "\n",
    "    return ob"
   ]
  },
  {
   "cell_type": "markdown",
   "metadata": {},
   "source": [
    "### 2.3 Saving and Load History"
   ]
  },
  {
   "cell_type": "code",
   "execution_count": 10,
   "metadata": {},
   "outputs": [],
   "source": [
    "def saveHistory(config,scores,total_rewards):\n",
    "    base=\"history/\"\n",
    "    with open(base+\"scores_\"+config+\".pickle\", 'wb') as handle:\n",
    "        pickle.dump(scores, handle, protocol=pickle.HIGHEST_PROTOCOL)\n",
    "        \n",
    "    with open(base+\"total_rewards_\"+config+\".pickle\", 'wb') as handle:\n",
    "        pickle.dump(total_rewards, handle, protocol=pickle.HIGHEST_PROTOCOL)    \n",
    "    print(\"Scores and Total rewards for \"+config+\" saved\")\n",
    "    \n",
    "def loadHistory(fileDir):\n",
    "    with open(fileDir, 'rb') as handle:\n",
    "        data = pickle.load(handle)\n",
    "        return data"
   ]
  },
  {
   "cell_type": "markdown",
   "metadata": {},
   "source": [
    "###  2.4 Reward Policy"
   ]
  },
  {
   "cell_type": "code",
   "execution_count": 11,
   "metadata": {},
   "outputs": [],
   "source": [
    "def reward_policy(reward, ob, action):\n",
    "    if reward == 1:\n",
    "        reward = reward_policy.REWARD_IF_CROSS\n",
    "    elif ob[16] == 1:  # Collision!\n",
    "        reward = reward_policy.REWARD_IF_COLISION\n",
    "    elif action != 1:  # Don't incentivate staying still\n",
    "        reward = reward_policy.REWARD_IF_STILL\n",
    "\n",
    "    return reward"
   ]
  },
  {
   "cell_type": "code",
   "execution_count": null,
   "metadata": {},
   "outputs": [],
   "source": [
    "def get_Reward(typeR):\n",
    "    "
   ]
  },
  {
   "cell_type": "markdown",
   "metadata": {},
   "source": [
    "## 3. Running algorithms"
   ]
  },
  {
   "cell_type": "markdown",
   "metadata": {},
   "source": [
    "### 3.1 Setting Parameters"
   ]
  },
  {
   "cell_type": "code",
   "execution_count": 14,
   "metadata": {},
   "outputs": [],
   "source": [
    "GAMMA = 0.99\n",
    "AVAILABLE_ACTIONS = 2\n",
    "N0 = 0.001\n",
    "#2 ações \n",
    "#- Recompensa R3 (+500 se cruzar a rua, -10 para colisão, -1 se ficar parado)\n",
    "#- N0 = 0.001 \n",
    "#- gamma = 0.99\n",
    "reward_policy.REWARD_IF_CROSS = 500\n",
    "reward_policy.REWARD_IF_COLISION = -10\n",
    "reward_policy.REWARD_IF_STILL = -1"
   ]
  },
  {
   "cell_type": "markdown",
   "metadata": {},
   "source": [
    "## 3.2 Montecarlo approximator"
   ]
  },
  {
   "cell_type": "code",
   "execution_count": null,
   "metadata": {},
   "outputs": [],
   "source": []
  },
  {
   "cell_type": "markdown",
   "metadata": {},
   "source": [
    "### 3.2.1 Features Distance + StandarScaler"
   ]
  },
  {
   "cell_type": "code",
   "execution_count": 26,
   "metadata": {},
   "outputs": [],
   "source": [
    "def MonteCarloAprox(RAM_mask: List[int], render: bool=False,feat_type: str=\"all\"):\n",
    "    epi = episode.generate_episode(env, reduce_state=reduce_state_distance, reward_policy=reward_policy, agent=agent, RAM_mask=RAM_mask, render=render)\n",
    "    return agent.updating(epi,feat_type)"
   ]
  },
  {
   "cell_type": "code",
   "execution_count": 27,
   "metadata": {},
   "outputs": [],
   "source": [
    "env, initial_state = environment.get_env()"
   ]
  },
  {
   "cell_type": "code",
   "execution_count": 37,
   "metadata": {},
   "outputs": [],
   "source": [
    "agent = agents.MonteCarloAprox(gamma=GAMMA, available_actions=AVAILABLE_ACTIONS, N0=N0,nFeatures=12,scaler=StandardScaler(),typeScale= \"all\")"
   ]
  },
  {
   "cell_type": "code",
   "execution_count": 38,
   "metadata": {},
   "outputs": [],
   "source": [
    "agent.trainScaler(env,RAM_mask,feat_type='all')"
   ]
  },
  {
   "cell_type": "code",
   "execution_count": 39,
   "metadata": {},
   "outputs": [],
   "source": [
    "scores = []\n",
    "total_rewards = []"
   ]
  },
  {
   "cell_type": "code",
   "execution_count": 40,
   "metadata": {},
   "outputs": [
    {
     "name": "stderr",
     "output_type": "stream",
     "text": [
      "  0%|          | 1/500 [00:03<30:48,  3.70s/it]"
     ]
    },
    {
     "name": "stdout",
     "output_type": "stream",
     "text": [
      "Run [   0] - Total reward: 3923.00 Mean scores: 12.00 Means Scores[:-10]: 12.00 Score: 12 \n"
     ]
    },
    {
     "name": "stderr",
     "output_type": "stream",
     "text": [
      "  2%|▏         | 11/500 [00:38<27:52,  3.42s/it]"
     ]
    },
    {
     "name": "stdout",
     "output_type": "stream",
     "text": [
      "Run [  10] - Total reward: 5382.00 Mean scores: 12.00 Means Scores[:-10]: 12.00 Score: 14 \n"
     ]
    },
    {
     "name": "stderr",
     "output_type": "stream",
     "text": [
      "  4%|▍         | 21/500 [01:15<30:11,  3.78s/it]"
     ]
    },
    {
     "name": "stdout",
     "output_type": "stream",
     "text": [
      "Run [  20] - Total reward: 5784.00 Mean scores: 13.10 Means Scores[:-10]: 14.30 Score: 15 \n"
     ]
    },
    {
     "name": "stderr",
     "output_type": "stream",
     "text": [
      "  6%|▌         | 31/500 [01:51<28:24,  3.63s/it]"
     ]
    },
    {
     "name": "stdout",
     "output_type": "stream",
     "text": [
      "Run [  30] - Total reward: 7532.00 Mean scores: 14.35 Means Scores[:-10]: 17.00 Score: 18 \n"
     ]
    },
    {
     "name": "stderr",
     "output_type": "stream",
     "text": [
      "  8%|▊         | 41/500 [02:27<27:13,  3.56s/it]"
     ]
    },
    {
     "name": "stdout",
     "output_type": "stream",
     "text": [
      "Run [  40] - Total reward: 7680.00 Mean scores: 15.34 Means Scores[:-10]: 18.40 Score: 18 \n"
     ]
    },
    {
     "name": "stderr",
     "output_type": "stream",
     "text": [
      " 10%|█         | 51/500 [03:03<27:40,  3.70s/it]"
     ]
    },
    {
     "name": "stdout",
     "output_type": "stream",
     "text": [
      "Run [  50] - Total reward: 7733.00 Mean scores: 15.86 Means Scores[:-10]: 18.00 Score: 18 \n"
     ]
    },
    {
     "name": "stderr",
     "output_type": "stream",
     "text": [
      " 12%|█▏        | 61/500 [03:38<25:34,  3.49s/it]"
     ]
    },
    {
     "name": "stdout",
     "output_type": "stream",
     "text": [
      "Run [  60] - Total reward: 7698.00 Mean scores: 16.39 Means Scores[:-10]: 19.10 Score: 18 \n"
     ]
    },
    {
     "name": "stderr",
     "output_type": "stream",
     "text": [
      " 14%|█▍        | 71/500 [04:12<23:49,  3.33s/it]"
     ]
    },
    {
     "name": "stdout",
     "output_type": "stream",
     "text": [
      "Run [  70] - Total reward: 9448.00 Mean scores: 16.85 Means Scores[:-10]: 19.60 Score: 21 \n"
     ]
    },
    {
     "name": "stderr",
     "output_type": "stream",
     "text": [
      " 16%|█▌        | 81/500 [04:47<24:56,  3.57s/it]"
     ]
    },
    {
     "name": "stdout",
     "output_type": "stream",
     "text": [
      "Run [  80] - Total reward: 8965.00 Mean scores: 17.25 Means Scores[:-10]: 20.10 Score: 20 \n"
     ]
    },
    {
     "name": "stderr",
     "output_type": "stream",
     "text": [
      " 18%|█▊        | 91/500 [05:21<22:45,  3.34s/it]"
     ]
    },
    {
     "name": "stdout",
     "output_type": "stream",
     "text": [
      "Run [  90] - Total reward: 10166.00 Mean scores: 17.60 Means Scores[:-10]: 20.50 Score: 22 \n"
     ]
    },
    {
     "name": "stderr",
     "output_type": "stream",
     "text": [
      " 20%|██        | 101/500 [05:55<22:33,  3.39s/it]"
     ]
    },
    {
     "name": "stdout",
     "output_type": "stream",
     "text": [
      "Run [ 100] - Total reward: 9626.00 Mean scores: 17.96 Means Scores[:-10]: 21.20 Score: 21 \n"
     ]
    },
    {
     "name": "stderr",
     "output_type": "stream",
     "text": [
      " 22%|██▏       | 111/500 [06:31<22:33,  3.48s/it]"
     ]
    },
    {
     "name": "stdout",
     "output_type": "stream",
     "text": [
      "Run [ 110] - Total reward: 10185.00 Mean scores: 18.23 Means Scores[:-10]: 20.90 Score: 22 \n"
     ]
    },
    {
     "name": "stderr",
     "output_type": "stream",
     "text": [
      " 24%|██▍       | 121/500 [07:07<23:39,  3.75s/it]"
     ]
    },
    {
     "name": "stdout",
     "output_type": "stream",
     "text": [
      "Run [ 120] - Total reward: 10656.00 Mean scores: 18.46 Means Scores[:-10]: 21.10 Score: 23 \n"
     ]
    },
    {
     "name": "stderr",
     "output_type": "stream",
     "text": [
      " 26%|██▌       | 131/500 [07:46<24:30,  3.98s/it]"
     ]
    },
    {
     "name": "stdout",
     "output_type": "stream",
     "text": [
      "Run [ 130] - Total reward: 8023.00 Mean scores: 18.66 Means Scores[:-10]: 21.00 Score: 18 \n"
     ]
    },
    {
     "name": "stderr",
     "output_type": "stream",
     "text": [
      " 28%|██▊       | 141/500 [08:22<20:49,  3.48s/it]"
     ]
    },
    {
     "name": "stdout",
     "output_type": "stream",
     "text": [
      "Run [ 140] - Total reward: 8595.00 Mean scores: 18.80 Means Scores[:-10]: 20.70 Score: 19 \n"
     ]
    },
    {
     "name": "stderr",
     "output_type": "stream",
     "text": [
      " 30%|███       | 151/500 [08:56<19:53,  3.42s/it]"
     ]
    },
    {
     "name": "stdout",
     "output_type": "stream",
     "text": [
      "Run [ 150] - Total reward: 9645.00 Mean scores: 19.01 Means Scores[:-10]: 21.90 Score: 21 \n"
     ]
    },
    {
     "name": "stderr",
     "output_type": "stream",
     "text": [
      " 32%|███▏      | 161/500 [09:34<23:00,  4.07s/it]"
     ]
    },
    {
     "name": "stdout",
     "output_type": "stream",
     "text": [
      "Run [ 160] - Total reward: 10143.00 Mean scores: 19.17 Means Scores[:-10]: 21.60 Score: 22 \n"
     ]
    },
    {
     "name": "stderr",
     "output_type": "stream",
     "text": [
      " 34%|███▍      | 171/500 [10:11<19:32,  3.56s/it]"
     ]
    },
    {
     "name": "stdout",
     "output_type": "stream",
     "text": [
      "Run [ 170] - Total reward: 11402.00 Mean scores: 19.36 Means Scores[:-10]: 22.40 Score: 24 \n"
     ]
    },
    {
     "name": "stderr",
     "output_type": "stream",
     "text": [
      " 36%|███▌      | 181/500 [10:49<18:15,  3.43s/it]"
     ]
    },
    {
     "name": "stdout",
     "output_type": "stream",
     "text": [
      "Run [ 180] - Total reward: 11771.00 Mean scores: 19.53 Means Scores[:-10]: 22.50 Score: 25 \n"
     ]
    },
    {
     "name": "stderr",
     "output_type": "stream",
     "text": [
      " 38%|███▊      | 191/500 [11:23<17:39,  3.43s/it]"
     ]
    },
    {
     "name": "stdout",
     "output_type": "stream",
     "text": [
      "Run [ 190] - Total reward: 10731.00 Mean scores: 19.70 Means Scores[:-10]: 22.80 Score: 23 \n"
     ]
    },
    {
     "name": "stderr",
     "output_type": "stream",
     "text": [
      " 40%|████      | 201/500 [12:16<45:14,  9.08s/it]"
     ]
    },
    {
     "name": "stdout",
     "output_type": "stream",
     "text": [
      "Run [ 200] - Total reward: 10750.00 Mean scores: 19.82 Means Scores[:-10]: 22.10 Score: 23 \n"
     ]
    },
    {
     "name": "stderr",
     "output_type": "stream",
     "text": [
      " 42%|████▏     | 211/500 [12:49<16:36,  3.45s/it]"
     ]
    },
    {
     "name": "stdout",
     "output_type": "stream",
     "text": [
      "Run [ 210] - Total reward: 10167.00 Mean scores: 19.95 Means Scores[:-10]: 22.50 Score: 22 \n"
     ]
    },
    {
     "name": "stderr",
     "output_type": "stream",
     "text": [
      " 44%|████▍     | 221/500 [13:22<15:41,  3.38s/it]"
     ]
    },
    {
     "name": "stdout",
     "output_type": "stream",
     "text": [
      "Run [ 220] - Total reward: 10588.00 Mean scores: 20.04 Means Scores[:-10]: 21.90 Score: 23 \n"
     ]
    },
    {
     "name": "stderr",
     "output_type": "stream",
     "text": [
      " 46%|████▌     | 231/500 [13:55<14:44,  3.29s/it]"
     ]
    },
    {
     "name": "stdout",
     "output_type": "stream",
     "text": [
      "Run [ 230] - Total reward: 10233.00 Mean scores: 20.13 Means Scores[:-10]: 22.20 Score: 22 \n"
     ]
    },
    {
     "name": "stderr",
     "output_type": "stream",
     "text": [
      " 48%|████▊     | 241/500 [14:29<14:19,  3.32s/it]"
     ]
    },
    {
     "name": "stdout",
     "output_type": "stream",
     "text": [
      "Run [ 240] - Total reward: 10113.00 Mean scores: 20.24 Means Scores[:-10]: 22.80 Score: 22 \n"
     ]
    },
    {
     "name": "stderr",
     "output_type": "stream",
     "text": [
      " 50%|█████     | 251/500 [15:08<17:07,  4.13s/it]"
     ]
    },
    {
     "name": "stdout",
     "output_type": "stream",
     "text": [
      "Run [ 250] - Total reward: 10708.00 Mean scores: 20.37 Means Scores[:-10]: 23.40 Score: 23 \n"
     ]
    },
    {
     "name": "stderr",
     "output_type": "stream",
     "text": [
      " 52%|█████▏    | 261/500 [15:48<15:58,  4.01s/it]"
     ]
    },
    {
     "name": "stdout",
     "output_type": "stream",
     "text": [
      "Run [ 260] - Total reward: 10775.00 Mean scores: 20.47 Means Scores[:-10]: 23.10 Score: 23 \n"
     ]
    },
    {
     "name": "stderr",
     "output_type": "stream",
     "text": [
      " 54%|█████▍    | 271/500 [16:21<12:29,  3.27s/it]"
     ]
    },
    {
     "name": "stdout",
     "output_type": "stream",
     "text": [
      "Run [ 270] - Total reward: 11255.00 Mean scores: 20.59 Means Scores[:-10]: 23.60 Score: 24 \n"
     ]
    },
    {
     "name": "stderr",
     "output_type": "stream",
     "text": [
      " 56%|█████▌    | 281/500 [16:54<12:19,  3.38s/it]"
     ]
    },
    {
     "name": "stdout",
     "output_type": "stream",
     "text": [
      "Run [ 280] - Total reward: 11857.00 Mean scores: 20.71 Means Scores[:-10]: 24.10 Score: 25 \n"
     ]
    },
    {
     "name": "stderr",
     "output_type": "stream",
     "text": [
      " 58%|█████▊    | 291/500 [17:27<11:39,  3.35s/it]"
     ]
    },
    {
     "name": "stdout",
     "output_type": "stream",
     "text": [
      "Run [ 290] - Total reward: 12372.00 Mean scores: 20.80 Means Scores[:-10]: 23.40 Score: 26 \n"
     ]
    },
    {
     "name": "stderr",
     "output_type": "stream",
     "text": [
      " 60%|██████    | 301/500 [18:00<11:06,  3.35s/it]"
     ]
    },
    {
     "name": "stdout",
     "output_type": "stream",
     "text": [
      "Run [ 300] - Total reward: 11280.00 Mean scores: 20.90 Means Scores[:-10]: 23.70 Score: 24 \n"
     ]
    },
    {
     "name": "stderr",
     "output_type": "stream",
     "text": [
      " 62%|██████▏   | 311/500 [18:33<10:16,  3.26s/it]"
     ]
    },
    {
     "name": "stdout",
     "output_type": "stream",
     "text": [
      "Run [ 310] - Total reward: 11716.00 Mean scores: 20.98 Means Scores[:-10]: 23.50 Score: 25 \n"
     ]
    },
    {
     "name": "stderr",
     "output_type": "stream",
     "text": [
      " 64%|██████▍   | 321/500 [19:07<10:27,  3.51s/it]"
     ]
    },
    {
     "name": "stdout",
     "output_type": "stream",
     "text": [
      "Run [ 320] - Total reward: 10697.00 Mean scores: 21.05 Means Scores[:-10]: 23.10 Score: 23 \n"
     ]
    },
    {
     "name": "stderr",
     "output_type": "stream",
     "text": [
      " 66%|██████▌   | 331/500 [19:39<09:05,  3.23s/it]"
     ]
    },
    {
     "name": "stdout",
     "output_type": "stream",
     "text": [
      "Run [ 330] - Total reward: 11921.00 Mean scores: 21.08 Means Scores[:-10]: 22.10 Score: 25 \n"
     ]
    },
    {
     "name": "stderr",
     "output_type": "stream",
     "text": [
      " 68%|██████▊   | 341/500 [20:12<08:43,  3.29s/it]"
     ]
    },
    {
     "name": "stdout",
     "output_type": "stream",
     "text": [
      "Run [ 340] - Total reward: 10774.00 Mean scores: 21.15 Means Scores[:-10]: 23.40 Score: 23 \n"
     ]
    },
    {
     "name": "stderr",
     "output_type": "stream",
     "text": [
      " 70%|███████   | 351/500 [20:45<08:08,  3.28s/it]"
     ]
    },
    {
     "name": "stdout",
     "output_type": "stream",
     "text": [
      "Run [ 350] - Total reward: 10231.00 Mean scores: 21.17 Means Scores[:-10]: 22.00 Score: 22 \n"
     ]
    },
    {
     "name": "stderr",
     "output_type": "stream",
     "text": [
      " 72%|███████▏  | 361/500 [21:18<07:33,  3.27s/it]"
     ]
    },
    {
     "name": "stdout",
     "output_type": "stream",
     "text": [
      "Run [ 360] - Total reward: 10255.00 Mean scores: 21.20 Means Scores[:-10]: 22.20 Score: 22 \n"
     ]
    },
    {
     "name": "stderr",
     "output_type": "stream",
     "text": [
      " 74%|███████▍  | 371/500 [21:50<07:00,  3.26s/it]"
     ]
    },
    {
     "name": "stdout",
     "output_type": "stream",
     "text": [
      "Run [ 370] - Total reward: 10695.00 Mean scores: 21.25 Means Scores[:-10]: 23.00 Score: 23 \n"
     ]
    },
    {
     "name": "stderr",
     "output_type": "stream",
     "text": [
      " 76%|███████▌  | 381/500 [22:23<06:27,  3.26s/it]"
     ]
    },
    {
     "name": "stdout",
     "output_type": "stream",
     "text": [
      "Run [ 380] - Total reward: 10633.00 Mean scores: 21.29 Means Scores[:-10]: 22.70 Score: 23 \n"
     ]
    },
    {
     "name": "stderr",
     "output_type": "stream",
     "text": [
      " 78%|███████▊  | 391/500 [22:56<06:01,  3.31s/it]"
     ]
    },
    {
     "name": "stdout",
     "output_type": "stream",
     "text": [
      "Run [ 390] - Total reward: 10722.00 Mean scores: 21.31 Means Scores[:-10]: 22.30 Score: 23 \n"
     ]
    },
    {
     "name": "stderr",
     "output_type": "stream",
     "text": [
      " 80%|████████  | 401/500 [23:29<05:20,  3.24s/it]"
     ]
    },
    {
     "name": "stdout",
     "output_type": "stream",
     "text": [
      "Run [ 400] - Total reward: 11878.00 Mean scores: 21.36 Means Scores[:-10]: 23.10 Score: 25 \n"
     ]
    },
    {
     "name": "stderr",
     "output_type": "stream",
     "text": [
      " 82%|████████▏ | 411/500 [24:22<05:15,  3.54s/it]"
     ]
    },
    {
     "name": "stdout",
     "output_type": "stream",
     "text": [
      "Run [ 410] - Total reward: 10799.00 Mean scores: 21.40 Means Scores[:-10]: 22.90 Score: 23 \n"
     ]
    },
    {
     "name": "stderr",
     "output_type": "stream",
     "text": [
      " 84%|████████▍ | 421/500 [24:55<04:37,  3.52s/it]"
     ]
    },
    {
     "name": "stdout",
     "output_type": "stream",
     "text": [
      "Run [ 420] - Total reward: 10578.00 Mean scores: 21.44 Means Scores[:-10]: 23.40 Score: 23 \n"
     ]
    },
    {
     "name": "stderr",
     "output_type": "stream",
     "text": [
      " 86%|████████▌ | 431/500 [25:31<04:05,  3.55s/it]"
     ]
    },
    {
     "name": "stdout",
     "output_type": "stream",
     "text": [
      "Run [ 430] - Total reward: 11277.00 Mean scores: 21.48 Means Scores[:-10]: 23.20 Score: 24 \n"
     ]
    },
    {
     "name": "stderr",
     "output_type": "stream",
     "text": [
      " 88%|████████▊ | 441/500 [26:08<03:54,  3.97s/it]"
     ]
    },
    {
     "name": "stdout",
     "output_type": "stream",
     "text": [
      "Run [ 440] - Total reward: 11200.00 Mean scores: 21.51 Means Scores[:-10]: 22.60 Score: 24 \n"
     ]
    },
    {
     "name": "stderr",
     "output_type": "stream",
     "text": [
      " 90%|█████████ | 451/500 [26:44<02:53,  3.54s/it]"
     ]
    },
    {
     "name": "stdout",
     "output_type": "stream",
     "text": [
      "Run [ 450] - Total reward: 10208.00 Mean scores: 21.53 Means Scores[:-10]: 22.20 Score: 22 \n"
     ]
    },
    {
     "name": "stderr",
     "output_type": "stream",
     "text": [
      " 92%|█████████▏| 461/500 [27:22<02:38,  4.05s/it]"
     ]
    },
    {
     "name": "stdout",
     "output_type": "stream",
     "text": [
      "Run [ 460] - Total reward: 11399.00 Mean scores: 21.56 Means Scores[:-10]: 23.10 Score: 24 \n"
     ]
    },
    {
     "name": "stderr",
     "output_type": "stream",
     "text": [
      " 94%|█████████▍| 471/500 [28:10<02:07,  4.41s/it]"
     ]
    },
    {
     "name": "stdout",
     "output_type": "stream",
     "text": [
      "Run [ 470] - Total reward: 9577.00 Mean scores: 21.58 Means Scores[:-10]: 22.40 Score: 21 \n"
     ]
    },
    {
     "name": "stderr",
     "output_type": "stream",
     "text": [
      " 96%|█████████▌| 481/500 [28:48<01:11,  3.79s/it]"
     ]
    },
    {
     "name": "stdout",
     "output_type": "stream",
     "text": [
      "Run [ 480] - Total reward: 10628.00 Mean scores: 21.60 Means Scores[:-10]: 22.70 Score: 23 \n"
     ]
    },
    {
     "name": "stderr",
     "output_type": "stream",
     "text": [
      " 98%|█████████▊| 491/500 [29:23<00:31,  3.50s/it]"
     ]
    },
    {
     "name": "stdout",
     "output_type": "stream",
     "text": [
      "Run [ 490] - Total reward: 9707.00 Mean scores: 21.63 Means Scores[:-10]: 22.80 Score: 21 \n"
     ]
    },
    {
     "name": "stderr",
     "output_type": "stream",
     "text": [
      "100%|██████████| 500/500 [29:56<00:00,  3.59s/it]"
     ]
    },
    {
     "name": "stdout",
     "output_type": "stream",
     "text": [
      "CPU times: user 29min 24s, sys: 1.31 s, total: 29min 26s\n",
      "Wall time: 29min 56s\n"
     ]
    },
    {
     "name": "stderr",
     "output_type": "stream",
     "text": [
      "\n"
     ]
    }
   ],
   "source": [
    "%%time\n",
    "\n",
    "n_runs = 500\n",
    "\n",
    "for i in tqdm(range(n_runs)):\n",
    "    render = i % 201 == 200\n",
    "\n",
    "    score, total_reward = MonteCarloAprox(RAM_mask=RAM_mask, render=render,feat_type=\"all\")\n",
    "\n",
    "    scores.append(score)\n",
    "    total_rewards.append(total_reward)\n",
    "\n",
    "    print_result(i, scores, total_reward, score)\n",
    "    \"\"\"\n",
    "    if i % 500 == 0:\n",
    "      exp = serializer.Experiment(ql_agent_app, scores, total_rewards, reduce_state, reward_policy)\n",
    "      exp.save_experiment(modelSavePath,'model_ql_approximator_'+str(i))\n",
    "      print(\"Model saved!\")\n",
    "    \"\"\""
   ]
  },
  {
   "cell_type": "code",
   "execution_count": 41,
   "metadata": {},
   "outputs": [
    {
     "data": {
      "image/png": "[encoded data removed]",
      "text/plain": [
       "<Figure size 800x560 with 1 Axes>"
      ]
     },
     "metadata": {
      "needs_background": "light"
     },
     "output_type": "display_data"
    }
   ],
   "source": [
    "aux_plots.plot_scores(scores)"
   ]
  },
  {
   "cell_type": "code",
   "execution_count": 28,
   "metadata": {},
   "outputs": [
    {
     "data": {
      "image/png": "[encoded data removed]",
      "text/plain": [
       "<Figure size 800x560 with 1 Axes>"
      ]
     },
     "metadata": {
      "needs_background": "light"
     },
     "output_type": "display_data"
    }
   ],
   "source": [
    "aux_plots.plot_scores(scores[0:50])"
   ]
  },
  {
   "cell_type": "code",
   "execution_count": 17,
   "metadata": {},
   "outputs": [
    {
     "data": {
      "image/png": "[encoded data removed]",
      "text/plain": [
       "<Figure size 800x560 with 1 Axes>"
      ]
     },
     "metadata": {
      "needs_background": "light"
     },
     "output_type": "display_data"
    }
   ],
   "source": [
    "aux_plots.plot_rewards(total_rewards)"
   ]
  },
  {
   "cell_type": "code",
   "execution_count": 18,
   "metadata": {},
   "outputs": [
    {
     "name": "stdout",
     "output_type": "stream",
     "text": [
      "Scores and Total rewards for MontecarloAproximatorMeanFeaturesBias5000 saved\n"
     ]
    }
   ],
   "source": [
    "saveHistory(\"MontecarloAproximatorMeanFeaturesBias5000\",scores,total_rewards)"
   ]
  },
  {
   "cell_type": "code",
   "execution_count": 22,
   "metadata": {},
   "outputs": [],
   "source": [
    "cwd = os.getcwd()"
   ]
  },
  {
   "cell_type": "code",
   "execution_count": 23,
   "metadata": {},
   "outputs": [],
   "source": [
    "modelSavePath=cwd+\"/models/\""
   ]
  },
  {
   "cell_type": "code",
   "execution_count": 27,
   "metadata": {},
   "outputs": [
    {
     "name": "stdout",
     "output_type": "stream",
     "text": [
      "Model saved!\n"
     ]
    }
   ],
   "source": [
    "exp = serializer.Experiment(agent, scores, total_rewards, reduce_state, reward_policy)\n",
    "exp.save_experiment(modelSavePath,'model_mc_approximator_'+\"MeanFeaturesBias5000\")\n",
    "print(\"Model saved!\")"
   ]
  }
 ],
 "metadata": {
  "kernelspec": {
   "display_name": "Python 3",
   "language": "python",
   "name": "python3"
  },
  "language_info": {
   "codemirror_mode": {
    "name": "ipython",
    "version": 3
   },
   "file_extension": ".py",
   "mimetype": "text/x-python",
   "name": "python",
   "nbconvert_exporter": "python",
   "pygments_lexer": "ipython3",
   "version": "3.8.5"
  }
 },
 "nbformat": 4,
 "nbformat_minor": 4
}
